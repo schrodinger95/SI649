{
 "cells": [
  {
   "cell_type": "markdown",
   "metadata": {
    "colab_type": "text",
    "id": "eiHKsrLA9BJD",
    "slideshow": {
     "slide_type": "slide"
    }
   },
   "source": [
    "# Information Visualization, Transformations Part 2\n",
    "Licia He, Eytan Adar, Sereen Kallerackal, Dallas Card\n",
    "\n",
    "School of Information, University of Michigan"
   ]
  },
  {
   "cell_type": "markdown",
   "metadata": {
    "slideshow": {
     "slide_type": "subslide"
    }
   },
   "source": [
    "## Plan\n",
    "1. Long and Wide Data Transforms\n",
    "2. Multiple charts"
   ]
  },
  {
   "cell_type": "code",
   "execution_count": null,
   "metadata": {
    "slideshow": {
     "slide_type": "subslide"
    }
   },
   "outputs": [],
   "source": [
    "# imports we will use\n",
    "\n",
    "import altair as alt\n",
    "import pandas as pd\n",
    "from vega_datasets import data as vega_data\n",
    "\n",
    "# grab the data and clean it a bit\n",
    "movies_url = vega_data.movies.url\n",
    "movies = pd.read_json(movies_url)\n",
    "movies.columns = movies.columns.str.strip().str.replace(' ', '_').str.replace('(', '').str.replace(')', '')"
   ]
  },
  {
   "cell_type": "code",
   "execution_count": null,
   "metadata": {
    "slideshow": {
     "slide_type": "subslide"
    }
   },
   "outputs": [],
   "source": [
    "movies.sample(2)"
   ]
  },
  {
   "cell_type": "markdown",
   "metadata": {
    "colab_type": "text",
    "id": "fixNtL1j8odE",
    "slideshow": {
     "slide_type": "subslide"
    }
   },
   "source": [
    "## Long versus Wide Data"
   ]
  },
  {
   "cell_type": "markdown",
   "metadata": {
    "slideshow": {
     "slide_type": "subslide"
    }
   },
   "source": [
    "### Our Goal:\n",
    "\n",
    "![stacked barchart](https://raw.githubusercontent.com/eytanadar/si649public/master/lab5/assets/demo/stacked.png)\n"
   ]
  },
  {
   "cell_type": "markdown",
   "metadata": {
    "colab_type": "text",
    "id": "L4RvZ7B-YviN",
    "slideshow": {
     "slide_type": "skip"
    }
   },
   "source": [
    "There are two common conventions for storing data in a dataframe, sometimes called long-form and wide-form. Both are sensible patterns for storing data in a tabular format; briefly, the difference is this:"
   ]
  },
  {
   "cell_type": "markdown",
   "metadata": {
    "slideshow": {
     "slide_type": "subslide"
    }
   },
   "source": [
    "* long-form data has one row per observation, with metadata recorded within the table as values. For example: \n",
    "\n",
    "\n",
    "| item | key  | value |\n",
    "|-------|-------|-------|\n",
    "| 1     | key A | 2     |\n",
    "| 1     | key B | 6     |\n",
    "| 2     | key A | 4     |\n",
    "| 2     | key B | 8     | "
   ]
  },
  {
   "cell_type": "markdown",
   "metadata": {
    "slideshow": {
     "slide_type": "subslide"
    }
   },
   "source": [
    "If the data looked like the long form, Altair will make the stacked bar *easy*:\n",
    "\n",
    "```Python\n",
    "alt.Chart(data).mark_bar().encode(\n",
    "    x = alt.X('item'),\n",
    "    y = alt.Y('value:Q'),\n",
    "    color = alt.Color('key:N')\n",
    ")\n",
    "```\n",
    "\n",
    "But what you sometimes have is..."
   ]
  },
  {
   "cell_type": "markdown",
   "metadata": {
    "slideshow": {
     "slide_type": "subslide"
    }
   },
   "source": [
    "* wide-form data has one row per independent variable, with metadata recorded in the row and column labels.,for example: \n",
    "\n",
    "| item | key A | key B |\n",
    "|-------|-------|-------|\n",
    "| 1     | 2     | 6     |\n",
    "| 2     | 4     | 8     |\n"
   ]
  },
  {
   "cell_type": "code",
   "execution_count": null,
   "metadata": {
    "colab": {
     "base_uri": "https://localhost:8080/",
     "height": 359
    },
    "colab_type": "code",
    "id": "hx7Ew_58ZDPV",
    "outputId": "9bca7851-4062-4856-f694-5a5ffa6b3e29",
    "slideshow": {
     "slide_type": "subslide"
    }
   },
   "outputs": [],
   "source": [
    "#1.1 focus on US_Gross and Ww_Gross\n",
    "movies_wide=movies.loc[:,[\"Title\",\"US_Gross\",\"Worldwide_Gross\"]].iloc[:10,:]\n",
    "movies_wide"
   ]
  },
  {
   "cell_type": "markdown",
   "metadata": {
    "colab_type": "text",
    "id": "HhU7H_NWdG_1",
    "slideshow": {
     "slide_type": "skip"
    }
   },
   "source": [
    "It's hard to make a stacked bar from here. "
   ]
  },
  {
   "cell_type": "markdown",
   "metadata": {
    "slideshow": {
     "slide_type": "subslide"
    }
   },
   "source": [
    "![stacked barchart](https://raw.githubusercontent.com/eytanadar/si649public/master/lab5/assets/demo/stacked.png)"
   ]
  },
  {
   "cell_type": "code",
   "execution_count": null,
   "metadata": {
    "colab": {
     "base_uri": "https://localhost:8080/",
     "height": 479
    },
    "colab_type": "code",
    "id": "F0Mt2zMydGLM",
    "outputId": "d84508e5-7311-43eb-f448-d3655fac0358",
    "slideshow": {
     "slide_type": "subslide"
    }
   },
   "outputs": [],
   "source": [
    "#1.2 make stacked bar chart (the hard way)\n",
    "\n",
    "#make Worldwide Gross bar chart\n",
    "\n"
   ]
  },
  {
   "cell_type": "code",
   "execution_count": null,
   "metadata": {
    "slideshow": {
     "slide_type": "subslide"
    }
   },
   "outputs": [],
   "source": [
    "# 1.3 make Total bar chart\n",
    "\n"
   ]
  },
  {
   "cell_type": "code",
   "execution_count": null,
   "metadata": {
    "slideshow": {
     "slide_type": "subslide"
    }
   },
   "outputs": [],
   "source": [
    "# 1.4 layering them together \n",
    "\n"
   ]
  },
  {
   "cell_type": "markdown",
   "metadata": {
    "colab_type": "text",
    "id": "dJCvY9o0idF0",
    "slideshow": {
     "slide_type": "skip"
    }
   },
   "source": [
    "The problem is that with more classes of data this layering becomes tedious. We also don't get quite the right colors because the two charts don't know what the other has picked. Thus, depending on the task we may need to switch from the \"wide\" format to the \"long\" format (see [more here](https://altair-viz.github.io/user_guide/data.html#long-form-vs-wide-form-data)). \n",
    "\n",
    "To get the data back into the long form, we'll use the pandas operation [melt](https://pandas.pydata.org/pandas-docs/stable/reference/api/pandas.melt.html)."
   ]
  },
  {
   "cell_type": "code",
   "execution_count": null,
   "metadata": {
    "colab": {
     "base_uri": "https://localhost:8080/",
     "height": 669
    },
    "colab_type": "code",
    "id": "1YYEqSjhcr8Q",
    "outputId": "a948ee16-f8bc-461a-8dd5-5c8e2d1a9622",
    "slideshow": {
     "slide_type": "subslide"
    }
   },
   "outputs": [],
   "source": [
    "# 1.5 melt (the Pandas ways to get Long form)\n"
   ]
  },
  {
   "cell_type": "markdown",
   "metadata": {
    "colab_type": "text",
    "id": "qNNQoQmc8odL",
    "slideshow": {
     "slide_type": "skip"
    }
   },
   "source": [
    "Here's the stacked bar chart in one short command"
   ]
  },
  {
   "cell_type": "code",
   "execution_count": null,
   "metadata": {
    "colab": {
     "base_uri": "https://localhost:8080/",
     "height": 479
    },
    "colab_type": "code",
    "id": "984lzlMi8odM",
    "outputId": "9f8fd0f7-5a97-42a9-c3c1-34e8fe7b1bf1",
    "slideshow": {
     "slide_type": "subslide"
    }
   },
   "outputs": [],
   "source": [
    "# 1.6 make one bar chart\n"
   ]
  },
  {
   "cell_type": "markdown",
   "metadata": {
    "colab_type": "text",
    "id": "L5uej2mXjhMs",
    "slideshow": {
     "slide_type": "skip"
    }
   },
   "source": [
    "Altair's **fold transformation** lets you quickly change between long and wide forms.\n",
    "\n",
    "Using fold to convert wide to long "
   ]
  },
  {
   "cell_type": "code",
   "execution_count": null,
   "metadata": {
    "colab": {
     "base_uri": "https://localhost:8080/",
     "height": 479
    },
    "colab_type": "code",
    "id": "Is6isTdOgkRJ",
    "outputId": "060f1a3b-79c6-4fdf-f8af-25583c239bf8",
    "slideshow": {
     "slide_type": "subslide"
    }
   },
   "outputs": [],
   "source": [
    "# 1.7 fold (the Altair way)\n"
   ]
  },
  {
   "cell_type": "markdown",
   "metadata": {
    "colab_type": "text",
    "id": "rGMVGtkWk637",
    "slideshow": {
     "slide_type": "subslide"
    }
   },
   "source": [
    "### Converting long form to wide form using Pandas "
   ]
  },
  {
   "cell_type": "code",
   "execution_count": null,
   "metadata": {
    "slideshow": {
     "slide_type": "subslide"
    }
   },
   "outputs": [],
   "source": [
    "# 1.8 \n"
   ]
  },
  {
   "cell_type": "code",
   "execution_count": null,
   "metadata": {
    "colab": {
     "base_uri": "https://localhost:8080/",
     "height": 390
    },
    "colab_type": "code",
    "id": "oOv8jTSwkCI9",
    "outputId": "e310f435-a282-4676-a558-ebdf6035c515",
    "slideshow": {
     "slide_type": "subslide"
    }
   },
   "outputs": [],
   "source": [
    "# 1.9\n",
    "\n",
    "\n"
   ]
  },
  {
   "cell_type": "markdown",
   "metadata": {
    "slideshow": {
     "slide_type": "slide"
    }
   },
   "source": [
    "# Compound and Faceted Charts"
   ]
  },
  {
   "cell_type": "markdown",
   "metadata": {
    "slideshow": {
     "slide_type": "subslide"
    }
   },
   "source": [
    "## Our Goal\n",
    "![small multiples](https://raw.githubusercontent.com/eytanadar/si649public/master/lab5/assets/demo/smallmultiples.png)"
   ]
  },
  {
   "cell_type": "code",
   "execution_count": null,
   "metadata": {
    "slideshow": {
     "slide_type": "subslide"
    }
   },
   "outputs": [],
   "source": [
    "# 2.1 give it a try...\n"
   ]
  },
  {
   "cell_type": "code",
   "execution_count": null,
   "metadata": {
    "slideshow": {
     "slide_type": "subslide"
    }
   },
   "outputs": [],
   "source": [
    "# 2.2 put it together\n"
   ]
  },
  {
   "cell_type": "markdown",
   "metadata": {
    "slideshow": {
     "slide_type": "subslide"
    }
   },
   "source": [
    "## RepeatedChart\n",
    "\n",
    "[Repeated Charts](https://altair-viz.github.io/user_guide/compound_charts.html#repeated-charts) are an alternative form."
   ]
  },
  {
   "cell_type": "code",
   "execution_count": null,
   "metadata": {
    "slideshow": {
     "slide_type": "subslide"
    }
   },
   "outputs": [],
   "source": [
    "# 2.3 Use repeated charts\n",
    "\n",
    "\n"
   ]
  },
  {
   "cell_type": "code",
   "execution_count": null,
   "metadata": {
    "slideshow": {
     "slide_type": "subslide"
    }
   },
   "outputs": [],
   "source": []
  },
  {
   "cell_type": "markdown",
   "metadata": {
    "slideshow": {
     "slide_type": "subslide"
    }
   },
   "source": [
    "## Faceted Charts"
   ]
  },
  {
   "cell_type": "markdown",
   "metadata": {
    "slideshow": {
     "slide_type": "subslide"
    }
   },
   "source": [
    "## Our Goal\n",
    "![Facets](https://raw.githubusercontent.com/eytanadar/si649public/master/lab5/assets/demo/facet.png)"
   ]
  },
  {
   "cell_type": "code",
   "execution_count": null,
   "metadata": {
    "slideshow": {
     "slide_type": "subslide"
    }
   },
   "outputs": [],
   "source": [
    "# 2.4 We'd repeat this 4 times, and have to change the color each time (or write a loop)\n"
   ]
  },
  {
   "cell_type": "markdown",
   "metadata": {
    "slideshow": {
     "slide_type": "skip"
    }
   },
   "source": [
    "An easier way to do this is through [Faceted Charts](https://altair-viz.github.io/user_guide/compound_charts.html#faceted-charts).  You can do some fairly sophisticated stuff with facets. For example this \"[Ridgeline Chart](https://altair-viz.github.io/gallery/ridgeline_plot.html?highlight=configure_facet)\"."
   ]
  },
  {
   "cell_type": "code",
   "execution_count": null,
   "metadata": {
    "slideshow": {
     "slide_type": "subslide"
    }
   },
   "outputs": [],
   "source": [
    "# 2.5 Faceted Charts \n",
    "\n"
   ]
  },
  {
   "cell_type": "code",
   "execution_count": null,
   "metadata": {
    "slideshow": {
     "slide_type": "subslide"
    }
   },
   "outputs": [],
   "source": [
    "# can we see all them nicely?\n",
    "\n"
   ]
  },
  {
   "cell_type": "code",
   "execution_count": null,
   "metadata": {},
   "outputs": [],
   "source": []
  }
 ],
 "metadata": {
  "celltoolbar": "Slideshow",
  "colab": {
   "collapsed_sections": [],
   "name": "lab3 demo answer .ipynb",
   "provenance": []
  },
  "kernelspec": {
   "display_name": "Python 3 (ipykernel)",
   "language": "python",
   "name": "python3"
  },
  "language_info": {
   "codemirror_mode": {
    "name": "ipython",
    "version": 3
   },
   "file_extension": ".py",
   "mimetype": "text/x-python",
   "name": "python",
   "nbconvert_exporter": "python",
   "pygments_lexer": "ipython3",
   "version": "3.8.11"
  },
  "toc": {
   "colors": {
    "hover_highlight": "#DAA520",
    "running_highlight": "#FF0000",
    "selected_highlight": "#FFD700"
   },
   "moveMenuLeft": true,
   "nav_menu": {
    "height": "12px",
    "width": "252px"
   },
   "navigate_menu": true,
   "number_sections": false,
   "sideBar": true,
   "threshold": 4,
   "toc_cell": false,
   "toc_position": {
    "height": "469px",
    "left": "0px",
    "right": "946px",
    "top": "110px",
    "width": "212px"
   },
   "toc_section_display": "block",
   "toc_window_display": true,
   "widenNotebook": false
  }
 },
 "nbformat": 4,
 "nbformat_minor": 1
}
