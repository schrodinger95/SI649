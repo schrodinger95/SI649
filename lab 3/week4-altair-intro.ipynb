{
 "cells": [
  {
   "cell_type": "markdown",
   "metadata": {
    "colab_type": "text",
    "id": "EAzZf61pu0Z4",
    "slideshow": {
     "slide_type": "slide"
    }
   },
   "source": [
    "# An introduction to Altair\n",
    "## Sereen Kallerackal, Dallas Card\n",
    "\n",
    "School of Information, University of Michigan"
   ]
  },
  {
   "cell_type": "markdown",
   "metadata": {
    "colab_type": "text",
    "id": "McaviwyMvFaQ",
    "slideshow": {
     "slide_type": "slide"
    }
   },
   "source": [
    "## Getting Started"
   ]
  },
  {
   "cell_type": "markdown",
   "metadata": {
    "colab_type": "text",
    "id": "8hT4uB3ku_Fs",
    "slideshow": {
     "slide_type": "skip"
    }
   },
   "source": [
    "In this tutorial we're going to walk you through the construction of visualizations using Altair--a tool to encode data using a Grammar of Graphics implementation (one called Vega-Lite). [Altair](https://altair-viz.github.io/) is a Python API to [Vega-Lite](https://vega.github.io/vega-lite/). When we code in Altair we are ultimately producing a data structure that tells Vega-Lite what to draw. Whatever is doable in Vega-Lite should be doable in Altair so you can always look at examples in one and figure out how to generate them in the other ([Vega-Lite Examples](https://vega.github.io/vega-lite/examples/) and [Altair Examples](https://altair-viz.github.io/gallery/index.html)). \n",
    "\n",
    "As a side note, Vega-Lite is a lighter variant of [Vega](https://vega.github.io/). Altair and Vega-Lite are equally capable. Vega, on the other hand, is much more full-featured but there is no API in Python at the moment. \n",
    "\n",
    "Internally, we are describing the visualization in a JSON object--a kind of data structure that has lists and dictionaries. This will allow the rendering system (the thing that draws on the screen) to intepret your Grammar of Graphics specficiation. You can always ask Altair to produce the Vega-Lite JSON object (and you can experiment directly with this JSON object in the [Vega/Vega-Lite Online editor](https://vega.github.io/editor/#/custom/vega).\n",
    "\n",
    "In addition to Python, there are other language layers for Vega-Lite. The most popular of which is the [Javascript library](https://github.com/vega/vega-lite-api). It's very similar to the Python version so it's fairly straightforward to translate. The reason we're going to prefer Altair over the Javascript implementation is largely due to the data analysis ecosystem we have in Python. Tools like Pandas make data manipulation, cleaning, and analysis much easier.\n",
    "\n",
    "We're going to try to cover some highlights of using Altair here, but very much encourage you to make use of online resources. Specifically:\n",
    "\n",
    "* A whole [online course](https://github.com/uwdata/visualization-curriculum) by the creators of Vega-Lite. In fact, they show you have to use both Altair and the Javascript API.\n",
    "* The [Altair tutorial](https://github.com/altair-viz/altair-tutorial) from the creator of Altair, Jake Vanderplas\n",
    "\n",
    "Both will be useful resources if you get stuck or need more examples.\n",
    "\n",
    "This particular tutorial will not cover interactivity or really sophisticated filtering/transformation. For the most part, we will either use data that's already in a form we want or get it into shape using Pandas.\n",
    "\n",
    "We will be using two datasets here, the standard \"cars\" dataset (which has miles per gallon, cost, country of origin, horse power, etc.) and an [\"indicators\" dataset](http://www.bigcitieshealth.org/) that has various pieces of data for many cities in the US over time. Everything from demographics to the number of food poisonings. We've cleaned up the data a little bit for this exercise but you can grab the full data from [this github](https://github.com/altair-viz/vega_datasets/tree/master/vega_datasets/_data).\n",
    "\n",
    "In this tutorial we will often slice-and-dice data to it's suitable for the examples we want to show. We will do this using [Pandas](https://pandas.pydata.org/pandas-docs/stable/index.html), a data manipulation library. Each block of code contains comments that explain the Pandas operations being used."
   ]
  },
  {
   "cell_type": "markdown",
   "metadata": {
    "colab_type": "text",
    "id": "wg46uP8Tu0aF",
    "slideshow": {
     "slide_type": "slide"
    }
   },
   "source": [
    "## 1. How we build a visualization"
   ]
  },
  {
   "cell_type": "code",
   "execution_count": 1,
   "metadata": {
    "colab": {},
    "colab_type": "code",
    "id": "LOCmvYYmu0Z6",
    "slideshow": {
     "slide_type": "subslide"
    }
   },
   "outputs": [],
   "source": [
    "# 1.0 load up the libraries we need\n",
    "import pandas as pd\n",
    "import altair as alt\n",
    "\n",
    "import pprint #Pretty printing - makes things look nicer\n",
    "pp = pprint.PrettyPrinter(indent=4)"
   ]
  },
  {
   "cell_type": "markdown",
   "metadata": {
    "colab_type": "text",
    "id": "fFoNchyVu0aH",
    "slideshow": {
     "slide_type": "skip"
    }
   },
   "source": [
    "Before we start building a chart, it will be helpful to understand what the Altair library does. As you write code in Altair, the system translates your code to the JSON format that Vega-Lite understands (and can render).\n",
    "\n",
    "For example, let's say we want to use color to encode the transmission type of the car (it's either \"automatic\" or \"manual\", 1 or 0). To do so, we we use the \"Color\" method of the Altair library.\n",
    "\n",
    "Run the code below to see what happens:"
   ]
  },
  {
   "cell_type": "code",
   "execution_count": 2,
   "metadata": {
    "colab": {
     "base_uri": "https://localhost:8080/",
     "height": 85
    },
    "colab_type": "code",
    "id": "edrDnTvQu0aI",
    "outputId": "4f382f04-9fdd-467d-ae7e-8b4e48f1f356",
    "slideshow": {
     "slide_type": "subslide"
    }
   },
   "outputs": [
    {
     "data": {
      "text/plain": [
       "Color({\n",
       "  shorthand: 'transmission',\n",
       "  type: 'nominal'\n",
       "})"
      ]
     },
     "execution_count": 2,
     "metadata": {},
     "output_type": "execute_result"
    }
   ],
   "source": [
    "# 1.1 - The Altair code for producing a Color encoding on the transmission variable, data type - nominal\n",
    "# output - Json that Vega-lite understands\n",
    "\n",
    "alt.Color('transmission',type='nominal')"
   ]
  },
  {
   "cell_type": "markdown",
   "metadata": {
    "colab_type": "text",
    "id": "4imGWwHVu0aM",
    "slideshow": {
     "slide_type": "skip"
    }
   },
   "source": [
    "What you are seeing is the JSON corresponding to \"snippet\" of GoG Vega-Lite code. Remember, we need to describe: <font color='#55AAE7'>data</font>, <font color=\"#7F7C1C\">encoding/channels</font>, and <font color=\"#AC491A\">marks</font>. Here, we're describing the <font color='#55AAE7'>data</font> (\"transmission\" which is a \"nominal\" variable) and the <font color=\"#7F7C1C\">encoding/channel</font> (color). In English: \"encode the <font color='#55AAE7'>nominal transmission</font> variable using <font color=\"#7F7C1C\">color</font>.\"\n",
    "\n",
    "A couple of things to note.\n",
    "\n",
    "First, although Vega-Lite and Altair will try to infer the type of the data (is transmission ordinal? nominal? time?) we can override the decision. In this case, our data file uses 0 and 1 to indicate manual or automatic. So we want to make sure that Altair understands that it's a nominal cateogry and not ordinal or quantiative.\n",
    "\n",
    "This is important: Altair/Vega-Lite will use defaults or its best guess unless you override it. Most often you will be happy with those defaults and best guesses but there will be times when you want to force the system to do something else (use different colors, transform the data in a certain way, use different kinds of axes, etc.).\n",
    "\n",
    "Second, notice we haven't actually loaded any data yet. Altair won't give you error messages until you try to render the Chart.  Here's an example that is encoding the MPG (miles per gallon) using the X coordinate.\n",
    "\n",
    "Third, the quotes around the variables are in single quotes ' ', but they are interchangeable with double quotes \" \" which work exactly the same."
   ]
  },
  {
   "cell_type": "code",
   "execution_count": 3,
   "metadata": {
    "colab": {
     "base_uri": "https://localhost:8080/",
     "height": 68
    },
    "colab_type": "code",
    "id": "W96qheHFu0aO",
    "outputId": "5442d3f8-4b8f-41ed-f0a3-a809f9a41ca9",
    "slideshow": {
     "slide_type": "subslide"
    }
   },
   "outputs": [
    {
     "data": {
      "text/plain": [
       "X({\n",
       "  shorthand: 'MPG'\n",
       "})"
      ]
     },
     "execution_count": 3,
     "metadata": {},
     "output_type": "execute_result"
    }
   ],
   "source": [
    "#1.2 Encoding MPG on the \"X\" channel\n",
    "\n",
    "alt.X(\"MPG\")"
   ]
  },
  {
   "cell_type": "markdown",
   "metadata": {
    "colab_type": "text",
    "id": "H6BVDvbHu0aU",
    "slideshow": {
     "slide_type": "subslide"
    }
   },
   "source": [
    "Ok, let's try to build an actual visualization. First, let's load some data:"
   ]
  },
  {
   "cell_type": "code",
   "execution_count": 4,
   "metadata": {
    "colab": {
     "base_uri": "https://localhost:8080/",
     "height": 204
    },
    "colab_type": "code",
    "id": "vIuPmtmpu0aV",
    "outputId": "c8ed699a-b6ad-4024-a286-71d1bea6331b",
    "slideshow": {
     "slide_type": "fragment"
    }
   },
   "outputs": [
    {
     "data": {
      "text/html": [
       "<div>\n",
       "<style scoped>\n",
       "    .dataframe tbody tr th:only-of-type {\n",
       "        vertical-align: middle;\n",
       "    }\n",
       "\n",
       "    .dataframe tbody tr th {\n",
       "        vertical-align: top;\n",
       "    }\n",
       "\n",
       "    .dataframe thead th {\n",
       "        text-align: right;\n",
       "    }\n",
       "</style>\n",
       "<table border=\"1\" class=\"dataframe\">\n",
       "  <thead>\n",
       "    <tr style=\"text-align: right;\">\n",
       "      <th></th>\n",
       "      <th>model</th>\n",
       "      <th>MPG</th>\n",
       "      <th>cylinders</th>\n",
       "      <th>displacement</th>\n",
       "      <th>HP</th>\n",
       "      <th>rear_axle_ratio</th>\n",
       "      <th>weight</th>\n",
       "      <th>qsec</th>\n",
       "      <th>vs</th>\n",
       "      <th>transmission</th>\n",
       "      <th>gears</th>\n",
       "      <th>carb</th>\n",
       "    </tr>\n",
       "  </thead>\n",
       "  <tbody>\n",
       "    <tr>\n",
       "      <th>12</th>\n",
       "      <td>Merc 450SL</td>\n",
       "      <td>17.3</td>\n",
       "      <td>8</td>\n",
       "      <td>275.8</td>\n",
       "      <td>180</td>\n",
       "      <td>3.07</td>\n",
       "      <td>3.730</td>\n",
       "      <td>17.60</td>\n",
       "      <td>0</td>\n",
       "      <td>0</td>\n",
       "      <td>3</td>\n",
       "      <td>3</td>\n",
       "    </tr>\n",
       "    <tr>\n",
       "      <th>26</th>\n",
       "      <td>Porsche 914-2</td>\n",
       "      <td>26.0</td>\n",
       "      <td>4</td>\n",
       "      <td>120.3</td>\n",
       "      <td>91</td>\n",
       "      <td>4.43</td>\n",
       "      <td>2.140</td>\n",
       "      <td>16.70</td>\n",
       "      <td>0</td>\n",
       "      <td>1</td>\n",
       "      <td>5</td>\n",
       "      <td>2</td>\n",
       "    </tr>\n",
       "    <tr>\n",
       "      <th>15</th>\n",
       "      <td>Lincoln Continental</td>\n",
       "      <td>10.4</td>\n",
       "      <td>8</td>\n",
       "      <td>460.0</td>\n",
       "      <td>215</td>\n",
       "      <td>3.00</td>\n",
       "      <td>5.424</td>\n",
       "      <td>17.82</td>\n",
       "      <td>0</td>\n",
       "      <td>0</td>\n",
       "      <td>3</td>\n",
       "      <td>4</td>\n",
       "    </tr>\n",
       "    <tr>\n",
       "      <th>14</th>\n",
       "      <td>Cadillac Fleetwood</td>\n",
       "      <td>10.4</td>\n",
       "      <td>8</td>\n",
       "      <td>472.0</td>\n",
       "      <td>205</td>\n",
       "      <td>2.93</td>\n",
       "      <td>5.250</td>\n",
       "      <td>17.98</td>\n",
       "      <td>0</td>\n",
       "      <td>0</td>\n",
       "      <td>3</td>\n",
       "      <td>4</td>\n",
       "    </tr>\n",
       "    <tr>\n",
       "      <th>29</th>\n",
       "      <td>Ferrari Dino</td>\n",
       "      <td>19.7</td>\n",
       "      <td>6</td>\n",
       "      <td>145.0</td>\n",
       "      <td>175</td>\n",
       "      <td>3.62</td>\n",
       "      <td>2.770</td>\n",
       "      <td>15.50</td>\n",
       "      <td>0</td>\n",
       "      <td>1</td>\n",
       "      <td>5</td>\n",
       "      <td>6</td>\n",
       "    </tr>\n",
       "  </tbody>\n",
       "</table>\n",
       "</div>"
      ],
      "text/plain": [
       "                  model   MPG  cylinders  displacement   HP  rear_axle_ratio  \\\n",
       "12           Merc 450SL  17.3          8         275.8  180             3.07   \n",
       "26        Porsche 914-2  26.0          4         120.3   91             4.43   \n",
       "15  Lincoln Continental  10.4          8         460.0  215             3.00   \n",
       "14   Cadillac Fleetwood  10.4          8         472.0  205             2.93   \n",
       "29         Ferrari Dino  19.7          6         145.0  175             3.62   \n",
       "\n",
       "    weight   qsec  vs  transmission  gears  carb  \n",
       "12   3.730  17.60   0             0      3     3  \n",
       "26   2.140  16.70   0             1      5     2  \n",
       "15   5.424  17.82   0             0      3     4  \n",
       "14   5.250  17.98   0             0      3     4  \n",
       "29   2.770  15.50   0             1      5     6  "
      ]
     },
     "execution_count": 4,
     "metadata": {},
     "output_type": "execute_result"
    }
   ],
   "source": [
    "#1.3 Let's grab some data and take a look - Cars databases\n",
    "\n",
    "mtcars = pd.read_csv(\"https://raw.githubusercontent.com/eytanadar/si649public/master/lab3/data/mtcars.csv\")\n",
    "\n",
    "# Grab a few rows at random\n",
    "\n",
    "mtcars.sample(5)"
   ]
  },
  {
   "cell_type": "markdown",
   "metadata": {
    "colab_type": "text",
    "id": "QHOy5BvKu0ac",
    "slideshow": {
     "slide_type": "skip"
    }
   },
   "source": [
    "Remember, to get a reasonable chart we need we need to describe what we want to use <font color='#55AAE7'>data</font>, <font color=\"#7F7C1C\">encoding/channels</font>, and <font color=\"#AC491A\">marks</font>.\n",
    "\n",
    "To pick the kind of visualization we want, we need to make the right choice on the \"mark.\" Do we want points (for a scatter plot)? lines (for a time series)? or bars (for a bar chart or heatmap)? See your choices [here](https://altair-viz.github.io/user_guide/marks.html).\n",
    "\n",
    "Let's start easy. Let's make a scatterplot. We will tell Altair that we want a new Chart and that we will be using the mtcars dataframe. We will also, at minimum, neeed to pick the kind of mark. Scatterplots use points (a dot for every car in this case), so here's the code:"
   ]
  },
  {
   "cell_type": "code",
   "execution_count": 5,
   "metadata": {
    "colab": {
     "base_uri": "https://localhost:8080/",
     "height": 51
    },
    "colab_type": "code",
    "id": "Kw1pwNEnu0ad",
    "outputId": "71ca4779-6ddb-4c2e-e11f-0e96b473bc73",
    "slideshow": {
     "slide_type": "subslide"
    }
   },
   "outputs": [
    {
     "data": {
      "text/html": [
       "\n",
       "<div id=\"altair-viz-9b2de3dd135c4027ad4d2fb42a6a6f95\"></div>\n",
       "<script type=\"text/javascript\">\n",
       "  var VEGA_DEBUG = (typeof VEGA_DEBUG == \"undefined\") ? {} : VEGA_DEBUG;\n",
       "  (function(spec, embedOpt){\n",
       "    let outputDiv = document.currentScript.previousElementSibling;\n",
       "    if (outputDiv.id !== \"altair-viz-9b2de3dd135c4027ad4d2fb42a6a6f95\") {\n",
       "      outputDiv = document.getElementById(\"altair-viz-9b2de3dd135c4027ad4d2fb42a6a6f95\");\n",
       "    }\n",
       "    const paths = {\n",
       "      \"vega\": \"https://cdn.jsdelivr.net/npm//vega@5?noext\",\n",
       "      \"vega-lib\": \"https://cdn.jsdelivr.net/npm//vega-lib?noext\",\n",
       "      \"vega-lite\": \"https://cdn.jsdelivr.net/npm//vega-lite@4.17.0?noext\",\n",
       "      \"vega-embed\": \"https://cdn.jsdelivr.net/npm//vega-embed@6?noext\",\n",
       "    };\n",
       "\n",
       "    function maybeLoadScript(lib, version) {\n",
       "      var key = `${lib.replace(\"-\", \"\")}_version`;\n",
       "      return (VEGA_DEBUG[key] == version) ?\n",
       "        Promise.resolve(paths[lib]) :\n",
       "        new Promise(function(resolve, reject) {\n",
       "          var s = document.createElement('script');\n",
       "          document.getElementsByTagName(\"head\")[0].appendChild(s);\n",
       "          s.async = true;\n",
       "          s.onload = () => {\n",
       "            VEGA_DEBUG[key] = version;\n",
       "            return resolve(paths[lib]);\n",
       "          };\n",
       "          s.onerror = () => reject(`Error loading script: ${paths[lib]}`);\n",
       "          s.src = paths[lib];\n",
       "        });\n",
       "    }\n",
       "\n",
       "    function showError(err) {\n",
       "      outputDiv.innerHTML = `<div class=\"error\" style=\"color:red;\">${err}</div>`;\n",
       "      throw err;\n",
       "    }\n",
       "\n",
       "    function displayChart(vegaEmbed) {\n",
       "      vegaEmbed(outputDiv, spec, embedOpt)\n",
       "        .catch(err => showError(`Javascript Error: ${err.message}<br>This usually means there's a typo in your chart specification. See the javascript console for the full traceback.`));\n",
       "    }\n",
       "\n",
       "    if(typeof define === \"function\" && define.amd) {\n",
       "      requirejs.config({paths});\n",
       "      require([\"vega-embed\"], displayChart, err => showError(`Error loading script: ${err.message}`));\n",
       "    } else {\n",
       "      maybeLoadScript(\"vega\", \"5\")\n",
       "        .then(() => maybeLoadScript(\"vega-lite\", \"4.17.0\"))\n",
       "        .then(() => maybeLoadScript(\"vega-embed\", \"6\"))\n",
       "        .catch(showError)\n",
       "        .then(() => displayChart(vegaEmbed));\n",
       "    }\n",
       "  })({\"config\": {\"view\": {\"continuousWidth\": 400, \"continuousHeight\": 300}}, \"data\": {\"name\": \"data-9409cf149fcd97d1b95049972fed8558\"}, \"mark\": \"point\", \"$schema\": \"https://vega.github.io/schema/vega-lite/v4.17.0.json\", \"datasets\": {\"data-9409cf149fcd97d1b95049972fed8558\": [{\"model\": \"Mazda RX4\", \"MPG\": 21.0, \"cylinders\": 6, \"displacement\": 160.0, \"HP\": 110, \"rear_axle_ratio\": 3.9, \"weight\": 2.62, \"qsec\": 16.46, \"vs\": 0, \"transmission\": 1, \"gears\": 4, \"carb\": 4}, {\"model\": \"Mazda RX4 Wag\", \"MPG\": 21.0, \"cylinders\": 6, \"displacement\": 160.0, \"HP\": 110, \"rear_axle_ratio\": 3.9, \"weight\": 2.875, \"qsec\": 17.02, \"vs\": 0, \"transmission\": 1, \"gears\": 4, \"carb\": 4}, {\"model\": \"Datsun 710\", \"MPG\": 22.8, \"cylinders\": 4, \"displacement\": 108.0, \"HP\": 93, \"rear_axle_ratio\": 3.85, \"weight\": 2.32, \"qsec\": 18.61, \"vs\": 1, \"transmission\": 1, \"gears\": 4, \"carb\": 1}, {\"model\": \"Hornet 4 Drive\", \"MPG\": 21.4, \"cylinders\": 6, \"displacement\": 258.0, \"HP\": 110, \"rear_axle_ratio\": 3.08, \"weight\": 3.215, \"qsec\": 19.44, \"vs\": 1, \"transmission\": 0, \"gears\": 3, \"carb\": 1}, {\"model\": \"Hornet Sportabout\", \"MPG\": 18.7, \"cylinders\": 8, \"displacement\": 360.0, \"HP\": 175, \"rear_axle_ratio\": 3.15, \"weight\": 3.44, \"qsec\": 17.02, \"vs\": 0, \"transmission\": 0, \"gears\": 3, \"carb\": 2}, {\"model\": \"Valiant\", \"MPG\": 18.1, \"cylinders\": 6, \"displacement\": 225.0, \"HP\": 105, \"rear_axle_ratio\": 2.76, \"weight\": 3.46, \"qsec\": 20.22, \"vs\": 1, \"transmission\": 0, \"gears\": 3, \"carb\": 1}, {\"model\": \"Duster 360\", \"MPG\": 14.3, \"cylinders\": 8, \"displacement\": 360.0, \"HP\": 245, \"rear_axle_ratio\": 3.21, \"weight\": 3.57, \"qsec\": 15.84, \"vs\": 0, \"transmission\": 0, \"gears\": 3, \"carb\": 4}, {\"model\": \"Merc 240D\", \"MPG\": 24.4, \"cylinders\": 4, \"displacement\": 146.7, \"HP\": 62, \"rear_axle_ratio\": 3.69, \"weight\": 3.19, \"qsec\": 20.0, \"vs\": 1, \"transmission\": 0, \"gears\": 4, \"carb\": 2}, {\"model\": \"Merc 230\", \"MPG\": 22.8, \"cylinders\": 4, \"displacement\": 140.8, \"HP\": 95, \"rear_axle_ratio\": 3.92, \"weight\": 3.15, \"qsec\": 22.9, \"vs\": 1, \"transmission\": 0, \"gears\": 4, \"carb\": 2}, {\"model\": \"Merc 280\", \"MPG\": 19.2, \"cylinders\": 6, \"displacement\": 167.6, \"HP\": 123, \"rear_axle_ratio\": 3.92, \"weight\": 3.44, \"qsec\": 18.3, \"vs\": 1, \"transmission\": 0, \"gears\": 4, \"carb\": 4}, {\"model\": \"Merc 280C\", \"MPG\": 17.8, \"cylinders\": 6, \"displacement\": 167.6, \"HP\": 123, \"rear_axle_ratio\": 3.92, \"weight\": 3.44, \"qsec\": 18.9, \"vs\": 1, \"transmission\": 0, \"gears\": 4, \"carb\": 4}, {\"model\": \"Merc 450SE\", \"MPG\": 16.4, \"cylinders\": 8, \"displacement\": 275.8, \"HP\": 180, \"rear_axle_ratio\": 3.07, \"weight\": 4.07, \"qsec\": 17.4, \"vs\": 0, \"transmission\": 0, \"gears\": 3, \"carb\": 3}, {\"model\": \"Merc 450SL\", \"MPG\": 17.3, \"cylinders\": 8, \"displacement\": 275.8, \"HP\": 180, \"rear_axle_ratio\": 3.07, \"weight\": 3.73, \"qsec\": 17.6, \"vs\": 0, \"transmission\": 0, \"gears\": 3, \"carb\": 3}, {\"model\": \"Merc 450SLC\", \"MPG\": 15.2, \"cylinders\": 8, \"displacement\": 275.8, \"HP\": 180, \"rear_axle_ratio\": 3.07, \"weight\": 3.78, \"qsec\": 18.0, \"vs\": 0, \"transmission\": 0, \"gears\": 3, \"carb\": 3}, {\"model\": \"Cadillac Fleetwood\", \"MPG\": 10.4, \"cylinders\": 8, \"displacement\": 472.0, \"HP\": 205, \"rear_axle_ratio\": 2.93, \"weight\": 5.25, \"qsec\": 17.98, \"vs\": 0, \"transmission\": 0, \"gears\": 3, \"carb\": 4}, {\"model\": \"Lincoln Continental\", \"MPG\": 10.4, \"cylinders\": 8, \"displacement\": 460.0, \"HP\": 215, \"rear_axle_ratio\": 3.0, \"weight\": 5.424, \"qsec\": 17.82, \"vs\": 0, \"transmission\": 0, \"gears\": 3, \"carb\": 4}, {\"model\": \"Chrysler Imperial\", \"MPG\": 14.7, \"cylinders\": 8, \"displacement\": 440.0, \"HP\": 230, \"rear_axle_ratio\": 3.23, \"weight\": 5.345, \"qsec\": 17.42, \"vs\": 0, \"transmission\": 0, \"gears\": 3, \"carb\": 4}, {\"model\": \"Fiat 128\", \"MPG\": 32.4, \"cylinders\": 4, \"displacement\": 78.7, \"HP\": 66, \"rear_axle_ratio\": 4.08, \"weight\": 2.2, \"qsec\": 19.47, \"vs\": 1, \"transmission\": 1, \"gears\": 4, \"carb\": 1}, {\"model\": \"Honda Civic\", \"MPG\": 30.4, \"cylinders\": 4, \"displacement\": 75.7, \"HP\": 52, \"rear_axle_ratio\": 4.93, \"weight\": 1.615, \"qsec\": 18.52, \"vs\": 1, \"transmission\": 1, \"gears\": 4, \"carb\": 2}, {\"model\": \"Toyota Corolla\", \"MPG\": 33.9, \"cylinders\": 4, \"displacement\": 71.1, \"HP\": 65, \"rear_axle_ratio\": 4.22, \"weight\": 1.835, \"qsec\": 19.9, \"vs\": 1, \"transmission\": 1, \"gears\": 4, \"carb\": 1}, {\"model\": \"Toyota Corona\", \"MPG\": 21.5, \"cylinders\": 4, \"displacement\": 120.1, \"HP\": 97, \"rear_axle_ratio\": 3.7, \"weight\": 2.465, \"qsec\": 20.01, \"vs\": 1, \"transmission\": 0, \"gears\": 3, \"carb\": 1}, {\"model\": \"Dodge Challenger\", \"MPG\": 15.5, \"cylinders\": 8, \"displacement\": 318.0, \"HP\": 150, \"rear_axle_ratio\": 2.76, \"weight\": 3.52, \"qsec\": 16.87, \"vs\": 0, \"transmission\": 0, \"gears\": 3, \"carb\": 2}, {\"model\": \"AMC Javelin\", \"MPG\": 15.2, \"cylinders\": 8, \"displacement\": 304.0, \"HP\": 150, \"rear_axle_ratio\": 3.15, \"weight\": 3.435, \"qsec\": 17.3, \"vs\": 0, \"transmission\": 0, \"gears\": 3, \"carb\": 2}, {\"model\": \"Camaro Z28\", \"MPG\": 13.3, \"cylinders\": 8, \"displacement\": 350.0, \"HP\": 245, \"rear_axle_ratio\": 3.73, \"weight\": 3.84, \"qsec\": 15.41, \"vs\": 0, \"transmission\": 0, \"gears\": 3, \"carb\": 4}, {\"model\": \"Pontiac Firebird\", \"MPG\": 19.2, \"cylinders\": 8, \"displacement\": 400.0, \"HP\": 175, \"rear_axle_ratio\": 3.08, \"weight\": 3.845, \"qsec\": 17.05, \"vs\": 0, \"transmission\": 0, \"gears\": 3, \"carb\": 2}, {\"model\": \"Fiat X1-9\", \"MPG\": 27.3, \"cylinders\": 4, \"displacement\": 79.0, \"HP\": 66, \"rear_axle_ratio\": 4.08, \"weight\": 1.935, \"qsec\": 18.9, \"vs\": 1, \"transmission\": 1, \"gears\": 4, \"carb\": 1}, {\"model\": \"Porsche 914-2\", \"MPG\": 26.0, \"cylinders\": 4, \"displacement\": 120.3, \"HP\": 91, \"rear_axle_ratio\": 4.43, \"weight\": 2.14, \"qsec\": 16.7, \"vs\": 0, \"transmission\": 1, \"gears\": 5, \"carb\": 2}, {\"model\": \"Lotus Europa\", \"MPG\": 30.4, \"cylinders\": 4, \"displacement\": 95.1, \"HP\": 113, \"rear_axle_ratio\": 3.77, \"weight\": 1.513, \"qsec\": 16.9, \"vs\": 1, \"transmission\": 1, \"gears\": 5, \"carb\": 2}, {\"model\": \"Ford Pantera L\", \"MPG\": 15.8, \"cylinders\": 8, \"displacement\": 351.0, \"HP\": 264, \"rear_axle_ratio\": 4.22, \"weight\": 3.17, \"qsec\": 14.5, \"vs\": 0, \"transmission\": 1, \"gears\": 5, \"carb\": 4}, {\"model\": \"Ferrari Dino\", \"MPG\": 19.7, \"cylinders\": 6, \"displacement\": 145.0, \"HP\": 175, \"rear_axle_ratio\": 3.62, \"weight\": 2.77, \"qsec\": 15.5, \"vs\": 0, \"transmission\": 1, \"gears\": 5, \"carb\": 6}, {\"model\": \"Maserati Bora\", \"MPG\": 15.0, \"cylinders\": 8, \"displacement\": 301.0, \"HP\": 335, \"rear_axle_ratio\": 3.54, \"weight\": 3.57, \"qsec\": 14.6, \"vs\": 0, \"transmission\": 1, \"gears\": 5, \"carb\": 8}, {\"model\": \"Volvo 142E\", \"MPG\": 21.4, \"cylinders\": 4, \"displacement\": 121.0, \"HP\": 109, \"rear_axle_ratio\": 4.11, \"weight\": 2.78, \"qsec\": 18.6, \"vs\": 1, \"transmission\": 1, \"gears\": 4, \"carb\": 2}]}}, {\"mode\": \"vega-lite\"});\n",
       "</script>"
      ],
      "text/plain": [
       "alt.Chart(...)"
      ]
     },
     "execution_count": 5,
     "metadata": {},
     "output_type": "execute_result"
    }
   ],
   "source": [
    "#1.4  Encode the dataset using points [data- mtcars,encoding-None,Marks= point]\n",
    "\n",
    "alt.Chart(mtcars).mark_point()"
   ]
  },
  {
   "cell_type": "markdown",
   "metadata": {
    "colab_type": "text",
    "id": "OO0vkJxMu0ai",
    "slideshow": {
     "slide_type": "skip"
    }
   },
   "source": [
    "Not very interesting... what we see is something like this:\n",
    "    \n",
    "![A dot](https://raw.githubusercontent.com/eytanadar/si649public/master/lab3/assets/simplestscatter.png)\n",
    "\n",
    "(If you try to click on the little icon you may not even be able to see anything because the cell will be cut off)\n",
    "\n",
    "The chart is exactly what we asked for. There is one dot for every car in the dataset. Unfortunately, because we didn't say how to encode the data (or even what actual pieces of the data we wanted), Altair went with some defaults: all points were placed at coordinate 0,0 and rendered with the default style (a blue outlined circle).\n",
    "\n",
    "If you're curious you can take a look at what JSON Altair generated for this call:"
   ]
  },
  {
   "cell_type": "code",
   "execution_count": 6,
   "metadata": {
    "colab": {},
    "colab_type": "code",
    "id": "G_16tAHqu0aj",
    "slideshow": {
     "slide_type": "subslide"
    }
   },
   "outputs": [
    {
     "name": "stdout",
     "output_type": "stream",
     "text": [
      "('{\\n'\n",
      " '  \"$schema\": \"https://vega.github.io/schema/vega-lite/v4.17.0.json\",\\n'\n",
      " '  \"config\": {\\n'\n",
      " '    \"view\": {\\n'\n",
      " '      \"continuousHeight\": 300,\\n'\n",
      " '      \"continuousWidth\": 400\\n'\n",
      " '    }\\n'\n",
      " '  },\\n'\n",
      " '  \"data\": {\\n'\n",
      " '    \"name\": \"data-9409cf149fcd97d1b95049972fed8558\"\\n'\n",
      " '  },\\n'\n",
      " '  \"datasets\": {\\n'\n",
      " '    \"data-9409cf149fcd97d1b95049972fed8558\": [\\n'\n",
      " '      {\\n'\n",
      " '        \"HP\": 110,\\n'\n",
      " '        \"MPG\": 21.0,\\n'\n",
      " '        \"carb\": 4,\\n'\n",
      " '        \"cylinders\": 6,\\n'\n",
      " '        \"displacement\": 160.0,\\n'\n",
      " '        \"gears\": 4,\\n'\n",
      " '        \"model\": \"Mazda RX4\",\\n'\n",
      " '        \"qsec\": 16.46,\\n'\n",
      " '        \"rear_axle_ratio\": 3.9,\\n'\n",
      " '        \"transmission\": 1,\\n'\n",
      " '        \"vs\": 0,\\n'\n",
      " '        \"weight\": 2.62\\n'\n",
      " '      },\\n'\n",
      " '      {\\n'\n",
      " '        \"HP\": 110,\\n'\n",
      " '        \"MPG\": 21.0,\\n'\n",
      " '        \"carb\": 4,\\n'\n",
      " '        \"cylinders\": 6,\\n'\n",
      " '        \"displacement\": 160.0,\\n'\n",
      " '        \"gears\": 4,\\n'\n",
      " '        \"model\": \"Mazda RX4 Wag\",\\n'\n",
      " '        \"qsec\": 17.02,\\n'\n",
      " '        \"rear_axle_ratio\": 3.9,\\n'\n",
      " '        \"transmission\": 1,\\n'\n",
      " '        \"vs\": 0,\\n'\n",
      " '        \"weight\": 2.875\\n'\n",
      " '      },\\n'\n",
      " '      {\\n'\n",
      " '        \"HP\": 93,\\n'\n",
      " '        \"MPG\": 22.8,\\n'\n",
      " '        \"carb\": 1,\\n'\n",
      " '        \"cylinders\": 4,\\n'\n",
      " '        \"displacement\": 108.0,\\n'\n",
      " '        \"gears\": 4,\\n'\n",
      " '        \"model\": \"Datsun 710\",\\n'\n",
      " '        \"qsec\": 18.61,\\n'\n",
      " '        \"rear_axle_ratio\": 3.85,\\n'\n",
      " '        \"transmission\": 1,\\n'\n",
      " '        \"vs\": 1,\\n'\n",
      " '        \"weight\": 2.32\\n'\n",
      " '      },\\n'\n",
      " '      {\\n'\n",
      " '        \"HP\": 110,\\n'\n",
      " '        \"MPG\": 21.4,\\n'\n",
      " '        \"carb\": 1,\\n'\n",
      " '        \"cylinders\": 6,\\n'\n",
      " '        \"displacement\": 258.0,\\n'\n",
      " '        \"gears\": 3,\\n'\n",
      " '        \"model\": \"Hornet 4 Drive\",\\n'\n",
      " '        \"qsec\": 19.44,\\n'\n",
      " '        \"rear_axle_ratio\": 3.08,\\n'\n",
      " '        \"transmission\": 0,\\n'\n",
      " '        \"vs\": 1,\\n'\n",
      " '        \"weight\": 3.215\\n'\n",
      " '      },\\n'\n",
      " '      {\\n'\n",
      " '        \"HP\": 175,\\n'\n",
      " '        \"MPG\": 18.7,\\n'\n",
      " '        \"carb\": 2,\\n'\n",
      " '        \"cylinders\": 8,\\n'\n",
      " '        \"displacement\": 360.0,\\n'\n",
      " '        \"gears\": 3,\\n'\n",
      " '        \"model\": \"Hornet Sportabout\",\\n'\n",
      " '        \"qsec\": 17.02,\\n'\n",
      " '        \"rear_axle_ratio\": 3.15,\\n'\n",
      " '        \"transmission\": 0,\\n'\n",
      " '        \"vs\": 0,\\n'\n",
      " '        \"weight\": 3.44\\n'\n",
      " '      },\\n'\n",
      " '      {\\n'\n",
      " '        \"HP\": 105,\\n'\n",
      " '        \"MPG\": 18.1,\\n'\n",
      " '        \"carb\": 1,\\n'\n",
      " '        \"cylinders\": 6,\\n'\n",
      " '        \"displacement\": 225.0,\\n'\n",
      " '        \"gears\": 3,\\n'\n",
      " '        \"model\": \"Valiant\",\\n'\n",
      " '        \"qsec\": 20.22,\\n'\n",
      " '        \"rear_axle_ratio\": 2.76,\\n'\n",
      " '        \"transmission\": 0,\\n'\n",
      " '        \"vs\": 1,\\n'\n",
      " '        \"weight\": 3.46\\n'\n",
      " '      },\\n'\n",
      " '      {\\n'\n",
      " '        \"HP\": 245,\\n'\n",
      " '        \"MPG\": 14.3,\\n'\n",
      " '        \"carb\": 4,\\n'\n",
      " '        \"cylinders\": 8,\\n'\n",
      " '        \"displacement\": 360.0,\\n'\n",
      " '        \"gears\": 3,\\n'\n",
      " '        \"model\": \"Duster 360\",\\n'\n",
      " '        \"qsec\": 15.84,\\n'\n",
      " '        \"rear_axle_ratio\": 3.21,\\n'\n",
      " '        \"transmission\": 0,\\n'\n",
      " '        \"vs\": 0,\\n'\n",
      " '        \"weight\": 3.57\\n'\n",
      " '      },\\n'\n",
      " '      {\\n'\n",
      " '        \"HP\": 62,\\n'\n",
      " '        \"MPG\": 24.4,\\n'\n",
      " '        \"carb\": 2,\\n'\n",
      " '        \"cylinders\": 4,\\n'\n",
      " '        \"displacement\": 146.7,\\n'\n",
      " '        \"gears\": 4,\\n'\n",
      " '        \"model\": \"Merc 240D\",\\n'\n",
      " '        \"qsec\": 20.0,\\n'\n",
      " '        \"rear_axle_ratio\": 3.69,\\n'\n",
      " '        \"transmission\": 0,\\n'\n",
      " '        \"vs\": 1,\\n'\n",
      " '        \"weight\": 3.19\\n'\n",
      " '      },\\n'\n",
      " '      {\\n'\n",
      " '        \"HP\": 95,\\n'\n",
      " '        \"MPG\": 22.8,\\n'\n",
      " '        \"carb\": 2,\\n'\n",
      " '        \"cylinders\": 4,\\n'\n",
      " '        \"displacement\": 140.8,\\n'\n",
      " '        \"gears\": 4,\\n'\n",
      " '        \"model\": \"Merc 230\",\\n'\n",
      " '        \"qsec\": 22.9,\\n'\n",
      " '        \"rear_axle_ratio\": 3.92,\\n'\n",
      " '        \"transmission\": 0,\\n'\n",
      " '        \"vs\": 1,\\n'\n",
      " '        \"weight\": 3.15\\n'\n",
      " '      },\\n'\n",
      " '      {\\n'\n",
      " '        \"HP\": 123,\\n'\n",
      " '        \"MPG\": 19.2,\\n'\n",
      " '        \"carb\": 4,\\n'\n",
      " '        \"cylinders\": 6,\\n'\n",
      " '        \"displacement\": 167.6,\\n'\n",
      " '        \"gears\": 4,\\n'\n",
      " '        \"model\": \"Merc 280\",\\n'\n",
      " '        \"qsec\": 18.3,\\n'\n",
      " '        \"rear_axle_ratio\": 3.92,\\n'\n",
      " '        \"transmission\": 0,\\n'\n",
      " '        \"vs\": 1,\\n'\n",
      " '        \"weight\": 3.44\\n'\n",
      " '      },\\n'\n",
      " '      {\\n'\n",
      " '        \"HP\": 123,\\n'\n",
      " '        \"MPG\": 17.8,\\n'\n",
      " '        \"carb\": 4,\\n'\n",
      " '        \"cylinders\": 6,\\n'\n",
      " '        \"displacement\": 167.6,\\n'\n",
      " '        \"gears\": 4,\\n'\n",
      " '        \"model\": \"Merc 280C\",\\n'\n",
      " '        \"qsec\": 18.9,\\n'\n",
      " '        \"rear_axle_ratio\": 3.92,\\n'\n",
      " '        \"transmission\": 0,\\n'\n",
      " '        \"vs\": 1,\\n'\n",
      " '        \"weight\": 3.44\\n'\n",
      " '      },\\n'\n",
      " '      {\\n'\n",
      " '        \"HP\": 180,\\n'\n",
      " '        \"MPG\": 16.4,\\n'\n",
      " '        \"carb\": 3,\\n'\n",
      " '        \"cylinders\": 8,\\n'\n",
      " '        \"displacement\": 275.8,\\n'\n",
      " '        \"gears\": 3,\\n'\n",
      " '        \"model\": \"Merc 450SE\",\\n'\n",
      " '        \"qsec\": 17.4,\\n'\n",
      " '        \"rear_axle_ratio\": 3.07,\\n'\n",
      " '        \"transmission\": 0,\\n'\n",
      " '        \"vs\": 0,\\n'\n",
      " '        \"weight\": 4.07\\n'\n",
      " '      },\\n'\n",
      " '      {\\n'\n",
      " '        \"HP\": 180,\\n'\n",
      " '        \"MPG\": 17.3,\\n'\n",
      " '        \"carb\": 3,\\n'\n",
      " '        \"cylinders\": 8,\\n'\n",
      " '        \"displacement\": 275.8,\\n'\n",
      " '        \"gears\": 3,\\n'\n",
      " '        \"model\": \"Merc 450SL\",\\n'\n",
      " '        \"qsec\": 17.6,\\n'\n",
      " '        \"rear_axle_ratio\": 3.07,\\n'\n",
      " '        \"transmission\": 0,\\n'\n",
      " '        \"vs\": 0,\\n'\n",
      " '        \"weight\": 3.73\\n'\n",
      " '      },\\n'\n",
      " '      {\\n'\n",
      " '        \"HP\": 180,\\n'\n",
      " '        \"MPG\": 15.2,\\n'\n",
      " '        \"carb\": 3,\\n'\n",
      " '        \"cylinders\": 8,\\n'\n",
      " '        \"displacement\": 275.8,\\n'\n",
      " '        \"gears\": 3,\\n'\n",
      " '        \"model\": \"Merc 450SLC\",\\n'\n",
      " '        \"qsec\": 18.0,\\n'\n",
      " '        \"rear_axle_ratio\": 3.07,\\n'\n",
      " '        \"transmission\": 0,\\n'\n",
      " '        \"vs\": 0,\\n'\n",
      " '        \"weight\": 3.78\\n'\n",
      " '      },\\n'\n",
      " '      {\\n'\n",
      " '        \"HP\": 205,\\n'\n",
      " '        \"MPG\": 10.4,\\n'\n",
      " '        \"carb\": 4,\\n'\n",
      " '        \"cylinders\": 8,\\n'\n",
      " '        \"displacement\": 472.0,\\n'\n",
      " '        \"gears\": 3,\\n'\n",
      " '        \"model\": \"Cadillac Fleetwood\",\\n'\n",
      " '        \"qsec\": 17.98,\\n'\n",
      " '        \"rear_axle_ratio\": 2.93,\\n'\n",
      " '        \"transmission\": 0,\\n'\n",
      " '        \"vs\": 0,\\n'\n",
      " '        \"weight\": 5.25\\n'\n",
      " '      },\\n'\n",
      " '      {\\n'\n",
      " '        \"HP\": 215,\\n'\n",
      " '        \"MPG\": 10.4,\\n'\n",
      " '        \"carb\": 4,\\n'\n",
      " '        \"cylinders\": 8,\\n'\n",
      " '        \"displacement\": 460.0,\\n'\n",
      " '        \"gears\": 3,\\n'\n",
      " '        \"model\": \"Lincoln Continental\",\\n'\n",
      " '        \"qsec\": 17.82,\\n'\n",
      " '        \"rear_axle_ratio\": 3.0,\\n'\n",
      " '        \"transmission\": 0,\\n'\n",
      " '        \"vs\": 0,\\n'\n",
      " '        \"weight\": 5.424\\n'\n",
      " '      },\\n'\n",
      " '      {\\n'\n",
      " '        \"HP\": 230,\\n'\n",
      " '        \"MPG\": 14.7,\\n'\n",
      " '        \"carb\": 4,\\n'\n",
      " '        \"cylinders\": 8,\\n'\n",
      " '        \"displacement\": 440.0,\\n'\n",
      " '        \"gears\": 3,\\n'\n",
      " '        \"model\": \"Chrysler Imperial\",\\n'\n",
      " '        \"qsec\": 17.42,\\n'\n",
      " '        \"rear_axle_ratio\": 3.23,\\n'\n",
      " '        \"transmission\": 0,\\n'\n",
      " '        \"vs\": 0,\\n'\n",
      " '        \"weight\": 5.345\\n'\n",
      " '      },\\n'\n",
      " '      {\\n'\n",
      " '        \"HP\": 66,\\n'\n",
      " '        \"MPG\": 32.4,\\n'\n",
      " '        \"carb\": 1,\\n'\n",
      " '        \"cylinders\": 4,\\n'\n",
      " '        \"displacement\": 78.7,\\n'\n",
      " '        \"gears\": 4,\\n'\n",
      " '        \"model\": \"Fiat 128\",\\n'\n",
      " '        \"qsec\": 19.47,\\n'\n",
      " '        \"rear_axle_ratio\": 4.08,\\n'\n",
      " '        \"transmission\": 1,\\n'\n",
      " '        \"vs\": 1,\\n'\n",
      " '        \"weight\": 2.2\\n'\n",
      " '      },\\n'\n",
      " '      {\\n'\n",
      " '        \"HP\": 52,\\n'\n",
      " '        \"MPG\": 30.4,\\n'\n",
      " '        \"carb\": 2,\\n'\n",
      " '        \"cylinders\": 4,\\n'\n",
      " '        \"displacement\": 75.7,\\n'\n",
      " '        \"gears\": 4,\\n'\n",
      " '        \"model\": \"Honda Civic\",\\n'\n",
      " '        \"qsec\": 18.52,\\n'\n",
      " '        \"rear_axle_ratio\": 4.93,\\n'\n",
      " '        \"transmission\": 1,\\n'\n",
      " '        \"vs\": 1,\\n'\n",
      " '        \"weight\": 1.615\\n'\n",
      " '      },\\n'\n",
      " '      {\\n'\n",
      " '        \"HP\": 65,\\n'\n",
      " '        \"MPG\": 33.9,\\n'\n",
      " '        \"carb\": 1,\\n'\n",
      " '        \"cylinders\": 4,\\n'\n",
      " '        \"displacement\": 71.1,\\n'\n",
      " '        \"gears\": 4,\\n'\n",
      " '        \"model\": \"Toyota Corolla\",\\n'\n",
      " '        \"qsec\": 19.9,\\n'\n",
      " '        \"rear_axle_ratio\": 4.22,\\n'\n",
      " '        \"transmission\": 1,\\n'\n",
      " '        \"vs\": 1,\\n'\n",
      " '        \"weight\": 1.835\\n'\n",
      " '      },\\n'\n",
      " '      {\\n'\n",
      " '        \"HP\": 97,\\n'\n",
      " '        \"MPG\": 21.5,\\n'\n",
      " '        \"carb\": 1,\\n'\n",
      " '        \"cylinders\": 4,\\n'\n",
      " '        \"displacement\": 120.1,\\n'\n",
      " '        \"gears\": 3,\\n'\n",
      " '        \"model\": \"Toyota Corona\",\\n'\n",
      " '        \"qsec\": 20.01,\\n'\n",
      " '        \"rear_axle_ratio\": 3.7,\\n'\n",
      " '        \"transmission\": 0,\\n'\n",
      " '        \"vs\": 1,\\n'\n",
      " '        \"weight\": 2.465\\n'\n",
      " '      },\\n'\n",
      " '      {\\n'\n",
      " '        \"HP\": 150,\\n'\n",
      " '        \"MPG\": 15.5,\\n'\n",
      " '        \"carb\": 2,\\n'\n",
      " '        \"cylinders\": 8,\\n'\n",
      " '        \"displacement\": 318.0,\\n'\n",
      " '        \"gears\": 3,\\n'\n",
      " '        \"model\": \"Dodge Challenger\",\\n'\n",
      " '        \"qsec\": 16.87,\\n'\n",
      " '        \"rear_axle_ratio\": 2.76,\\n'\n",
      " '        \"transmission\": 0,\\n'\n",
      " '        \"vs\": 0,\\n'\n",
      " '        \"weight\": 3.52\\n'\n",
      " '      },\\n'\n",
      " '      {\\n'\n",
      " '        \"HP\": 150,\\n'\n",
      " '        \"MPG\": 15.2,\\n'\n",
      " '        \"carb\": 2,\\n'\n",
      " '        \"cylinders\": 8,\\n'\n",
      " '        \"displacement\": 304.0,\\n'\n",
      " '        \"gears\": 3,\\n'\n",
      " '        \"model\": \"AMC Javelin\",\\n'\n",
      " '        \"qsec\": 17.3,\\n'\n",
      " '        \"rear_axle_ratio\": 3.15,\\n'\n",
      " '        \"transmission\": 0,\\n'\n",
      " '        \"vs\": 0,\\n'\n",
      " '        \"weight\": 3.435\\n'\n",
      " '      },\\n'\n",
      " '      {\\n'\n",
      " '        \"HP\": 245,\\n'\n",
      " '        \"MPG\": 13.3,\\n'\n",
      " '        \"carb\": 4,\\n'\n",
      " '        \"cylinders\": 8,\\n'\n",
      " '        \"displacement\": 350.0,\\n'\n",
      " '        \"gears\": 3,\\n'\n",
      " '        \"model\": \"Camaro Z28\",\\n'\n",
      " '        \"qsec\": 15.41,\\n'\n",
      " '        \"rear_axle_ratio\": 3.73,\\n'\n",
      " '        \"transmission\": 0,\\n'\n",
      " '        \"vs\": 0,\\n'\n",
      " '        \"weight\": 3.84\\n'\n",
      " '      },\\n'\n",
      " '      {\\n'\n",
      " '        \"HP\": 175,\\n'\n",
      " '        \"MPG\": 19.2,\\n'\n",
      " '        \"carb\": 2,\\n'\n",
      " '        \"cylinders\": 8,\\n'\n",
      " '        \"displacement\": 400.0,\\n'\n",
      " '        \"gears\": 3,\\n'\n",
      " '        \"model\": \"Pontiac Firebird\",\\n'\n",
      " '        \"qsec\": 17.05,\\n'\n",
      " '        \"rear_axle_ratio\": 3.08,\\n'\n",
      " '        \"transmission\": 0,\\n'\n",
      " '        \"vs\": 0,\\n'\n",
      " '        \"weight\": 3.845\\n'\n",
      " '      },\\n'\n",
      " '      {\\n'\n",
      " '        \"HP\": 66,\\n'\n",
      " '        \"MPG\": 27.3,\\n'\n",
      " '        \"carb\": 1,\\n'\n",
      " '        \"cylinders\": 4,\\n'\n",
      " '        \"displacement\": 79.0,\\n'\n",
      " '        \"gears\": 4,\\n'\n",
      " '        \"model\": \"Fiat X1-9\",\\n'\n",
      " '        \"qsec\": 18.9,\\n'\n",
      " '        \"rear_axle_ratio\": 4.08,\\n'\n",
      " '        \"transmission\": 1,\\n'\n",
      " '        \"vs\": 1,\\n'\n",
      " '        \"weight\": 1.935\\n'\n",
      " '      },\\n'\n",
      " '      {\\n'\n",
      " '        \"HP\": 91,\\n'\n",
      " '        \"MPG\": 26.0,\\n'\n",
      " '        \"carb\": 2,\\n'\n",
      " '        \"cylinders\": 4,\\n'\n",
      " '        \"displacement\": 120.3,\\n'\n",
      " '        \"gears\": 5,\\n'\n",
      " '        \"model\": \"Porsche 914-2\",\\n'\n",
      " '        \"qsec\": 16.7,\\n'\n",
      " '        \"rear_axle_ratio\": 4.43,\\n'\n",
      " '        \"transmission\": 1,\\n'\n",
      " '        \"vs\": 0,\\n'\n",
      " '        \"weight\": 2.14\\n'\n",
      " '      },\\n'\n",
      " '      {\\n'\n",
      " '        \"HP\": 113,\\n'\n",
      " '        \"MPG\": 30.4,\\n'\n",
      " '        \"carb\": 2,\\n'\n",
      " '        \"cylinders\": 4,\\n'\n",
      " '        \"displacement\": 95.1,\\n'\n",
      " '        \"gears\": 5,\\n'\n",
      " '        \"model\": \"Lotus Europa\",\\n'\n",
      " '        \"qsec\": 16.9,\\n'\n",
      " '        \"rear_axle_ratio\": 3.77,\\n'\n",
      " '        \"transmission\": 1,\\n'\n",
      " '        \"vs\": 1,\\n'\n",
      " '        \"weight\": 1.513\\n'\n",
      " '      },\\n'\n",
      " '      {\\n'\n",
      " '        \"HP\": 264,\\n'\n",
      " '        \"MPG\": 15.8,\\n'\n",
      " '        \"carb\": 4,\\n'\n",
      " '        \"cylinders\": 8,\\n'\n",
      " '        \"displacement\": 351.0,\\n'\n",
      " '        \"gears\": 5,\\n'\n",
      " '        \"model\": \"Ford Pantera L\",\\n'\n",
      " '        \"qsec\": 14.5,\\n'\n",
      " '        \"rear_axle_ratio\": 4.22,\\n'\n",
      " '        \"transmission\": 1,\\n'\n",
      " '        \"vs\": 0,\\n'\n",
      " '        \"weight\": 3.17\\n'\n",
      " '      },\\n'\n",
      " '      {\\n'\n",
      " '        \"HP\": 175,\\n'\n",
      " '        \"MPG\": 19.7,\\n'\n",
      " '        \"carb\": 6,\\n'\n",
      " '        \"cylinders\": 6,\\n'\n",
      " '        \"displacement\": 145.0,\\n'\n",
      " '        \"gears\": 5,\\n'\n",
      " '        \"model\": \"Ferrari Dino\",\\n'\n",
      " '        \"qsec\": 15.5,\\n'\n",
      " '        \"rear_axle_ratio\": 3.62,\\n'\n",
      " '        \"transmission\": 1,\\n'\n",
      " '        \"vs\": 0,\\n'\n",
      " '        \"weight\": 2.77\\n'\n",
      " '      },\\n'\n",
      " '      {\\n'\n",
      " '        \"HP\": 335,\\n'\n",
      " '        \"MPG\": 15.0,\\n'\n",
      " '        \"carb\": 8,\\n'\n",
      " '        \"cylinders\": 8,\\n'\n",
      " '        \"displacement\": 301.0,\\n'\n",
      " '        \"gears\": 5,\\n'\n",
      " '        \"model\": \"Maserati Bora\",\\n'\n",
      " '        \"qsec\": 14.6,\\n'\n",
      " '        \"rear_axle_ratio\": 3.54,\\n'\n",
      " '        \"transmission\": 1,\\n'\n",
      " '        \"vs\": 0,\\n'\n",
      " '        \"weight\": 3.57\\n'\n",
      " '      },\\n'\n",
      " '      {\\n'\n",
      " '        \"HP\": 109,\\n'\n",
      " '        \"MPG\": 21.4,\\n'\n",
      " '        \"carb\": 2,\\n'\n",
      " '        \"cylinders\": 4,\\n'\n",
      " '        \"displacement\": 121.0,\\n'\n",
      " '        \"gears\": 4,\\n'\n",
      " '        \"model\": \"Volvo 142E\",\\n'\n",
      " '        \"qsec\": 18.6,\\n'\n",
      " '        \"rear_axle_ratio\": 4.11,\\n'\n",
      " '        \"transmission\": 1,\\n'\n",
      " '        \"vs\": 1,\\n'\n",
      " '        \"weight\": 2.78\\n'\n",
      " '      }\\n'\n",
      " '    ]\\n'\n",
      " '  },\\n'\n",
      " '  \"mark\": \"point\"\\n'\n",
      " '}')\n"
     ]
    }
   ],
   "source": [
    "#1.5  What does the Vega-lite JSON look like?\n",
    "\n",
    "pp.pprint(alt.Chart(mtcars).mark_point().to_json())\n",
    "\n"
   ]
  },
  {
   "cell_type": "markdown",
   "metadata": {
    "colab_type": "text",
    "id": "13jAGsBvu0am",
    "slideshow": {
     "slide_type": "subslide"
    }
   },
   "source": [
    "Ok, let's go with something a bit more interesting. We'll build a scatterplot comparing miles per gallon to car weight but let's just start with one variable, MPG, that we'll put on the x-axis.  Abstractly:\n",
    "\n",
    "* <font color=\"#AC491A\">Mark:    Point</font>\n",
    "* <font color='#55AAE7'>Data:</font>\n",
    "    * <font color='#55AAE7'>MPG:\t\tquantitative</font>\n",
    "* <font color=\"#7F7C1C\">Encoding:</font>\n",
    "    * <font color=\"#7F7C1C\">MPG:\t\tx position</font>\n"
   ]
  },
  {
   "cell_type": "markdown",
   "metadata": {
    "slideshow": {
     "slide_type": "subslide"
    }
   },
   "source": [
    "Or in English: \"Draw a 1-D scatterplot with a point for every car where the miles per gallon of the car determine the placement of the point.\"\n",
    "\n",
    "Or in code..."
   ]
  },
  {
   "cell_type": "code",
   "execution_count": 7,
   "metadata": {
    "colab": {
     "base_uri": "https://localhost:8080/",
     "height": 83
    },
    "colab_type": "code",
    "id": "tY1U_snzu0an",
    "outputId": "4269f8a3-354d-4545-a02d-b9913487101c",
    "slideshow": {
     "slide_type": "-"
    }
   },
   "outputs": [
    {
     "data": {
      "text/html": [
       "\n",
       "<div id=\"altair-viz-c9e636b5eec8480288a662fad3cf2062\"></div>\n",
       "<script type=\"text/javascript\">\n",
       "  var VEGA_DEBUG = (typeof VEGA_DEBUG == \"undefined\") ? {} : VEGA_DEBUG;\n",
       "  (function(spec, embedOpt){\n",
       "    let outputDiv = document.currentScript.previousElementSibling;\n",
       "    if (outputDiv.id !== \"altair-viz-c9e636b5eec8480288a662fad3cf2062\") {\n",
       "      outputDiv = document.getElementById(\"altair-viz-c9e636b5eec8480288a662fad3cf2062\");\n",
       "    }\n",
       "    const paths = {\n",
       "      \"vega\": \"https://cdn.jsdelivr.net/npm//vega@5?noext\",\n",
       "      \"vega-lib\": \"https://cdn.jsdelivr.net/npm//vega-lib?noext\",\n",
       "      \"vega-lite\": \"https://cdn.jsdelivr.net/npm//vega-lite@4.17.0?noext\",\n",
       "      \"vega-embed\": \"https://cdn.jsdelivr.net/npm//vega-embed@6?noext\",\n",
       "    };\n",
       "\n",
       "    function maybeLoadScript(lib, version) {\n",
       "      var key = `${lib.replace(\"-\", \"\")}_version`;\n",
       "      return (VEGA_DEBUG[key] == version) ?\n",
       "        Promise.resolve(paths[lib]) :\n",
       "        new Promise(function(resolve, reject) {\n",
       "          var s = document.createElement('script');\n",
       "          document.getElementsByTagName(\"head\")[0].appendChild(s);\n",
       "          s.async = true;\n",
       "          s.onload = () => {\n",
       "            VEGA_DEBUG[key] = version;\n",
       "            return resolve(paths[lib]);\n",
       "          };\n",
       "          s.onerror = () => reject(`Error loading script: ${paths[lib]}`);\n",
       "          s.src = paths[lib];\n",
       "        });\n",
       "    }\n",
       "\n",
       "    function showError(err) {\n",
       "      outputDiv.innerHTML = `<div class=\"error\" style=\"color:red;\">${err}</div>`;\n",
       "      throw err;\n",
       "    }\n",
       "\n",
       "    function displayChart(vegaEmbed) {\n",
       "      vegaEmbed(outputDiv, spec, embedOpt)\n",
       "        .catch(err => showError(`Javascript Error: ${err.message}<br>This usually means there's a typo in your chart specification. See the javascript console for the full traceback.`));\n",
       "    }\n",
       "\n",
       "    if(typeof define === \"function\" && define.amd) {\n",
       "      requirejs.config({paths});\n",
       "      require([\"vega-embed\"], displayChart, err => showError(`Error loading script: ${err.message}`));\n",
       "    } else {\n",
       "      maybeLoadScript(\"vega\", \"5\")\n",
       "        .then(() => maybeLoadScript(\"vega-lite\", \"4.17.0\"))\n",
       "        .then(() => maybeLoadScript(\"vega-embed\", \"6\"))\n",
       "        .catch(showError)\n",
       "        .then(() => displayChart(vegaEmbed));\n",
       "    }\n",
       "  })({\"config\": {\"view\": {\"continuousWidth\": 400, \"continuousHeight\": 300}}, \"data\": {\"name\": \"data-9409cf149fcd97d1b95049972fed8558\"}, \"mark\": \"point\", \"encoding\": {\"x\": {\"field\": \"MPG\", \"type\": \"quantitative\"}}, \"$schema\": \"https://vega.github.io/schema/vega-lite/v4.17.0.json\", \"datasets\": {\"data-9409cf149fcd97d1b95049972fed8558\": [{\"model\": \"Mazda RX4\", \"MPG\": 21.0, \"cylinders\": 6, \"displacement\": 160.0, \"HP\": 110, \"rear_axle_ratio\": 3.9, \"weight\": 2.62, \"qsec\": 16.46, \"vs\": 0, \"transmission\": 1, \"gears\": 4, \"carb\": 4}, {\"model\": \"Mazda RX4 Wag\", \"MPG\": 21.0, \"cylinders\": 6, \"displacement\": 160.0, \"HP\": 110, \"rear_axle_ratio\": 3.9, \"weight\": 2.875, \"qsec\": 17.02, \"vs\": 0, \"transmission\": 1, \"gears\": 4, \"carb\": 4}, {\"model\": \"Datsun 710\", \"MPG\": 22.8, \"cylinders\": 4, \"displacement\": 108.0, \"HP\": 93, \"rear_axle_ratio\": 3.85, \"weight\": 2.32, \"qsec\": 18.61, \"vs\": 1, \"transmission\": 1, \"gears\": 4, \"carb\": 1}, {\"model\": \"Hornet 4 Drive\", \"MPG\": 21.4, \"cylinders\": 6, \"displacement\": 258.0, \"HP\": 110, \"rear_axle_ratio\": 3.08, \"weight\": 3.215, \"qsec\": 19.44, \"vs\": 1, \"transmission\": 0, \"gears\": 3, \"carb\": 1}, {\"model\": \"Hornet Sportabout\", \"MPG\": 18.7, \"cylinders\": 8, \"displacement\": 360.0, \"HP\": 175, \"rear_axle_ratio\": 3.15, \"weight\": 3.44, \"qsec\": 17.02, \"vs\": 0, \"transmission\": 0, \"gears\": 3, \"carb\": 2}, {\"model\": \"Valiant\", \"MPG\": 18.1, \"cylinders\": 6, \"displacement\": 225.0, \"HP\": 105, \"rear_axle_ratio\": 2.76, \"weight\": 3.46, \"qsec\": 20.22, \"vs\": 1, \"transmission\": 0, \"gears\": 3, \"carb\": 1}, {\"model\": \"Duster 360\", \"MPG\": 14.3, \"cylinders\": 8, \"displacement\": 360.0, \"HP\": 245, \"rear_axle_ratio\": 3.21, \"weight\": 3.57, \"qsec\": 15.84, \"vs\": 0, \"transmission\": 0, \"gears\": 3, \"carb\": 4}, {\"model\": \"Merc 240D\", \"MPG\": 24.4, \"cylinders\": 4, \"displacement\": 146.7, \"HP\": 62, \"rear_axle_ratio\": 3.69, \"weight\": 3.19, \"qsec\": 20.0, \"vs\": 1, \"transmission\": 0, \"gears\": 4, \"carb\": 2}, {\"model\": \"Merc 230\", \"MPG\": 22.8, \"cylinders\": 4, \"displacement\": 140.8, \"HP\": 95, \"rear_axle_ratio\": 3.92, \"weight\": 3.15, \"qsec\": 22.9, \"vs\": 1, \"transmission\": 0, \"gears\": 4, \"carb\": 2}, {\"model\": \"Merc 280\", \"MPG\": 19.2, \"cylinders\": 6, \"displacement\": 167.6, \"HP\": 123, \"rear_axle_ratio\": 3.92, \"weight\": 3.44, \"qsec\": 18.3, \"vs\": 1, \"transmission\": 0, \"gears\": 4, \"carb\": 4}, {\"model\": \"Merc 280C\", \"MPG\": 17.8, \"cylinders\": 6, \"displacement\": 167.6, \"HP\": 123, \"rear_axle_ratio\": 3.92, \"weight\": 3.44, \"qsec\": 18.9, \"vs\": 1, \"transmission\": 0, \"gears\": 4, \"carb\": 4}, {\"model\": \"Merc 450SE\", \"MPG\": 16.4, \"cylinders\": 8, \"displacement\": 275.8, \"HP\": 180, \"rear_axle_ratio\": 3.07, \"weight\": 4.07, \"qsec\": 17.4, \"vs\": 0, \"transmission\": 0, \"gears\": 3, \"carb\": 3}, {\"model\": \"Merc 450SL\", \"MPG\": 17.3, \"cylinders\": 8, \"displacement\": 275.8, \"HP\": 180, \"rear_axle_ratio\": 3.07, \"weight\": 3.73, \"qsec\": 17.6, \"vs\": 0, \"transmission\": 0, \"gears\": 3, \"carb\": 3}, {\"model\": \"Merc 450SLC\", \"MPG\": 15.2, \"cylinders\": 8, \"displacement\": 275.8, \"HP\": 180, \"rear_axle_ratio\": 3.07, \"weight\": 3.78, \"qsec\": 18.0, \"vs\": 0, \"transmission\": 0, \"gears\": 3, \"carb\": 3}, {\"model\": \"Cadillac Fleetwood\", \"MPG\": 10.4, \"cylinders\": 8, \"displacement\": 472.0, \"HP\": 205, \"rear_axle_ratio\": 2.93, \"weight\": 5.25, \"qsec\": 17.98, \"vs\": 0, \"transmission\": 0, \"gears\": 3, \"carb\": 4}, {\"model\": \"Lincoln Continental\", \"MPG\": 10.4, \"cylinders\": 8, \"displacement\": 460.0, \"HP\": 215, \"rear_axle_ratio\": 3.0, \"weight\": 5.424, \"qsec\": 17.82, \"vs\": 0, \"transmission\": 0, \"gears\": 3, \"carb\": 4}, {\"model\": \"Chrysler Imperial\", \"MPG\": 14.7, \"cylinders\": 8, \"displacement\": 440.0, \"HP\": 230, \"rear_axle_ratio\": 3.23, \"weight\": 5.345, \"qsec\": 17.42, \"vs\": 0, \"transmission\": 0, \"gears\": 3, \"carb\": 4}, {\"model\": \"Fiat 128\", \"MPG\": 32.4, \"cylinders\": 4, \"displacement\": 78.7, \"HP\": 66, \"rear_axle_ratio\": 4.08, \"weight\": 2.2, \"qsec\": 19.47, \"vs\": 1, \"transmission\": 1, \"gears\": 4, \"carb\": 1}, {\"model\": \"Honda Civic\", \"MPG\": 30.4, \"cylinders\": 4, \"displacement\": 75.7, \"HP\": 52, \"rear_axle_ratio\": 4.93, \"weight\": 1.615, \"qsec\": 18.52, \"vs\": 1, \"transmission\": 1, \"gears\": 4, \"carb\": 2}, {\"model\": \"Toyota Corolla\", \"MPG\": 33.9, \"cylinders\": 4, \"displacement\": 71.1, \"HP\": 65, \"rear_axle_ratio\": 4.22, \"weight\": 1.835, \"qsec\": 19.9, \"vs\": 1, \"transmission\": 1, \"gears\": 4, \"carb\": 1}, {\"model\": \"Toyota Corona\", \"MPG\": 21.5, \"cylinders\": 4, \"displacement\": 120.1, \"HP\": 97, \"rear_axle_ratio\": 3.7, \"weight\": 2.465, \"qsec\": 20.01, \"vs\": 1, \"transmission\": 0, \"gears\": 3, \"carb\": 1}, {\"model\": \"Dodge Challenger\", \"MPG\": 15.5, \"cylinders\": 8, \"displacement\": 318.0, \"HP\": 150, \"rear_axle_ratio\": 2.76, \"weight\": 3.52, \"qsec\": 16.87, \"vs\": 0, \"transmission\": 0, \"gears\": 3, \"carb\": 2}, {\"model\": \"AMC Javelin\", \"MPG\": 15.2, \"cylinders\": 8, \"displacement\": 304.0, \"HP\": 150, \"rear_axle_ratio\": 3.15, \"weight\": 3.435, \"qsec\": 17.3, \"vs\": 0, \"transmission\": 0, \"gears\": 3, \"carb\": 2}, {\"model\": \"Camaro Z28\", \"MPG\": 13.3, \"cylinders\": 8, \"displacement\": 350.0, \"HP\": 245, \"rear_axle_ratio\": 3.73, \"weight\": 3.84, \"qsec\": 15.41, \"vs\": 0, \"transmission\": 0, \"gears\": 3, \"carb\": 4}, {\"model\": \"Pontiac Firebird\", \"MPG\": 19.2, \"cylinders\": 8, \"displacement\": 400.0, \"HP\": 175, \"rear_axle_ratio\": 3.08, \"weight\": 3.845, \"qsec\": 17.05, \"vs\": 0, \"transmission\": 0, \"gears\": 3, \"carb\": 2}, {\"model\": \"Fiat X1-9\", \"MPG\": 27.3, \"cylinders\": 4, \"displacement\": 79.0, \"HP\": 66, \"rear_axle_ratio\": 4.08, \"weight\": 1.935, \"qsec\": 18.9, \"vs\": 1, \"transmission\": 1, \"gears\": 4, \"carb\": 1}, {\"model\": \"Porsche 914-2\", \"MPG\": 26.0, \"cylinders\": 4, \"displacement\": 120.3, \"HP\": 91, \"rear_axle_ratio\": 4.43, \"weight\": 2.14, \"qsec\": 16.7, \"vs\": 0, \"transmission\": 1, \"gears\": 5, \"carb\": 2}, {\"model\": \"Lotus Europa\", \"MPG\": 30.4, \"cylinders\": 4, \"displacement\": 95.1, \"HP\": 113, \"rear_axle_ratio\": 3.77, \"weight\": 1.513, \"qsec\": 16.9, \"vs\": 1, \"transmission\": 1, \"gears\": 5, \"carb\": 2}, {\"model\": \"Ford Pantera L\", \"MPG\": 15.8, \"cylinders\": 8, \"displacement\": 351.0, \"HP\": 264, \"rear_axle_ratio\": 4.22, \"weight\": 3.17, \"qsec\": 14.5, \"vs\": 0, \"transmission\": 1, \"gears\": 5, \"carb\": 4}, {\"model\": \"Ferrari Dino\", \"MPG\": 19.7, \"cylinders\": 6, \"displacement\": 145.0, \"HP\": 175, \"rear_axle_ratio\": 3.62, \"weight\": 2.77, \"qsec\": 15.5, \"vs\": 0, \"transmission\": 1, \"gears\": 5, \"carb\": 6}, {\"model\": \"Maserati Bora\", \"MPG\": 15.0, \"cylinders\": 8, \"displacement\": 301.0, \"HP\": 335, \"rear_axle_ratio\": 3.54, \"weight\": 3.57, \"qsec\": 14.6, \"vs\": 0, \"transmission\": 1, \"gears\": 5, \"carb\": 8}, {\"model\": \"Volvo 142E\", \"MPG\": 21.4, \"cylinders\": 4, \"displacement\": 121.0, \"HP\": 109, \"rear_axle_ratio\": 4.11, \"weight\": 2.78, \"qsec\": 18.6, \"vs\": 1, \"transmission\": 1, \"gears\": 4, \"carb\": 2}]}}, {\"mode\": \"vega-lite\"});\n",
       "</script>"
      ],
      "text/plain": [
       "alt.Chart(...)"
      ]
     },
     "execution_count": 7,
     "metadata": {},
     "output_type": "execute_result"
    }
   ],
   "source": [
    "#1.6  Show MPG on the x-axis\n",
    "\n",
    "alt.Chart(mtcars).mark_point().encode(\n",
    "    alt.X('MPG',type='quantitative')\n",
    ")"
   ]
  },
  {
   "cell_type": "markdown",
   "metadata": {
    "colab_type": "text",
    "id": "mL5YU02vu0ar",
    "slideshow": {
     "slide_type": "skip"
    }
   },
   "source": [
    "To break this apart: We grabbed the Altair library (`alt`) and told it to create a chart using the mtcars data frame (`.Chart(mtcars)`). We then said, for this chart use points as the mark style (`.mark_point`). We want to encode the points using the X location (`.encode(alt.X(`) as determined by the miles per gallon (`'MPG'`) variable which is a quantitative variable (`,type='quantitative'))`).\n",
    "\n",
    "A side note: strictly speaking, we could have used `mark_circle` instead of `mark_point` if all we ever wanted were circle shapes. We're going to switch the shape later so we'll just keep using `mark_point`.\n",
    "\n",
    "Notice that we get a nice visualization with an axis and axis label and we didn't need to do much work to get it. In fact, we could even do less work, there's a shortcut to specify the variable type (the `:Q` at the end of the variable name):"
   ]
  },
  {
   "cell_type": "code",
   "execution_count": 8,
   "metadata": {
    "colab": {
     "base_uri": "https://localhost:8080/",
     "height": 83
    },
    "colab_type": "code",
    "id": "e8D8Ky-Au0as",
    "outputId": "05c9e300-2e3f-41cf-bec9-8478ce8f4902",
    "slideshow": {
     "slide_type": "subslide"
    }
   },
   "outputs": [
    {
     "data": {
      "text/html": [
       "\n",
       "<div id=\"altair-viz-882b5c2fe2134b65b1017e2641d52817\"></div>\n",
       "<script type=\"text/javascript\">\n",
       "  var VEGA_DEBUG = (typeof VEGA_DEBUG == \"undefined\") ? {} : VEGA_DEBUG;\n",
       "  (function(spec, embedOpt){\n",
       "    let outputDiv = document.currentScript.previousElementSibling;\n",
       "    if (outputDiv.id !== \"altair-viz-882b5c2fe2134b65b1017e2641d52817\") {\n",
       "      outputDiv = document.getElementById(\"altair-viz-882b5c2fe2134b65b1017e2641d52817\");\n",
       "    }\n",
       "    const paths = {\n",
       "      \"vega\": \"https://cdn.jsdelivr.net/npm//vega@5?noext\",\n",
       "      \"vega-lib\": \"https://cdn.jsdelivr.net/npm//vega-lib?noext\",\n",
       "      \"vega-lite\": \"https://cdn.jsdelivr.net/npm//vega-lite@4.17.0?noext\",\n",
       "      \"vega-embed\": \"https://cdn.jsdelivr.net/npm//vega-embed@6?noext\",\n",
       "    };\n",
       "\n",
       "    function maybeLoadScript(lib, version) {\n",
       "      var key = `${lib.replace(\"-\", \"\")}_version`;\n",
       "      return (VEGA_DEBUG[key] == version) ?\n",
       "        Promise.resolve(paths[lib]) :\n",
       "        new Promise(function(resolve, reject) {\n",
       "          var s = document.createElement('script');\n",
       "          document.getElementsByTagName(\"head\")[0].appendChild(s);\n",
       "          s.async = true;\n",
       "          s.onload = () => {\n",
       "            VEGA_DEBUG[key] = version;\n",
       "            return resolve(paths[lib]);\n",
       "          };\n",
       "          s.onerror = () => reject(`Error loading script: ${paths[lib]}`);\n",
       "          s.src = paths[lib];\n",
       "        });\n",
       "    }\n",
       "\n",
       "    function showError(err) {\n",
       "      outputDiv.innerHTML = `<div class=\"error\" style=\"color:red;\">${err}</div>`;\n",
       "      throw err;\n",
       "    }\n",
       "\n",
       "    function displayChart(vegaEmbed) {\n",
       "      vegaEmbed(outputDiv, spec, embedOpt)\n",
       "        .catch(err => showError(`Javascript Error: ${err.message}<br>This usually means there's a typo in your chart specification. See the javascript console for the full traceback.`));\n",
       "    }\n",
       "\n",
       "    if(typeof define === \"function\" && define.amd) {\n",
       "      requirejs.config({paths});\n",
       "      require([\"vega-embed\"], displayChart, err => showError(`Error loading script: ${err.message}`));\n",
       "    } else {\n",
       "      maybeLoadScript(\"vega\", \"5\")\n",
       "        .then(() => maybeLoadScript(\"vega-lite\", \"4.17.0\"))\n",
       "        .then(() => maybeLoadScript(\"vega-embed\", \"6\"))\n",
       "        .catch(showError)\n",
       "        .then(() => displayChart(vegaEmbed));\n",
       "    }\n",
       "  })({\"config\": {\"view\": {\"continuousWidth\": 400, \"continuousHeight\": 300}}, \"data\": {\"name\": \"data-9409cf149fcd97d1b95049972fed8558\"}, \"mark\": \"point\", \"encoding\": {\"x\": {\"field\": \"MPG\", \"type\": \"quantitative\"}}, \"$schema\": \"https://vega.github.io/schema/vega-lite/v4.17.0.json\", \"datasets\": {\"data-9409cf149fcd97d1b95049972fed8558\": [{\"model\": \"Mazda RX4\", \"MPG\": 21.0, \"cylinders\": 6, \"displacement\": 160.0, \"HP\": 110, \"rear_axle_ratio\": 3.9, \"weight\": 2.62, \"qsec\": 16.46, \"vs\": 0, \"transmission\": 1, \"gears\": 4, \"carb\": 4}, {\"model\": \"Mazda RX4 Wag\", \"MPG\": 21.0, \"cylinders\": 6, \"displacement\": 160.0, \"HP\": 110, \"rear_axle_ratio\": 3.9, \"weight\": 2.875, \"qsec\": 17.02, \"vs\": 0, \"transmission\": 1, \"gears\": 4, \"carb\": 4}, {\"model\": \"Datsun 710\", \"MPG\": 22.8, \"cylinders\": 4, \"displacement\": 108.0, \"HP\": 93, \"rear_axle_ratio\": 3.85, \"weight\": 2.32, \"qsec\": 18.61, \"vs\": 1, \"transmission\": 1, \"gears\": 4, \"carb\": 1}, {\"model\": \"Hornet 4 Drive\", \"MPG\": 21.4, \"cylinders\": 6, \"displacement\": 258.0, \"HP\": 110, \"rear_axle_ratio\": 3.08, \"weight\": 3.215, \"qsec\": 19.44, \"vs\": 1, \"transmission\": 0, \"gears\": 3, \"carb\": 1}, {\"model\": \"Hornet Sportabout\", \"MPG\": 18.7, \"cylinders\": 8, \"displacement\": 360.0, \"HP\": 175, \"rear_axle_ratio\": 3.15, \"weight\": 3.44, \"qsec\": 17.02, \"vs\": 0, \"transmission\": 0, \"gears\": 3, \"carb\": 2}, {\"model\": \"Valiant\", \"MPG\": 18.1, \"cylinders\": 6, \"displacement\": 225.0, \"HP\": 105, \"rear_axle_ratio\": 2.76, \"weight\": 3.46, \"qsec\": 20.22, \"vs\": 1, \"transmission\": 0, \"gears\": 3, \"carb\": 1}, {\"model\": \"Duster 360\", \"MPG\": 14.3, \"cylinders\": 8, \"displacement\": 360.0, \"HP\": 245, \"rear_axle_ratio\": 3.21, \"weight\": 3.57, \"qsec\": 15.84, \"vs\": 0, \"transmission\": 0, \"gears\": 3, \"carb\": 4}, {\"model\": \"Merc 240D\", \"MPG\": 24.4, \"cylinders\": 4, \"displacement\": 146.7, \"HP\": 62, \"rear_axle_ratio\": 3.69, \"weight\": 3.19, \"qsec\": 20.0, \"vs\": 1, \"transmission\": 0, \"gears\": 4, \"carb\": 2}, {\"model\": \"Merc 230\", \"MPG\": 22.8, \"cylinders\": 4, \"displacement\": 140.8, \"HP\": 95, \"rear_axle_ratio\": 3.92, \"weight\": 3.15, \"qsec\": 22.9, \"vs\": 1, \"transmission\": 0, \"gears\": 4, \"carb\": 2}, {\"model\": \"Merc 280\", \"MPG\": 19.2, \"cylinders\": 6, \"displacement\": 167.6, \"HP\": 123, \"rear_axle_ratio\": 3.92, \"weight\": 3.44, \"qsec\": 18.3, \"vs\": 1, \"transmission\": 0, \"gears\": 4, \"carb\": 4}, {\"model\": \"Merc 280C\", \"MPG\": 17.8, \"cylinders\": 6, \"displacement\": 167.6, \"HP\": 123, \"rear_axle_ratio\": 3.92, \"weight\": 3.44, \"qsec\": 18.9, \"vs\": 1, \"transmission\": 0, \"gears\": 4, \"carb\": 4}, {\"model\": \"Merc 450SE\", \"MPG\": 16.4, \"cylinders\": 8, \"displacement\": 275.8, \"HP\": 180, \"rear_axle_ratio\": 3.07, \"weight\": 4.07, \"qsec\": 17.4, \"vs\": 0, \"transmission\": 0, \"gears\": 3, \"carb\": 3}, {\"model\": \"Merc 450SL\", \"MPG\": 17.3, \"cylinders\": 8, \"displacement\": 275.8, \"HP\": 180, \"rear_axle_ratio\": 3.07, \"weight\": 3.73, \"qsec\": 17.6, \"vs\": 0, \"transmission\": 0, \"gears\": 3, \"carb\": 3}, {\"model\": \"Merc 450SLC\", \"MPG\": 15.2, \"cylinders\": 8, \"displacement\": 275.8, \"HP\": 180, \"rear_axle_ratio\": 3.07, \"weight\": 3.78, \"qsec\": 18.0, \"vs\": 0, \"transmission\": 0, \"gears\": 3, \"carb\": 3}, {\"model\": \"Cadillac Fleetwood\", \"MPG\": 10.4, \"cylinders\": 8, \"displacement\": 472.0, \"HP\": 205, \"rear_axle_ratio\": 2.93, \"weight\": 5.25, \"qsec\": 17.98, \"vs\": 0, \"transmission\": 0, \"gears\": 3, \"carb\": 4}, {\"model\": \"Lincoln Continental\", \"MPG\": 10.4, \"cylinders\": 8, \"displacement\": 460.0, \"HP\": 215, \"rear_axle_ratio\": 3.0, \"weight\": 5.424, \"qsec\": 17.82, \"vs\": 0, \"transmission\": 0, \"gears\": 3, \"carb\": 4}, {\"model\": \"Chrysler Imperial\", \"MPG\": 14.7, \"cylinders\": 8, \"displacement\": 440.0, \"HP\": 230, \"rear_axle_ratio\": 3.23, \"weight\": 5.345, \"qsec\": 17.42, \"vs\": 0, \"transmission\": 0, \"gears\": 3, \"carb\": 4}, {\"model\": \"Fiat 128\", \"MPG\": 32.4, \"cylinders\": 4, \"displacement\": 78.7, \"HP\": 66, \"rear_axle_ratio\": 4.08, \"weight\": 2.2, \"qsec\": 19.47, \"vs\": 1, \"transmission\": 1, \"gears\": 4, \"carb\": 1}, {\"model\": \"Honda Civic\", \"MPG\": 30.4, \"cylinders\": 4, \"displacement\": 75.7, \"HP\": 52, \"rear_axle_ratio\": 4.93, \"weight\": 1.615, \"qsec\": 18.52, \"vs\": 1, \"transmission\": 1, \"gears\": 4, \"carb\": 2}, {\"model\": \"Toyota Corolla\", \"MPG\": 33.9, \"cylinders\": 4, \"displacement\": 71.1, \"HP\": 65, \"rear_axle_ratio\": 4.22, \"weight\": 1.835, \"qsec\": 19.9, \"vs\": 1, \"transmission\": 1, \"gears\": 4, \"carb\": 1}, {\"model\": \"Toyota Corona\", \"MPG\": 21.5, \"cylinders\": 4, \"displacement\": 120.1, \"HP\": 97, \"rear_axle_ratio\": 3.7, \"weight\": 2.465, \"qsec\": 20.01, \"vs\": 1, \"transmission\": 0, \"gears\": 3, \"carb\": 1}, {\"model\": \"Dodge Challenger\", \"MPG\": 15.5, \"cylinders\": 8, \"displacement\": 318.0, \"HP\": 150, \"rear_axle_ratio\": 2.76, \"weight\": 3.52, \"qsec\": 16.87, \"vs\": 0, \"transmission\": 0, \"gears\": 3, \"carb\": 2}, {\"model\": \"AMC Javelin\", \"MPG\": 15.2, \"cylinders\": 8, \"displacement\": 304.0, \"HP\": 150, \"rear_axle_ratio\": 3.15, \"weight\": 3.435, \"qsec\": 17.3, \"vs\": 0, \"transmission\": 0, \"gears\": 3, \"carb\": 2}, {\"model\": \"Camaro Z28\", \"MPG\": 13.3, \"cylinders\": 8, \"displacement\": 350.0, \"HP\": 245, \"rear_axle_ratio\": 3.73, \"weight\": 3.84, \"qsec\": 15.41, \"vs\": 0, \"transmission\": 0, \"gears\": 3, \"carb\": 4}, {\"model\": \"Pontiac Firebird\", \"MPG\": 19.2, \"cylinders\": 8, \"displacement\": 400.0, \"HP\": 175, \"rear_axle_ratio\": 3.08, \"weight\": 3.845, \"qsec\": 17.05, \"vs\": 0, \"transmission\": 0, \"gears\": 3, \"carb\": 2}, {\"model\": \"Fiat X1-9\", \"MPG\": 27.3, \"cylinders\": 4, \"displacement\": 79.0, \"HP\": 66, \"rear_axle_ratio\": 4.08, \"weight\": 1.935, \"qsec\": 18.9, \"vs\": 1, \"transmission\": 1, \"gears\": 4, \"carb\": 1}, {\"model\": \"Porsche 914-2\", \"MPG\": 26.0, \"cylinders\": 4, \"displacement\": 120.3, \"HP\": 91, \"rear_axle_ratio\": 4.43, \"weight\": 2.14, \"qsec\": 16.7, \"vs\": 0, \"transmission\": 1, \"gears\": 5, \"carb\": 2}, {\"model\": \"Lotus Europa\", \"MPG\": 30.4, \"cylinders\": 4, \"displacement\": 95.1, \"HP\": 113, \"rear_axle_ratio\": 3.77, \"weight\": 1.513, \"qsec\": 16.9, \"vs\": 1, \"transmission\": 1, \"gears\": 5, \"carb\": 2}, {\"model\": \"Ford Pantera L\", \"MPG\": 15.8, \"cylinders\": 8, \"displacement\": 351.0, \"HP\": 264, \"rear_axle_ratio\": 4.22, \"weight\": 3.17, \"qsec\": 14.5, \"vs\": 0, \"transmission\": 1, \"gears\": 5, \"carb\": 4}, {\"model\": \"Ferrari Dino\", \"MPG\": 19.7, \"cylinders\": 6, \"displacement\": 145.0, \"HP\": 175, \"rear_axle_ratio\": 3.62, \"weight\": 2.77, \"qsec\": 15.5, \"vs\": 0, \"transmission\": 1, \"gears\": 5, \"carb\": 6}, {\"model\": \"Maserati Bora\", \"MPG\": 15.0, \"cylinders\": 8, \"displacement\": 301.0, \"HP\": 335, \"rear_axle_ratio\": 3.54, \"weight\": 3.57, \"qsec\": 14.6, \"vs\": 0, \"transmission\": 1, \"gears\": 5, \"carb\": 8}, {\"model\": \"Volvo 142E\", \"MPG\": 21.4, \"cylinders\": 4, \"displacement\": 121.0, \"HP\": 109, \"rear_axle_ratio\": 4.11, \"weight\": 2.78, \"qsec\": 18.6, \"vs\": 1, \"transmission\": 1, \"gears\": 4, \"carb\": 2}]}}, {\"mode\": \"vega-lite\"});\n",
       "</script>"
      ],
      "text/plain": [
       "alt.Chart(...)"
      ]
     },
     "execution_count": 8,
     "metadata": {},
     "output_type": "execute_result"
    }
   ],
   "source": [
    "#1.7  We can also use a shortcut to indicate the variable type\n",
    "\n",
    "alt.Chart(mtcars).mark_point().encode(\n",
    "    alt.X('MPG:Q')\n",
    ")"
   ]
  },
  {
   "cell_type": "markdown",
   "metadata": {
    "slideshow": {
     "slide_type": "skip"
    }
   },
   "source": [
    "You might run into a few alternative versions of encoding. The ```alt.X(...)``` variant will come in handy later when we need to set additional parameters (e.g. bins, axis properties). But the others are great shorthand if you're happy with defaults. "
   ]
  },
  {
   "cell_type": "markdown",
   "metadata": {
    "colab_type": "text",
    "id": "Qcfl2Rzsu0av",
    "slideshow": {
     "slide_type": "subslide"
    }
   },
   "source": [
    "```Python\n",
    "alt.Chart(mtcars).mark_point().encode(\n",
    "    alt.X('MPG')\n",
    ")```\n",
    "\n",
    "```Python\n",
    "alt.Chart(mtcars).mark_point().encode(\n",
    "    x='MPG'\n",
    ")```\n",
    "\n",
    "```Python\n",
    "alt.Chart(mtcars).mark_point().encode(\n",
    "    x='MPG:Q'\n",
    ")```"
   ]
  },
  {
   "cell_type": "markdown",
   "metadata": {
    "slideshow": {
     "slide_type": "skip"
    }
   },
   "source": [
    "All these versions will produce the same visualization. The longest form has extra arguments that we will later use to have finer control of the look and feel or the transformations on the data. But you may see all these variants out in the wild.\n",
    "\n",
    "Last step: let's make this a true scatter plot with 2 dimensions. We will use the weight for the Y-axis."
   ]
  },
  {
   "cell_type": "code",
   "execution_count": 9,
   "metadata": {
    "colab": {
     "base_uri": "https://localhost:8080/",
     "height": 368
    },
    "colab_type": "code",
    "id": "AnJ0-S_Hu0ax",
    "outputId": "a5dc192d-390f-4a85-f0d7-f3727c0dce87",
    "slideshow": {
     "slide_type": "subslide"
    }
   },
   "outputs": [
    {
     "data": {
      "text/html": [
       "\n",
       "<div id=\"altair-viz-bba8022311fd4c11bf3f3a09a0dad14e\"></div>\n",
       "<script type=\"text/javascript\">\n",
       "  var VEGA_DEBUG = (typeof VEGA_DEBUG == \"undefined\") ? {} : VEGA_DEBUG;\n",
       "  (function(spec, embedOpt){\n",
       "    let outputDiv = document.currentScript.previousElementSibling;\n",
       "    if (outputDiv.id !== \"altair-viz-bba8022311fd4c11bf3f3a09a0dad14e\") {\n",
       "      outputDiv = document.getElementById(\"altair-viz-bba8022311fd4c11bf3f3a09a0dad14e\");\n",
       "    }\n",
       "    const paths = {\n",
       "      \"vega\": \"https://cdn.jsdelivr.net/npm//vega@5?noext\",\n",
       "      \"vega-lib\": \"https://cdn.jsdelivr.net/npm//vega-lib?noext\",\n",
       "      \"vega-lite\": \"https://cdn.jsdelivr.net/npm//vega-lite@4.17.0?noext\",\n",
       "      \"vega-embed\": \"https://cdn.jsdelivr.net/npm//vega-embed@6?noext\",\n",
       "    };\n",
       "\n",
       "    function maybeLoadScript(lib, version) {\n",
       "      var key = `${lib.replace(\"-\", \"\")}_version`;\n",
       "      return (VEGA_DEBUG[key] == version) ?\n",
       "        Promise.resolve(paths[lib]) :\n",
       "        new Promise(function(resolve, reject) {\n",
       "          var s = document.createElement('script');\n",
       "          document.getElementsByTagName(\"head\")[0].appendChild(s);\n",
       "          s.async = true;\n",
       "          s.onload = () => {\n",
       "            VEGA_DEBUG[key] = version;\n",
       "            return resolve(paths[lib]);\n",
       "          };\n",
       "          s.onerror = () => reject(`Error loading script: ${paths[lib]}`);\n",
       "          s.src = paths[lib];\n",
       "        });\n",
       "    }\n",
       "\n",
       "    function showError(err) {\n",
       "      outputDiv.innerHTML = `<div class=\"error\" style=\"color:red;\">${err}</div>`;\n",
       "      throw err;\n",
       "    }\n",
       "\n",
       "    function displayChart(vegaEmbed) {\n",
       "      vegaEmbed(outputDiv, spec, embedOpt)\n",
       "        .catch(err => showError(`Javascript Error: ${err.message}<br>This usually means there's a typo in your chart specification. See the javascript console for the full traceback.`));\n",
       "    }\n",
       "\n",
       "    if(typeof define === \"function\" && define.amd) {\n",
       "      requirejs.config({paths});\n",
       "      require([\"vega-embed\"], displayChart, err => showError(`Error loading script: ${err.message}`));\n",
       "    } else {\n",
       "      maybeLoadScript(\"vega\", \"5\")\n",
       "        .then(() => maybeLoadScript(\"vega-lite\", \"4.17.0\"))\n",
       "        .then(() => maybeLoadScript(\"vega-embed\", \"6\"))\n",
       "        .catch(showError)\n",
       "        .then(() => displayChart(vegaEmbed));\n",
       "    }\n",
       "  })({\"config\": {\"view\": {\"continuousWidth\": 400, \"continuousHeight\": 300}}, \"data\": {\"name\": \"data-9409cf149fcd97d1b95049972fed8558\"}, \"mark\": \"point\", \"encoding\": {\"x\": {\"field\": \"MPG\", \"type\": \"quantitative\"}, \"y\": {\"field\": \"weight\", \"type\": \"quantitative\"}}, \"$schema\": \"https://vega.github.io/schema/vega-lite/v4.17.0.json\", \"datasets\": {\"data-9409cf149fcd97d1b95049972fed8558\": [{\"model\": \"Mazda RX4\", \"MPG\": 21.0, \"cylinders\": 6, \"displacement\": 160.0, \"HP\": 110, \"rear_axle_ratio\": 3.9, \"weight\": 2.62, \"qsec\": 16.46, \"vs\": 0, \"transmission\": 1, \"gears\": 4, \"carb\": 4}, {\"model\": \"Mazda RX4 Wag\", \"MPG\": 21.0, \"cylinders\": 6, \"displacement\": 160.0, \"HP\": 110, \"rear_axle_ratio\": 3.9, \"weight\": 2.875, \"qsec\": 17.02, \"vs\": 0, \"transmission\": 1, \"gears\": 4, \"carb\": 4}, {\"model\": \"Datsun 710\", \"MPG\": 22.8, \"cylinders\": 4, \"displacement\": 108.0, \"HP\": 93, \"rear_axle_ratio\": 3.85, \"weight\": 2.32, \"qsec\": 18.61, \"vs\": 1, \"transmission\": 1, \"gears\": 4, \"carb\": 1}, {\"model\": \"Hornet 4 Drive\", \"MPG\": 21.4, \"cylinders\": 6, \"displacement\": 258.0, \"HP\": 110, \"rear_axle_ratio\": 3.08, \"weight\": 3.215, \"qsec\": 19.44, \"vs\": 1, \"transmission\": 0, \"gears\": 3, \"carb\": 1}, {\"model\": \"Hornet Sportabout\", \"MPG\": 18.7, \"cylinders\": 8, \"displacement\": 360.0, \"HP\": 175, \"rear_axle_ratio\": 3.15, \"weight\": 3.44, \"qsec\": 17.02, \"vs\": 0, \"transmission\": 0, \"gears\": 3, \"carb\": 2}, {\"model\": \"Valiant\", \"MPG\": 18.1, \"cylinders\": 6, \"displacement\": 225.0, \"HP\": 105, \"rear_axle_ratio\": 2.76, \"weight\": 3.46, \"qsec\": 20.22, \"vs\": 1, \"transmission\": 0, \"gears\": 3, \"carb\": 1}, {\"model\": \"Duster 360\", \"MPG\": 14.3, \"cylinders\": 8, \"displacement\": 360.0, \"HP\": 245, \"rear_axle_ratio\": 3.21, \"weight\": 3.57, \"qsec\": 15.84, \"vs\": 0, \"transmission\": 0, \"gears\": 3, \"carb\": 4}, {\"model\": \"Merc 240D\", \"MPG\": 24.4, \"cylinders\": 4, \"displacement\": 146.7, \"HP\": 62, \"rear_axle_ratio\": 3.69, \"weight\": 3.19, \"qsec\": 20.0, \"vs\": 1, \"transmission\": 0, \"gears\": 4, \"carb\": 2}, {\"model\": \"Merc 230\", \"MPG\": 22.8, \"cylinders\": 4, \"displacement\": 140.8, \"HP\": 95, \"rear_axle_ratio\": 3.92, \"weight\": 3.15, \"qsec\": 22.9, \"vs\": 1, \"transmission\": 0, \"gears\": 4, \"carb\": 2}, {\"model\": \"Merc 280\", \"MPG\": 19.2, \"cylinders\": 6, \"displacement\": 167.6, \"HP\": 123, \"rear_axle_ratio\": 3.92, \"weight\": 3.44, \"qsec\": 18.3, \"vs\": 1, \"transmission\": 0, \"gears\": 4, \"carb\": 4}, {\"model\": \"Merc 280C\", \"MPG\": 17.8, \"cylinders\": 6, \"displacement\": 167.6, \"HP\": 123, \"rear_axle_ratio\": 3.92, \"weight\": 3.44, \"qsec\": 18.9, \"vs\": 1, \"transmission\": 0, \"gears\": 4, \"carb\": 4}, {\"model\": \"Merc 450SE\", \"MPG\": 16.4, \"cylinders\": 8, \"displacement\": 275.8, \"HP\": 180, \"rear_axle_ratio\": 3.07, \"weight\": 4.07, \"qsec\": 17.4, \"vs\": 0, \"transmission\": 0, \"gears\": 3, \"carb\": 3}, {\"model\": \"Merc 450SL\", \"MPG\": 17.3, \"cylinders\": 8, \"displacement\": 275.8, \"HP\": 180, \"rear_axle_ratio\": 3.07, \"weight\": 3.73, \"qsec\": 17.6, \"vs\": 0, \"transmission\": 0, \"gears\": 3, \"carb\": 3}, {\"model\": \"Merc 450SLC\", \"MPG\": 15.2, \"cylinders\": 8, \"displacement\": 275.8, \"HP\": 180, \"rear_axle_ratio\": 3.07, \"weight\": 3.78, \"qsec\": 18.0, \"vs\": 0, \"transmission\": 0, \"gears\": 3, \"carb\": 3}, {\"model\": \"Cadillac Fleetwood\", \"MPG\": 10.4, \"cylinders\": 8, \"displacement\": 472.0, \"HP\": 205, \"rear_axle_ratio\": 2.93, \"weight\": 5.25, \"qsec\": 17.98, \"vs\": 0, \"transmission\": 0, \"gears\": 3, \"carb\": 4}, {\"model\": \"Lincoln Continental\", \"MPG\": 10.4, \"cylinders\": 8, \"displacement\": 460.0, \"HP\": 215, \"rear_axle_ratio\": 3.0, \"weight\": 5.424, \"qsec\": 17.82, \"vs\": 0, \"transmission\": 0, \"gears\": 3, \"carb\": 4}, {\"model\": \"Chrysler Imperial\", \"MPG\": 14.7, \"cylinders\": 8, \"displacement\": 440.0, \"HP\": 230, \"rear_axle_ratio\": 3.23, \"weight\": 5.345, \"qsec\": 17.42, \"vs\": 0, \"transmission\": 0, \"gears\": 3, \"carb\": 4}, {\"model\": \"Fiat 128\", \"MPG\": 32.4, \"cylinders\": 4, \"displacement\": 78.7, \"HP\": 66, \"rear_axle_ratio\": 4.08, \"weight\": 2.2, \"qsec\": 19.47, \"vs\": 1, \"transmission\": 1, \"gears\": 4, \"carb\": 1}, {\"model\": \"Honda Civic\", \"MPG\": 30.4, \"cylinders\": 4, \"displacement\": 75.7, \"HP\": 52, \"rear_axle_ratio\": 4.93, \"weight\": 1.615, \"qsec\": 18.52, \"vs\": 1, \"transmission\": 1, \"gears\": 4, \"carb\": 2}, {\"model\": \"Toyota Corolla\", \"MPG\": 33.9, \"cylinders\": 4, \"displacement\": 71.1, \"HP\": 65, \"rear_axle_ratio\": 4.22, \"weight\": 1.835, \"qsec\": 19.9, \"vs\": 1, \"transmission\": 1, \"gears\": 4, \"carb\": 1}, {\"model\": \"Toyota Corona\", \"MPG\": 21.5, \"cylinders\": 4, \"displacement\": 120.1, \"HP\": 97, \"rear_axle_ratio\": 3.7, \"weight\": 2.465, \"qsec\": 20.01, \"vs\": 1, \"transmission\": 0, \"gears\": 3, \"carb\": 1}, {\"model\": \"Dodge Challenger\", \"MPG\": 15.5, \"cylinders\": 8, \"displacement\": 318.0, \"HP\": 150, \"rear_axle_ratio\": 2.76, \"weight\": 3.52, \"qsec\": 16.87, \"vs\": 0, \"transmission\": 0, \"gears\": 3, \"carb\": 2}, {\"model\": \"AMC Javelin\", \"MPG\": 15.2, \"cylinders\": 8, \"displacement\": 304.0, \"HP\": 150, \"rear_axle_ratio\": 3.15, \"weight\": 3.435, \"qsec\": 17.3, \"vs\": 0, \"transmission\": 0, \"gears\": 3, \"carb\": 2}, {\"model\": \"Camaro Z28\", \"MPG\": 13.3, \"cylinders\": 8, \"displacement\": 350.0, \"HP\": 245, \"rear_axle_ratio\": 3.73, \"weight\": 3.84, \"qsec\": 15.41, \"vs\": 0, \"transmission\": 0, \"gears\": 3, \"carb\": 4}, {\"model\": \"Pontiac Firebird\", \"MPG\": 19.2, \"cylinders\": 8, \"displacement\": 400.0, \"HP\": 175, \"rear_axle_ratio\": 3.08, \"weight\": 3.845, \"qsec\": 17.05, \"vs\": 0, \"transmission\": 0, \"gears\": 3, \"carb\": 2}, {\"model\": \"Fiat X1-9\", \"MPG\": 27.3, \"cylinders\": 4, \"displacement\": 79.0, \"HP\": 66, \"rear_axle_ratio\": 4.08, \"weight\": 1.935, \"qsec\": 18.9, \"vs\": 1, \"transmission\": 1, \"gears\": 4, \"carb\": 1}, {\"model\": \"Porsche 914-2\", \"MPG\": 26.0, \"cylinders\": 4, \"displacement\": 120.3, \"HP\": 91, \"rear_axle_ratio\": 4.43, \"weight\": 2.14, \"qsec\": 16.7, \"vs\": 0, \"transmission\": 1, \"gears\": 5, \"carb\": 2}, {\"model\": \"Lotus Europa\", \"MPG\": 30.4, \"cylinders\": 4, \"displacement\": 95.1, \"HP\": 113, \"rear_axle_ratio\": 3.77, \"weight\": 1.513, \"qsec\": 16.9, \"vs\": 1, \"transmission\": 1, \"gears\": 5, \"carb\": 2}, {\"model\": \"Ford Pantera L\", \"MPG\": 15.8, \"cylinders\": 8, \"displacement\": 351.0, \"HP\": 264, \"rear_axle_ratio\": 4.22, \"weight\": 3.17, \"qsec\": 14.5, \"vs\": 0, \"transmission\": 1, \"gears\": 5, \"carb\": 4}, {\"model\": \"Ferrari Dino\", \"MPG\": 19.7, \"cylinders\": 6, \"displacement\": 145.0, \"HP\": 175, \"rear_axle_ratio\": 3.62, \"weight\": 2.77, \"qsec\": 15.5, \"vs\": 0, \"transmission\": 1, \"gears\": 5, \"carb\": 6}, {\"model\": \"Maserati Bora\", \"MPG\": 15.0, \"cylinders\": 8, \"displacement\": 301.0, \"HP\": 335, \"rear_axle_ratio\": 3.54, \"weight\": 3.57, \"qsec\": 14.6, \"vs\": 0, \"transmission\": 1, \"gears\": 5, \"carb\": 8}, {\"model\": \"Volvo 142E\", \"MPG\": 21.4, \"cylinders\": 4, \"displacement\": 121.0, \"HP\": 109, \"rear_axle_ratio\": 4.11, \"weight\": 2.78, \"qsec\": 18.6, \"vs\": 1, \"transmission\": 1, \"gears\": 4, \"carb\": 2}]}}, {\"mode\": \"vega-lite\"});\n",
       "</script>"
      ],
      "text/plain": [
       "alt.Chart(...)"
      ]
     },
     "execution_count": 9,
     "metadata": {},
     "output_type": "execute_result"
    }
   ],
   "source": [
    "# 1.8  Visualize MPG and weight on a scatter plot\n",
    "\n",
    "alt.Chart(mtcars).mark_point().encode(\n",
    "    x='MPG',\n",
    "    y='weight'\n",
    ")\n",
    "\n",
    "# Debugging - If you get an error message and python doesn't give you enough information on what the error is,click on ...  and 'open in Vega editor' to see more information.\n"
   ]
  },
  {
   "cell_type": "markdown",
   "metadata": {
    "colab_type": "text",
    "id": "LTCbPM1-u0a1",
    "slideshow": {
     "slide_type": "slide"
    }
   },
   "source": [
    "## 2. Variants"
   ]
  },
  {
   "cell_type": "markdown",
   "metadata": {
    "slideshow": {
     "slide_type": "skip"
    }
   },
   "source": [
    "Let's try some basic variants on the plot. \n",
    "\n",
    "Maybe we want to compare different transmission types. For this, we can use the color encoding for the transmission data: "
   ]
  },
  {
   "cell_type": "code",
   "execution_count": 10,
   "metadata": {
    "colab": {
     "base_uri": "https://localhost:8080/",
     "height": 368
    },
    "colab_type": "code",
    "id": "XAOj5pBpu0a2",
    "outputId": "283ab589-f8c4-46b1-dc8f-744b170970be",
    "slideshow": {
     "slide_type": "subslide"
    }
   },
   "outputs": [
    {
     "data": {
      "text/html": [
       "\n",
       "<div id=\"altair-viz-603b84f6bb174dbaba6abd9e1af504b8\"></div>\n",
       "<script type=\"text/javascript\">\n",
       "  var VEGA_DEBUG = (typeof VEGA_DEBUG == \"undefined\") ? {} : VEGA_DEBUG;\n",
       "  (function(spec, embedOpt){\n",
       "    let outputDiv = document.currentScript.previousElementSibling;\n",
       "    if (outputDiv.id !== \"altair-viz-603b84f6bb174dbaba6abd9e1af504b8\") {\n",
       "      outputDiv = document.getElementById(\"altair-viz-603b84f6bb174dbaba6abd9e1af504b8\");\n",
       "    }\n",
       "    const paths = {\n",
       "      \"vega\": \"https://cdn.jsdelivr.net/npm//vega@5?noext\",\n",
       "      \"vega-lib\": \"https://cdn.jsdelivr.net/npm//vega-lib?noext\",\n",
       "      \"vega-lite\": \"https://cdn.jsdelivr.net/npm//vega-lite@4.17.0?noext\",\n",
       "      \"vega-embed\": \"https://cdn.jsdelivr.net/npm//vega-embed@6?noext\",\n",
       "    };\n",
       "\n",
       "    function maybeLoadScript(lib, version) {\n",
       "      var key = `${lib.replace(\"-\", \"\")}_version`;\n",
       "      return (VEGA_DEBUG[key] == version) ?\n",
       "        Promise.resolve(paths[lib]) :\n",
       "        new Promise(function(resolve, reject) {\n",
       "          var s = document.createElement('script');\n",
       "          document.getElementsByTagName(\"head\")[0].appendChild(s);\n",
       "          s.async = true;\n",
       "          s.onload = () => {\n",
       "            VEGA_DEBUG[key] = version;\n",
       "            return resolve(paths[lib]);\n",
       "          };\n",
       "          s.onerror = () => reject(`Error loading script: ${paths[lib]}`);\n",
       "          s.src = paths[lib];\n",
       "        });\n",
       "    }\n",
       "\n",
       "    function showError(err) {\n",
       "      outputDiv.innerHTML = `<div class=\"error\" style=\"color:red;\">${err}</div>`;\n",
       "      throw err;\n",
       "    }\n",
       "\n",
       "    function displayChart(vegaEmbed) {\n",
       "      vegaEmbed(outputDiv, spec, embedOpt)\n",
       "        .catch(err => showError(`Javascript Error: ${err.message}<br>This usually means there's a typo in your chart specification. See the javascript console for the full traceback.`));\n",
       "    }\n",
       "\n",
       "    if(typeof define === \"function\" && define.amd) {\n",
       "      requirejs.config({paths});\n",
       "      require([\"vega-embed\"], displayChart, err => showError(`Error loading script: ${err.message}`));\n",
       "    } else {\n",
       "      maybeLoadScript(\"vega\", \"5\")\n",
       "        .then(() => maybeLoadScript(\"vega-lite\", \"4.17.0\"))\n",
       "        .then(() => maybeLoadScript(\"vega-embed\", \"6\"))\n",
       "        .catch(showError)\n",
       "        .then(() => displayChart(vegaEmbed));\n",
       "    }\n",
       "  })({\"config\": {\"view\": {\"continuousWidth\": 400, \"continuousHeight\": 300}}, \"data\": {\"name\": \"data-9409cf149fcd97d1b95049972fed8558\"}, \"mark\": \"point\", \"encoding\": {\"color\": {\"field\": \"transmission\", \"type\": \"quantitative\"}, \"x\": {\"field\": \"MPG\", \"type\": \"quantitative\"}, \"y\": {\"field\": \"weight\", \"type\": \"quantitative\"}}, \"$schema\": \"https://vega.github.io/schema/vega-lite/v4.17.0.json\", \"datasets\": {\"data-9409cf149fcd97d1b95049972fed8558\": [{\"model\": \"Mazda RX4\", \"MPG\": 21.0, \"cylinders\": 6, \"displacement\": 160.0, \"HP\": 110, \"rear_axle_ratio\": 3.9, \"weight\": 2.62, \"qsec\": 16.46, \"vs\": 0, \"transmission\": 1, \"gears\": 4, \"carb\": 4}, {\"model\": \"Mazda RX4 Wag\", \"MPG\": 21.0, \"cylinders\": 6, \"displacement\": 160.0, \"HP\": 110, \"rear_axle_ratio\": 3.9, \"weight\": 2.875, \"qsec\": 17.02, \"vs\": 0, \"transmission\": 1, \"gears\": 4, \"carb\": 4}, {\"model\": \"Datsun 710\", \"MPG\": 22.8, \"cylinders\": 4, \"displacement\": 108.0, \"HP\": 93, \"rear_axle_ratio\": 3.85, \"weight\": 2.32, \"qsec\": 18.61, \"vs\": 1, \"transmission\": 1, \"gears\": 4, \"carb\": 1}, {\"model\": \"Hornet 4 Drive\", \"MPG\": 21.4, \"cylinders\": 6, \"displacement\": 258.0, \"HP\": 110, \"rear_axle_ratio\": 3.08, \"weight\": 3.215, \"qsec\": 19.44, \"vs\": 1, \"transmission\": 0, \"gears\": 3, \"carb\": 1}, {\"model\": \"Hornet Sportabout\", \"MPG\": 18.7, \"cylinders\": 8, \"displacement\": 360.0, \"HP\": 175, \"rear_axle_ratio\": 3.15, \"weight\": 3.44, \"qsec\": 17.02, \"vs\": 0, \"transmission\": 0, \"gears\": 3, \"carb\": 2}, {\"model\": \"Valiant\", \"MPG\": 18.1, \"cylinders\": 6, \"displacement\": 225.0, \"HP\": 105, \"rear_axle_ratio\": 2.76, \"weight\": 3.46, \"qsec\": 20.22, \"vs\": 1, \"transmission\": 0, \"gears\": 3, \"carb\": 1}, {\"model\": \"Duster 360\", \"MPG\": 14.3, \"cylinders\": 8, \"displacement\": 360.0, \"HP\": 245, \"rear_axle_ratio\": 3.21, \"weight\": 3.57, \"qsec\": 15.84, \"vs\": 0, \"transmission\": 0, \"gears\": 3, \"carb\": 4}, {\"model\": \"Merc 240D\", \"MPG\": 24.4, \"cylinders\": 4, \"displacement\": 146.7, \"HP\": 62, \"rear_axle_ratio\": 3.69, \"weight\": 3.19, \"qsec\": 20.0, \"vs\": 1, \"transmission\": 0, \"gears\": 4, \"carb\": 2}, {\"model\": \"Merc 230\", \"MPG\": 22.8, \"cylinders\": 4, \"displacement\": 140.8, \"HP\": 95, \"rear_axle_ratio\": 3.92, \"weight\": 3.15, \"qsec\": 22.9, \"vs\": 1, \"transmission\": 0, \"gears\": 4, \"carb\": 2}, {\"model\": \"Merc 280\", \"MPG\": 19.2, \"cylinders\": 6, \"displacement\": 167.6, \"HP\": 123, \"rear_axle_ratio\": 3.92, \"weight\": 3.44, \"qsec\": 18.3, \"vs\": 1, \"transmission\": 0, \"gears\": 4, \"carb\": 4}, {\"model\": \"Merc 280C\", \"MPG\": 17.8, \"cylinders\": 6, \"displacement\": 167.6, \"HP\": 123, \"rear_axle_ratio\": 3.92, \"weight\": 3.44, \"qsec\": 18.9, \"vs\": 1, \"transmission\": 0, \"gears\": 4, \"carb\": 4}, {\"model\": \"Merc 450SE\", \"MPG\": 16.4, \"cylinders\": 8, \"displacement\": 275.8, \"HP\": 180, \"rear_axle_ratio\": 3.07, \"weight\": 4.07, \"qsec\": 17.4, \"vs\": 0, \"transmission\": 0, \"gears\": 3, \"carb\": 3}, {\"model\": \"Merc 450SL\", \"MPG\": 17.3, \"cylinders\": 8, \"displacement\": 275.8, \"HP\": 180, \"rear_axle_ratio\": 3.07, \"weight\": 3.73, \"qsec\": 17.6, \"vs\": 0, \"transmission\": 0, \"gears\": 3, \"carb\": 3}, {\"model\": \"Merc 450SLC\", \"MPG\": 15.2, \"cylinders\": 8, \"displacement\": 275.8, \"HP\": 180, \"rear_axle_ratio\": 3.07, \"weight\": 3.78, \"qsec\": 18.0, \"vs\": 0, \"transmission\": 0, \"gears\": 3, \"carb\": 3}, {\"model\": \"Cadillac Fleetwood\", \"MPG\": 10.4, \"cylinders\": 8, \"displacement\": 472.0, \"HP\": 205, \"rear_axle_ratio\": 2.93, \"weight\": 5.25, \"qsec\": 17.98, \"vs\": 0, \"transmission\": 0, \"gears\": 3, \"carb\": 4}, {\"model\": \"Lincoln Continental\", \"MPG\": 10.4, \"cylinders\": 8, \"displacement\": 460.0, \"HP\": 215, \"rear_axle_ratio\": 3.0, \"weight\": 5.424, \"qsec\": 17.82, \"vs\": 0, \"transmission\": 0, \"gears\": 3, \"carb\": 4}, {\"model\": \"Chrysler Imperial\", \"MPG\": 14.7, \"cylinders\": 8, \"displacement\": 440.0, \"HP\": 230, \"rear_axle_ratio\": 3.23, \"weight\": 5.345, \"qsec\": 17.42, \"vs\": 0, \"transmission\": 0, \"gears\": 3, \"carb\": 4}, {\"model\": \"Fiat 128\", \"MPG\": 32.4, \"cylinders\": 4, \"displacement\": 78.7, \"HP\": 66, \"rear_axle_ratio\": 4.08, \"weight\": 2.2, \"qsec\": 19.47, \"vs\": 1, \"transmission\": 1, \"gears\": 4, \"carb\": 1}, {\"model\": \"Honda Civic\", \"MPG\": 30.4, \"cylinders\": 4, \"displacement\": 75.7, \"HP\": 52, \"rear_axle_ratio\": 4.93, \"weight\": 1.615, \"qsec\": 18.52, \"vs\": 1, \"transmission\": 1, \"gears\": 4, \"carb\": 2}, {\"model\": \"Toyota Corolla\", \"MPG\": 33.9, \"cylinders\": 4, \"displacement\": 71.1, \"HP\": 65, \"rear_axle_ratio\": 4.22, \"weight\": 1.835, \"qsec\": 19.9, \"vs\": 1, \"transmission\": 1, \"gears\": 4, \"carb\": 1}, {\"model\": \"Toyota Corona\", \"MPG\": 21.5, \"cylinders\": 4, \"displacement\": 120.1, \"HP\": 97, \"rear_axle_ratio\": 3.7, \"weight\": 2.465, \"qsec\": 20.01, \"vs\": 1, \"transmission\": 0, \"gears\": 3, \"carb\": 1}, {\"model\": \"Dodge Challenger\", \"MPG\": 15.5, \"cylinders\": 8, \"displacement\": 318.0, \"HP\": 150, \"rear_axle_ratio\": 2.76, \"weight\": 3.52, \"qsec\": 16.87, \"vs\": 0, \"transmission\": 0, \"gears\": 3, \"carb\": 2}, {\"model\": \"AMC Javelin\", \"MPG\": 15.2, \"cylinders\": 8, \"displacement\": 304.0, \"HP\": 150, \"rear_axle_ratio\": 3.15, \"weight\": 3.435, \"qsec\": 17.3, \"vs\": 0, \"transmission\": 0, \"gears\": 3, \"carb\": 2}, {\"model\": \"Camaro Z28\", \"MPG\": 13.3, \"cylinders\": 8, \"displacement\": 350.0, \"HP\": 245, \"rear_axle_ratio\": 3.73, \"weight\": 3.84, \"qsec\": 15.41, \"vs\": 0, \"transmission\": 0, \"gears\": 3, \"carb\": 4}, {\"model\": \"Pontiac Firebird\", \"MPG\": 19.2, \"cylinders\": 8, \"displacement\": 400.0, \"HP\": 175, \"rear_axle_ratio\": 3.08, \"weight\": 3.845, \"qsec\": 17.05, \"vs\": 0, \"transmission\": 0, \"gears\": 3, \"carb\": 2}, {\"model\": \"Fiat X1-9\", \"MPG\": 27.3, \"cylinders\": 4, \"displacement\": 79.0, \"HP\": 66, \"rear_axle_ratio\": 4.08, \"weight\": 1.935, \"qsec\": 18.9, \"vs\": 1, \"transmission\": 1, \"gears\": 4, \"carb\": 1}, {\"model\": \"Porsche 914-2\", \"MPG\": 26.0, \"cylinders\": 4, \"displacement\": 120.3, \"HP\": 91, \"rear_axle_ratio\": 4.43, \"weight\": 2.14, \"qsec\": 16.7, \"vs\": 0, \"transmission\": 1, \"gears\": 5, \"carb\": 2}, {\"model\": \"Lotus Europa\", \"MPG\": 30.4, \"cylinders\": 4, \"displacement\": 95.1, \"HP\": 113, \"rear_axle_ratio\": 3.77, \"weight\": 1.513, \"qsec\": 16.9, \"vs\": 1, \"transmission\": 1, \"gears\": 5, \"carb\": 2}, {\"model\": \"Ford Pantera L\", \"MPG\": 15.8, \"cylinders\": 8, \"displacement\": 351.0, \"HP\": 264, \"rear_axle_ratio\": 4.22, \"weight\": 3.17, \"qsec\": 14.5, \"vs\": 0, \"transmission\": 1, \"gears\": 5, \"carb\": 4}, {\"model\": \"Ferrari Dino\", \"MPG\": 19.7, \"cylinders\": 6, \"displacement\": 145.0, \"HP\": 175, \"rear_axle_ratio\": 3.62, \"weight\": 2.77, \"qsec\": 15.5, \"vs\": 0, \"transmission\": 1, \"gears\": 5, \"carb\": 6}, {\"model\": \"Maserati Bora\", \"MPG\": 15.0, \"cylinders\": 8, \"displacement\": 301.0, \"HP\": 335, \"rear_axle_ratio\": 3.54, \"weight\": 3.57, \"qsec\": 14.6, \"vs\": 0, \"transmission\": 1, \"gears\": 5, \"carb\": 8}, {\"model\": \"Volvo 142E\", \"MPG\": 21.4, \"cylinders\": 4, \"displacement\": 121.0, \"HP\": 109, \"rear_axle_ratio\": 4.11, \"weight\": 2.78, \"qsec\": 18.6, \"vs\": 1, \"transmission\": 1, \"gears\": 4, \"carb\": 2}]}}, {\"mode\": \"vega-lite\"});\n",
       "</script>"
      ],
      "text/plain": [
       "alt.Chart(...)"
      ]
     },
     "execution_count": 10,
     "metadata": {},
     "output_type": "execute_result"
    }
   ],
   "source": [
    "#2.1 MPG, weight, vs. transmission\n",
    "\n",
    "alt.Chart(mtcars).mark_point().encode(\n",
    "    x='MPG',\n",
    "    y=\"weight\",\n",
    "    color=\"transmission\"\n",
    ")"
   ]
  },
  {
   "cell_type": "markdown",
   "metadata": {
    "colab_type": "text",
    "id": "OUbr-XVru0a8",
    "slideshow": {
     "slide_type": "skip"
    }
   },
   "source": [
    "This, unfortunately, isn't quite right. Transmission in our dataset is 0 or 1. Altair understood this to mean that the data was quantiative and encoded color on the default blue gradient. We want transmission to be a categorical or nominal variable so we can use:"
   ]
  },
  {
   "cell_type": "code",
   "execution_count": 11,
   "metadata": {
    "colab": {
     "base_uri": "https://localhost:8080/",
     "height": 368
    },
    "colab_type": "code",
    "id": "bE0-xM_xu0a9",
    "outputId": "ce83f597-e488-4726-a44d-596495a70ce2",
    "slideshow": {
     "slide_type": "subslide"
    }
   },
   "outputs": [
    {
     "data": {
      "text/html": [
       "\n",
       "<div id=\"altair-viz-cb041055166949069f21c92308e953d5\"></div>\n",
       "<script type=\"text/javascript\">\n",
       "  var VEGA_DEBUG = (typeof VEGA_DEBUG == \"undefined\") ? {} : VEGA_DEBUG;\n",
       "  (function(spec, embedOpt){\n",
       "    let outputDiv = document.currentScript.previousElementSibling;\n",
       "    if (outputDiv.id !== \"altair-viz-cb041055166949069f21c92308e953d5\") {\n",
       "      outputDiv = document.getElementById(\"altair-viz-cb041055166949069f21c92308e953d5\");\n",
       "    }\n",
       "    const paths = {\n",
       "      \"vega\": \"https://cdn.jsdelivr.net/npm//vega@5?noext\",\n",
       "      \"vega-lib\": \"https://cdn.jsdelivr.net/npm//vega-lib?noext\",\n",
       "      \"vega-lite\": \"https://cdn.jsdelivr.net/npm//vega-lite@4.17.0?noext\",\n",
       "      \"vega-embed\": \"https://cdn.jsdelivr.net/npm//vega-embed@6?noext\",\n",
       "    };\n",
       "\n",
       "    function maybeLoadScript(lib, version) {\n",
       "      var key = `${lib.replace(\"-\", \"\")}_version`;\n",
       "      return (VEGA_DEBUG[key] == version) ?\n",
       "        Promise.resolve(paths[lib]) :\n",
       "        new Promise(function(resolve, reject) {\n",
       "          var s = document.createElement('script');\n",
       "          document.getElementsByTagName(\"head\")[0].appendChild(s);\n",
       "          s.async = true;\n",
       "          s.onload = () => {\n",
       "            VEGA_DEBUG[key] = version;\n",
       "            return resolve(paths[lib]);\n",
       "          };\n",
       "          s.onerror = () => reject(`Error loading script: ${paths[lib]}`);\n",
       "          s.src = paths[lib];\n",
       "        });\n",
       "    }\n",
       "\n",
       "    function showError(err) {\n",
       "      outputDiv.innerHTML = `<div class=\"error\" style=\"color:red;\">${err}</div>`;\n",
       "      throw err;\n",
       "    }\n",
       "\n",
       "    function displayChart(vegaEmbed) {\n",
       "      vegaEmbed(outputDiv, spec, embedOpt)\n",
       "        .catch(err => showError(`Javascript Error: ${err.message}<br>This usually means there's a typo in your chart specification. See the javascript console for the full traceback.`));\n",
       "    }\n",
       "\n",
       "    if(typeof define === \"function\" && define.amd) {\n",
       "      requirejs.config({paths});\n",
       "      require([\"vega-embed\"], displayChart, err => showError(`Error loading script: ${err.message}`));\n",
       "    } else {\n",
       "      maybeLoadScript(\"vega\", \"5\")\n",
       "        .then(() => maybeLoadScript(\"vega-lite\", \"4.17.0\"))\n",
       "        .then(() => maybeLoadScript(\"vega-embed\", \"6\"))\n",
       "        .catch(showError)\n",
       "        .then(() => displayChart(vegaEmbed));\n",
       "    }\n",
       "  })({\"config\": {\"view\": {\"continuousWidth\": 400, \"continuousHeight\": 300}}, \"data\": {\"name\": \"data-9409cf149fcd97d1b95049972fed8558\"}, \"mark\": \"point\", \"encoding\": {\"color\": {\"field\": \"transmission\", \"type\": \"nominal\"}, \"x\": {\"field\": \"MPG\", \"type\": \"quantitative\"}, \"y\": {\"field\": \"weight\", \"type\": \"quantitative\"}}, \"$schema\": \"https://vega.github.io/schema/vega-lite/v4.17.0.json\", \"datasets\": {\"data-9409cf149fcd97d1b95049972fed8558\": [{\"model\": \"Mazda RX4\", \"MPG\": 21.0, \"cylinders\": 6, \"displacement\": 160.0, \"HP\": 110, \"rear_axle_ratio\": 3.9, \"weight\": 2.62, \"qsec\": 16.46, \"vs\": 0, \"transmission\": 1, \"gears\": 4, \"carb\": 4}, {\"model\": \"Mazda RX4 Wag\", \"MPG\": 21.0, \"cylinders\": 6, \"displacement\": 160.0, \"HP\": 110, \"rear_axle_ratio\": 3.9, \"weight\": 2.875, \"qsec\": 17.02, \"vs\": 0, \"transmission\": 1, \"gears\": 4, \"carb\": 4}, {\"model\": \"Datsun 710\", \"MPG\": 22.8, \"cylinders\": 4, \"displacement\": 108.0, \"HP\": 93, \"rear_axle_ratio\": 3.85, \"weight\": 2.32, \"qsec\": 18.61, \"vs\": 1, \"transmission\": 1, \"gears\": 4, \"carb\": 1}, {\"model\": \"Hornet 4 Drive\", \"MPG\": 21.4, \"cylinders\": 6, \"displacement\": 258.0, \"HP\": 110, \"rear_axle_ratio\": 3.08, \"weight\": 3.215, \"qsec\": 19.44, \"vs\": 1, \"transmission\": 0, \"gears\": 3, \"carb\": 1}, {\"model\": \"Hornet Sportabout\", \"MPG\": 18.7, \"cylinders\": 8, \"displacement\": 360.0, \"HP\": 175, \"rear_axle_ratio\": 3.15, \"weight\": 3.44, \"qsec\": 17.02, \"vs\": 0, \"transmission\": 0, \"gears\": 3, \"carb\": 2}, {\"model\": \"Valiant\", \"MPG\": 18.1, \"cylinders\": 6, \"displacement\": 225.0, \"HP\": 105, \"rear_axle_ratio\": 2.76, \"weight\": 3.46, \"qsec\": 20.22, \"vs\": 1, \"transmission\": 0, \"gears\": 3, \"carb\": 1}, {\"model\": \"Duster 360\", \"MPG\": 14.3, \"cylinders\": 8, \"displacement\": 360.0, \"HP\": 245, \"rear_axle_ratio\": 3.21, \"weight\": 3.57, \"qsec\": 15.84, \"vs\": 0, \"transmission\": 0, \"gears\": 3, \"carb\": 4}, {\"model\": \"Merc 240D\", \"MPG\": 24.4, \"cylinders\": 4, \"displacement\": 146.7, \"HP\": 62, \"rear_axle_ratio\": 3.69, \"weight\": 3.19, \"qsec\": 20.0, \"vs\": 1, \"transmission\": 0, \"gears\": 4, \"carb\": 2}, {\"model\": \"Merc 230\", \"MPG\": 22.8, \"cylinders\": 4, \"displacement\": 140.8, \"HP\": 95, \"rear_axle_ratio\": 3.92, \"weight\": 3.15, \"qsec\": 22.9, \"vs\": 1, \"transmission\": 0, \"gears\": 4, \"carb\": 2}, {\"model\": \"Merc 280\", \"MPG\": 19.2, \"cylinders\": 6, \"displacement\": 167.6, \"HP\": 123, \"rear_axle_ratio\": 3.92, \"weight\": 3.44, \"qsec\": 18.3, \"vs\": 1, \"transmission\": 0, \"gears\": 4, \"carb\": 4}, {\"model\": \"Merc 280C\", \"MPG\": 17.8, \"cylinders\": 6, \"displacement\": 167.6, \"HP\": 123, \"rear_axle_ratio\": 3.92, \"weight\": 3.44, \"qsec\": 18.9, \"vs\": 1, \"transmission\": 0, \"gears\": 4, \"carb\": 4}, {\"model\": \"Merc 450SE\", \"MPG\": 16.4, \"cylinders\": 8, \"displacement\": 275.8, \"HP\": 180, \"rear_axle_ratio\": 3.07, \"weight\": 4.07, \"qsec\": 17.4, \"vs\": 0, \"transmission\": 0, \"gears\": 3, \"carb\": 3}, {\"model\": \"Merc 450SL\", \"MPG\": 17.3, \"cylinders\": 8, \"displacement\": 275.8, \"HP\": 180, \"rear_axle_ratio\": 3.07, \"weight\": 3.73, \"qsec\": 17.6, \"vs\": 0, \"transmission\": 0, \"gears\": 3, \"carb\": 3}, {\"model\": \"Merc 450SLC\", \"MPG\": 15.2, \"cylinders\": 8, \"displacement\": 275.8, \"HP\": 180, \"rear_axle_ratio\": 3.07, \"weight\": 3.78, \"qsec\": 18.0, \"vs\": 0, \"transmission\": 0, \"gears\": 3, \"carb\": 3}, {\"model\": \"Cadillac Fleetwood\", \"MPG\": 10.4, \"cylinders\": 8, \"displacement\": 472.0, \"HP\": 205, \"rear_axle_ratio\": 2.93, \"weight\": 5.25, \"qsec\": 17.98, \"vs\": 0, \"transmission\": 0, \"gears\": 3, \"carb\": 4}, {\"model\": \"Lincoln Continental\", \"MPG\": 10.4, \"cylinders\": 8, \"displacement\": 460.0, \"HP\": 215, \"rear_axle_ratio\": 3.0, \"weight\": 5.424, \"qsec\": 17.82, \"vs\": 0, \"transmission\": 0, \"gears\": 3, \"carb\": 4}, {\"model\": \"Chrysler Imperial\", \"MPG\": 14.7, \"cylinders\": 8, \"displacement\": 440.0, \"HP\": 230, \"rear_axle_ratio\": 3.23, \"weight\": 5.345, \"qsec\": 17.42, \"vs\": 0, \"transmission\": 0, \"gears\": 3, \"carb\": 4}, {\"model\": \"Fiat 128\", \"MPG\": 32.4, \"cylinders\": 4, \"displacement\": 78.7, \"HP\": 66, \"rear_axle_ratio\": 4.08, \"weight\": 2.2, \"qsec\": 19.47, \"vs\": 1, \"transmission\": 1, \"gears\": 4, \"carb\": 1}, {\"model\": \"Honda Civic\", \"MPG\": 30.4, \"cylinders\": 4, \"displacement\": 75.7, \"HP\": 52, \"rear_axle_ratio\": 4.93, \"weight\": 1.615, \"qsec\": 18.52, \"vs\": 1, \"transmission\": 1, \"gears\": 4, \"carb\": 2}, {\"model\": \"Toyota Corolla\", \"MPG\": 33.9, \"cylinders\": 4, \"displacement\": 71.1, \"HP\": 65, \"rear_axle_ratio\": 4.22, \"weight\": 1.835, \"qsec\": 19.9, \"vs\": 1, \"transmission\": 1, \"gears\": 4, \"carb\": 1}, {\"model\": \"Toyota Corona\", \"MPG\": 21.5, \"cylinders\": 4, \"displacement\": 120.1, \"HP\": 97, \"rear_axle_ratio\": 3.7, \"weight\": 2.465, \"qsec\": 20.01, \"vs\": 1, \"transmission\": 0, \"gears\": 3, \"carb\": 1}, {\"model\": \"Dodge Challenger\", \"MPG\": 15.5, \"cylinders\": 8, \"displacement\": 318.0, \"HP\": 150, \"rear_axle_ratio\": 2.76, \"weight\": 3.52, \"qsec\": 16.87, \"vs\": 0, \"transmission\": 0, \"gears\": 3, \"carb\": 2}, {\"model\": \"AMC Javelin\", \"MPG\": 15.2, \"cylinders\": 8, \"displacement\": 304.0, \"HP\": 150, \"rear_axle_ratio\": 3.15, \"weight\": 3.435, \"qsec\": 17.3, \"vs\": 0, \"transmission\": 0, \"gears\": 3, \"carb\": 2}, {\"model\": \"Camaro Z28\", \"MPG\": 13.3, \"cylinders\": 8, \"displacement\": 350.0, \"HP\": 245, \"rear_axle_ratio\": 3.73, \"weight\": 3.84, \"qsec\": 15.41, \"vs\": 0, \"transmission\": 0, \"gears\": 3, \"carb\": 4}, {\"model\": \"Pontiac Firebird\", \"MPG\": 19.2, \"cylinders\": 8, \"displacement\": 400.0, \"HP\": 175, \"rear_axle_ratio\": 3.08, \"weight\": 3.845, \"qsec\": 17.05, \"vs\": 0, \"transmission\": 0, \"gears\": 3, \"carb\": 2}, {\"model\": \"Fiat X1-9\", \"MPG\": 27.3, \"cylinders\": 4, \"displacement\": 79.0, \"HP\": 66, \"rear_axle_ratio\": 4.08, \"weight\": 1.935, \"qsec\": 18.9, \"vs\": 1, \"transmission\": 1, \"gears\": 4, \"carb\": 1}, {\"model\": \"Porsche 914-2\", \"MPG\": 26.0, \"cylinders\": 4, \"displacement\": 120.3, \"HP\": 91, \"rear_axle_ratio\": 4.43, \"weight\": 2.14, \"qsec\": 16.7, \"vs\": 0, \"transmission\": 1, \"gears\": 5, \"carb\": 2}, {\"model\": \"Lotus Europa\", \"MPG\": 30.4, \"cylinders\": 4, \"displacement\": 95.1, \"HP\": 113, \"rear_axle_ratio\": 3.77, \"weight\": 1.513, \"qsec\": 16.9, \"vs\": 1, \"transmission\": 1, \"gears\": 5, \"carb\": 2}, {\"model\": \"Ford Pantera L\", \"MPG\": 15.8, \"cylinders\": 8, \"displacement\": 351.0, \"HP\": 264, \"rear_axle_ratio\": 4.22, \"weight\": 3.17, \"qsec\": 14.5, \"vs\": 0, \"transmission\": 1, \"gears\": 5, \"carb\": 4}, {\"model\": \"Ferrari Dino\", \"MPG\": 19.7, \"cylinders\": 6, \"displacement\": 145.0, \"HP\": 175, \"rear_axle_ratio\": 3.62, \"weight\": 2.77, \"qsec\": 15.5, \"vs\": 0, \"transmission\": 1, \"gears\": 5, \"carb\": 6}, {\"model\": \"Maserati Bora\", \"MPG\": 15.0, \"cylinders\": 8, \"displacement\": 301.0, \"HP\": 335, \"rear_axle_ratio\": 3.54, \"weight\": 3.57, \"qsec\": 14.6, \"vs\": 0, \"transmission\": 1, \"gears\": 5, \"carb\": 8}, {\"model\": \"Volvo 142E\", \"MPG\": 21.4, \"cylinders\": 4, \"displacement\": 121.0, \"HP\": 109, \"rear_axle_ratio\": 4.11, \"weight\": 2.78, \"qsec\": 18.6, \"vs\": 1, \"transmission\": 1, \"gears\": 4, \"carb\": 2}]}}, {\"mode\": \"vega-lite\"});\n",
       "</script>"
      ],
      "text/plain": [
       "alt.Chart(...)"
      ]
     },
     "execution_count": 11,
     "metadata": {},
     "output_type": "execute_result"
    }
   ],
   "source": [
    "#2.2 Fix a wrong inference, transmission is nominal\n",
    "\n",
    "alt.Chart(mtcars).mark_point().encode(\n",
    "    x='MPG',\n",
    "    y=\"weight\",\n",
    "    color=\"transmission:N\"\n",
    ")"
   ]
  },
  {
   "cell_type": "markdown",
   "metadata": {
    "colab_type": "text",
    "id": "Iud0Va1Lu0bH",
    "slideshow": {
     "slide_type": "skip"
    }
   },
   "source": [
    "This would be a bit easier to read if the dots were filled so we could better see the colors. Luckily we can easily override the \"global\" properties of points to make them filled (`.mark_point(filled=True)`). Alternatively, you could use `.mark_circle`, which is a filled `.mark_point`. You can read more about this and see more options on the [Altair website](https://altair-viz.github.io/user_guide/customization.html)."
   ]
  },
  {
   "cell_type": "code",
   "execution_count": 12,
   "metadata": {
    "colab": {
     "base_uri": "https://localhost:8080/",
     "height": 368
    },
    "colab_type": "code",
    "id": "LQ7bKsGCu0bI",
    "outputId": "7423d135-4309-4c1b-a098-b028ada4a1d9",
    "slideshow": {
     "slide_type": "subslide"
    }
   },
   "outputs": [
    {
     "data": {
      "text/html": [
       "\n",
       "<div id=\"altair-viz-fffb08f9fe694142a4a486d5a58368dc\"></div>\n",
       "<script type=\"text/javascript\">\n",
       "  var VEGA_DEBUG = (typeof VEGA_DEBUG == \"undefined\") ? {} : VEGA_DEBUG;\n",
       "  (function(spec, embedOpt){\n",
       "    let outputDiv = document.currentScript.previousElementSibling;\n",
       "    if (outputDiv.id !== \"altair-viz-fffb08f9fe694142a4a486d5a58368dc\") {\n",
       "      outputDiv = document.getElementById(\"altair-viz-fffb08f9fe694142a4a486d5a58368dc\");\n",
       "    }\n",
       "    const paths = {\n",
       "      \"vega\": \"https://cdn.jsdelivr.net/npm//vega@5?noext\",\n",
       "      \"vega-lib\": \"https://cdn.jsdelivr.net/npm//vega-lib?noext\",\n",
       "      \"vega-lite\": \"https://cdn.jsdelivr.net/npm//vega-lite@4.17.0?noext\",\n",
       "      \"vega-embed\": \"https://cdn.jsdelivr.net/npm//vega-embed@6?noext\",\n",
       "    };\n",
       "\n",
       "    function maybeLoadScript(lib, version) {\n",
       "      var key = `${lib.replace(\"-\", \"\")}_version`;\n",
       "      return (VEGA_DEBUG[key] == version) ?\n",
       "        Promise.resolve(paths[lib]) :\n",
       "        new Promise(function(resolve, reject) {\n",
       "          var s = document.createElement('script');\n",
       "          document.getElementsByTagName(\"head\")[0].appendChild(s);\n",
       "          s.async = true;\n",
       "          s.onload = () => {\n",
       "            VEGA_DEBUG[key] = version;\n",
       "            return resolve(paths[lib]);\n",
       "          };\n",
       "          s.onerror = () => reject(`Error loading script: ${paths[lib]}`);\n",
       "          s.src = paths[lib];\n",
       "        });\n",
       "    }\n",
       "\n",
       "    function showError(err) {\n",
       "      outputDiv.innerHTML = `<div class=\"error\" style=\"color:red;\">${err}</div>`;\n",
       "      throw err;\n",
       "    }\n",
       "\n",
       "    function displayChart(vegaEmbed) {\n",
       "      vegaEmbed(outputDiv, spec, embedOpt)\n",
       "        .catch(err => showError(`Javascript Error: ${err.message}<br>This usually means there's a typo in your chart specification. See the javascript console for the full traceback.`));\n",
       "    }\n",
       "\n",
       "    if(typeof define === \"function\" && define.amd) {\n",
       "      requirejs.config({paths});\n",
       "      require([\"vega-embed\"], displayChart, err => showError(`Error loading script: ${err.message}`));\n",
       "    } else {\n",
       "      maybeLoadScript(\"vega\", \"5\")\n",
       "        .then(() => maybeLoadScript(\"vega-lite\", \"4.17.0\"))\n",
       "        .then(() => maybeLoadScript(\"vega-embed\", \"6\"))\n",
       "        .catch(showError)\n",
       "        .then(() => displayChart(vegaEmbed));\n",
       "    }\n",
       "  })({\"config\": {\"view\": {\"continuousWidth\": 400, \"continuousHeight\": 300}}, \"data\": {\"name\": \"data-9409cf149fcd97d1b95049972fed8558\"}, \"mark\": {\"type\": \"point\", \"filled\": true}, \"encoding\": {\"color\": {\"field\": \"transmission\", \"type\": \"nominal\"}, \"x\": {\"field\": \"MPG\", \"type\": \"quantitative\"}, \"y\": {\"field\": \"weight\", \"type\": \"quantitative\"}}, \"$schema\": \"https://vega.github.io/schema/vega-lite/v4.17.0.json\", \"datasets\": {\"data-9409cf149fcd97d1b95049972fed8558\": [{\"model\": \"Mazda RX4\", \"MPG\": 21.0, \"cylinders\": 6, \"displacement\": 160.0, \"HP\": 110, \"rear_axle_ratio\": 3.9, \"weight\": 2.62, \"qsec\": 16.46, \"vs\": 0, \"transmission\": 1, \"gears\": 4, \"carb\": 4}, {\"model\": \"Mazda RX4 Wag\", \"MPG\": 21.0, \"cylinders\": 6, \"displacement\": 160.0, \"HP\": 110, \"rear_axle_ratio\": 3.9, \"weight\": 2.875, \"qsec\": 17.02, \"vs\": 0, \"transmission\": 1, \"gears\": 4, \"carb\": 4}, {\"model\": \"Datsun 710\", \"MPG\": 22.8, \"cylinders\": 4, \"displacement\": 108.0, \"HP\": 93, \"rear_axle_ratio\": 3.85, \"weight\": 2.32, \"qsec\": 18.61, \"vs\": 1, \"transmission\": 1, \"gears\": 4, \"carb\": 1}, {\"model\": \"Hornet 4 Drive\", \"MPG\": 21.4, \"cylinders\": 6, \"displacement\": 258.0, \"HP\": 110, \"rear_axle_ratio\": 3.08, \"weight\": 3.215, \"qsec\": 19.44, \"vs\": 1, \"transmission\": 0, \"gears\": 3, \"carb\": 1}, {\"model\": \"Hornet Sportabout\", \"MPG\": 18.7, \"cylinders\": 8, \"displacement\": 360.0, \"HP\": 175, \"rear_axle_ratio\": 3.15, \"weight\": 3.44, \"qsec\": 17.02, \"vs\": 0, \"transmission\": 0, \"gears\": 3, \"carb\": 2}, {\"model\": \"Valiant\", \"MPG\": 18.1, \"cylinders\": 6, \"displacement\": 225.0, \"HP\": 105, \"rear_axle_ratio\": 2.76, \"weight\": 3.46, \"qsec\": 20.22, \"vs\": 1, \"transmission\": 0, \"gears\": 3, \"carb\": 1}, {\"model\": \"Duster 360\", \"MPG\": 14.3, \"cylinders\": 8, \"displacement\": 360.0, \"HP\": 245, \"rear_axle_ratio\": 3.21, \"weight\": 3.57, \"qsec\": 15.84, \"vs\": 0, \"transmission\": 0, \"gears\": 3, \"carb\": 4}, {\"model\": \"Merc 240D\", \"MPG\": 24.4, \"cylinders\": 4, \"displacement\": 146.7, \"HP\": 62, \"rear_axle_ratio\": 3.69, \"weight\": 3.19, \"qsec\": 20.0, \"vs\": 1, \"transmission\": 0, \"gears\": 4, \"carb\": 2}, {\"model\": \"Merc 230\", \"MPG\": 22.8, \"cylinders\": 4, \"displacement\": 140.8, \"HP\": 95, \"rear_axle_ratio\": 3.92, \"weight\": 3.15, \"qsec\": 22.9, \"vs\": 1, \"transmission\": 0, \"gears\": 4, \"carb\": 2}, {\"model\": \"Merc 280\", \"MPG\": 19.2, \"cylinders\": 6, \"displacement\": 167.6, \"HP\": 123, \"rear_axle_ratio\": 3.92, \"weight\": 3.44, \"qsec\": 18.3, \"vs\": 1, \"transmission\": 0, \"gears\": 4, \"carb\": 4}, {\"model\": \"Merc 280C\", \"MPG\": 17.8, \"cylinders\": 6, \"displacement\": 167.6, \"HP\": 123, \"rear_axle_ratio\": 3.92, \"weight\": 3.44, \"qsec\": 18.9, \"vs\": 1, \"transmission\": 0, \"gears\": 4, \"carb\": 4}, {\"model\": \"Merc 450SE\", \"MPG\": 16.4, \"cylinders\": 8, \"displacement\": 275.8, \"HP\": 180, \"rear_axle_ratio\": 3.07, \"weight\": 4.07, \"qsec\": 17.4, \"vs\": 0, \"transmission\": 0, \"gears\": 3, \"carb\": 3}, {\"model\": \"Merc 450SL\", \"MPG\": 17.3, \"cylinders\": 8, \"displacement\": 275.8, \"HP\": 180, \"rear_axle_ratio\": 3.07, \"weight\": 3.73, \"qsec\": 17.6, \"vs\": 0, \"transmission\": 0, \"gears\": 3, \"carb\": 3}, {\"model\": \"Merc 450SLC\", \"MPG\": 15.2, \"cylinders\": 8, \"displacement\": 275.8, \"HP\": 180, \"rear_axle_ratio\": 3.07, \"weight\": 3.78, \"qsec\": 18.0, \"vs\": 0, \"transmission\": 0, \"gears\": 3, \"carb\": 3}, {\"model\": \"Cadillac Fleetwood\", \"MPG\": 10.4, \"cylinders\": 8, \"displacement\": 472.0, \"HP\": 205, \"rear_axle_ratio\": 2.93, \"weight\": 5.25, \"qsec\": 17.98, \"vs\": 0, \"transmission\": 0, \"gears\": 3, \"carb\": 4}, {\"model\": \"Lincoln Continental\", \"MPG\": 10.4, \"cylinders\": 8, \"displacement\": 460.0, \"HP\": 215, \"rear_axle_ratio\": 3.0, \"weight\": 5.424, \"qsec\": 17.82, \"vs\": 0, \"transmission\": 0, \"gears\": 3, \"carb\": 4}, {\"model\": \"Chrysler Imperial\", \"MPG\": 14.7, \"cylinders\": 8, \"displacement\": 440.0, \"HP\": 230, \"rear_axle_ratio\": 3.23, \"weight\": 5.345, \"qsec\": 17.42, \"vs\": 0, \"transmission\": 0, \"gears\": 3, \"carb\": 4}, {\"model\": \"Fiat 128\", \"MPG\": 32.4, \"cylinders\": 4, \"displacement\": 78.7, \"HP\": 66, \"rear_axle_ratio\": 4.08, \"weight\": 2.2, \"qsec\": 19.47, \"vs\": 1, \"transmission\": 1, \"gears\": 4, \"carb\": 1}, {\"model\": \"Honda Civic\", \"MPG\": 30.4, \"cylinders\": 4, \"displacement\": 75.7, \"HP\": 52, \"rear_axle_ratio\": 4.93, \"weight\": 1.615, \"qsec\": 18.52, \"vs\": 1, \"transmission\": 1, \"gears\": 4, \"carb\": 2}, {\"model\": \"Toyota Corolla\", \"MPG\": 33.9, \"cylinders\": 4, \"displacement\": 71.1, \"HP\": 65, \"rear_axle_ratio\": 4.22, \"weight\": 1.835, \"qsec\": 19.9, \"vs\": 1, \"transmission\": 1, \"gears\": 4, \"carb\": 1}, {\"model\": \"Toyota Corona\", \"MPG\": 21.5, \"cylinders\": 4, \"displacement\": 120.1, \"HP\": 97, \"rear_axle_ratio\": 3.7, \"weight\": 2.465, \"qsec\": 20.01, \"vs\": 1, \"transmission\": 0, \"gears\": 3, \"carb\": 1}, {\"model\": \"Dodge Challenger\", \"MPG\": 15.5, \"cylinders\": 8, \"displacement\": 318.0, \"HP\": 150, \"rear_axle_ratio\": 2.76, \"weight\": 3.52, \"qsec\": 16.87, \"vs\": 0, \"transmission\": 0, \"gears\": 3, \"carb\": 2}, {\"model\": \"AMC Javelin\", \"MPG\": 15.2, \"cylinders\": 8, \"displacement\": 304.0, \"HP\": 150, \"rear_axle_ratio\": 3.15, \"weight\": 3.435, \"qsec\": 17.3, \"vs\": 0, \"transmission\": 0, \"gears\": 3, \"carb\": 2}, {\"model\": \"Camaro Z28\", \"MPG\": 13.3, \"cylinders\": 8, \"displacement\": 350.0, \"HP\": 245, \"rear_axle_ratio\": 3.73, \"weight\": 3.84, \"qsec\": 15.41, \"vs\": 0, \"transmission\": 0, \"gears\": 3, \"carb\": 4}, {\"model\": \"Pontiac Firebird\", \"MPG\": 19.2, \"cylinders\": 8, \"displacement\": 400.0, \"HP\": 175, \"rear_axle_ratio\": 3.08, \"weight\": 3.845, \"qsec\": 17.05, \"vs\": 0, \"transmission\": 0, \"gears\": 3, \"carb\": 2}, {\"model\": \"Fiat X1-9\", \"MPG\": 27.3, \"cylinders\": 4, \"displacement\": 79.0, \"HP\": 66, \"rear_axle_ratio\": 4.08, \"weight\": 1.935, \"qsec\": 18.9, \"vs\": 1, \"transmission\": 1, \"gears\": 4, \"carb\": 1}, {\"model\": \"Porsche 914-2\", \"MPG\": 26.0, \"cylinders\": 4, \"displacement\": 120.3, \"HP\": 91, \"rear_axle_ratio\": 4.43, \"weight\": 2.14, \"qsec\": 16.7, \"vs\": 0, \"transmission\": 1, \"gears\": 5, \"carb\": 2}, {\"model\": \"Lotus Europa\", \"MPG\": 30.4, \"cylinders\": 4, \"displacement\": 95.1, \"HP\": 113, \"rear_axle_ratio\": 3.77, \"weight\": 1.513, \"qsec\": 16.9, \"vs\": 1, \"transmission\": 1, \"gears\": 5, \"carb\": 2}, {\"model\": \"Ford Pantera L\", \"MPG\": 15.8, \"cylinders\": 8, \"displacement\": 351.0, \"HP\": 264, \"rear_axle_ratio\": 4.22, \"weight\": 3.17, \"qsec\": 14.5, \"vs\": 0, \"transmission\": 1, \"gears\": 5, \"carb\": 4}, {\"model\": \"Ferrari Dino\", \"MPG\": 19.7, \"cylinders\": 6, \"displacement\": 145.0, \"HP\": 175, \"rear_axle_ratio\": 3.62, \"weight\": 2.77, \"qsec\": 15.5, \"vs\": 0, \"transmission\": 1, \"gears\": 5, \"carb\": 6}, {\"model\": \"Maserati Bora\", \"MPG\": 15.0, \"cylinders\": 8, \"displacement\": 301.0, \"HP\": 335, \"rear_axle_ratio\": 3.54, \"weight\": 3.57, \"qsec\": 14.6, \"vs\": 0, \"transmission\": 1, \"gears\": 5, \"carb\": 8}, {\"model\": \"Volvo 142E\", \"MPG\": 21.4, \"cylinders\": 4, \"displacement\": 121.0, \"HP\": 109, \"rear_axle_ratio\": 4.11, \"weight\": 2.78, \"qsec\": 18.6, \"vs\": 1, \"transmission\": 1, \"gears\": 4, \"carb\": 2}]}}, {\"mode\": \"vega-lite\"});\n",
       "</script>"
      ],
      "text/plain": [
       "alt.Chart(...)"
      ]
     },
     "execution_count": 12,
     "metadata": {},
     "output_type": "execute_result"
    }
   ],
   "source": [
    "#2.3 Change the look of the marks (filled)\n",
    "\n",
    "alt.Chart(mtcars).mark_point(filled=True).encode(\n",
    "    x='MPG',\n",
    "    y=\"weight\",\n",
    "    color=\"transmission:N\"\n",
    ")"
   ]
  },
  {
   "cell_type": "markdown",
   "metadata": {
    "colab_type": "text",
    "id": "pKMJJslXu0bM",
    "slideshow": {
     "slide_type": "skip"
    }
   },
   "source": [
    "Let's say we're working with a black and white printer so color isn't the best encoding. Modify the chart definition to use shape instead of color (you might want to sneak a peak at the different encoding channels you have access to on [Altair site](https://altair-viz.github.io/user_guide/encoding.html). Try to make the default size a bit larger so the points are easier to see."
   ]
  },
  {
   "cell_type": "markdown",
   "metadata": {
    "colab_type": "text",
    "id": "m-zv2Lb8u0bu",
    "slideshow": {
     "slide_type": "slide"
    }
   },
   "source": [
    "## 3. Bars and Binning"
   ]
  },
  {
   "cell_type": "markdown",
   "metadata": {
    "slideshow": {
     "slide_type": "skip"
    }
   },
   "source": [
    "Let's try to build some bar charts. These will require switching to a different kind of mark (`mark_bar` in this case).  Let's plot the MPG for each car:"
   ]
  },
  {
   "cell_type": "code",
   "execution_count": 13,
   "metadata": {
    "colab": {
     "base_uri": "https://localhost:8080/",
     "height": 444
    },
    "colab_type": "code",
    "id": "EYCQ72Qvu0bv",
    "outputId": "89fa5502-4003-4e1c-a040-d552a30f30f8",
    "slideshow": {
     "slide_type": "subslide"
    }
   },
   "outputs": [
    {
     "data": {
      "text/html": [
       "\n",
       "<div id=\"altair-viz-f287ff9a718b4fa2b1ca731c47671b82\"></div>\n",
       "<script type=\"text/javascript\">\n",
       "  var VEGA_DEBUG = (typeof VEGA_DEBUG == \"undefined\") ? {} : VEGA_DEBUG;\n",
       "  (function(spec, embedOpt){\n",
       "    let outputDiv = document.currentScript.previousElementSibling;\n",
       "    if (outputDiv.id !== \"altair-viz-f287ff9a718b4fa2b1ca731c47671b82\") {\n",
       "      outputDiv = document.getElementById(\"altair-viz-f287ff9a718b4fa2b1ca731c47671b82\");\n",
       "    }\n",
       "    const paths = {\n",
       "      \"vega\": \"https://cdn.jsdelivr.net/npm//vega@5?noext\",\n",
       "      \"vega-lib\": \"https://cdn.jsdelivr.net/npm//vega-lib?noext\",\n",
       "      \"vega-lite\": \"https://cdn.jsdelivr.net/npm//vega-lite@4.17.0?noext\",\n",
       "      \"vega-embed\": \"https://cdn.jsdelivr.net/npm//vega-embed@6?noext\",\n",
       "    };\n",
       "\n",
       "    function maybeLoadScript(lib, version) {\n",
       "      var key = `${lib.replace(\"-\", \"\")}_version`;\n",
       "      return (VEGA_DEBUG[key] == version) ?\n",
       "        Promise.resolve(paths[lib]) :\n",
       "        new Promise(function(resolve, reject) {\n",
       "          var s = document.createElement('script');\n",
       "          document.getElementsByTagName(\"head\")[0].appendChild(s);\n",
       "          s.async = true;\n",
       "          s.onload = () => {\n",
       "            VEGA_DEBUG[key] = version;\n",
       "            return resolve(paths[lib]);\n",
       "          };\n",
       "          s.onerror = () => reject(`Error loading script: ${paths[lib]}`);\n",
       "          s.src = paths[lib];\n",
       "        });\n",
       "    }\n",
       "\n",
       "    function showError(err) {\n",
       "      outputDiv.innerHTML = `<div class=\"error\" style=\"color:red;\">${err}</div>`;\n",
       "      throw err;\n",
       "    }\n",
       "\n",
       "    function displayChart(vegaEmbed) {\n",
       "      vegaEmbed(outputDiv, spec, embedOpt)\n",
       "        .catch(err => showError(`Javascript Error: ${err.message}<br>This usually means there's a typo in your chart specification. See the javascript console for the full traceback.`));\n",
       "    }\n",
       "\n",
       "    if(typeof define === \"function\" && define.amd) {\n",
       "      requirejs.config({paths});\n",
       "      require([\"vega-embed\"], displayChart, err => showError(`Error loading script: ${err.message}`));\n",
       "    } else {\n",
       "      maybeLoadScript(\"vega\", \"5\")\n",
       "        .then(() => maybeLoadScript(\"vega-lite\", \"4.17.0\"))\n",
       "        .then(() => maybeLoadScript(\"vega-embed\", \"6\"))\n",
       "        .catch(showError)\n",
       "        .then(() => displayChart(vegaEmbed));\n",
       "    }\n",
       "  })({\"config\": {\"view\": {\"continuousWidth\": 400, \"continuousHeight\": 300}}, \"data\": {\"name\": \"data-9409cf149fcd97d1b95049972fed8558\"}, \"mark\": \"bar\", \"encoding\": {\"x\": {\"field\": \"model\", \"type\": \"nominal\"}, \"y\": {\"field\": \"MPG\", \"type\": \"quantitative\"}}, \"$schema\": \"https://vega.github.io/schema/vega-lite/v4.17.0.json\", \"datasets\": {\"data-9409cf149fcd97d1b95049972fed8558\": [{\"model\": \"Mazda RX4\", \"MPG\": 21.0, \"cylinders\": 6, \"displacement\": 160.0, \"HP\": 110, \"rear_axle_ratio\": 3.9, \"weight\": 2.62, \"qsec\": 16.46, \"vs\": 0, \"transmission\": 1, \"gears\": 4, \"carb\": 4}, {\"model\": \"Mazda RX4 Wag\", \"MPG\": 21.0, \"cylinders\": 6, \"displacement\": 160.0, \"HP\": 110, \"rear_axle_ratio\": 3.9, \"weight\": 2.875, \"qsec\": 17.02, \"vs\": 0, \"transmission\": 1, \"gears\": 4, \"carb\": 4}, {\"model\": \"Datsun 710\", \"MPG\": 22.8, \"cylinders\": 4, \"displacement\": 108.0, \"HP\": 93, \"rear_axle_ratio\": 3.85, \"weight\": 2.32, \"qsec\": 18.61, \"vs\": 1, \"transmission\": 1, \"gears\": 4, \"carb\": 1}, {\"model\": \"Hornet 4 Drive\", \"MPG\": 21.4, \"cylinders\": 6, \"displacement\": 258.0, \"HP\": 110, \"rear_axle_ratio\": 3.08, \"weight\": 3.215, \"qsec\": 19.44, \"vs\": 1, \"transmission\": 0, \"gears\": 3, \"carb\": 1}, {\"model\": \"Hornet Sportabout\", \"MPG\": 18.7, \"cylinders\": 8, \"displacement\": 360.0, \"HP\": 175, \"rear_axle_ratio\": 3.15, \"weight\": 3.44, \"qsec\": 17.02, \"vs\": 0, \"transmission\": 0, \"gears\": 3, \"carb\": 2}, {\"model\": \"Valiant\", \"MPG\": 18.1, \"cylinders\": 6, \"displacement\": 225.0, \"HP\": 105, \"rear_axle_ratio\": 2.76, \"weight\": 3.46, \"qsec\": 20.22, \"vs\": 1, \"transmission\": 0, \"gears\": 3, \"carb\": 1}, {\"model\": \"Duster 360\", \"MPG\": 14.3, \"cylinders\": 8, \"displacement\": 360.0, \"HP\": 245, \"rear_axle_ratio\": 3.21, \"weight\": 3.57, \"qsec\": 15.84, \"vs\": 0, \"transmission\": 0, \"gears\": 3, \"carb\": 4}, {\"model\": \"Merc 240D\", \"MPG\": 24.4, \"cylinders\": 4, \"displacement\": 146.7, \"HP\": 62, \"rear_axle_ratio\": 3.69, \"weight\": 3.19, \"qsec\": 20.0, \"vs\": 1, \"transmission\": 0, \"gears\": 4, \"carb\": 2}, {\"model\": \"Merc 230\", \"MPG\": 22.8, \"cylinders\": 4, \"displacement\": 140.8, \"HP\": 95, \"rear_axle_ratio\": 3.92, \"weight\": 3.15, \"qsec\": 22.9, \"vs\": 1, \"transmission\": 0, \"gears\": 4, \"carb\": 2}, {\"model\": \"Merc 280\", \"MPG\": 19.2, \"cylinders\": 6, \"displacement\": 167.6, \"HP\": 123, \"rear_axle_ratio\": 3.92, \"weight\": 3.44, \"qsec\": 18.3, \"vs\": 1, \"transmission\": 0, \"gears\": 4, \"carb\": 4}, {\"model\": \"Merc 280C\", \"MPG\": 17.8, \"cylinders\": 6, \"displacement\": 167.6, \"HP\": 123, \"rear_axle_ratio\": 3.92, \"weight\": 3.44, \"qsec\": 18.9, \"vs\": 1, \"transmission\": 0, \"gears\": 4, \"carb\": 4}, {\"model\": \"Merc 450SE\", \"MPG\": 16.4, \"cylinders\": 8, \"displacement\": 275.8, \"HP\": 180, \"rear_axle_ratio\": 3.07, \"weight\": 4.07, \"qsec\": 17.4, \"vs\": 0, \"transmission\": 0, \"gears\": 3, \"carb\": 3}, {\"model\": \"Merc 450SL\", \"MPG\": 17.3, \"cylinders\": 8, \"displacement\": 275.8, \"HP\": 180, \"rear_axle_ratio\": 3.07, \"weight\": 3.73, \"qsec\": 17.6, \"vs\": 0, \"transmission\": 0, \"gears\": 3, \"carb\": 3}, {\"model\": \"Merc 450SLC\", \"MPG\": 15.2, \"cylinders\": 8, \"displacement\": 275.8, \"HP\": 180, \"rear_axle_ratio\": 3.07, \"weight\": 3.78, \"qsec\": 18.0, \"vs\": 0, \"transmission\": 0, \"gears\": 3, \"carb\": 3}, {\"model\": \"Cadillac Fleetwood\", \"MPG\": 10.4, \"cylinders\": 8, \"displacement\": 472.0, \"HP\": 205, \"rear_axle_ratio\": 2.93, \"weight\": 5.25, \"qsec\": 17.98, \"vs\": 0, \"transmission\": 0, \"gears\": 3, \"carb\": 4}, {\"model\": \"Lincoln Continental\", \"MPG\": 10.4, \"cylinders\": 8, \"displacement\": 460.0, \"HP\": 215, \"rear_axle_ratio\": 3.0, \"weight\": 5.424, \"qsec\": 17.82, \"vs\": 0, \"transmission\": 0, \"gears\": 3, \"carb\": 4}, {\"model\": \"Chrysler Imperial\", \"MPG\": 14.7, \"cylinders\": 8, \"displacement\": 440.0, \"HP\": 230, \"rear_axle_ratio\": 3.23, \"weight\": 5.345, \"qsec\": 17.42, \"vs\": 0, \"transmission\": 0, \"gears\": 3, \"carb\": 4}, {\"model\": \"Fiat 128\", \"MPG\": 32.4, \"cylinders\": 4, \"displacement\": 78.7, \"HP\": 66, \"rear_axle_ratio\": 4.08, \"weight\": 2.2, \"qsec\": 19.47, \"vs\": 1, \"transmission\": 1, \"gears\": 4, \"carb\": 1}, {\"model\": \"Honda Civic\", \"MPG\": 30.4, \"cylinders\": 4, \"displacement\": 75.7, \"HP\": 52, \"rear_axle_ratio\": 4.93, \"weight\": 1.615, \"qsec\": 18.52, \"vs\": 1, \"transmission\": 1, \"gears\": 4, \"carb\": 2}, {\"model\": \"Toyota Corolla\", \"MPG\": 33.9, \"cylinders\": 4, \"displacement\": 71.1, \"HP\": 65, \"rear_axle_ratio\": 4.22, \"weight\": 1.835, \"qsec\": 19.9, \"vs\": 1, \"transmission\": 1, \"gears\": 4, \"carb\": 1}, {\"model\": \"Toyota Corona\", \"MPG\": 21.5, \"cylinders\": 4, \"displacement\": 120.1, \"HP\": 97, \"rear_axle_ratio\": 3.7, \"weight\": 2.465, \"qsec\": 20.01, \"vs\": 1, \"transmission\": 0, \"gears\": 3, \"carb\": 1}, {\"model\": \"Dodge Challenger\", \"MPG\": 15.5, \"cylinders\": 8, \"displacement\": 318.0, \"HP\": 150, \"rear_axle_ratio\": 2.76, \"weight\": 3.52, \"qsec\": 16.87, \"vs\": 0, \"transmission\": 0, \"gears\": 3, \"carb\": 2}, {\"model\": \"AMC Javelin\", \"MPG\": 15.2, \"cylinders\": 8, \"displacement\": 304.0, \"HP\": 150, \"rear_axle_ratio\": 3.15, \"weight\": 3.435, \"qsec\": 17.3, \"vs\": 0, \"transmission\": 0, \"gears\": 3, \"carb\": 2}, {\"model\": \"Camaro Z28\", \"MPG\": 13.3, \"cylinders\": 8, \"displacement\": 350.0, \"HP\": 245, \"rear_axle_ratio\": 3.73, \"weight\": 3.84, \"qsec\": 15.41, \"vs\": 0, \"transmission\": 0, \"gears\": 3, \"carb\": 4}, {\"model\": \"Pontiac Firebird\", \"MPG\": 19.2, \"cylinders\": 8, \"displacement\": 400.0, \"HP\": 175, \"rear_axle_ratio\": 3.08, \"weight\": 3.845, \"qsec\": 17.05, \"vs\": 0, \"transmission\": 0, \"gears\": 3, \"carb\": 2}, {\"model\": \"Fiat X1-9\", \"MPG\": 27.3, \"cylinders\": 4, \"displacement\": 79.0, \"HP\": 66, \"rear_axle_ratio\": 4.08, \"weight\": 1.935, \"qsec\": 18.9, \"vs\": 1, \"transmission\": 1, \"gears\": 4, \"carb\": 1}, {\"model\": \"Porsche 914-2\", \"MPG\": 26.0, \"cylinders\": 4, \"displacement\": 120.3, \"HP\": 91, \"rear_axle_ratio\": 4.43, \"weight\": 2.14, \"qsec\": 16.7, \"vs\": 0, \"transmission\": 1, \"gears\": 5, \"carb\": 2}, {\"model\": \"Lotus Europa\", \"MPG\": 30.4, \"cylinders\": 4, \"displacement\": 95.1, \"HP\": 113, \"rear_axle_ratio\": 3.77, \"weight\": 1.513, \"qsec\": 16.9, \"vs\": 1, \"transmission\": 1, \"gears\": 5, \"carb\": 2}, {\"model\": \"Ford Pantera L\", \"MPG\": 15.8, \"cylinders\": 8, \"displacement\": 351.0, \"HP\": 264, \"rear_axle_ratio\": 4.22, \"weight\": 3.17, \"qsec\": 14.5, \"vs\": 0, \"transmission\": 1, \"gears\": 5, \"carb\": 4}, {\"model\": \"Ferrari Dino\", \"MPG\": 19.7, \"cylinders\": 6, \"displacement\": 145.0, \"HP\": 175, \"rear_axle_ratio\": 3.62, \"weight\": 2.77, \"qsec\": 15.5, \"vs\": 0, \"transmission\": 1, \"gears\": 5, \"carb\": 6}, {\"model\": \"Maserati Bora\", \"MPG\": 15.0, \"cylinders\": 8, \"displacement\": 301.0, \"HP\": 335, \"rear_axle_ratio\": 3.54, \"weight\": 3.57, \"qsec\": 14.6, \"vs\": 0, \"transmission\": 1, \"gears\": 5, \"carb\": 8}, {\"model\": \"Volvo 142E\", \"MPG\": 21.4, \"cylinders\": 4, \"displacement\": 121.0, \"HP\": 109, \"rear_axle_ratio\": 4.11, \"weight\": 2.78, \"qsec\": 18.6, \"vs\": 1, \"transmission\": 1, \"gears\": 4, \"carb\": 2}]}}, {\"mode\": \"vega-lite\"});\n",
       "</script>"
      ],
      "text/plain": [
       "alt.Chart(...)"
      ]
     },
     "execution_count": 13,
     "metadata": {},
     "output_type": "execute_result"
    }
   ],
   "source": [
    "#3.1  use the \"bar\" mark to plot model to MPG\n",
    "\n",
    "alt.Chart(mtcars).mark_bar().encode(\n",
    "    x='model',\n",
    "    y='MPG'\n",
    ")"
   ]
  },
  {
   "cell_type": "markdown",
   "metadata": {
    "colab_type": "text",
    "id": "GBlpkxWbu0b_",
    "slideshow": {
     "slide_type": "skip"
    }
   },
   "source": [
    "It's a bit hard to read the text. See if you can rotate the plot:"
   ]
  },
  {
   "cell_type": "code",
   "execution_count": 14,
   "metadata": {
    "colab": {
     "base_uri": "https://localhost:8080/",
     "height": 703
    },
    "colab_type": "code",
    "id": "QMprwYj2u0cB",
    "outputId": "73af254b-baa9-4385-8340-6a51bd904415",
    "slideshow": {
     "slide_type": "subslide"
    }
   },
   "outputs": [
    {
     "data": {
      "text/html": [
       "\n",
       "<div id=\"altair-viz-f0949c0c4a964e589ac56e9470d8898a\"></div>\n",
       "<script type=\"text/javascript\">\n",
       "  var VEGA_DEBUG = (typeof VEGA_DEBUG == \"undefined\") ? {} : VEGA_DEBUG;\n",
       "  (function(spec, embedOpt){\n",
       "    let outputDiv = document.currentScript.previousElementSibling;\n",
       "    if (outputDiv.id !== \"altair-viz-f0949c0c4a964e589ac56e9470d8898a\") {\n",
       "      outputDiv = document.getElementById(\"altair-viz-f0949c0c4a964e589ac56e9470d8898a\");\n",
       "    }\n",
       "    const paths = {\n",
       "      \"vega\": \"https://cdn.jsdelivr.net/npm//vega@5?noext\",\n",
       "      \"vega-lib\": \"https://cdn.jsdelivr.net/npm//vega-lib?noext\",\n",
       "      \"vega-lite\": \"https://cdn.jsdelivr.net/npm//vega-lite@4.17.0?noext\",\n",
       "      \"vega-embed\": \"https://cdn.jsdelivr.net/npm//vega-embed@6?noext\",\n",
       "    };\n",
       "\n",
       "    function maybeLoadScript(lib, version) {\n",
       "      var key = `${lib.replace(\"-\", \"\")}_version`;\n",
       "      return (VEGA_DEBUG[key] == version) ?\n",
       "        Promise.resolve(paths[lib]) :\n",
       "        new Promise(function(resolve, reject) {\n",
       "          var s = document.createElement('script');\n",
       "          document.getElementsByTagName(\"head\")[0].appendChild(s);\n",
       "          s.async = true;\n",
       "          s.onload = () => {\n",
       "            VEGA_DEBUG[key] = version;\n",
       "            return resolve(paths[lib]);\n",
       "          };\n",
       "          s.onerror = () => reject(`Error loading script: ${paths[lib]}`);\n",
       "          s.src = paths[lib];\n",
       "        });\n",
       "    }\n",
       "\n",
       "    function showError(err) {\n",
       "      outputDiv.innerHTML = `<div class=\"error\" style=\"color:red;\">${err}</div>`;\n",
       "      throw err;\n",
       "    }\n",
       "\n",
       "    function displayChart(vegaEmbed) {\n",
       "      vegaEmbed(outputDiv, spec, embedOpt)\n",
       "        .catch(err => showError(`Javascript Error: ${err.message}<br>This usually means there's a typo in your chart specification. See the javascript console for the full traceback.`));\n",
       "    }\n",
       "\n",
       "    if(typeof define === \"function\" && define.amd) {\n",
       "      requirejs.config({paths});\n",
       "      require([\"vega-embed\"], displayChart, err => showError(`Error loading script: ${err.message}`));\n",
       "    } else {\n",
       "      maybeLoadScript(\"vega\", \"5\")\n",
       "        .then(() => maybeLoadScript(\"vega-lite\", \"4.17.0\"))\n",
       "        .then(() => maybeLoadScript(\"vega-embed\", \"6\"))\n",
       "        .catch(showError)\n",
       "        .then(() => displayChart(vegaEmbed));\n",
       "    }\n",
       "  })({\"config\": {\"view\": {\"continuousWidth\": 400, \"continuousHeight\": 300}}, \"data\": {\"name\": \"data-9409cf149fcd97d1b95049972fed8558\"}, \"mark\": \"bar\", \"encoding\": {\"x\": {\"field\": \"MPG\", \"type\": \"quantitative\"}, \"y\": {\"field\": \"model\", \"type\": \"nominal\"}}, \"$schema\": \"https://vega.github.io/schema/vega-lite/v4.17.0.json\", \"datasets\": {\"data-9409cf149fcd97d1b95049972fed8558\": [{\"model\": \"Mazda RX4\", \"MPG\": 21.0, \"cylinders\": 6, \"displacement\": 160.0, \"HP\": 110, \"rear_axle_ratio\": 3.9, \"weight\": 2.62, \"qsec\": 16.46, \"vs\": 0, \"transmission\": 1, \"gears\": 4, \"carb\": 4}, {\"model\": \"Mazda RX4 Wag\", \"MPG\": 21.0, \"cylinders\": 6, \"displacement\": 160.0, \"HP\": 110, \"rear_axle_ratio\": 3.9, \"weight\": 2.875, \"qsec\": 17.02, \"vs\": 0, \"transmission\": 1, \"gears\": 4, \"carb\": 4}, {\"model\": \"Datsun 710\", \"MPG\": 22.8, \"cylinders\": 4, \"displacement\": 108.0, \"HP\": 93, \"rear_axle_ratio\": 3.85, \"weight\": 2.32, \"qsec\": 18.61, \"vs\": 1, \"transmission\": 1, \"gears\": 4, \"carb\": 1}, {\"model\": \"Hornet 4 Drive\", \"MPG\": 21.4, \"cylinders\": 6, \"displacement\": 258.0, \"HP\": 110, \"rear_axle_ratio\": 3.08, \"weight\": 3.215, \"qsec\": 19.44, \"vs\": 1, \"transmission\": 0, \"gears\": 3, \"carb\": 1}, {\"model\": \"Hornet Sportabout\", \"MPG\": 18.7, \"cylinders\": 8, \"displacement\": 360.0, \"HP\": 175, \"rear_axle_ratio\": 3.15, \"weight\": 3.44, \"qsec\": 17.02, \"vs\": 0, \"transmission\": 0, \"gears\": 3, \"carb\": 2}, {\"model\": \"Valiant\", \"MPG\": 18.1, \"cylinders\": 6, \"displacement\": 225.0, \"HP\": 105, \"rear_axle_ratio\": 2.76, \"weight\": 3.46, \"qsec\": 20.22, \"vs\": 1, \"transmission\": 0, \"gears\": 3, \"carb\": 1}, {\"model\": \"Duster 360\", \"MPG\": 14.3, \"cylinders\": 8, \"displacement\": 360.0, \"HP\": 245, \"rear_axle_ratio\": 3.21, \"weight\": 3.57, \"qsec\": 15.84, \"vs\": 0, \"transmission\": 0, \"gears\": 3, \"carb\": 4}, {\"model\": \"Merc 240D\", \"MPG\": 24.4, \"cylinders\": 4, \"displacement\": 146.7, \"HP\": 62, \"rear_axle_ratio\": 3.69, \"weight\": 3.19, \"qsec\": 20.0, \"vs\": 1, \"transmission\": 0, \"gears\": 4, \"carb\": 2}, {\"model\": \"Merc 230\", \"MPG\": 22.8, \"cylinders\": 4, \"displacement\": 140.8, \"HP\": 95, \"rear_axle_ratio\": 3.92, \"weight\": 3.15, \"qsec\": 22.9, \"vs\": 1, \"transmission\": 0, \"gears\": 4, \"carb\": 2}, {\"model\": \"Merc 280\", \"MPG\": 19.2, \"cylinders\": 6, \"displacement\": 167.6, \"HP\": 123, \"rear_axle_ratio\": 3.92, \"weight\": 3.44, \"qsec\": 18.3, \"vs\": 1, \"transmission\": 0, \"gears\": 4, \"carb\": 4}, {\"model\": \"Merc 280C\", \"MPG\": 17.8, \"cylinders\": 6, \"displacement\": 167.6, \"HP\": 123, \"rear_axle_ratio\": 3.92, \"weight\": 3.44, \"qsec\": 18.9, \"vs\": 1, \"transmission\": 0, \"gears\": 4, \"carb\": 4}, {\"model\": \"Merc 450SE\", \"MPG\": 16.4, \"cylinders\": 8, \"displacement\": 275.8, \"HP\": 180, \"rear_axle_ratio\": 3.07, \"weight\": 4.07, \"qsec\": 17.4, \"vs\": 0, \"transmission\": 0, \"gears\": 3, \"carb\": 3}, {\"model\": \"Merc 450SL\", \"MPG\": 17.3, \"cylinders\": 8, \"displacement\": 275.8, \"HP\": 180, \"rear_axle_ratio\": 3.07, \"weight\": 3.73, \"qsec\": 17.6, \"vs\": 0, \"transmission\": 0, \"gears\": 3, \"carb\": 3}, {\"model\": \"Merc 450SLC\", \"MPG\": 15.2, \"cylinders\": 8, \"displacement\": 275.8, \"HP\": 180, \"rear_axle_ratio\": 3.07, \"weight\": 3.78, \"qsec\": 18.0, \"vs\": 0, \"transmission\": 0, \"gears\": 3, \"carb\": 3}, {\"model\": \"Cadillac Fleetwood\", \"MPG\": 10.4, \"cylinders\": 8, \"displacement\": 472.0, \"HP\": 205, \"rear_axle_ratio\": 2.93, \"weight\": 5.25, \"qsec\": 17.98, \"vs\": 0, \"transmission\": 0, \"gears\": 3, \"carb\": 4}, {\"model\": \"Lincoln Continental\", \"MPG\": 10.4, \"cylinders\": 8, \"displacement\": 460.0, \"HP\": 215, \"rear_axle_ratio\": 3.0, \"weight\": 5.424, \"qsec\": 17.82, \"vs\": 0, \"transmission\": 0, \"gears\": 3, \"carb\": 4}, {\"model\": \"Chrysler Imperial\", \"MPG\": 14.7, \"cylinders\": 8, \"displacement\": 440.0, \"HP\": 230, \"rear_axle_ratio\": 3.23, \"weight\": 5.345, \"qsec\": 17.42, \"vs\": 0, \"transmission\": 0, \"gears\": 3, \"carb\": 4}, {\"model\": \"Fiat 128\", \"MPG\": 32.4, \"cylinders\": 4, \"displacement\": 78.7, \"HP\": 66, \"rear_axle_ratio\": 4.08, \"weight\": 2.2, \"qsec\": 19.47, \"vs\": 1, \"transmission\": 1, \"gears\": 4, \"carb\": 1}, {\"model\": \"Honda Civic\", \"MPG\": 30.4, \"cylinders\": 4, \"displacement\": 75.7, \"HP\": 52, \"rear_axle_ratio\": 4.93, \"weight\": 1.615, \"qsec\": 18.52, \"vs\": 1, \"transmission\": 1, \"gears\": 4, \"carb\": 2}, {\"model\": \"Toyota Corolla\", \"MPG\": 33.9, \"cylinders\": 4, \"displacement\": 71.1, \"HP\": 65, \"rear_axle_ratio\": 4.22, \"weight\": 1.835, \"qsec\": 19.9, \"vs\": 1, \"transmission\": 1, \"gears\": 4, \"carb\": 1}, {\"model\": \"Toyota Corona\", \"MPG\": 21.5, \"cylinders\": 4, \"displacement\": 120.1, \"HP\": 97, \"rear_axle_ratio\": 3.7, \"weight\": 2.465, \"qsec\": 20.01, \"vs\": 1, \"transmission\": 0, \"gears\": 3, \"carb\": 1}, {\"model\": \"Dodge Challenger\", \"MPG\": 15.5, \"cylinders\": 8, \"displacement\": 318.0, \"HP\": 150, \"rear_axle_ratio\": 2.76, \"weight\": 3.52, \"qsec\": 16.87, \"vs\": 0, \"transmission\": 0, \"gears\": 3, \"carb\": 2}, {\"model\": \"AMC Javelin\", \"MPG\": 15.2, \"cylinders\": 8, \"displacement\": 304.0, \"HP\": 150, \"rear_axle_ratio\": 3.15, \"weight\": 3.435, \"qsec\": 17.3, \"vs\": 0, \"transmission\": 0, \"gears\": 3, \"carb\": 2}, {\"model\": \"Camaro Z28\", \"MPG\": 13.3, \"cylinders\": 8, \"displacement\": 350.0, \"HP\": 245, \"rear_axle_ratio\": 3.73, \"weight\": 3.84, \"qsec\": 15.41, \"vs\": 0, \"transmission\": 0, \"gears\": 3, \"carb\": 4}, {\"model\": \"Pontiac Firebird\", \"MPG\": 19.2, \"cylinders\": 8, \"displacement\": 400.0, \"HP\": 175, \"rear_axle_ratio\": 3.08, \"weight\": 3.845, \"qsec\": 17.05, \"vs\": 0, \"transmission\": 0, \"gears\": 3, \"carb\": 2}, {\"model\": \"Fiat X1-9\", \"MPG\": 27.3, \"cylinders\": 4, \"displacement\": 79.0, \"HP\": 66, \"rear_axle_ratio\": 4.08, \"weight\": 1.935, \"qsec\": 18.9, \"vs\": 1, \"transmission\": 1, \"gears\": 4, \"carb\": 1}, {\"model\": \"Porsche 914-2\", \"MPG\": 26.0, \"cylinders\": 4, \"displacement\": 120.3, \"HP\": 91, \"rear_axle_ratio\": 4.43, \"weight\": 2.14, \"qsec\": 16.7, \"vs\": 0, \"transmission\": 1, \"gears\": 5, \"carb\": 2}, {\"model\": \"Lotus Europa\", \"MPG\": 30.4, \"cylinders\": 4, \"displacement\": 95.1, \"HP\": 113, \"rear_axle_ratio\": 3.77, \"weight\": 1.513, \"qsec\": 16.9, \"vs\": 1, \"transmission\": 1, \"gears\": 5, \"carb\": 2}, {\"model\": \"Ford Pantera L\", \"MPG\": 15.8, \"cylinders\": 8, \"displacement\": 351.0, \"HP\": 264, \"rear_axle_ratio\": 4.22, \"weight\": 3.17, \"qsec\": 14.5, \"vs\": 0, \"transmission\": 1, \"gears\": 5, \"carb\": 4}, {\"model\": \"Ferrari Dino\", \"MPG\": 19.7, \"cylinders\": 6, \"displacement\": 145.0, \"HP\": 175, \"rear_axle_ratio\": 3.62, \"weight\": 2.77, \"qsec\": 15.5, \"vs\": 0, \"transmission\": 1, \"gears\": 5, \"carb\": 6}, {\"model\": \"Maserati Bora\", \"MPG\": 15.0, \"cylinders\": 8, \"displacement\": 301.0, \"HP\": 335, \"rear_axle_ratio\": 3.54, \"weight\": 3.57, \"qsec\": 14.6, \"vs\": 0, \"transmission\": 1, \"gears\": 5, \"carb\": 8}, {\"model\": \"Volvo 142E\", \"MPG\": 21.4, \"cylinders\": 4, \"displacement\": 121.0, \"HP\": 109, \"rear_axle_ratio\": 4.11, \"weight\": 2.78, \"qsec\": 18.6, \"vs\": 1, \"transmission\": 1, \"gears\": 4, \"carb\": 2}]}}, {\"mode\": \"vega-lite\"});\n",
       "</script>"
      ],
      "text/plain": [
       "alt.Chart(...)"
      ]
     },
     "execution_count": 14,
     "metadata": {},
     "output_type": "execute_result"
    }
   ],
   "source": [
    "#3.2 Rotate the chart\n",
    "\n",
    "alt.Chart(mtcars).mark_bar().encode(\n",
    "    y='model',\n",
    "    x='MPG'\n",
    ")"
   ]
  },
  {
   "cell_type": "markdown",
   "metadata": {
    "colab_type": "text",
    "id": "N3ZIv3Juu0cH",
    "slideshow": {
     "slide_type": "skip"
    }
   },
   "source": [
    "Often bar charts are used to \"bin\" data. For example, let's say we want to plot a bar chart of the number of cars in our dataset that are either manual or automatic. To do this, we would need to bin based on transmission type. We could use Pandas to do this. Here's one way to do this:"
   ]
  },
  {
   "cell_type": "code",
   "execution_count": 15,
   "metadata": {
    "colab": {
     "base_uri": "https://localhost:8080/",
     "height": 111
    },
    "colab_type": "code",
    "id": "kwf9JdtLxlAH",
    "outputId": "036d32b6-6c56-4ceb-f21c-60ac840cb195",
    "slideshow": {
     "slide_type": "subslide"
    }
   },
   "outputs": [
    {
     "data": {
      "text/html": [
       "<div>\n",
       "<style scoped>\n",
       "    .dataframe tbody tr th:only-of-type {\n",
       "        vertical-align: middle;\n",
       "    }\n",
       "\n",
       "    .dataframe tbody tr th {\n",
       "        vertical-align: top;\n",
       "    }\n",
       "\n",
       "    .dataframe thead th {\n",
       "        text-align: right;\n",
       "    }\n",
       "</style>\n",
       "<table border=\"1\" class=\"dataframe\">\n",
       "  <thead>\n",
       "    <tr style=\"text-align: right;\">\n",
       "      <th></th>\n",
       "      <th>transmission</th>\n",
       "      <th>count</th>\n",
       "    </tr>\n",
       "  </thead>\n",
       "  <tbody>\n",
       "    <tr>\n",
       "      <th>0</th>\n",
       "      <td>0</td>\n",
       "      <td>19</td>\n",
       "    </tr>\n",
       "    <tr>\n",
       "      <th>1</th>\n",
       "      <td>1</td>\n",
       "      <td>13</td>\n",
       "    </tr>\n",
       "  </tbody>\n",
       "</table>\n",
       "</div>"
      ],
      "text/plain": [
       "   transmission  count\n",
       "0             0     19\n",
       "1             1     13"
      ]
     },
     "execution_count": 15,
     "metadata": {},
     "output_type": "execute_result"
    }
   ],
   "source": [
    "#3.3  Bin the cars to count how many cars have a specific transmission\n",
    "#     We'll do this in Pandas first\n",
    "# reset-index: don't want transmission to be in Index, only transmission and model variable\n",
    "\n",
    "binned = mtcars.groupby(\"transmission\").count().reset_index()[['transmission','model']]\n",
    "binned = binned.rename(columns={'model':'count'})\n",
    "binned"
   ]
  },
  {
   "cell_type": "markdown",
   "metadata": {
    "colab_type": "text",
    "id": "8Nj8jKwdu0cL",
    "slideshow": {
     "slide_type": "skip"
    }
   },
   "source": [
    "From this, we can build our bar chart:"
   ]
  },
  {
   "cell_type": "code",
   "execution_count": 16,
   "metadata": {
    "colab": {
     "base_uri": "https://localhost:8080/",
     "height": 364
    },
    "colab_type": "code",
    "id": "KFpJ089ZxtJf",
    "outputId": "9ba548de-b7e8-4cc6-d2ce-f15c0f8e5faa",
    "slideshow": {
     "slide_type": "subslide"
    }
   },
   "outputs": [
    {
     "data": {
      "text/html": [
       "\n",
       "<div id=\"altair-viz-61934349c4b546f8bffe00ba05bbcb6c\"></div>\n",
       "<script type=\"text/javascript\">\n",
       "  var VEGA_DEBUG = (typeof VEGA_DEBUG == \"undefined\") ? {} : VEGA_DEBUG;\n",
       "  (function(spec, embedOpt){\n",
       "    let outputDiv = document.currentScript.previousElementSibling;\n",
       "    if (outputDiv.id !== \"altair-viz-61934349c4b546f8bffe00ba05bbcb6c\") {\n",
       "      outputDiv = document.getElementById(\"altair-viz-61934349c4b546f8bffe00ba05bbcb6c\");\n",
       "    }\n",
       "    const paths = {\n",
       "      \"vega\": \"https://cdn.jsdelivr.net/npm//vega@5?noext\",\n",
       "      \"vega-lib\": \"https://cdn.jsdelivr.net/npm//vega-lib?noext\",\n",
       "      \"vega-lite\": \"https://cdn.jsdelivr.net/npm//vega-lite@4.17.0?noext\",\n",
       "      \"vega-embed\": \"https://cdn.jsdelivr.net/npm//vega-embed@6?noext\",\n",
       "    };\n",
       "\n",
       "    function maybeLoadScript(lib, version) {\n",
       "      var key = `${lib.replace(\"-\", \"\")}_version`;\n",
       "      return (VEGA_DEBUG[key] == version) ?\n",
       "        Promise.resolve(paths[lib]) :\n",
       "        new Promise(function(resolve, reject) {\n",
       "          var s = document.createElement('script');\n",
       "          document.getElementsByTagName(\"head\")[0].appendChild(s);\n",
       "          s.async = true;\n",
       "          s.onload = () => {\n",
       "            VEGA_DEBUG[key] = version;\n",
       "            return resolve(paths[lib]);\n",
       "          };\n",
       "          s.onerror = () => reject(`Error loading script: ${paths[lib]}`);\n",
       "          s.src = paths[lib];\n",
       "        });\n",
       "    }\n",
       "\n",
       "    function showError(err) {\n",
       "      outputDiv.innerHTML = `<div class=\"error\" style=\"color:red;\">${err}</div>`;\n",
       "      throw err;\n",
       "    }\n",
       "\n",
       "    function displayChart(vegaEmbed) {\n",
       "      vegaEmbed(outputDiv, spec, embedOpt)\n",
       "        .catch(err => showError(`Javascript Error: ${err.message}<br>This usually means there's a typo in your chart specification. See the javascript console for the full traceback.`));\n",
       "    }\n",
       "\n",
       "    if(typeof define === \"function\" && define.amd) {\n",
       "      requirejs.config({paths});\n",
       "      require([\"vega-embed\"], displayChart, err => showError(`Error loading script: ${err.message}`));\n",
       "    } else {\n",
       "      maybeLoadScript(\"vega\", \"5\")\n",
       "        .then(() => maybeLoadScript(\"vega-lite\", \"4.17.0\"))\n",
       "        .then(() => maybeLoadScript(\"vega-embed\", \"6\"))\n",
       "        .catch(showError)\n",
       "        .then(() => displayChart(vegaEmbed));\n",
       "    }\n",
       "  })({\"config\": {\"view\": {\"continuousWidth\": 400, \"continuousHeight\": 300}}, \"data\": {\"name\": \"data-e10d7afdddeaa9ab26dbde25c00b85e4\"}, \"mark\": \"bar\", \"encoding\": {\"x\": {\"field\": \"transmission\", \"type\": \"nominal\"}, \"y\": {\"field\": \"count\", \"type\": \"quantitative\"}}, \"$schema\": \"https://vega.github.io/schema/vega-lite/v4.17.0.json\", \"datasets\": {\"data-e10d7afdddeaa9ab26dbde25c00b85e4\": [{\"transmission\": 0, \"count\": 19}, {\"transmission\": 1, \"count\": 13}]}}, {\"mode\": \"vega-lite\"});\n",
       "</script>"
      ],
      "text/plain": [
       "alt.Chart(...)"
      ]
     },
     "execution_count": 16,
     "metadata": {},
     "output_type": "execute_result"
    }
   ],
   "source": [
    "#3.4 Plot transmission vs. Count\n",
    "\n",
    "alt.Chart(binned).mark_bar().encode(\n",
    "    x='transmission:N',\n",
    "    y='count'\n",
    ")"
   ]
  },
  {
   "cell_type": "markdown",
   "metadata": {
    "colab_type": "text",
    "id": "5plzwDcWu0cO",
    "slideshow": {
     "slide_type": "skip"
    }
   },
   "source": [
    "Because this kind of operation is quite common, the Grammar of Graphics (generally), and Altair (specifically), provide an easier way to do this. \n",
    "\n",
    "We can tell Altair that we would like to bin our data (the default behavior for a nominal variable is to bin based on the categorical value... in this case 0 or 1).\n",
    "\n",
    "`x=alt.X('transmission:N',bin=True)`\n",
    "\n",
    "This will group all cars into two buckets: 1 and 0. At that point, we have to tell Altair what we want to know about each of those buckets. In this case we just want to know how many cars of each type we have. So we can use the special operation `count()`:"
   ]
  },
  {
   "cell_type": "code",
   "execution_count": 17,
   "metadata": {
    "colab": {
     "base_uri": "https://localhost:8080/",
     "height": 387
    },
    "colab_type": "code",
    "id": "O9xBN9MAu0cP",
    "outputId": "d055e2d6-b490-42e6-ce0c-6a274ef75e76",
    "slideshow": {
     "slide_type": "subslide"
    }
   },
   "outputs": [
    {
     "data": {
      "text/html": [
       "\n",
       "<div id=\"altair-viz-157f7e3f15bd47e08a0645c5bd278b3f\"></div>\n",
       "<script type=\"text/javascript\">\n",
       "  var VEGA_DEBUG = (typeof VEGA_DEBUG == \"undefined\") ? {} : VEGA_DEBUG;\n",
       "  (function(spec, embedOpt){\n",
       "    let outputDiv = document.currentScript.previousElementSibling;\n",
       "    if (outputDiv.id !== \"altair-viz-157f7e3f15bd47e08a0645c5bd278b3f\") {\n",
       "      outputDiv = document.getElementById(\"altair-viz-157f7e3f15bd47e08a0645c5bd278b3f\");\n",
       "    }\n",
       "    const paths = {\n",
       "      \"vega\": \"https://cdn.jsdelivr.net/npm//vega@5?noext\",\n",
       "      \"vega-lib\": \"https://cdn.jsdelivr.net/npm//vega-lib?noext\",\n",
       "      \"vega-lite\": \"https://cdn.jsdelivr.net/npm//vega-lite@4.17.0?noext\",\n",
       "      \"vega-embed\": \"https://cdn.jsdelivr.net/npm//vega-embed@6?noext\",\n",
       "    };\n",
       "\n",
       "    function maybeLoadScript(lib, version) {\n",
       "      var key = `${lib.replace(\"-\", \"\")}_version`;\n",
       "      return (VEGA_DEBUG[key] == version) ?\n",
       "        Promise.resolve(paths[lib]) :\n",
       "        new Promise(function(resolve, reject) {\n",
       "          var s = document.createElement('script');\n",
       "          document.getElementsByTagName(\"head\")[0].appendChild(s);\n",
       "          s.async = true;\n",
       "          s.onload = () => {\n",
       "            VEGA_DEBUG[key] = version;\n",
       "            return resolve(paths[lib]);\n",
       "          };\n",
       "          s.onerror = () => reject(`Error loading script: ${paths[lib]}`);\n",
       "          s.src = paths[lib];\n",
       "        });\n",
       "    }\n",
       "\n",
       "    function showError(err) {\n",
       "      outputDiv.innerHTML = `<div class=\"error\" style=\"color:red;\">${err}</div>`;\n",
       "      throw err;\n",
       "    }\n",
       "\n",
       "    function displayChart(vegaEmbed) {\n",
       "      vegaEmbed(outputDiv, spec, embedOpt)\n",
       "        .catch(err => showError(`Javascript Error: ${err.message}<br>This usually means there's a typo in your chart specification. See the javascript console for the full traceback.`));\n",
       "    }\n",
       "\n",
       "    if(typeof define === \"function\" && define.amd) {\n",
       "      requirejs.config({paths});\n",
       "      require([\"vega-embed\"], displayChart, err => showError(`Error loading script: ${err.message}`));\n",
       "    } else {\n",
       "      maybeLoadScript(\"vega\", \"5\")\n",
       "        .then(() => maybeLoadScript(\"vega-lite\", \"4.17.0\"))\n",
       "        .then(() => maybeLoadScript(\"vega-embed\", \"6\"))\n",
       "        .catch(showError)\n",
       "        .then(() => displayChart(vegaEmbed));\n",
       "    }\n",
       "  })({\"config\": {\"view\": {\"continuousWidth\": 400, \"continuousHeight\": 300}}, \"data\": {\"name\": \"data-9409cf149fcd97d1b95049972fed8558\"}, \"mark\": \"bar\", \"encoding\": {\"x\": {\"bin\": true, \"field\": \"transmission\", \"type\": \"nominal\"}, \"y\": {\"aggregate\": \"count\", \"type\": \"quantitative\"}}, \"$schema\": \"https://vega.github.io/schema/vega-lite/v4.17.0.json\", \"datasets\": {\"data-9409cf149fcd97d1b95049972fed8558\": [{\"model\": \"Mazda RX4\", \"MPG\": 21.0, \"cylinders\": 6, \"displacement\": 160.0, \"HP\": 110, \"rear_axle_ratio\": 3.9, \"weight\": 2.62, \"qsec\": 16.46, \"vs\": 0, \"transmission\": 1, \"gears\": 4, \"carb\": 4}, {\"model\": \"Mazda RX4 Wag\", \"MPG\": 21.0, \"cylinders\": 6, \"displacement\": 160.0, \"HP\": 110, \"rear_axle_ratio\": 3.9, \"weight\": 2.875, \"qsec\": 17.02, \"vs\": 0, \"transmission\": 1, \"gears\": 4, \"carb\": 4}, {\"model\": \"Datsun 710\", \"MPG\": 22.8, \"cylinders\": 4, \"displacement\": 108.0, \"HP\": 93, \"rear_axle_ratio\": 3.85, \"weight\": 2.32, \"qsec\": 18.61, \"vs\": 1, \"transmission\": 1, \"gears\": 4, \"carb\": 1}, {\"model\": \"Hornet 4 Drive\", \"MPG\": 21.4, \"cylinders\": 6, \"displacement\": 258.0, \"HP\": 110, \"rear_axle_ratio\": 3.08, \"weight\": 3.215, \"qsec\": 19.44, \"vs\": 1, \"transmission\": 0, \"gears\": 3, \"carb\": 1}, {\"model\": \"Hornet Sportabout\", \"MPG\": 18.7, \"cylinders\": 8, \"displacement\": 360.0, \"HP\": 175, \"rear_axle_ratio\": 3.15, \"weight\": 3.44, \"qsec\": 17.02, \"vs\": 0, \"transmission\": 0, \"gears\": 3, \"carb\": 2}, {\"model\": \"Valiant\", \"MPG\": 18.1, \"cylinders\": 6, \"displacement\": 225.0, \"HP\": 105, \"rear_axle_ratio\": 2.76, \"weight\": 3.46, \"qsec\": 20.22, \"vs\": 1, \"transmission\": 0, \"gears\": 3, \"carb\": 1}, {\"model\": \"Duster 360\", \"MPG\": 14.3, \"cylinders\": 8, \"displacement\": 360.0, \"HP\": 245, \"rear_axle_ratio\": 3.21, \"weight\": 3.57, \"qsec\": 15.84, \"vs\": 0, \"transmission\": 0, \"gears\": 3, \"carb\": 4}, {\"model\": \"Merc 240D\", \"MPG\": 24.4, \"cylinders\": 4, \"displacement\": 146.7, \"HP\": 62, \"rear_axle_ratio\": 3.69, \"weight\": 3.19, \"qsec\": 20.0, \"vs\": 1, \"transmission\": 0, \"gears\": 4, \"carb\": 2}, {\"model\": \"Merc 230\", \"MPG\": 22.8, \"cylinders\": 4, \"displacement\": 140.8, \"HP\": 95, \"rear_axle_ratio\": 3.92, \"weight\": 3.15, \"qsec\": 22.9, \"vs\": 1, \"transmission\": 0, \"gears\": 4, \"carb\": 2}, {\"model\": \"Merc 280\", \"MPG\": 19.2, \"cylinders\": 6, \"displacement\": 167.6, \"HP\": 123, \"rear_axle_ratio\": 3.92, \"weight\": 3.44, \"qsec\": 18.3, \"vs\": 1, \"transmission\": 0, \"gears\": 4, \"carb\": 4}, {\"model\": \"Merc 280C\", \"MPG\": 17.8, \"cylinders\": 6, \"displacement\": 167.6, \"HP\": 123, \"rear_axle_ratio\": 3.92, \"weight\": 3.44, \"qsec\": 18.9, \"vs\": 1, \"transmission\": 0, \"gears\": 4, \"carb\": 4}, {\"model\": \"Merc 450SE\", \"MPG\": 16.4, \"cylinders\": 8, \"displacement\": 275.8, \"HP\": 180, \"rear_axle_ratio\": 3.07, \"weight\": 4.07, \"qsec\": 17.4, \"vs\": 0, \"transmission\": 0, \"gears\": 3, \"carb\": 3}, {\"model\": \"Merc 450SL\", \"MPG\": 17.3, \"cylinders\": 8, \"displacement\": 275.8, \"HP\": 180, \"rear_axle_ratio\": 3.07, \"weight\": 3.73, \"qsec\": 17.6, \"vs\": 0, \"transmission\": 0, \"gears\": 3, \"carb\": 3}, {\"model\": \"Merc 450SLC\", \"MPG\": 15.2, \"cylinders\": 8, \"displacement\": 275.8, \"HP\": 180, \"rear_axle_ratio\": 3.07, \"weight\": 3.78, \"qsec\": 18.0, \"vs\": 0, \"transmission\": 0, \"gears\": 3, \"carb\": 3}, {\"model\": \"Cadillac Fleetwood\", \"MPG\": 10.4, \"cylinders\": 8, \"displacement\": 472.0, \"HP\": 205, \"rear_axle_ratio\": 2.93, \"weight\": 5.25, \"qsec\": 17.98, \"vs\": 0, \"transmission\": 0, \"gears\": 3, \"carb\": 4}, {\"model\": \"Lincoln Continental\", \"MPG\": 10.4, \"cylinders\": 8, \"displacement\": 460.0, \"HP\": 215, \"rear_axle_ratio\": 3.0, \"weight\": 5.424, \"qsec\": 17.82, \"vs\": 0, \"transmission\": 0, \"gears\": 3, \"carb\": 4}, {\"model\": \"Chrysler Imperial\", \"MPG\": 14.7, \"cylinders\": 8, \"displacement\": 440.0, \"HP\": 230, \"rear_axle_ratio\": 3.23, \"weight\": 5.345, \"qsec\": 17.42, \"vs\": 0, \"transmission\": 0, \"gears\": 3, \"carb\": 4}, {\"model\": \"Fiat 128\", \"MPG\": 32.4, \"cylinders\": 4, \"displacement\": 78.7, \"HP\": 66, \"rear_axle_ratio\": 4.08, \"weight\": 2.2, \"qsec\": 19.47, \"vs\": 1, \"transmission\": 1, \"gears\": 4, \"carb\": 1}, {\"model\": \"Honda Civic\", \"MPG\": 30.4, \"cylinders\": 4, \"displacement\": 75.7, \"HP\": 52, \"rear_axle_ratio\": 4.93, \"weight\": 1.615, \"qsec\": 18.52, \"vs\": 1, \"transmission\": 1, \"gears\": 4, \"carb\": 2}, {\"model\": \"Toyota Corolla\", \"MPG\": 33.9, \"cylinders\": 4, \"displacement\": 71.1, \"HP\": 65, \"rear_axle_ratio\": 4.22, \"weight\": 1.835, \"qsec\": 19.9, \"vs\": 1, \"transmission\": 1, \"gears\": 4, \"carb\": 1}, {\"model\": \"Toyota Corona\", \"MPG\": 21.5, \"cylinders\": 4, \"displacement\": 120.1, \"HP\": 97, \"rear_axle_ratio\": 3.7, \"weight\": 2.465, \"qsec\": 20.01, \"vs\": 1, \"transmission\": 0, \"gears\": 3, \"carb\": 1}, {\"model\": \"Dodge Challenger\", \"MPG\": 15.5, \"cylinders\": 8, \"displacement\": 318.0, \"HP\": 150, \"rear_axle_ratio\": 2.76, \"weight\": 3.52, \"qsec\": 16.87, \"vs\": 0, \"transmission\": 0, \"gears\": 3, \"carb\": 2}, {\"model\": \"AMC Javelin\", \"MPG\": 15.2, \"cylinders\": 8, \"displacement\": 304.0, \"HP\": 150, \"rear_axle_ratio\": 3.15, \"weight\": 3.435, \"qsec\": 17.3, \"vs\": 0, \"transmission\": 0, \"gears\": 3, \"carb\": 2}, {\"model\": \"Camaro Z28\", \"MPG\": 13.3, \"cylinders\": 8, \"displacement\": 350.0, \"HP\": 245, \"rear_axle_ratio\": 3.73, \"weight\": 3.84, \"qsec\": 15.41, \"vs\": 0, \"transmission\": 0, \"gears\": 3, \"carb\": 4}, {\"model\": \"Pontiac Firebird\", \"MPG\": 19.2, \"cylinders\": 8, \"displacement\": 400.0, \"HP\": 175, \"rear_axle_ratio\": 3.08, \"weight\": 3.845, \"qsec\": 17.05, \"vs\": 0, \"transmission\": 0, \"gears\": 3, \"carb\": 2}, {\"model\": \"Fiat X1-9\", \"MPG\": 27.3, \"cylinders\": 4, \"displacement\": 79.0, \"HP\": 66, \"rear_axle_ratio\": 4.08, \"weight\": 1.935, \"qsec\": 18.9, \"vs\": 1, \"transmission\": 1, \"gears\": 4, \"carb\": 1}, {\"model\": \"Porsche 914-2\", \"MPG\": 26.0, \"cylinders\": 4, \"displacement\": 120.3, \"HP\": 91, \"rear_axle_ratio\": 4.43, \"weight\": 2.14, \"qsec\": 16.7, \"vs\": 0, \"transmission\": 1, \"gears\": 5, \"carb\": 2}, {\"model\": \"Lotus Europa\", \"MPG\": 30.4, \"cylinders\": 4, \"displacement\": 95.1, \"HP\": 113, \"rear_axle_ratio\": 3.77, \"weight\": 1.513, \"qsec\": 16.9, \"vs\": 1, \"transmission\": 1, \"gears\": 5, \"carb\": 2}, {\"model\": \"Ford Pantera L\", \"MPG\": 15.8, \"cylinders\": 8, \"displacement\": 351.0, \"HP\": 264, \"rear_axle_ratio\": 4.22, \"weight\": 3.17, \"qsec\": 14.5, \"vs\": 0, \"transmission\": 1, \"gears\": 5, \"carb\": 4}, {\"model\": \"Ferrari Dino\", \"MPG\": 19.7, \"cylinders\": 6, \"displacement\": 145.0, \"HP\": 175, \"rear_axle_ratio\": 3.62, \"weight\": 2.77, \"qsec\": 15.5, \"vs\": 0, \"transmission\": 1, \"gears\": 5, \"carb\": 6}, {\"model\": \"Maserati Bora\", \"MPG\": 15.0, \"cylinders\": 8, \"displacement\": 301.0, \"HP\": 335, \"rear_axle_ratio\": 3.54, \"weight\": 3.57, \"qsec\": 14.6, \"vs\": 0, \"transmission\": 1, \"gears\": 5, \"carb\": 8}, {\"model\": \"Volvo 142E\", \"MPG\": 21.4, \"cylinders\": 4, \"displacement\": 121.0, \"HP\": 109, \"rear_axle_ratio\": 4.11, \"weight\": 2.78, \"qsec\": 18.6, \"vs\": 1, \"transmission\": 1, \"gears\": 4, \"carb\": 2}]}}, {\"mode\": \"vega-lite\"});\n",
       "</script>"
      ],
      "text/plain": [
       "alt.Chart(...)"
      ]
     },
     "execution_count": 17,
     "metadata": {},
     "output_type": "execute_result"
    }
   ],
   "source": [
    "#3.5  Now in Altair\n",
    "\n",
    "alt.Chart(mtcars).mark_bar().encode(\n",
    "    x=alt.X('transmission:N',bin=True),\n",
    "    y=alt.Y('count()'),\n",
    ")"
   ]
  },
  {
   "cell_type": "markdown",
   "metadata": {
    "colab_type": "text",
    "id": "e9xJxYuYu0cT",
    "slideshow": {
     "slide_type": "skip"
    }
   },
   "source": [
    "Note that we can ask lots of other things about data in each bin. For example, we can ask for the average MPG (replace `count()` with `mean(MPG)`).\n",
    "\n",
    "Or we could ask for the max horse power (`max(HP)`) or the median cylinders or any number of other aggregations. (see more on the [Altair site](https://altair-viz.github.io/user_guide/transform.html)). Try some of your own here:"
   ]
  },
  {
   "cell_type": "code",
   "execution_count": 18,
   "metadata": {
    "colab": {
     "base_uri": "https://localhost:8080/",
     "height": 387
    },
    "colab_type": "code",
    "id": "ae-pSFyju0cW",
    "outputId": "4688a067-49ed-4379-e6a0-eb15dda68476",
    "slideshow": {
     "slide_type": "subslide"
    }
   },
   "outputs": [
    {
     "data": {
      "text/html": [
       "\n",
       "<div id=\"altair-viz-caade7ee70074694b04fb6bd0106fbff\"></div>\n",
       "<script type=\"text/javascript\">\n",
       "  var VEGA_DEBUG = (typeof VEGA_DEBUG == \"undefined\") ? {} : VEGA_DEBUG;\n",
       "  (function(spec, embedOpt){\n",
       "    let outputDiv = document.currentScript.previousElementSibling;\n",
       "    if (outputDiv.id !== \"altair-viz-caade7ee70074694b04fb6bd0106fbff\") {\n",
       "      outputDiv = document.getElementById(\"altair-viz-caade7ee70074694b04fb6bd0106fbff\");\n",
       "    }\n",
       "    const paths = {\n",
       "      \"vega\": \"https://cdn.jsdelivr.net/npm//vega@5?noext\",\n",
       "      \"vega-lib\": \"https://cdn.jsdelivr.net/npm//vega-lib?noext\",\n",
       "      \"vega-lite\": \"https://cdn.jsdelivr.net/npm//vega-lite@4.17.0?noext\",\n",
       "      \"vega-embed\": \"https://cdn.jsdelivr.net/npm//vega-embed@6?noext\",\n",
       "    };\n",
       "\n",
       "    function maybeLoadScript(lib, version) {\n",
       "      var key = `${lib.replace(\"-\", \"\")}_version`;\n",
       "      return (VEGA_DEBUG[key] == version) ?\n",
       "        Promise.resolve(paths[lib]) :\n",
       "        new Promise(function(resolve, reject) {\n",
       "          var s = document.createElement('script');\n",
       "          document.getElementsByTagName(\"head\")[0].appendChild(s);\n",
       "          s.async = true;\n",
       "          s.onload = () => {\n",
       "            VEGA_DEBUG[key] = version;\n",
       "            return resolve(paths[lib]);\n",
       "          };\n",
       "          s.onerror = () => reject(`Error loading script: ${paths[lib]}`);\n",
       "          s.src = paths[lib];\n",
       "        });\n",
       "    }\n",
       "\n",
       "    function showError(err) {\n",
       "      outputDiv.innerHTML = `<div class=\"error\" style=\"color:red;\">${err}</div>`;\n",
       "      throw err;\n",
       "    }\n",
       "\n",
       "    function displayChart(vegaEmbed) {\n",
       "      vegaEmbed(outputDiv, spec, embedOpt)\n",
       "        .catch(err => showError(`Javascript Error: ${err.message}<br>This usually means there's a typo in your chart specification. See the javascript console for the full traceback.`));\n",
       "    }\n",
       "\n",
       "    if(typeof define === \"function\" && define.amd) {\n",
       "      requirejs.config({paths});\n",
       "      require([\"vega-embed\"], displayChart, err => showError(`Error loading script: ${err.message}`));\n",
       "    } else {\n",
       "      maybeLoadScript(\"vega\", \"5\")\n",
       "        .then(() => maybeLoadScript(\"vega-lite\", \"4.17.0\"))\n",
       "        .then(() => maybeLoadScript(\"vega-embed\", \"6\"))\n",
       "        .catch(showError)\n",
       "        .then(() => displayChart(vegaEmbed));\n",
       "    }\n",
       "  })({\"config\": {\"view\": {\"continuousWidth\": 400, \"continuousHeight\": 300}}, \"data\": {\"name\": \"data-9409cf149fcd97d1b95049972fed8558\"}, \"mark\": \"bar\", \"encoding\": {\"x\": {\"bin\": true, \"field\": \"transmission\", \"type\": \"nominal\"}, \"y\": {\"aggregate\": \"max\", \"field\": \"HP\", \"type\": \"quantitative\"}}, \"$schema\": \"https://vega.github.io/schema/vega-lite/v4.17.0.json\", \"datasets\": {\"data-9409cf149fcd97d1b95049972fed8558\": [{\"model\": \"Mazda RX4\", \"MPG\": 21.0, \"cylinders\": 6, \"displacement\": 160.0, \"HP\": 110, \"rear_axle_ratio\": 3.9, \"weight\": 2.62, \"qsec\": 16.46, \"vs\": 0, \"transmission\": 1, \"gears\": 4, \"carb\": 4}, {\"model\": \"Mazda RX4 Wag\", \"MPG\": 21.0, \"cylinders\": 6, \"displacement\": 160.0, \"HP\": 110, \"rear_axle_ratio\": 3.9, \"weight\": 2.875, \"qsec\": 17.02, \"vs\": 0, \"transmission\": 1, \"gears\": 4, \"carb\": 4}, {\"model\": \"Datsun 710\", \"MPG\": 22.8, \"cylinders\": 4, \"displacement\": 108.0, \"HP\": 93, \"rear_axle_ratio\": 3.85, \"weight\": 2.32, \"qsec\": 18.61, \"vs\": 1, \"transmission\": 1, \"gears\": 4, \"carb\": 1}, {\"model\": \"Hornet 4 Drive\", \"MPG\": 21.4, \"cylinders\": 6, \"displacement\": 258.0, \"HP\": 110, \"rear_axle_ratio\": 3.08, \"weight\": 3.215, \"qsec\": 19.44, \"vs\": 1, \"transmission\": 0, \"gears\": 3, \"carb\": 1}, {\"model\": \"Hornet Sportabout\", \"MPG\": 18.7, \"cylinders\": 8, \"displacement\": 360.0, \"HP\": 175, \"rear_axle_ratio\": 3.15, \"weight\": 3.44, \"qsec\": 17.02, \"vs\": 0, \"transmission\": 0, \"gears\": 3, \"carb\": 2}, {\"model\": \"Valiant\", \"MPG\": 18.1, \"cylinders\": 6, \"displacement\": 225.0, \"HP\": 105, \"rear_axle_ratio\": 2.76, \"weight\": 3.46, \"qsec\": 20.22, \"vs\": 1, \"transmission\": 0, \"gears\": 3, \"carb\": 1}, {\"model\": \"Duster 360\", \"MPG\": 14.3, \"cylinders\": 8, \"displacement\": 360.0, \"HP\": 245, \"rear_axle_ratio\": 3.21, \"weight\": 3.57, \"qsec\": 15.84, \"vs\": 0, \"transmission\": 0, \"gears\": 3, \"carb\": 4}, {\"model\": \"Merc 240D\", \"MPG\": 24.4, \"cylinders\": 4, \"displacement\": 146.7, \"HP\": 62, \"rear_axle_ratio\": 3.69, \"weight\": 3.19, \"qsec\": 20.0, \"vs\": 1, \"transmission\": 0, \"gears\": 4, \"carb\": 2}, {\"model\": \"Merc 230\", \"MPG\": 22.8, \"cylinders\": 4, \"displacement\": 140.8, \"HP\": 95, \"rear_axle_ratio\": 3.92, \"weight\": 3.15, \"qsec\": 22.9, \"vs\": 1, \"transmission\": 0, \"gears\": 4, \"carb\": 2}, {\"model\": \"Merc 280\", \"MPG\": 19.2, \"cylinders\": 6, \"displacement\": 167.6, \"HP\": 123, \"rear_axle_ratio\": 3.92, \"weight\": 3.44, \"qsec\": 18.3, \"vs\": 1, \"transmission\": 0, \"gears\": 4, \"carb\": 4}, {\"model\": \"Merc 280C\", \"MPG\": 17.8, \"cylinders\": 6, \"displacement\": 167.6, \"HP\": 123, \"rear_axle_ratio\": 3.92, \"weight\": 3.44, \"qsec\": 18.9, \"vs\": 1, \"transmission\": 0, \"gears\": 4, \"carb\": 4}, {\"model\": \"Merc 450SE\", \"MPG\": 16.4, \"cylinders\": 8, \"displacement\": 275.8, \"HP\": 180, \"rear_axle_ratio\": 3.07, \"weight\": 4.07, \"qsec\": 17.4, \"vs\": 0, \"transmission\": 0, \"gears\": 3, \"carb\": 3}, {\"model\": \"Merc 450SL\", \"MPG\": 17.3, \"cylinders\": 8, \"displacement\": 275.8, \"HP\": 180, \"rear_axle_ratio\": 3.07, \"weight\": 3.73, \"qsec\": 17.6, \"vs\": 0, \"transmission\": 0, \"gears\": 3, \"carb\": 3}, {\"model\": \"Merc 450SLC\", \"MPG\": 15.2, \"cylinders\": 8, \"displacement\": 275.8, \"HP\": 180, \"rear_axle_ratio\": 3.07, \"weight\": 3.78, \"qsec\": 18.0, \"vs\": 0, \"transmission\": 0, \"gears\": 3, \"carb\": 3}, {\"model\": \"Cadillac Fleetwood\", \"MPG\": 10.4, \"cylinders\": 8, \"displacement\": 472.0, \"HP\": 205, \"rear_axle_ratio\": 2.93, \"weight\": 5.25, \"qsec\": 17.98, \"vs\": 0, \"transmission\": 0, \"gears\": 3, \"carb\": 4}, {\"model\": \"Lincoln Continental\", \"MPG\": 10.4, \"cylinders\": 8, \"displacement\": 460.0, \"HP\": 215, \"rear_axle_ratio\": 3.0, \"weight\": 5.424, \"qsec\": 17.82, \"vs\": 0, \"transmission\": 0, \"gears\": 3, \"carb\": 4}, {\"model\": \"Chrysler Imperial\", \"MPG\": 14.7, \"cylinders\": 8, \"displacement\": 440.0, \"HP\": 230, \"rear_axle_ratio\": 3.23, \"weight\": 5.345, \"qsec\": 17.42, \"vs\": 0, \"transmission\": 0, \"gears\": 3, \"carb\": 4}, {\"model\": \"Fiat 128\", \"MPG\": 32.4, \"cylinders\": 4, \"displacement\": 78.7, \"HP\": 66, \"rear_axle_ratio\": 4.08, \"weight\": 2.2, \"qsec\": 19.47, \"vs\": 1, \"transmission\": 1, \"gears\": 4, \"carb\": 1}, {\"model\": \"Honda Civic\", \"MPG\": 30.4, \"cylinders\": 4, \"displacement\": 75.7, \"HP\": 52, \"rear_axle_ratio\": 4.93, \"weight\": 1.615, \"qsec\": 18.52, \"vs\": 1, \"transmission\": 1, \"gears\": 4, \"carb\": 2}, {\"model\": \"Toyota Corolla\", \"MPG\": 33.9, \"cylinders\": 4, \"displacement\": 71.1, \"HP\": 65, \"rear_axle_ratio\": 4.22, \"weight\": 1.835, \"qsec\": 19.9, \"vs\": 1, \"transmission\": 1, \"gears\": 4, \"carb\": 1}, {\"model\": \"Toyota Corona\", \"MPG\": 21.5, \"cylinders\": 4, \"displacement\": 120.1, \"HP\": 97, \"rear_axle_ratio\": 3.7, \"weight\": 2.465, \"qsec\": 20.01, \"vs\": 1, \"transmission\": 0, \"gears\": 3, \"carb\": 1}, {\"model\": \"Dodge Challenger\", \"MPG\": 15.5, \"cylinders\": 8, \"displacement\": 318.0, \"HP\": 150, \"rear_axle_ratio\": 2.76, \"weight\": 3.52, \"qsec\": 16.87, \"vs\": 0, \"transmission\": 0, \"gears\": 3, \"carb\": 2}, {\"model\": \"AMC Javelin\", \"MPG\": 15.2, \"cylinders\": 8, \"displacement\": 304.0, \"HP\": 150, \"rear_axle_ratio\": 3.15, \"weight\": 3.435, \"qsec\": 17.3, \"vs\": 0, \"transmission\": 0, \"gears\": 3, \"carb\": 2}, {\"model\": \"Camaro Z28\", \"MPG\": 13.3, \"cylinders\": 8, \"displacement\": 350.0, \"HP\": 245, \"rear_axle_ratio\": 3.73, \"weight\": 3.84, \"qsec\": 15.41, \"vs\": 0, \"transmission\": 0, \"gears\": 3, \"carb\": 4}, {\"model\": \"Pontiac Firebird\", \"MPG\": 19.2, \"cylinders\": 8, \"displacement\": 400.0, \"HP\": 175, \"rear_axle_ratio\": 3.08, \"weight\": 3.845, \"qsec\": 17.05, \"vs\": 0, \"transmission\": 0, \"gears\": 3, \"carb\": 2}, {\"model\": \"Fiat X1-9\", \"MPG\": 27.3, \"cylinders\": 4, \"displacement\": 79.0, \"HP\": 66, \"rear_axle_ratio\": 4.08, \"weight\": 1.935, \"qsec\": 18.9, \"vs\": 1, \"transmission\": 1, \"gears\": 4, \"carb\": 1}, {\"model\": \"Porsche 914-2\", \"MPG\": 26.0, \"cylinders\": 4, \"displacement\": 120.3, \"HP\": 91, \"rear_axle_ratio\": 4.43, \"weight\": 2.14, \"qsec\": 16.7, \"vs\": 0, \"transmission\": 1, \"gears\": 5, \"carb\": 2}, {\"model\": \"Lotus Europa\", \"MPG\": 30.4, \"cylinders\": 4, \"displacement\": 95.1, \"HP\": 113, \"rear_axle_ratio\": 3.77, \"weight\": 1.513, \"qsec\": 16.9, \"vs\": 1, \"transmission\": 1, \"gears\": 5, \"carb\": 2}, {\"model\": \"Ford Pantera L\", \"MPG\": 15.8, \"cylinders\": 8, \"displacement\": 351.0, \"HP\": 264, \"rear_axle_ratio\": 4.22, \"weight\": 3.17, \"qsec\": 14.5, \"vs\": 0, \"transmission\": 1, \"gears\": 5, \"carb\": 4}, {\"model\": \"Ferrari Dino\", \"MPG\": 19.7, \"cylinders\": 6, \"displacement\": 145.0, \"HP\": 175, \"rear_axle_ratio\": 3.62, \"weight\": 2.77, \"qsec\": 15.5, \"vs\": 0, \"transmission\": 1, \"gears\": 5, \"carb\": 6}, {\"model\": \"Maserati Bora\", \"MPG\": 15.0, \"cylinders\": 8, \"displacement\": 301.0, \"HP\": 335, \"rear_axle_ratio\": 3.54, \"weight\": 3.57, \"qsec\": 14.6, \"vs\": 0, \"transmission\": 1, \"gears\": 5, \"carb\": 8}, {\"model\": \"Volvo 142E\", \"MPG\": 21.4, \"cylinders\": 4, \"displacement\": 121.0, \"HP\": 109, \"rear_axle_ratio\": 4.11, \"weight\": 2.78, \"qsec\": 18.6, \"vs\": 1, \"transmission\": 1, \"gears\": 4, \"carb\": 2}]}}, {\"mode\": \"vega-lite\"});\n",
       "</script>"
      ],
      "text/plain": [
       "alt.Chart(...)"
      ]
     },
     "execution_count": 18,
     "metadata": {},
     "output_type": "execute_result"
    }
   ],
   "source": [
    "#3.6 Can compute different things for each bin\n",
    "#    For example, the max HP for each transmission type\n",
    "\n",
    "alt.Chart(mtcars).mark_bar().encode(\n",
    "    x=alt.X('transmission:N',bin=True),\n",
    "    y=alt.Y('max(HP)')\n",
    ")"
   ]
  },
  {
   "cell_type": "markdown",
   "metadata": {
    "colab_type": "text",
    "id": "HToL5065u0ce",
    "slideshow": {
     "slide_type": "skip"
    }
   },
   "source": [
    "We can bin data based on numerical properties as well. For example, we can generate a histogram of weights for our cars:"
   ]
  },
  {
   "cell_type": "code",
   "execution_count": 19,
   "metadata": {
    "colab": {
     "base_uri": "https://localhost:8080/",
     "height": 368
    },
    "colab_type": "code",
    "id": "u1IIgY1Ru0cf",
    "outputId": "47ce1630-7461-45d6-909c-26edd016dd90",
    "slideshow": {
     "slide_type": "subslide"
    }
   },
   "outputs": [
    {
     "data": {
      "text/html": [
       "\n",
       "<div id=\"altair-viz-176748d661ac407799018a4c4843e63f\"></div>\n",
       "<script type=\"text/javascript\">\n",
       "  var VEGA_DEBUG = (typeof VEGA_DEBUG == \"undefined\") ? {} : VEGA_DEBUG;\n",
       "  (function(spec, embedOpt){\n",
       "    let outputDiv = document.currentScript.previousElementSibling;\n",
       "    if (outputDiv.id !== \"altair-viz-176748d661ac407799018a4c4843e63f\") {\n",
       "      outputDiv = document.getElementById(\"altair-viz-176748d661ac407799018a4c4843e63f\");\n",
       "    }\n",
       "    const paths = {\n",
       "      \"vega\": \"https://cdn.jsdelivr.net/npm//vega@5?noext\",\n",
       "      \"vega-lib\": \"https://cdn.jsdelivr.net/npm//vega-lib?noext\",\n",
       "      \"vega-lite\": \"https://cdn.jsdelivr.net/npm//vega-lite@4.17.0?noext\",\n",
       "      \"vega-embed\": \"https://cdn.jsdelivr.net/npm//vega-embed@6?noext\",\n",
       "    };\n",
       "\n",
       "    function maybeLoadScript(lib, version) {\n",
       "      var key = `${lib.replace(\"-\", \"\")}_version`;\n",
       "      return (VEGA_DEBUG[key] == version) ?\n",
       "        Promise.resolve(paths[lib]) :\n",
       "        new Promise(function(resolve, reject) {\n",
       "          var s = document.createElement('script');\n",
       "          document.getElementsByTagName(\"head\")[0].appendChild(s);\n",
       "          s.async = true;\n",
       "          s.onload = () => {\n",
       "            VEGA_DEBUG[key] = version;\n",
       "            return resolve(paths[lib]);\n",
       "          };\n",
       "          s.onerror = () => reject(`Error loading script: ${paths[lib]}`);\n",
       "          s.src = paths[lib];\n",
       "        });\n",
       "    }\n",
       "\n",
       "    function showError(err) {\n",
       "      outputDiv.innerHTML = `<div class=\"error\" style=\"color:red;\">${err}</div>`;\n",
       "      throw err;\n",
       "    }\n",
       "\n",
       "    function displayChart(vegaEmbed) {\n",
       "      vegaEmbed(outputDiv, spec, embedOpt)\n",
       "        .catch(err => showError(`Javascript Error: ${err.message}<br>This usually means there's a typo in your chart specification. See the javascript console for the full traceback.`));\n",
       "    }\n",
       "\n",
       "    if(typeof define === \"function\" && define.amd) {\n",
       "      requirejs.config({paths});\n",
       "      require([\"vega-embed\"], displayChart, err => showError(`Error loading script: ${err.message}`));\n",
       "    } else {\n",
       "      maybeLoadScript(\"vega\", \"5\")\n",
       "        .then(() => maybeLoadScript(\"vega-lite\", \"4.17.0\"))\n",
       "        .then(() => maybeLoadScript(\"vega-embed\", \"6\"))\n",
       "        .catch(showError)\n",
       "        .then(() => displayChart(vegaEmbed));\n",
       "    }\n",
       "  })({\"config\": {\"view\": {\"continuousWidth\": 400, \"continuousHeight\": 300}}, \"data\": {\"name\": \"data-9409cf149fcd97d1b95049972fed8558\"}, \"mark\": \"bar\", \"encoding\": {\"x\": {\"bin\": true, \"field\": \"weight\", \"type\": \"quantitative\"}, \"y\": {\"aggregate\": \"count\", \"type\": \"quantitative\"}}, \"$schema\": \"https://vega.github.io/schema/vega-lite/v4.17.0.json\", \"datasets\": {\"data-9409cf149fcd97d1b95049972fed8558\": [{\"model\": \"Mazda RX4\", \"MPG\": 21.0, \"cylinders\": 6, \"displacement\": 160.0, \"HP\": 110, \"rear_axle_ratio\": 3.9, \"weight\": 2.62, \"qsec\": 16.46, \"vs\": 0, \"transmission\": 1, \"gears\": 4, \"carb\": 4}, {\"model\": \"Mazda RX4 Wag\", \"MPG\": 21.0, \"cylinders\": 6, \"displacement\": 160.0, \"HP\": 110, \"rear_axle_ratio\": 3.9, \"weight\": 2.875, \"qsec\": 17.02, \"vs\": 0, \"transmission\": 1, \"gears\": 4, \"carb\": 4}, {\"model\": \"Datsun 710\", \"MPG\": 22.8, \"cylinders\": 4, \"displacement\": 108.0, \"HP\": 93, \"rear_axle_ratio\": 3.85, \"weight\": 2.32, \"qsec\": 18.61, \"vs\": 1, \"transmission\": 1, \"gears\": 4, \"carb\": 1}, {\"model\": \"Hornet 4 Drive\", \"MPG\": 21.4, \"cylinders\": 6, \"displacement\": 258.0, \"HP\": 110, \"rear_axle_ratio\": 3.08, \"weight\": 3.215, \"qsec\": 19.44, \"vs\": 1, \"transmission\": 0, \"gears\": 3, \"carb\": 1}, {\"model\": \"Hornet Sportabout\", \"MPG\": 18.7, \"cylinders\": 8, \"displacement\": 360.0, \"HP\": 175, \"rear_axle_ratio\": 3.15, \"weight\": 3.44, \"qsec\": 17.02, \"vs\": 0, \"transmission\": 0, \"gears\": 3, \"carb\": 2}, {\"model\": \"Valiant\", \"MPG\": 18.1, \"cylinders\": 6, \"displacement\": 225.0, \"HP\": 105, \"rear_axle_ratio\": 2.76, \"weight\": 3.46, \"qsec\": 20.22, \"vs\": 1, \"transmission\": 0, \"gears\": 3, \"carb\": 1}, {\"model\": \"Duster 360\", \"MPG\": 14.3, \"cylinders\": 8, \"displacement\": 360.0, \"HP\": 245, \"rear_axle_ratio\": 3.21, \"weight\": 3.57, \"qsec\": 15.84, \"vs\": 0, \"transmission\": 0, \"gears\": 3, \"carb\": 4}, {\"model\": \"Merc 240D\", \"MPG\": 24.4, \"cylinders\": 4, \"displacement\": 146.7, \"HP\": 62, \"rear_axle_ratio\": 3.69, \"weight\": 3.19, \"qsec\": 20.0, \"vs\": 1, \"transmission\": 0, \"gears\": 4, \"carb\": 2}, {\"model\": \"Merc 230\", \"MPG\": 22.8, \"cylinders\": 4, \"displacement\": 140.8, \"HP\": 95, \"rear_axle_ratio\": 3.92, \"weight\": 3.15, \"qsec\": 22.9, \"vs\": 1, \"transmission\": 0, \"gears\": 4, \"carb\": 2}, {\"model\": \"Merc 280\", \"MPG\": 19.2, \"cylinders\": 6, \"displacement\": 167.6, \"HP\": 123, \"rear_axle_ratio\": 3.92, \"weight\": 3.44, \"qsec\": 18.3, \"vs\": 1, \"transmission\": 0, \"gears\": 4, \"carb\": 4}, {\"model\": \"Merc 280C\", \"MPG\": 17.8, \"cylinders\": 6, \"displacement\": 167.6, \"HP\": 123, \"rear_axle_ratio\": 3.92, \"weight\": 3.44, \"qsec\": 18.9, \"vs\": 1, \"transmission\": 0, \"gears\": 4, \"carb\": 4}, {\"model\": \"Merc 450SE\", \"MPG\": 16.4, \"cylinders\": 8, \"displacement\": 275.8, \"HP\": 180, \"rear_axle_ratio\": 3.07, \"weight\": 4.07, \"qsec\": 17.4, \"vs\": 0, \"transmission\": 0, \"gears\": 3, \"carb\": 3}, {\"model\": \"Merc 450SL\", \"MPG\": 17.3, \"cylinders\": 8, \"displacement\": 275.8, \"HP\": 180, \"rear_axle_ratio\": 3.07, \"weight\": 3.73, \"qsec\": 17.6, \"vs\": 0, \"transmission\": 0, \"gears\": 3, \"carb\": 3}, {\"model\": \"Merc 450SLC\", \"MPG\": 15.2, \"cylinders\": 8, \"displacement\": 275.8, \"HP\": 180, \"rear_axle_ratio\": 3.07, \"weight\": 3.78, \"qsec\": 18.0, \"vs\": 0, \"transmission\": 0, \"gears\": 3, \"carb\": 3}, {\"model\": \"Cadillac Fleetwood\", \"MPG\": 10.4, \"cylinders\": 8, \"displacement\": 472.0, \"HP\": 205, \"rear_axle_ratio\": 2.93, \"weight\": 5.25, \"qsec\": 17.98, \"vs\": 0, \"transmission\": 0, \"gears\": 3, \"carb\": 4}, {\"model\": \"Lincoln Continental\", \"MPG\": 10.4, \"cylinders\": 8, \"displacement\": 460.0, \"HP\": 215, \"rear_axle_ratio\": 3.0, \"weight\": 5.424, \"qsec\": 17.82, \"vs\": 0, \"transmission\": 0, \"gears\": 3, \"carb\": 4}, {\"model\": \"Chrysler Imperial\", \"MPG\": 14.7, \"cylinders\": 8, \"displacement\": 440.0, \"HP\": 230, \"rear_axle_ratio\": 3.23, \"weight\": 5.345, \"qsec\": 17.42, \"vs\": 0, \"transmission\": 0, \"gears\": 3, \"carb\": 4}, {\"model\": \"Fiat 128\", \"MPG\": 32.4, \"cylinders\": 4, \"displacement\": 78.7, \"HP\": 66, \"rear_axle_ratio\": 4.08, \"weight\": 2.2, \"qsec\": 19.47, \"vs\": 1, \"transmission\": 1, \"gears\": 4, \"carb\": 1}, {\"model\": \"Honda Civic\", \"MPG\": 30.4, \"cylinders\": 4, \"displacement\": 75.7, \"HP\": 52, \"rear_axle_ratio\": 4.93, \"weight\": 1.615, \"qsec\": 18.52, \"vs\": 1, \"transmission\": 1, \"gears\": 4, \"carb\": 2}, {\"model\": \"Toyota Corolla\", \"MPG\": 33.9, \"cylinders\": 4, \"displacement\": 71.1, \"HP\": 65, \"rear_axle_ratio\": 4.22, \"weight\": 1.835, \"qsec\": 19.9, \"vs\": 1, \"transmission\": 1, \"gears\": 4, \"carb\": 1}, {\"model\": \"Toyota Corona\", \"MPG\": 21.5, \"cylinders\": 4, \"displacement\": 120.1, \"HP\": 97, \"rear_axle_ratio\": 3.7, \"weight\": 2.465, \"qsec\": 20.01, \"vs\": 1, \"transmission\": 0, \"gears\": 3, \"carb\": 1}, {\"model\": \"Dodge Challenger\", \"MPG\": 15.5, \"cylinders\": 8, \"displacement\": 318.0, \"HP\": 150, \"rear_axle_ratio\": 2.76, \"weight\": 3.52, \"qsec\": 16.87, \"vs\": 0, \"transmission\": 0, \"gears\": 3, \"carb\": 2}, {\"model\": \"AMC Javelin\", \"MPG\": 15.2, \"cylinders\": 8, \"displacement\": 304.0, \"HP\": 150, \"rear_axle_ratio\": 3.15, \"weight\": 3.435, \"qsec\": 17.3, \"vs\": 0, \"transmission\": 0, \"gears\": 3, \"carb\": 2}, {\"model\": \"Camaro Z28\", \"MPG\": 13.3, \"cylinders\": 8, \"displacement\": 350.0, \"HP\": 245, \"rear_axle_ratio\": 3.73, \"weight\": 3.84, \"qsec\": 15.41, \"vs\": 0, \"transmission\": 0, \"gears\": 3, \"carb\": 4}, {\"model\": \"Pontiac Firebird\", \"MPG\": 19.2, \"cylinders\": 8, \"displacement\": 400.0, \"HP\": 175, \"rear_axle_ratio\": 3.08, \"weight\": 3.845, \"qsec\": 17.05, \"vs\": 0, \"transmission\": 0, \"gears\": 3, \"carb\": 2}, {\"model\": \"Fiat X1-9\", \"MPG\": 27.3, \"cylinders\": 4, \"displacement\": 79.0, \"HP\": 66, \"rear_axle_ratio\": 4.08, \"weight\": 1.935, \"qsec\": 18.9, \"vs\": 1, \"transmission\": 1, \"gears\": 4, \"carb\": 1}, {\"model\": \"Porsche 914-2\", \"MPG\": 26.0, \"cylinders\": 4, \"displacement\": 120.3, \"HP\": 91, \"rear_axle_ratio\": 4.43, \"weight\": 2.14, \"qsec\": 16.7, \"vs\": 0, \"transmission\": 1, \"gears\": 5, \"carb\": 2}, {\"model\": \"Lotus Europa\", \"MPG\": 30.4, \"cylinders\": 4, \"displacement\": 95.1, \"HP\": 113, \"rear_axle_ratio\": 3.77, \"weight\": 1.513, \"qsec\": 16.9, \"vs\": 1, \"transmission\": 1, \"gears\": 5, \"carb\": 2}, {\"model\": \"Ford Pantera L\", \"MPG\": 15.8, \"cylinders\": 8, \"displacement\": 351.0, \"HP\": 264, \"rear_axle_ratio\": 4.22, \"weight\": 3.17, \"qsec\": 14.5, \"vs\": 0, \"transmission\": 1, \"gears\": 5, \"carb\": 4}, {\"model\": \"Ferrari Dino\", \"MPG\": 19.7, \"cylinders\": 6, \"displacement\": 145.0, \"HP\": 175, \"rear_axle_ratio\": 3.62, \"weight\": 2.77, \"qsec\": 15.5, \"vs\": 0, \"transmission\": 1, \"gears\": 5, \"carb\": 6}, {\"model\": \"Maserati Bora\", \"MPG\": 15.0, \"cylinders\": 8, \"displacement\": 301.0, \"HP\": 335, \"rear_axle_ratio\": 3.54, \"weight\": 3.57, \"qsec\": 14.6, \"vs\": 0, \"transmission\": 1, \"gears\": 5, \"carb\": 8}, {\"model\": \"Volvo 142E\", \"MPG\": 21.4, \"cylinders\": 4, \"displacement\": 121.0, \"HP\": 109, \"rear_axle_ratio\": 4.11, \"weight\": 2.78, \"qsec\": 18.6, \"vs\": 1, \"transmission\": 1, \"gears\": 4, \"carb\": 2}]}}, {\"mode\": \"vega-lite\"});\n",
       "</script>"
      ],
      "text/plain": [
       "alt.Chart(...)"
      ]
     },
     "execution_count": 19,
     "metadata": {},
     "output_type": "execute_result"
    }
   ],
   "source": [
    "#3.7  Generate a simple histogram on a Quantiative variable\n",
    "#     bin on Weight and count how many in each bin\n",
    "\n",
    "alt.Chart(mtcars).mark_bar().encode(\n",
    "    x=alt.X('weight',bin=True),\n",
    "    y=alt.Y('count()')\n",
    ")"
   ]
  },
  {
   "cell_type": "markdown",
   "metadata": {
    "colab_type": "text",
    "id": "rpS16CNuu0cn",
    "slideshow": {
     "slide_type": "skip"
    }
   },
   "source": [
    "As with most things in Altair, bins can be modified by using a special function to generate additional grammar of graphics commands. Bins, in particular, can be modified with the [BinParams](https://altair-viz.github.io/user_guide/generated/core/altair.BinParams.html#altair.BinParams) method. A simple example is making more bins:"
   ]
  },
  {
   "cell_type": "code",
   "execution_count": 20,
   "metadata": {
    "colab": {
     "base_uri": "https://localhost:8080/",
     "height": 368
    },
    "colab_type": "code",
    "id": "FjROYXgAu0cp",
    "outputId": "6bdccfe7-bc60-4efb-fb24-257616d2071d",
    "slideshow": {
     "slide_type": "subslide"
    }
   },
   "outputs": [
    {
     "data": {
      "text/html": [
       "\n",
       "<div id=\"altair-viz-7720555fd63049dfa7669df027489aa4\"></div>\n",
       "<script type=\"text/javascript\">\n",
       "  var VEGA_DEBUG = (typeof VEGA_DEBUG == \"undefined\") ? {} : VEGA_DEBUG;\n",
       "  (function(spec, embedOpt){\n",
       "    let outputDiv = document.currentScript.previousElementSibling;\n",
       "    if (outputDiv.id !== \"altair-viz-7720555fd63049dfa7669df027489aa4\") {\n",
       "      outputDiv = document.getElementById(\"altair-viz-7720555fd63049dfa7669df027489aa4\");\n",
       "    }\n",
       "    const paths = {\n",
       "      \"vega\": \"https://cdn.jsdelivr.net/npm//vega@5?noext\",\n",
       "      \"vega-lib\": \"https://cdn.jsdelivr.net/npm//vega-lib?noext\",\n",
       "      \"vega-lite\": \"https://cdn.jsdelivr.net/npm//vega-lite@4.17.0?noext\",\n",
       "      \"vega-embed\": \"https://cdn.jsdelivr.net/npm//vega-embed@6?noext\",\n",
       "    };\n",
       "\n",
       "    function maybeLoadScript(lib, version) {\n",
       "      var key = `${lib.replace(\"-\", \"\")}_version`;\n",
       "      return (VEGA_DEBUG[key] == version) ?\n",
       "        Promise.resolve(paths[lib]) :\n",
       "        new Promise(function(resolve, reject) {\n",
       "          var s = document.createElement('script');\n",
       "          document.getElementsByTagName(\"head\")[0].appendChild(s);\n",
       "          s.async = true;\n",
       "          s.onload = () => {\n",
       "            VEGA_DEBUG[key] = version;\n",
       "            return resolve(paths[lib]);\n",
       "          };\n",
       "          s.onerror = () => reject(`Error loading script: ${paths[lib]}`);\n",
       "          s.src = paths[lib];\n",
       "        });\n",
       "    }\n",
       "\n",
       "    function showError(err) {\n",
       "      outputDiv.innerHTML = `<div class=\"error\" style=\"color:red;\">${err}</div>`;\n",
       "      throw err;\n",
       "    }\n",
       "\n",
       "    function displayChart(vegaEmbed) {\n",
       "      vegaEmbed(outputDiv, spec, embedOpt)\n",
       "        .catch(err => showError(`Javascript Error: ${err.message}<br>This usually means there's a typo in your chart specification. See the javascript console for the full traceback.`));\n",
       "    }\n",
       "\n",
       "    if(typeof define === \"function\" && define.amd) {\n",
       "      requirejs.config({paths});\n",
       "      require([\"vega-embed\"], displayChart, err => showError(`Error loading script: ${err.message}`));\n",
       "    } else {\n",
       "      maybeLoadScript(\"vega\", \"5\")\n",
       "        .then(() => maybeLoadScript(\"vega-lite\", \"4.17.0\"))\n",
       "        .then(() => maybeLoadScript(\"vega-embed\", \"6\"))\n",
       "        .catch(showError)\n",
       "        .then(() => displayChart(vegaEmbed));\n",
       "    }\n",
       "  })({\"config\": {\"view\": {\"continuousWidth\": 400, \"continuousHeight\": 300}}, \"data\": {\"name\": \"data-9409cf149fcd97d1b95049972fed8558\"}, \"mark\": \"bar\", \"encoding\": {\"x\": {\"bin\": {\"maxbins\": 20}, \"field\": \"weight\", \"type\": \"quantitative\"}, \"y\": {\"aggregate\": \"count\", \"type\": \"quantitative\"}}, \"$schema\": \"https://vega.github.io/schema/vega-lite/v4.17.0.json\", \"datasets\": {\"data-9409cf149fcd97d1b95049972fed8558\": [{\"model\": \"Mazda RX4\", \"MPG\": 21.0, \"cylinders\": 6, \"displacement\": 160.0, \"HP\": 110, \"rear_axle_ratio\": 3.9, \"weight\": 2.62, \"qsec\": 16.46, \"vs\": 0, \"transmission\": 1, \"gears\": 4, \"carb\": 4}, {\"model\": \"Mazda RX4 Wag\", \"MPG\": 21.0, \"cylinders\": 6, \"displacement\": 160.0, \"HP\": 110, \"rear_axle_ratio\": 3.9, \"weight\": 2.875, \"qsec\": 17.02, \"vs\": 0, \"transmission\": 1, \"gears\": 4, \"carb\": 4}, {\"model\": \"Datsun 710\", \"MPG\": 22.8, \"cylinders\": 4, \"displacement\": 108.0, \"HP\": 93, \"rear_axle_ratio\": 3.85, \"weight\": 2.32, \"qsec\": 18.61, \"vs\": 1, \"transmission\": 1, \"gears\": 4, \"carb\": 1}, {\"model\": \"Hornet 4 Drive\", \"MPG\": 21.4, \"cylinders\": 6, \"displacement\": 258.0, \"HP\": 110, \"rear_axle_ratio\": 3.08, \"weight\": 3.215, \"qsec\": 19.44, \"vs\": 1, \"transmission\": 0, \"gears\": 3, \"carb\": 1}, {\"model\": \"Hornet Sportabout\", \"MPG\": 18.7, \"cylinders\": 8, \"displacement\": 360.0, \"HP\": 175, \"rear_axle_ratio\": 3.15, \"weight\": 3.44, \"qsec\": 17.02, \"vs\": 0, \"transmission\": 0, \"gears\": 3, \"carb\": 2}, {\"model\": \"Valiant\", \"MPG\": 18.1, \"cylinders\": 6, \"displacement\": 225.0, \"HP\": 105, \"rear_axle_ratio\": 2.76, \"weight\": 3.46, \"qsec\": 20.22, \"vs\": 1, \"transmission\": 0, \"gears\": 3, \"carb\": 1}, {\"model\": \"Duster 360\", \"MPG\": 14.3, \"cylinders\": 8, \"displacement\": 360.0, \"HP\": 245, \"rear_axle_ratio\": 3.21, \"weight\": 3.57, \"qsec\": 15.84, \"vs\": 0, \"transmission\": 0, \"gears\": 3, \"carb\": 4}, {\"model\": \"Merc 240D\", \"MPG\": 24.4, \"cylinders\": 4, \"displacement\": 146.7, \"HP\": 62, \"rear_axle_ratio\": 3.69, \"weight\": 3.19, \"qsec\": 20.0, \"vs\": 1, \"transmission\": 0, \"gears\": 4, \"carb\": 2}, {\"model\": \"Merc 230\", \"MPG\": 22.8, \"cylinders\": 4, \"displacement\": 140.8, \"HP\": 95, \"rear_axle_ratio\": 3.92, \"weight\": 3.15, \"qsec\": 22.9, \"vs\": 1, \"transmission\": 0, \"gears\": 4, \"carb\": 2}, {\"model\": \"Merc 280\", \"MPG\": 19.2, \"cylinders\": 6, \"displacement\": 167.6, \"HP\": 123, \"rear_axle_ratio\": 3.92, \"weight\": 3.44, \"qsec\": 18.3, \"vs\": 1, \"transmission\": 0, \"gears\": 4, \"carb\": 4}, {\"model\": \"Merc 280C\", \"MPG\": 17.8, \"cylinders\": 6, \"displacement\": 167.6, \"HP\": 123, \"rear_axle_ratio\": 3.92, \"weight\": 3.44, \"qsec\": 18.9, \"vs\": 1, \"transmission\": 0, \"gears\": 4, \"carb\": 4}, {\"model\": \"Merc 450SE\", \"MPG\": 16.4, \"cylinders\": 8, \"displacement\": 275.8, \"HP\": 180, \"rear_axle_ratio\": 3.07, \"weight\": 4.07, \"qsec\": 17.4, \"vs\": 0, \"transmission\": 0, \"gears\": 3, \"carb\": 3}, {\"model\": \"Merc 450SL\", \"MPG\": 17.3, \"cylinders\": 8, \"displacement\": 275.8, \"HP\": 180, \"rear_axle_ratio\": 3.07, \"weight\": 3.73, \"qsec\": 17.6, \"vs\": 0, \"transmission\": 0, \"gears\": 3, \"carb\": 3}, {\"model\": \"Merc 450SLC\", \"MPG\": 15.2, \"cylinders\": 8, \"displacement\": 275.8, \"HP\": 180, \"rear_axle_ratio\": 3.07, \"weight\": 3.78, \"qsec\": 18.0, \"vs\": 0, \"transmission\": 0, \"gears\": 3, \"carb\": 3}, {\"model\": \"Cadillac Fleetwood\", \"MPG\": 10.4, \"cylinders\": 8, \"displacement\": 472.0, \"HP\": 205, \"rear_axle_ratio\": 2.93, \"weight\": 5.25, \"qsec\": 17.98, \"vs\": 0, \"transmission\": 0, \"gears\": 3, \"carb\": 4}, {\"model\": \"Lincoln Continental\", \"MPG\": 10.4, \"cylinders\": 8, \"displacement\": 460.0, \"HP\": 215, \"rear_axle_ratio\": 3.0, \"weight\": 5.424, \"qsec\": 17.82, \"vs\": 0, \"transmission\": 0, \"gears\": 3, \"carb\": 4}, {\"model\": \"Chrysler Imperial\", \"MPG\": 14.7, \"cylinders\": 8, \"displacement\": 440.0, \"HP\": 230, \"rear_axle_ratio\": 3.23, \"weight\": 5.345, \"qsec\": 17.42, \"vs\": 0, \"transmission\": 0, \"gears\": 3, \"carb\": 4}, {\"model\": \"Fiat 128\", \"MPG\": 32.4, \"cylinders\": 4, \"displacement\": 78.7, \"HP\": 66, \"rear_axle_ratio\": 4.08, \"weight\": 2.2, \"qsec\": 19.47, \"vs\": 1, \"transmission\": 1, \"gears\": 4, \"carb\": 1}, {\"model\": \"Honda Civic\", \"MPG\": 30.4, \"cylinders\": 4, \"displacement\": 75.7, \"HP\": 52, \"rear_axle_ratio\": 4.93, \"weight\": 1.615, \"qsec\": 18.52, \"vs\": 1, \"transmission\": 1, \"gears\": 4, \"carb\": 2}, {\"model\": \"Toyota Corolla\", \"MPG\": 33.9, \"cylinders\": 4, \"displacement\": 71.1, \"HP\": 65, \"rear_axle_ratio\": 4.22, \"weight\": 1.835, \"qsec\": 19.9, \"vs\": 1, \"transmission\": 1, \"gears\": 4, \"carb\": 1}, {\"model\": \"Toyota Corona\", \"MPG\": 21.5, \"cylinders\": 4, \"displacement\": 120.1, \"HP\": 97, \"rear_axle_ratio\": 3.7, \"weight\": 2.465, \"qsec\": 20.01, \"vs\": 1, \"transmission\": 0, \"gears\": 3, \"carb\": 1}, {\"model\": \"Dodge Challenger\", \"MPG\": 15.5, \"cylinders\": 8, \"displacement\": 318.0, \"HP\": 150, \"rear_axle_ratio\": 2.76, \"weight\": 3.52, \"qsec\": 16.87, \"vs\": 0, \"transmission\": 0, \"gears\": 3, \"carb\": 2}, {\"model\": \"AMC Javelin\", \"MPG\": 15.2, \"cylinders\": 8, \"displacement\": 304.0, \"HP\": 150, \"rear_axle_ratio\": 3.15, \"weight\": 3.435, \"qsec\": 17.3, \"vs\": 0, \"transmission\": 0, \"gears\": 3, \"carb\": 2}, {\"model\": \"Camaro Z28\", \"MPG\": 13.3, \"cylinders\": 8, \"displacement\": 350.0, \"HP\": 245, \"rear_axle_ratio\": 3.73, \"weight\": 3.84, \"qsec\": 15.41, \"vs\": 0, \"transmission\": 0, \"gears\": 3, \"carb\": 4}, {\"model\": \"Pontiac Firebird\", \"MPG\": 19.2, \"cylinders\": 8, \"displacement\": 400.0, \"HP\": 175, \"rear_axle_ratio\": 3.08, \"weight\": 3.845, \"qsec\": 17.05, \"vs\": 0, \"transmission\": 0, \"gears\": 3, \"carb\": 2}, {\"model\": \"Fiat X1-9\", \"MPG\": 27.3, \"cylinders\": 4, \"displacement\": 79.0, \"HP\": 66, \"rear_axle_ratio\": 4.08, \"weight\": 1.935, \"qsec\": 18.9, \"vs\": 1, \"transmission\": 1, \"gears\": 4, \"carb\": 1}, {\"model\": \"Porsche 914-2\", \"MPG\": 26.0, \"cylinders\": 4, \"displacement\": 120.3, \"HP\": 91, \"rear_axle_ratio\": 4.43, \"weight\": 2.14, \"qsec\": 16.7, \"vs\": 0, \"transmission\": 1, \"gears\": 5, \"carb\": 2}, {\"model\": \"Lotus Europa\", \"MPG\": 30.4, \"cylinders\": 4, \"displacement\": 95.1, \"HP\": 113, \"rear_axle_ratio\": 3.77, \"weight\": 1.513, \"qsec\": 16.9, \"vs\": 1, \"transmission\": 1, \"gears\": 5, \"carb\": 2}, {\"model\": \"Ford Pantera L\", \"MPG\": 15.8, \"cylinders\": 8, \"displacement\": 351.0, \"HP\": 264, \"rear_axle_ratio\": 4.22, \"weight\": 3.17, \"qsec\": 14.5, \"vs\": 0, \"transmission\": 1, \"gears\": 5, \"carb\": 4}, {\"model\": \"Ferrari Dino\", \"MPG\": 19.7, \"cylinders\": 6, \"displacement\": 145.0, \"HP\": 175, \"rear_axle_ratio\": 3.62, \"weight\": 2.77, \"qsec\": 15.5, \"vs\": 0, \"transmission\": 1, \"gears\": 5, \"carb\": 6}, {\"model\": \"Maserati Bora\", \"MPG\": 15.0, \"cylinders\": 8, \"displacement\": 301.0, \"HP\": 335, \"rear_axle_ratio\": 3.54, \"weight\": 3.57, \"qsec\": 14.6, \"vs\": 0, \"transmission\": 1, \"gears\": 5, \"carb\": 8}, {\"model\": \"Volvo 142E\", \"MPG\": 21.4, \"cylinders\": 4, \"displacement\": 121.0, \"HP\": 109, \"rear_axle_ratio\": 4.11, \"weight\": 2.78, \"qsec\": 18.6, \"vs\": 1, \"transmission\": 1, \"gears\": 4, \"carb\": 2}]}}, {\"mode\": \"vega-lite\"});\n",
       "</script>"
      ],
      "text/plain": [
       "alt.Chart(...)"
      ]
     },
     "execution_count": 20,
     "metadata": {},
     "output_type": "execute_result"
    }
   ],
   "source": [
    "#3.8 We can control properties of the bin using the BinParams object\n",
    "\n",
    "alt.Chart(mtcars).mark_bar().encode(\n",
    "    x=alt.X('weight',bin=alt.BinParams(maxbins=20)),\n",
    "    y=alt.Y('count()')\n",
    ")"
   ]
  },
  {
   "cell_type": "markdown",
   "metadata": {
    "colab_type": "text",
    "id": "cWxMZGtAu0cx",
    "slideshow": {
     "slide_type": "slide"
    }
   },
   "source": [
    "## 4. Sorting"
   ]
  },
  {
   "cell_type": "markdown",
   "metadata": {
    "slideshow": {
     "slide_type": "skip"
    }
   },
   "source": [
    "In addition to binning, Altair also supports other transformations. Sorting is one of the most useful ones and is fairly easy. Below, we take our original bar chart showing the MPG for each car and add a sort on the Y-axis (the cars). We use the `EncodingSortField` function indicating that we want the models sorted by MPG (in descending order). More information on sorting can be found [here](https://altair-viz.github.io/user_guide/generated/core/altair.EncodingSortField.html)."
   ]
  },
  {
   "cell_type": "code",
   "execution_count": 21,
   "metadata": {
    "colab": {
     "base_uri": "https://localhost:8080/"
    },
    "colab_type": "code",
    "id": "_q0DXA22u0cy",
    "outputId": "12580a9e-e068-4f79-aa40-4d8f3f4e70e9",
    "slideshow": {
     "slide_type": "subslide"
    }
   },
   "outputs": [
    {
     "data": {
      "text/html": [
       "\n",
       "<div id=\"altair-viz-4eb09c5991714713a29cc4b0b3aaab9a\"></div>\n",
       "<script type=\"text/javascript\">\n",
       "  var VEGA_DEBUG = (typeof VEGA_DEBUG == \"undefined\") ? {} : VEGA_DEBUG;\n",
       "  (function(spec, embedOpt){\n",
       "    let outputDiv = document.currentScript.previousElementSibling;\n",
       "    if (outputDiv.id !== \"altair-viz-4eb09c5991714713a29cc4b0b3aaab9a\") {\n",
       "      outputDiv = document.getElementById(\"altair-viz-4eb09c5991714713a29cc4b0b3aaab9a\");\n",
       "    }\n",
       "    const paths = {\n",
       "      \"vega\": \"https://cdn.jsdelivr.net/npm//vega@5?noext\",\n",
       "      \"vega-lib\": \"https://cdn.jsdelivr.net/npm//vega-lib?noext\",\n",
       "      \"vega-lite\": \"https://cdn.jsdelivr.net/npm//vega-lite@4.17.0?noext\",\n",
       "      \"vega-embed\": \"https://cdn.jsdelivr.net/npm//vega-embed@6?noext\",\n",
       "    };\n",
       "\n",
       "    function maybeLoadScript(lib, version) {\n",
       "      var key = `${lib.replace(\"-\", \"\")}_version`;\n",
       "      return (VEGA_DEBUG[key] == version) ?\n",
       "        Promise.resolve(paths[lib]) :\n",
       "        new Promise(function(resolve, reject) {\n",
       "          var s = document.createElement('script');\n",
       "          document.getElementsByTagName(\"head\")[0].appendChild(s);\n",
       "          s.async = true;\n",
       "          s.onload = () => {\n",
       "            VEGA_DEBUG[key] = version;\n",
       "            return resolve(paths[lib]);\n",
       "          };\n",
       "          s.onerror = () => reject(`Error loading script: ${paths[lib]}`);\n",
       "          s.src = paths[lib];\n",
       "        });\n",
       "    }\n",
       "\n",
       "    function showError(err) {\n",
       "      outputDiv.innerHTML = `<div class=\"error\" style=\"color:red;\">${err}</div>`;\n",
       "      throw err;\n",
       "    }\n",
       "\n",
       "    function displayChart(vegaEmbed) {\n",
       "      vegaEmbed(outputDiv, spec, embedOpt)\n",
       "        .catch(err => showError(`Javascript Error: ${err.message}<br>This usually means there's a typo in your chart specification. See the javascript console for the full traceback.`));\n",
       "    }\n",
       "\n",
       "    if(typeof define === \"function\" && define.amd) {\n",
       "      requirejs.config({paths});\n",
       "      require([\"vega-embed\"], displayChart, err => showError(`Error loading script: ${err.message}`));\n",
       "    } else {\n",
       "      maybeLoadScript(\"vega\", \"5\")\n",
       "        .then(() => maybeLoadScript(\"vega-lite\", \"4.17.0\"))\n",
       "        .then(() => maybeLoadScript(\"vega-embed\", \"6\"))\n",
       "        .catch(showError)\n",
       "        .then(() => displayChart(vegaEmbed));\n",
       "    }\n",
       "  })({\"config\": {\"view\": {\"continuousWidth\": 400, \"continuousHeight\": 300}}, \"data\": {\"name\": \"data-9409cf149fcd97d1b95049972fed8558\"}, \"mark\": \"bar\", \"encoding\": {\"x\": {\"field\": \"MPG\", \"type\": \"quantitative\"}, \"y\": {\"field\": \"model\", \"sort\": {\"field\": \"MPG\", \"order\": \"descending\"}, \"type\": \"nominal\"}}, \"$schema\": \"https://vega.github.io/schema/vega-lite/v4.17.0.json\", \"datasets\": {\"data-9409cf149fcd97d1b95049972fed8558\": [{\"model\": \"Mazda RX4\", \"MPG\": 21.0, \"cylinders\": 6, \"displacement\": 160.0, \"HP\": 110, \"rear_axle_ratio\": 3.9, \"weight\": 2.62, \"qsec\": 16.46, \"vs\": 0, \"transmission\": 1, \"gears\": 4, \"carb\": 4}, {\"model\": \"Mazda RX4 Wag\", \"MPG\": 21.0, \"cylinders\": 6, \"displacement\": 160.0, \"HP\": 110, \"rear_axle_ratio\": 3.9, \"weight\": 2.875, \"qsec\": 17.02, \"vs\": 0, \"transmission\": 1, \"gears\": 4, \"carb\": 4}, {\"model\": \"Datsun 710\", \"MPG\": 22.8, \"cylinders\": 4, \"displacement\": 108.0, \"HP\": 93, \"rear_axle_ratio\": 3.85, \"weight\": 2.32, \"qsec\": 18.61, \"vs\": 1, \"transmission\": 1, \"gears\": 4, \"carb\": 1}, {\"model\": \"Hornet 4 Drive\", \"MPG\": 21.4, \"cylinders\": 6, \"displacement\": 258.0, \"HP\": 110, \"rear_axle_ratio\": 3.08, \"weight\": 3.215, \"qsec\": 19.44, \"vs\": 1, \"transmission\": 0, \"gears\": 3, \"carb\": 1}, {\"model\": \"Hornet Sportabout\", \"MPG\": 18.7, \"cylinders\": 8, \"displacement\": 360.0, \"HP\": 175, \"rear_axle_ratio\": 3.15, \"weight\": 3.44, \"qsec\": 17.02, \"vs\": 0, \"transmission\": 0, \"gears\": 3, \"carb\": 2}, {\"model\": \"Valiant\", \"MPG\": 18.1, \"cylinders\": 6, \"displacement\": 225.0, \"HP\": 105, \"rear_axle_ratio\": 2.76, \"weight\": 3.46, \"qsec\": 20.22, \"vs\": 1, \"transmission\": 0, \"gears\": 3, \"carb\": 1}, {\"model\": \"Duster 360\", \"MPG\": 14.3, \"cylinders\": 8, \"displacement\": 360.0, \"HP\": 245, \"rear_axle_ratio\": 3.21, \"weight\": 3.57, \"qsec\": 15.84, \"vs\": 0, \"transmission\": 0, \"gears\": 3, \"carb\": 4}, {\"model\": \"Merc 240D\", \"MPG\": 24.4, \"cylinders\": 4, \"displacement\": 146.7, \"HP\": 62, \"rear_axle_ratio\": 3.69, \"weight\": 3.19, \"qsec\": 20.0, \"vs\": 1, \"transmission\": 0, \"gears\": 4, \"carb\": 2}, {\"model\": \"Merc 230\", \"MPG\": 22.8, \"cylinders\": 4, \"displacement\": 140.8, \"HP\": 95, \"rear_axle_ratio\": 3.92, \"weight\": 3.15, \"qsec\": 22.9, \"vs\": 1, \"transmission\": 0, \"gears\": 4, \"carb\": 2}, {\"model\": \"Merc 280\", \"MPG\": 19.2, \"cylinders\": 6, \"displacement\": 167.6, \"HP\": 123, \"rear_axle_ratio\": 3.92, \"weight\": 3.44, \"qsec\": 18.3, \"vs\": 1, \"transmission\": 0, \"gears\": 4, \"carb\": 4}, {\"model\": \"Merc 280C\", \"MPG\": 17.8, \"cylinders\": 6, \"displacement\": 167.6, \"HP\": 123, \"rear_axle_ratio\": 3.92, \"weight\": 3.44, \"qsec\": 18.9, \"vs\": 1, \"transmission\": 0, \"gears\": 4, \"carb\": 4}, {\"model\": \"Merc 450SE\", \"MPG\": 16.4, \"cylinders\": 8, \"displacement\": 275.8, \"HP\": 180, \"rear_axle_ratio\": 3.07, \"weight\": 4.07, \"qsec\": 17.4, \"vs\": 0, \"transmission\": 0, \"gears\": 3, \"carb\": 3}, {\"model\": \"Merc 450SL\", \"MPG\": 17.3, \"cylinders\": 8, \"displacement\": 275.8, \"HP\": 180, \"rear_axle_ratio\": 3.07, \"weight\": 3.73, \"qsec\": 17.6, \"vs\": 0, \"transmission\": 0, \"gears\": 3, \"carb\": 3}, {\"model\": \"Merc 450SLC\", \"MPG\": 15.2, \"cylinders\": 8, \"displacement\": 275.8, \"HP\": 180, \"rear_axle_ratio\": 3.07, \"weight\": 3.78, \"qsec\": 18.0, \"vs\": 0, \"transmission\": 0, \"gears\": 3, \"carb\": 3}, {\"model\": \"Cadillac Fleetwood\", \"MPG\": 10.4, \"cylinders\": 8, \"displacement\": 472.0, \"HP\": 205, \"rear_axle_ratio\": 2.93, \"weight\": 5.25, \"qsec\": 17.98, \"vs\": 0, \"transmission\": 0, \"gears\": 3, \"carb\": 4}, {\"model\": \"Lincoln Continental\", \"MPG\": 10.4, \"cylinders\": 8, \"displacement\": 460.0, \"HP\": 215, \"rear_axle_ratio\": 3.0, \"weight\": 5.424, \"qsec\": 17.82, \"vs\": 0, \"transmission\": 0, \"gears\": 3, \"carb\": 4}, {\"model\": \"Chrysler Imperial\", \"MPG\": 14.7, \"cylinders\": 8, \"displacement\": 440.0, \"HP\": 230, \"rear_axle_ratio\": 3.23, \"weight\": 5.345, \"qsec\": 17.42, \"vs\": 0, \"transmission\": 0, \"gears\": 3, \"carb\": 4}, {\"model\": \"Fiat 128\", \"MPG\": 32.4, \"cylinders\": 4, \"displacement\": 78.7, \"HP\": 66, \"rear_axle_ratio\": 4.08, \"weight\": 2.2, \"qsec\": 19.47, \"vs\": 1, \"transmission\": 1, \"gears\": 4, \"carb\": 1}, {\"model\": \"Honda Civic\", \"MPG\": 30.4, \"cylinders\": 4, \"displacement\": 75.7, \"HP\": 52, \"rear_axle_ratio\": 4.93, \"weight\": 1.615, \"qsec\": 18.52, \"vs\": 1, \"transmission\": 1, \"gears\": 4, \"carb\": 2}, {\"model\": \"Toyota Corolla\", \"MPG\": 33.9, \"cylinders\": 4, \"displacement\": 71.1, \"HP\": 65, \"rear_axle_ratio\": 4.22, \"weight\": 1.835, \"qsec\": 19.9, \"vs\": 1, \"transmission\": 1, \"gears\": 4, \"carb\": 1}, {\"model\": \"Toyota Corona\", \"MPG\": 21.5, \"cylinders\": 4, \"displacement\": 120.1, \"HP\": 97, \"rear_axle_ratio\": 3.7, \"weight\": 2.465, \"qsec\": 20.01, \"vs\": 1, \"transmission\": 0, \"gears\": 3, \"carb\": 1}, {\"model\": \"Dodge Challenger\", \"MPG\": 15.5, \"cylinders\": 8, \"displacement\": 318.0, \"HP\": 150, \"rear_axle_ratio\": 2.76, \"weight\": 3.52, \"qsec\": 16.87, \"vs\": 0, \"transmission\": 0, \"gears\": 3, \"carb\": 2}, {\"model\": \"AMC Javelin\", \"MPG\": 15.2, \"cylinders\": 8, \"displacement\": 304.0, \"HP\": 150, \"rear_axle_ratio\": 3.15, \"weight\": 3.435, \"qsec\": 17.3, \"vs\": 0, \"transmission\": 0, \"gears\": 3, \"carb\": 2}, {\"model\": \"Camaro Z28\", \"MPG\": 13.3, \"cylinders\": 8, \"displacement\": 350.0, \"HP\": 245, \"rear_axle_ratio\": 3.73, \"weight\": 3.84, \"qsec\": 15.41, \"vs\": 0, \"transmission\": 0, \"gears\": 3, \"carb\": 4}, {\"model\": \"Pontiac Firebird\", \"MPG\": 19.2, \"cylinders\": 8, \"displacement\": 400.0, \"HP\": 175, \"rear_axle_ratio\": 3.08, \"weight\": 3.845, \"qsec\": 17.05, \"vs\": 0, \"transmission\": 0, \"gears\": 3, \"carb\": 2}, {\"model\": \"Fiat X1-9\", \"MPG\": 27.3, \"cylinders\": 4, \"displacement\": 79.0, \"HP\": 66, \"rear_axle_ratio\": 4.08, \"weight\": 1.935, \"qsec\": 18.9, \"vs\": 1, \"transmission\": 1, \"gears\": 4, \"carb\": 1}, {\"model\": \"Porsche 914-2\", \"MPG\": 26.0, \"cylinders\": 4, \"displacement\": 120.3, \"HP\": 91, \"rear_axle_ratio\": 4.43, \"weight\": 2.14, \"qsec\": 16.7, \"vs\": 0, \"transmission\": 1, \"gears\": 5, \"carb\": 2}, {\"model\": \"Lotus Europa\", \"MPG\": 30.4, \"cylinders\": 4, \"displacement\": 95.1, \"HP\": 113, \"rear_axle_ratio\": 3.77, \"weight\": 1.513, \"qsec\": 16.9, \"vs\": 1, \"transmission\": 1, \"gears\": 5, \"carb\": 2}, {\"model\": \"Ford Pantera L\", \"MPG\": 15.8, \"cylinders\": 8, \"displacement\": 351.0, \"HP\": 264, \"rear_axle_ratio\": 4.22, \"weight\": 3.17, \"qsec\": 14.5, \"vs\": 0, \"transmission\": 1, \"gears\": 5, \"carb\": 4}, {\"model\": \"Ferrari Dino\", \"MPG\": 19.7, \"cylinders\": 6, \"displacement\": 145.0, \"HP\": 175, \"rear_axle_ratio\": 3.62, \"weight\": 2.77, \"qsec\": 15.5, \"vs\": 0, \"transmission\": 1, \"gears\": 5, \"carb\": 6}, {\"model\": \"Maserati Bora\", \"MPG\": 15.0, \"cylinders\": 8, \"displacement\": 301.0, \"HP\": 335, \"rear_axle_ratio\": 3.54, \"weight\": 3.57, \"qsec\": 14.6, \"vs\": 0, \"transmission\": 1, \"gears\": 5, \"carb\": 8}, {\"model\": \"Volvo 142E\", \"MPG\": 21.4, \"cylinders\": 4, \"displacement\": 121.0, \"HP\": 109, \"rear_axle_ratio\": 4.11, \"weight\": 2.78, \"qsec\": 18.6, \"vs\": 1, \"transmission\": 1, \"gears\": 4, \"carb\": 2}]}}, {\"mode\": \"vega-lite\"});\n",
       "</script>"
      ],
      "text/plain": [
       "alt.Chart(...)"
      ]
     },
     "execution_count": 21,
     "metadata": {},
     "output_type": "execute_result"
    }
   ],
   "source": [
    "#4.1  Let's try to sort\n",
    "\n",
    "alt.Chart(mtcars).mark_bar().encode(\n",
    "    x='MPG',\n",
    "    y=alt.Y('model',\n",
    "        sort=alt.EncodingSortField(\n",
    "            field=\"MPG\",            # The field to use for the sort\n",
    "            order=\"descending\"      # The order to sort in\n",
    "        )\n",
    "    )\n",
    ")"
   ]
  },
  {
   "cell_type": "markdown",
   "metadata": {
    "colab_type": "text",
    "id": "EUl-HV7mu0c1",
    "slideshow": {
     "slide_type": "slide"
    }
   },
   "source": [
    "## 5. Other marks"
   ]
  },
  {
   "cell_type": "markdown",
   "metadata": {
    "slideshow": {
     "slide_type": "skip"
    }
   },
   "source": [
    "Before we leave our cars dataset, we illustrate one other mark type, `mark_rect` which can be used for heatmap style visualizations. This structure is useful when we want to bin in two different dimensions. For example, we might want to know how many cars have certain combinations of MPG and HP. This would be:"
   ]
  },
  {
   "cell_type": "code",
   "execution_count": 24,
   "metadata": {
    "colab": {
     "base_uri": "https://localhost:8080/",
     "height": 368
    },
    "colab_type": "code",
    "id": "bfCcrTh-u0c3",
    "outputId": "82455d93-d12b-4d4a-9e8d-f72fc1e83a20",
    "slideshow": {
     "slide_type": "subslide"
    }
   },
   "outputs": [
    {
     "data": {
      "text/html": [
       "\n",
       "<div id=\"altair-viz-a83b7a979c45404d87ac3a281eaf6299\"></div>\n",
       "<script type=\"text/javascript\">\n",
       "  var VEGA_DEBUG = (typeof VEGA_DEBUG == \"undefined\") ? {} : VEGA_DEBUG;\n",
       "  (function(spec, embedOpt){\n",
       "    let outputDiv = document.currentScript.previousElementSibling;\n",
       "    if (outputDiv.id !== \"altair-viz-a83b7a979c45404d87ac3a281eaf6299\") {\n",
       "      outputDiv = document.getElementById(\"altair-viz-a83b7a979c45404d87ac3a281eaf6299\");\n",
       "    }\n",
       "    const paths = {\n",
       "      \"vega\": \"https://cdn.jsdelivr.net/npm//vega@5?noext\",\n",
       "      \"vega-lib\": \"https://cdn.jsdelivr.net/npm//vega-lib?noext\",\n",
       "      \"vega-lite\": \"https://cdn.jsdelivr.net/npm//vega-lite@4.17.0?noext\",\n",
       "      \"vega-embed\": \"https://cdn.jsdelivr.net/npm//vega-embed@6?noext\",\n",
       "    };\n",
       "\n",
       "    function maybeLoadScript(lib, version) {\n",
       "      var key = `${lib.replace(\"-\", \"\")}_version`;\n",
       "      return (VEGA_DEBUG[key] == version) ?\n",
       "        Promise.resolve(paths[lib]) :\n",
       "        new Promise(function(resolve, reject) {\n",
       "          var s = document.createElement('script');\n",
       "          document.getElementsByTagName(\"head\")[0].appendChild(s);\n",
       "          s.async = true;\n",
       "          s.onload = () => {\n",
       "            VEGA_DEBUG[key] = version;\n",
       "            return resolve(paths[lib]);\n",
       "          };\n",
       "          s.onerror = () => reject(`Error loading script: ${paths[lib]}`);\n",
       "          s.src = paths[lib];\n",
       "        });\n",
       "    }\n",
       "\n",
       "    function showError(err) {\n",
       "      outputDiv.innerHTML = `<div class=\"error\" style=\"color:red;\">${err}</div>`;\n",
       "      throw err;\n",
       "    }\n",
       "\n",
       "    function displayChart(vegaEmbed) {\n",
       "      vegaEmbed(outputDiv, spec, embedOpt)\n",
       "        .catch(err => showError(`Javascript Error: ${err.message}<br>This usually means there's a typo in your chart specification. See the javascript console for the full traceback.`));\n",
       "    }\n",
       "\n",
       "    if(typeof define === \"function\" && define.amd) {\n",
       "      requirejs.config({paths});\n",
       "      require([\"vega-embed\"], displayChart, err => showError(`Error loading script: ${err.message}`));\n",
       "    } else {\n",
       "      maybeLoadScript(\"vega\", \"5\")\n",
       "        .then(() => maybeLoadScript(\"vega-lite\", \"4.17.0\"))\n",
       "        .then(() => maybeLoadScript(\"vega-embed\", \"6\"))\n",
       "        .catch(showError)\n",
       "        .then(() => displayChart(vegaEmbed));\n",
       "    }\n",
       "  })({\"config\": {\"view\": {\"continuousWidth\": 400, \"continuousHeight\": 300}}, \"data\": {\"name\": \"data-9409cf149fcd97d1b95049972fed8558\"}, \"mark\": \"rect\", \"encoding\": {\"color\": {\"aggregate\": \"count\", \"type\": \"quantitative\"}, \"x\": {\"bin\": true, \"field\": \"MPG\", \"type\": \"quantitative\"}, \"y\": {\"bin\": true, \"field\": \"HP\", \"type\": \"quantitative\"}}, \"$schema\": \"https://vega.github.io/schema/vega-lite/v4.17.0.json\", \"datasets\": {\"data-9409cf149fcd97d1b95049972fed8558\": [{\"model\": \"Mazda RX4\", \"MPG\": 21.0, \"cylinders\": 6, \"displacement\": 160.0, \"HP\": 110, \"rear_axle_ratio\": 3.9, \"weight\": 2.62, \"qsec\": 16.46, \"vs\": 0, \"transmission\": 1, \"gears\": 4, \"carb\": 4}, {\"model\": \"Mazda RX4 Wag\", \"MPG\": 21.0, \"cylinders\": 6, \"displacement\": 160.0, \"HP\": 110, \"rear_axle_ratio\": 3.9, \"weight\": 2.875, \"qsec\": 17.02, \"vs\": 0, \"transmission\": 1, \"gears\": 4, \"carb\": 4}, {\"model\": \"Datsun 710\", \"MPG\": 22.8, \"cylinders\": 4, \"displacement\": 108.0, \"HP\": 93, \"rear_axle_ratio\": 3.85, \"weight\": 2.32, \"qsec\": 18.61, \"vs\": 1, \"transmission\": 1, \"gears\": 4, \"carb\": 1}, {\"model\": \"Hornet 4 Drive\", \"MPG\": 21.4, \"cylinders\": 6, \"displacement\": 258.0, \"HP\": 110, \"rear_axle_ratio\": 3.08, \"weight\": 3.215, \"qsec\": 19.44, \"vs\": 1, \"transmission\": 0, \"gears\": 3, \"carb\": 1}, {\"model\": \"Hornet Sportabout\", \"MPG\": 18.7, \"cylinders\": 8, \"displacement\": 360.0, \"HP\": 175, \"rear_axle_ratio\": 3.15, \"weight\": 3.44, \"qsec\": 17.02, \"vs\": 0, \"transmission\": 0, \"gears\": 3, \"carb\": 2}, {\"model\": \"Valiant\", \"MPG\": 18.1, \"cylinders\": 6, \"displacement\": 225.0, \"HP\": 105, \"rear_axle_ratio\": 2.76, \"weight\": 3.46, \"qsec\": 20.22, \"vs\": 1, \"transmission\": 0, \"gears\": 3, \"carb\": 1}, {\"model\": \"Duster 360\", \"MPG\": 14.3, \"cylinders\": 8, \"displacement\": 360.0, \"HP\": 245, \"rear_axle_ratio\": 3.21, \"weight\": 3.57, \"qsec\": 15.84, \"vs\": 0, \"transmission\": 0, \"gears\": 3, \"carb\": 4}, {\"model\": \"Merc 240D\", \"MPG\": 24.4, \"cylinders\": 4, \"displacement\": 146.7, \"HP\": 62, \"rear_axle_ratio\": 3.69, \"weight\": 3.19, \"qsec\": 20.0, \"vs\": 1, \"transmission\": 0, \"gears\": 4, \"carb\": 2}, {\"model\": \"Merc 230\", \"MPG\": 22.8, \"cylinders\": 4, \"displacement\": 140.8, \"HP\": 95, \"rear_axle_ratio\": 3.92, \"weight\": 3.15, \"qsec\": 22.9, \"vs\": 1, \"transmission\": 0, \"gears\": 4, \"carb\": 2}, {\"model\": \"Merc 280\", \"MPG\": 19.2, \"cylinders\": 6, \"displacement\": 167.6, \"HP\": 123, \"rear_axle_ratio\": 3.92, \"weight\": 3.44, \"qsec\": 18.3, \"vs\": 1, \"transmission\": 0, \"gears\": 4, \"carb\": 4}, {\"model\": \"Merc 280C\", \"MPG\": 17.8, \"cylinders\": 6, \"displacement\": 167.6, \"HP\": 123, \"rear_axle_ratio\": 3.92, \"weight\": 3.44, \"qsec\": 18.9, \"vs\": 1, \"transmission\": 0, \"gears\": 4, \"carb\": 4}, {\"model\": \"Merc 450SE\", \"MPG\": 16.4, \"cylinders\": 8, \"displacement\": 275.8, \"HP\": 180, \"rear_axle_ratio\": 3.07, \"weight\": 4.07, \"qsec\": 17.4, \"vs\": 0, \"transmission\": 0, \"gears\": 3, \"carb\": 3}, {\"model\": \"Merc 450SL\", \"MPG\": 17.3, \"cylinders\": 8, \"displacement\": 275.8, \"HP\": 180, \"rear_axle_ratio\": 3.07, \"weight\": 3.73, \"qsec\": 17.6, \"vs\": 0, \"transmission\": 0, \"gears\": 3, \"carb\": 3}, {\"model\": \"Merc 450SLC\", \"MPG\": 15.2, \"cylinders\": 8, \"displacement\": 275.8, \"HP\": 180, \"rear_axle_ratio\": 3.07, \"weight\": 3.78, \"qsec\": 18.0, \"vs\": 0, \"transmission\": 0, \"gears\": 3, \"carb\": 3}, {\"model\": \"Cadillac Fleetwood\", \"MPG\": 10.4, \"cylinders\": 8, \"displacement\": 472.0, \"HP\": 205, \"rear_axle_ratio\": 2.93, \"weight\": 5.25, \"qsec\": 17.98, \"vs\": 0, \"transmission\": 0, \"gears\": 3, \"carb\": 4}, {\"model\": \"Lincoln Continental\", \"MPG\": 10.4, \"cylinders\": 8, \"displacement\": 460.0, \"HP\": 215, \"rear_axle_ratio\": 3.0, \"weight\": 5.424, \"qsec\": 17.82, \"vs\": 0, \"transmission\": 0, \"gears\": 3, \"carb\": 4}, {\"model\": \"Chrysler Imperial\", \"MPG\": 14.7, \"cylinders\": 8, \"displacement\": 440.0, \"HP\": 230, \"rear_axle_ratio\": 3.23, \"weight\": 5.345, \"qsec\": 17.42, \"vs\": 0, \"transmission\": 0, \"gears\": 3, \"carb\": 4}, {\"model\": \"Fiat 128\", \"MPG\": 32.4, \"cylinders\": 4, \"displacement\": 78.7, \"HP\": 66, \"rear_axle_ratio\": 4.08, \"weight\": 2.2, \"qsec\": 19.47, \"vs\": 1, \"transmission\": 1, \"gears\": 4, \"carb\": 1}, {\"model\": \"Honda Civic\", \"MPG\": 30.4, \"cylinders\": 4, \"displacement\": 75.7, \"HP\": 52, \"rear_axle_ratio\": 4.93, \"weight\": 1.615, \"qsec\": 18.52, \"vs\": 1, \"transmission\": 1, \"gears\": 4, \"carb\": 2}, {\"model\": \"Toyota Corolla\", \"MPG\": 33.9, \"cylinders\": 4, \"displacement\": 71.1, \"HP\": 65, \"rear_axle_ratio\": 4.22, \"weight\": 1.835, \"qsec\": 19.9, \"vs\": 1, \"transmission\": 1, \"gears\": 4, \"carb\": 1}, {\"model\": \"Toyota Corona\", \"MPG\": 21.5, \"cylinders\": 4, \"displacement\": 120.1, \"HP\": 97, \"rear_axle_ratio\": 3.7, \"weight\": 2.465, \"qsec\": 20.01, \"vs\": 1, \"transmission\": 0, \"gears\": 3, \"carb\": 1}, {\"model\": \"Dodge Challenger\", \"MPG\": 15.5, \"cylinders\": 8, \"displacement\": 318.0, \"HP\": 150, \"rear_axle_ratio\": 2.76, \"weight\": 3.52, \"qsec\": 16.87, \"vs\": 0, \"transmission\": 0, \"gears\": 3, \"carb\": 2}, {\"model\": \"AMC Javelin\", \"MPG\": 15.2, \"cylinders\": 8, \"displacement\": 304.0, \"HP\": 150, \"rear_axle_ratio\": 3.15, \"weight\": 3.435, \"qsec\": 17.3, \"vs\": 0, \"transmission\": 0, \"gears\": 3, \"carb\": 2}, {\"model\": \"Camaro Z28\", \"MPG\": 13.3, \"cylinders\": 8, \"displacement\": 350.0, \"HP\": 245, \"rear_axle_ratio\": 3.73, \"weight\": 3.84, \"qsec\": 15.41, \"vs\": 0, \"transmission\": 0, \"gears\": 3, \"carb\": 4}, {\"model\": \"Pontiac Firebird\", \"MPG\": 19.2, \"cylinders\": 8, \"displacement\": 400.0, \"HP\": 175, \"rear_axle_ratio\": 3.08, \"weight\": 3.845, \"qsec\": 17.05, \"vs\": 0, \"transmission\": 0, \"gears\": 3, \"carb\": 2}, {\"model\": \"Fiat X1-9\", \"MPG\": 27.3, \"cylinders\": 4, \"displacement\": 79.0, \"HP\": 66, \"rear_axle_ratio\": 4.08, \"weight\": 1.935, \"qsec\": 18.9, \"vs\": 1, \"transmission\": 1, \"gears\": 4, \"carb\": 1}, {\"model\": \"Porsche 914-2\", \"MPG\": 26.0, \"cylinders\": 4, \"displacement\": 120.3, \"HP\": 91, \"rear_axle_ratio\": 4.43, \"weight\": 2.14, \"qsec\": 16.7, \"vs\": 0, \"transmission\": 1, \"gears\": 5, \"carb\": 2}, {\"model\": \"Lotus Europa\", \"MPG\": 30.4, \"cylinders\": 4, \"displacement\": 95.1, \"HP\": 113, \"rear_axle_ratio\": 3.77, \"weight\": 1.513, \"qsec\": 16.9, \"vs\": 1, \"transmission\": 1, \"gears\": 5, \"carb\": 2}, {\"model\": \"Ford Pantera L\", \"MPG\": 15.8, \"cylinders\": 8, \"displacement\": 351.0, \"HP\": 264, \"rear_axle_ratio\": 4.22, \"weight\": 3.17, \"qsec\": 14.5, \"vs\": 0, \"transmission\": 1, \"gears\": 5, \"carb\": 4}, {\"model\": \"Ferrari Dino\", \"MPG\": 19.7, \"cylinders\": 6, \"displacement\": 145.0, \"HP\": 175, \"rear_axle_ratio\": 3.62, \"weight\": 2.77, \"qsec\": 15.5, \"vs\": 0, \"transmission\": 1, \"gears\": 5, \"carb\": 6}, {\"model\": \"Maserati Bora\", \"MPG\": 15.0, \"cylinders\": 8, \"displacement\": 301.0, \"HP\": 335, \"rear_axle_ratio\": 3.54, \"weight\": 3.57, \"qsec\": 14.6, \"vs\": 0, \"transmission\": 1, \"gears\": 5, \"carb\": 8}, {\"model\": \"Volvo 142E\", \"MPG\": 21.4, \"cylinders\": 4, \"displacement\": 121.0, \"HP\": 109, \"rear_axle_ratio\": 4.11, \"weight\": 2.78, \"qsec\": 18.6, \"vs\": 1, \"transmission\": 1, \"gears\": 4, \"carb\": 2}]}}, {\"mode\": \"vega-lite\"});\n",
       "</script>"
      ],
      "text/plain": [
       "alt.Chart(...)"
      ]
     },
     "execution_count": 24,
     "metadata": {},
     "output_type": "execute_result"
    }
   ],
   "source": [
    "#5.1  Make a heatmap to see the combination of cars\n",
    "#     with certain MPG/HP\n",
    "\n",
    "alt.Chart(mtcars).mark_rect().encode(\n",
    "    x=alt.X('MPG', bin=True),\n",
    "    y=alt.Y('HP', bin=True),\n",
    "    color='count()'\n",
    ")"
   ]
  },
  {
   "cell_type": "markdown",
   "metadata": {
    "colab_type": "text",
    "id": "HTASSY04TR10",
    "slideshow": {
     "slide_type": "slide"
    }
   },
   "source": [
    "## 6. Compound Chart "
   ]
  },
  {
   "cell_type": "markdown",
   "metadata": {
    "slideshow": {
     "slide_type": "skip"
    }
   },
   "source": [
    "Another cool aspect of Altair is that it's easy to put visualizations together. This is called [compound chart](https://altair-viz.github.io/user_guide/compound_charts.html). For example, the \"|\" operation will put two charts side by side whereas the \"&\" will put one on top of the other. You can combine these in various ways."
   ]
  },
  {
   "cell_type": "code",
   "execution_count": 37,
   "metadata": {
    "colab": {
     "base_uri": "https://localhost:8080/",
     "height": 705
    },
    "colab_type": "code",
    "id": "bxhQ3On0d_5d",
    "outputId": "4181a2ec-5a5a-4077-9a93-f58fe14f3de6",
    "slideshow": {
     "slide_type": "subslide"
    }
   },
   "outputs": [
    {
     "data": {
      "text/html": [
       "\n",
       "<div id=\"altair-viz-71e32e83966143fdb116c875191d1387\"></div>\n",
       "<script type=\"text/javascript\">\n",
       "  var VEGA_DEBUG = (typeof VEGA_DEBUG == \"undefined\") ? {} : VEGA_DEBUG;\n",
       "  (function(spec, embedOpt){\n",
       "    let outputDiv = document.currentScript.previousElementSibling;\n",
       "    if (outputDiv.id !== \"altair-viz-71e32e83966143fdb116c875191d1387\") {\n",
       "      outputDiv = document.getElementById(\"altair-viz-71e32e83966143fdb116c875191d1387\");\n",
       "    }\n",
       "    const paths = {\n",
       "      \"vega\": \"https://cdn.jsdelivr.net/npm//vega@5?noext\",\n",
       "      \"vega-lib\": \"https://cdn.jsdelivr.net/npm//vega-lib?noext\",\n",
       "      \"vega-lite\": \"https://cdn.jsdelivr.net/npm//vega-lite@4.17.0?noext\",\n",
       "      \"vega-embed\": \"https://cdn.jsdelivr.net/npm//vega-embed@6?noext\",\n",
       "    };\n",
       "\n",
       "    function maybeLoadScript(lib, version) {\n",
       "      var key = `${lib.replace(\"-\", \"\")}_version`;\n",
       "      return (VEGA_DEBUG[key] == version) ?\n",
       "        Promise.resolve(paths[lib]) :\n",
       "        new Promise(function(resolve, reject) {\n",
       "          var s = document.createElement('script');\n",
       "          document.getElementsByTagName(\"head\")[0].appendChild(s);\n",
       "          s.async = true;\n",
       "          s.onload = () => {\n",
       "            VEGA_DEBUG[key] = version;\n",
       "            return resolve(paths[lib]);\n",
       "          };\n",
       "          s.onerror = () => reject(`Error loading script: ${paths[lib]}`);\n",
       "          s.src = paths[lib];\n",
       "        });\n",
       "    }\n",
       "\n",
       "    function showError(err) {\n",
       "      outputDiv.innerHTML = `<div class=\"error\" style=\"color:red;\">${err}</div>`;\n",
       "      throw err;\n",
       "    }\n",
       "\n",
       "    function displayChart(vegaEmbed) {\n",
       "      vegaEmbed(outputDiv, spec, embedOpt)\n",
       "        .catch(err => showError(`Javascript Error: ${err.message}<br>This usually means there's a typo in your chart specification. See the javascript console for the full traceback.`));\n",
       "    }\n",
       "\n",
       "    if(typeof define === \"function\" && define.amd) {\n",
       "      requirejs.config({paths});\n",
       "      require([\"vega-embed\"], displayChart, err => showError(`Error loading script: ${err.message}`));\n",
       "    } else {\n",
       "      maybeLoadScript(\"vega\", \"5\")\n",
       "        .then(() => maybeLoadScript(\"vega-lite\", \"4.17.0\"))\n",
       "        .then(() => maybeLoadScript(\"vega-embed\", \"6\"))\n",
       "        .catch(showError)\n",
       "        .then(() => displayChart(vegaEmbed));\n",
       "    }\n",
       "  })({\"config\": {\"view\": {\"continuousWidth\": 400, \"continuousHeight\": 300}}, \"hconcat\": [{\"mark\": \"bar\", \"encoding\": {\"x\": {\"field\": \"MPG\", \"type\": \"quantitative\"}, \"y\": {\"field\": \"model\", \"type\": \"nominal\"}}}, {\"mark\": \"bar\", \"encoding\": {\"x\": {\"field\": \"HP\", \"type\": \"quantitative\"}, \"y\": {\"field\": \"model\", \"type\": \"nominal\"}}}], \"data\": {\"name\": \"data-9409cf149fcd97d1b95049972fed8558\"}, \"$schema\": \"https://vega.github.io/schema/vega-lite/v4.17.0.json\", \"datasets\": {\"data-9409cf149fcd97d1b95049972fed8558\": [{\"model\": \"Mazda RX4\", \"MPG\": 21.0, \"cylinders\": 6, \"displacement\": 160.0, \"HP\": 110, \"rear_axle_ratio\": 3.9, \"weight\": 2.62, \"qsec\": 16.46, \"vs\": 0, \"transmission\": 1, \"gears\": 4, \"carb\": 4}, {\"model\": \"Mazda RX4 Wag\", \"MPG\": 21.0, \"cylinders\": 6, \"displacement\": 160.0, \"HP\": 110, \"rear_axle_ratio\": 3.9, \"weight\": 2.875, \"qsec\": 17.02, \"vs\": 0, \"transmission\": 1, \"gears\": 4, \"carb\": 4}, {\"model\": \"Datsun 710\", \"MPG\": 22.8, \"cylinders\": 4, \"displacement\": 108.0, \"HP\": 93, \"rear_axle_ratio\": 3.85, \"weight\": 2.32, \"qsec\": 18.61, \"vs\": 1, \"transmission\": 1, \"gears\": 4, \"carb\": 1}, {\"model\": \"Hornet 4 Drive\", \"MPG\": 21.4, \"cylinders\": 6, \"displacement\": 258.0, \"HP\": 110, \"rear_axle_ratio\": 3.08, \"weight\": 3.215, \"qsec\": 19.44, \"vs\": 1, \"transmission\": 0, \"gears\": 3, \"carb\": 1}, {\"model\": \"Hornet Sportabout\", \"MPG\": 18.7, \"cylinders\": 8, \"displacement\": 360.0, \"HP\": 175, \"rear_axle_ratio\": 3.15, \"weight\": 3.44, \"qsec\": 17.02, \"vs\": 0, \"transmission\": 0, \"gears\": 3, \"carb\": 2}, {\"model\": \"Valiant\", \"MPG\": 18.1, \"cylinders\": 6, \"displacement\": 225.0, \"HP\": 105, \"rear_axle_ratio\": 2.76, \"weight\": 3.46, \"qsec\": 20.22, \"vs\": 1, \"transmission\": 0, \"gears\": 3, \"carb\": 1}, {\"model\": \"Duster 360\", \"MPG\": 14.3, \"cylinders\": 8, \"displacement\": 360.0, \"HP\": 245, \"rear_axle_ratio\": 3.21, \"weight\": 3.57, \"qsec\": 15.84, \"vs\": 0, \"transmission\": 0, \"gears\": 3, \"carb\": 4}, {\"model\": \"Merc 240D\", \"MPG\": 24.4, \"cylinders\": 4, \"displacement\": 146.7, \"HP\": 62, \"rear_axle_ratio\": 3.69, \"weight\": 3.19, \"qsec\": 20.0, \"vs\": 1, \"transmission\": 0, \"gears\": 4, \"carb\": 2}, {\"model\": \"Merc 230\", \"MPG\": 22.8, \"cylinders\": 4, \"displacement\": 140.8, \"HP\": 95, \"rear_axle_ratio\": 3.92, \"weight\": 3.15, \"qsec\": 22.9, \"vs\": 1, \"transmission\": 0, \"gears\": 4, \"carb\": 2}, {\"model\": \"Merc 280\", \"MPG\": 19.2, \"cylinders\": 6, \"displacement\": 167.6, \"HP\": 123, \"rear_axle_ratio\": 3.92, \"weight\": 3.44, \"qsec\": 18.3, \"vs\": 1, \"transmission\": 0, \"gears\": 4, \"carb\": 4}, {\"model\": \"Merc 280C\", \"MPG\": 17.8, \"cylinders\": 6, \"displacement\": 167.6, \"HP\": 123, \"rear_axle_ratio\": 3.92, \"weight\": 3.44, \"qsec\": 18.9, \"vs\": 1, \"transmission\": 0, \"gears\": 4, \"carb\": 4}, {\"model\": \"Merc 450SE\", \"MPG\": 16.4, \"cylinders\": 8, \"displacement\": 275.8, \"HP\": 180, \"rear_axle_ratio\": 3.07, \"weight\": 4.07, \"qsec\": 17.4, \"vs\": 0, \"transmission\": 0, \"gears\": 3, \"carb\": 3}, {\"model\": \"Merc 450SL\", \"MPG\": 17.3, \"cylinders\": 8, \"displacement\": 275.8, \"HP\": 180, \"rear_axle_ratio\": 3.07, \"weight\": 3.73, \"qsec\": 17.6, \"vs\": 0, \"transmission\": 0, \"gears\": 3, \"carb\": 3}, {\"model\": \"Merc 450SLC\", \"MPG\": 15.2, \"cylinders\": 8, \"displacement\": 275.8, \"HP\": 180, \"rear_axle_ratio\": 3.07, \"weight\": 3.78, \"qsec\": 18.0, \"vs\": 0, \"transmission\": 0, \"gears\": 3, \"carb\": 3}, {\"model\": \"Cadillac Fleetwood\", \"MPG\": 10.4, \"cylinders\": 8, \"displacement\": 472.0, \"HP\": 205, \"rear_axle_ratio\": 2.93, \"weight\": 5.25, \"qsec\": 17.98, \"vs\": 0, \"transmission\": 0, \"gears\": 3, \"carb\": 4}, {\"model\": \"Lincoln Continental\", \"MPG\": 10.4, \"cylinders\": 8, \"displacement\": 460.0, \"HP\": 215, \"rear_axle_ratio\": 3.0, \"weight\": 5.424, \"qsec\": 17.82, \"vs\": 0, \"transmission\": 0, \"gears\": 3, \"carb\": 4}, {\"model\": \"Chrysler Imperial\", \"MPG\": 14.7, \"cylinders\": 8, \"displacement\": 440.0, \"HP\": 230, \"rear_axle_ratio\": 3.23, \"weight\": 5.345, \"qsec\": 17.42, \"vs\": 0, \"transmission\": 0, \"gears\": 3, \"carb\": 4}, {\"model\": \"Fiat 128\", \"MPG\": 32.4, \"cylinders\": 4, \"displacement\": 78.7, \"HP\": 66, \"rear_axle_ratio\": 4.08, \"weight\": 2.2, \"qsec\": 19.47, \"vs\": 1, \"transmission\": 1, \"gears\": 4, \"carb\": 1}, {\"model\": \"Honda Civic\", \"MPG\": 30.4, \"cylinders\": 4, \"displacement\": 75.7, \"HP\": 52, \"rear_axle_ratio\": 4.93, \"weight\": 1.615, \"qsec\": 18.52, \"vs\": 1, \"transmission\": 1, \"gears\": 4, \"carb\": 2}, {\"model\": \"Toyota Corolla\", \"MPG\": 33.9, \"cylinders\": 4, \"displacement\": 71.1, \"HP\": 65, \"rear_axle_ratio\": 4.22, \"weight\": 1.835, \"qsec\": 19.9, \"vs\": 1, \"transmission\": 1, \"gears\": 4, \"carb\": 1}, {\"model\": \"Toyota Corona\", \"MPG\": 21.5, \"cylinders\": 4, \"displacement\": 120.1, \"HP\": 97, \"rear_axle_ratio\": 3.7, \"weight\": 2.465, \"qsec\": 20.01, \"vs\": 1, \"transmission\": 0, \"gears\": 3, \"carb\": 1}, {\"model\": \"Dodge Challenger\", \"MPG\": 15.5, \"cylinders\": 8, \"displacement\": 318.0, \"HP\": 150, \"rear_axle_ratio\": 2.76, \"weight\": 3.52, \"qsec\": 16.87, \"vs\": 0, \"transmission\": 0, \"gears\": 3, \"carb\": 2}, {\"model\": \"AMC Javelin\", \"MPG\": 15.2, \"cylinders\": 8, \"displacement\": 304.0, \"HP\": 150, \"rear_axle_ratio\": 3.15, \"weight\": 3.435, \"qsec\": 17.3, \"vs\": 0, \"transmission\": 0, \"gears\": 3, \"carb\": 2}, {\"model\": \"Camaro Z28\", \"MPG\": 13.3, \"cylinders\": 8, \"displacement\": 350.0, \"HP\": 245, \"rear_axle_ratio\": 3.73, \"weight\": 3.84, \"qsec\": 15.41, \"vs\": 0, \"transmission\": 0, \"gears\": 3, \"carb\": 4}, {\"model\": \"Pontiac Firebird\", \"MPG\": 19.2, \"cylinders\": 8, \"displacement\": 400.0, \"HP\": 175, \"rear_axle_ratio\": 3.08, \"weight\": 3.845, \"qsec\": 17.05, \"vs\": 0, \"transmission\": 0, \"gears\": 3, \"carb\": 2}, {\"model\": \"Fiat X1-9\", \"MPG\": 27.3, \"cylinders\": 4, \"displacement\": 79.0, \"HP\": 66, \"rear_axle_ratio\": 4.08, \"weight\": 1.935, \"qsec\": 18.9, \"vs\": 1, \"transmission\": 1, \"gears\": 4, \"carb\": 1}, {\"model\": \"Porsche 914-2\", \"MPG\": 26.0, \"cylinders\": 4, \"displacement\": 120.3, \"HP\": 91, \"rear_axle_ratio\": 4.43, \"weight\": 2.14, \"qsec\": 16.7, \"vs\": 0, \"transmission\": 1, \"gears\": 5, \"carb\": 2}, {\"model\": \"Lotus Europa\", \"MPG\": 30.4, \"cylinders\": 4, \"displacement\": 95.1, \"HP\": 113, \"rear_axle_ratio\": 3.77, \"weight\": 1.513, \"qsec\": 16.9, \"vs\": 1, \"transmission\": 1, \"gears\": 5, \"carb\": 2}, {\"model\": \"Ford Pantera L\", \"MPG\": 15.8, \"cylinders\": 8, \"displacement\": 351.0, \"HP\": 264, \"rear_axle_ratio\": 4.22, \"weight\": 3.17, \"qsec\": 14.5, \"vs\": 0, \"transmission\": 1, \"gears\": 5, \"carb\": 4}, {\"model\": \"Ferrari Dino\", \"MPG\": 19.7, \"cylinders\": 6, \"displacement\": 145.0, \"HP\": 175, \"rear_axle_ratio\": 3.62, \"weight\": 2.77, \"qsec\": 15.5, \"vs\": 0, \"transmission\": 1, \"gears\": 5, \"carb\": 6}, {\"model\": \"Maserati Bora\", \"MPG\": 15.0, \"cylinders\": 8, \"displacement\": 301.0, \"HP\": 335, \"rear_axle_ratio\": 3.54, \"weight\": 3.57, \"qsec\": 14.6, \"vs\": 0, \"transmission\": 1, \"gears\": 5, \"carb\": 8}, {\"model\": \"Volvo 142E\", \"MPG\": 21.4, \"cylinders\": 4, \"displacement\": 121.0, \"HP\": 109, \"rear_axle_ratio\": 4.11, \"weight\": 2.78, \"qsec\": 18.6, \"vs\": 1, \"transmission\": 1, \"gears\": 4, \"carb\": 2}]}}, {\"mode\": \"vega-lite\"});\n",
       "</script>"
      ],
      "text/plain": [
       "alt.HConcatChart(...)"
      ]
     },
     "execution_count": 37,
     "metadata": {},
     "output_type": "execute_result"
    }
   ],
   "source": [
    "#6.1 Put two bar charts side by side: 1) MPG v model and 2) HP v. model\n",
    "\n",
    "model_mpg= alt.Chart(mtcars).mark_bar().encode(\n",
    "    x=alt.X('MPG'),\n",
    "    y=alt.Y(\"model\")\n",
    ")\n",
    "model_hp= alt.Chart(mtcars).mark_bar().encode(\n",
    "    x=alt.X('HP'),\n",
    "    y=alt.Y(\"model\")\n",
    ")\n",
    "\n",
    "model_mpg|model_hp\n",
    "\n",
    "# alt.hconcat(model_mpg,model_hp) # alternative\n"
   ]
  },
  {
   "cell_type": "code",
   "execution_count": 38,
   "metadata": {
    "colab": {
     "base_uri": "https://localhost:8080/",
     "height": 1000
    },
    "colab_type": "code",
    "id": "I7WtIOziepPb",
    "outputId": "27f4ad81-eef7-43da-872f-845904544bb5",
    "slideshow": {
     "slide_type": "subslide"
    }
   },
   "outputs": [
    {
     "data": {
      "text/html": [
       "\n",
       "<div id=\"altair-viz-10ddac8f2c5244208f995954817066b2\"></div>\n",
       "<script type=\"text/javascript\">\n",
       "  var VEGA_DEBUG = (typeof VEGA_DEBUG == \"undefined\") ? {} : VEGA_DEBUG;\n",
       "  (function(spec, embedOpt){\n",
       "    let outputDiv = document.currentScript.previousElementSibling;\n",
       "    if (outputDiv.id !== \"altair-viz-10ddac8f2c5244208f995954817066b2\") {\n",
       "      outputDiv = document.getElementById(\"altair-viz-10ddac8f2c5244208f995954817066b2\");\n",
       "    }\n",
       "    const paths = {\n",
       "      \"vega\": \"https://cdn.jsdelivr.net/npm//vega@5?noext\",\n",
       "      \"vega-lib\": \"https://cdn.jsdelivr.net/npm//vega-lib?noext\",\n",
       "      \"vega-lite\": \"https://cdn.jsdelivr.net/npm//vega-lite@4.17.0?noext\",\n",
       "      \"vega-embed\": \"https://cdn.jsdelivr.net/npm//vega-embed@6?noext\",\n",
       "    };\n",
       "\n",
       "    function maybeLoadScript(lib, version) {\n",
       "      var key = `${lib.replace(\"-\", \"\")}_version`;\n",
       "      return (VEGA_DEBUG[key] == version) ?\n",
       "        Promise.resolve(paths[lib]) :\n",
       "        new Promise(function(resolve, reject) {\n",
       "          var s = document.createElement('script');\n",
       "          document.getElementsByTagName(\"head\")[0].appendChild(s);\n",
       "          s.async = true;\n",
       "          s.onload = () => {\n",
       "            VEGA_DEBUG[key] = version;\n",
       "            return resolve(paths[lib]);\n",
       "          };\n",
       "          s.onerror = () => reject(`Error loading script: ${paths[lib]}`);\n",
       "          s.src = paths[lib];\n",
       "        });\n",
       "    }\n",
       "\n",
       "    function showError(err) {\n",
       "      outputDiv.innerHTML = `<div class=\"error\" style=\"color:red;\">${err}</div>`;\n",
       "      throw err;\n",
       "    }\n",
       "\n",
       "    function displayChart(vegaEmbed) {\n",
       "      vegaEmbed(outputDiv, spec, embedOpt)\n",
       "        .catch(err => showError(`Javascript Error: ${err.message}<br>This usually means there's a typo in your chart specification. See the javascript console for the full traceback.`));\n",
       "    }\n",
       "\n",
       "    if(typeof define === \"function\" && define.amd) {\n",
       "      requirejs.config({paths});\n",
       "      require([\"vega-embed\"], displayChart, err => showError(`Error loading script: ${err.message}`));\n",
       "    } else {\n",
       "      maybeLoadScript(\"vega\", \"5\")\n",
       "        .then(() => maybeLoadScript(\"vega-lite\", \"4.17.0\"))\n",
       "        .then(() => maybeLoadScript(\"vega-embed\", \"6\"))\n",
       "        .catch(showError)\n",
       "        .then(() => displayChart(vegaEmbed));\n",
       "    }\n",
       "  })({\"config\": {\"view\": {\"continuousWidth\": 400, \"continuousHeight\": 300}}, \"vconcat\": [{\"mark\": \"bar\", \"encoding\": {\"x\": {\"field\": \"MPG\", \"type\": \"quantitative\"}, \"y\": {\"field\": \"model\", \"type\": \"nominal\"}}}, {\"mark\": \"bar\", \"encoding\": {\"x\": {\"field\": \"HP\", \"type\": \"quantitative\"}, \"y\": {\"field\": \"model\", \"type\": \"nominal\"}}}], \"data\": {\"name\": \"data-9409cf149fcd97d1b95049972fed8558\"}, \"$schema\": \"https://vega.github.io/schema/vega-lite/v4.17.0.json\", \"datasets\": {\"data-9409cf149fcd97d1b95049972fed8558\": [{\"model\": \"Mazda RX4\", \"MPG\": 21.0, \"cylinders\": 6, \"displacement\": 160.0, \"HP\": 110, \"rear_axle_ratio\": 3.9, \"weight\": 2.62, \"qsec\": 16.46, \"vs\": 0, \"transmission\": 1, \"gears\": 4, \"carb\": 4}, {\"model\": \"Mazda RX4 Wag\", \"MPG\": 21.0, \"cylinders\": 6, \"displacement\": 160.0, \"HP\": 110, \"rear_axle_ratio\": 3.9, \"weight\": 2.875, \"qsec\": 17.02, \"vs\": 0, \"transmission\": 1, \"gears\": 4, \"carb\": 4}, {\"model\": \"Datsun 710\", \"MPG\": 22.8, \"cylinders\": 4, \"displacement\": 108.0, \"HP\": 93, \"rear_axle_ratio\": 3.85, \"weight\": 2.32, \"qsec\": 18.61, \"vs\": 1, \"transmission\": 1, \"gears\": 4, \"carb\": 1}, {\"model\": \"Hornet 4 Drive\", \"MPG\": 21.4, \"cylinders\": 6, \"displacement\": 258.0, \"HP\": 110, \"rear_axle_ratio\": 3.08, \"weight\": 3.215, \"qsec\": 19.44, \"vs\": 1, \"transmission\": 0, \"gears\": 3, \"carb\": 1}, {\"model\": \"Hornet Sportabout\", \"MPG\": 18.7, \"cylinders\": 8, \"displacement\": 360.0, \"HP\": 175, \"rear_axle_ratio\": 3.15, \"weight\": 3.44, \"qsec\": 17.02, \"vs\": 0, \"transmission\": 0, \"gears\": 3, \"carb\": 2}, {\"model\": \"Valiant\", \"MPG\": 18.1, \"cylinders\": 6, \"displacement\": 225.0, \"HP\": 105, \"rear_axle_ratio\": 2.76, \"weight\": 3.46, \"qsec\": 20.22, \"vs\": 1, \"transmission\": 0, \"gears\": 3, \"carb\": 1}, {\"model\": \"Duster 360\", \"MPG\": 14.3, \"cylinders\": 8, \"displacement\": 360.0, \"HP\": 245, \"rear_axle_ratio\": 3.21, \"weight\": 3.57, \"qsec\": 15.84, \"vs\": 0, \"transmission\": 0, \"gears\": 3, \"carb\": 4}, {\"model\": \"Merc 240D\", \"MPG\": 24.4, \"cylinders\": 4, \"displacement\": 146.7, \"HP\": 62, \"rear_axle_ratio\": 3.69, \"weight\": 3.19, \"qsec\": 20.0, \"vs\": 1, \"transmission\": 0, \"gears\": 4, \"carb\": 2}, {\"model\": \"Merc 230\", \"MPG\": 22.8, \"cylinders\": 4, \"displacement\": 140.8, \"HP\": 95, \"rear_axle_ratio\": 3.92, \"weight\": 3.15, \"qsec\": 22.9, \"vs\": 1, \"transmission\": 0, \"gears\": 4, \"carb\": 2}, {\"model\": \"Merc 280\", \"MPG\": 19.2, \"cylinders\": 6, \"displacement\": 167.6, \"HP\": 123, \"rear_axle_ratio\": 3.92, \"weight\": 3.44, \"qsec\": 18.3, \"vs\": 1, \"transmission\": 0, \"gears\": 4, \"carb\": 4}, {\"model\": \"Merc 280C\", \"MPG\": 17.8, \"cylinders\": 6, \"displacement\": 167.6, \"HP\": 123, \"rear_axle_ratio\": 3.92, \"weight\": 3.44, \"qsec\": 18.9, \"vs\": 1, \"transmission\": 0, \"gears\": 4, \"carb\": 4}, {\"model\": \"Merc 450SE\", \"MPG\": 16.4, \"cylinders\": 8, \"displacement\": 275.8, \"HP\": 180, \"rear_axle_ratio\": 3.07, \"weight\": 4.07, \"qsec\": 17.4, \"vs\": 0, \"transmission\": 0, \"gears\": 3, \"carb\": 3}, {\"model\": \"Merc 450SL\", \"MPG\": 17.3, \"cylinders\": 8, \"displacement\": 275.8, \"HP\": 180, \"rear_axle_ratio\": 3.07, \"weight\": 3.73, \"qsec\": 17.6, \"vs\": 0, \"transmission\": 0, \"gears\": 3, \"carb\": 3}, {\"model\": \"Merc 450SLC\", \"MPG\": 15.2, \"cylinders\": 8, \"displacement\": 275.8, \"HP\": 180, \"rear_axle_ratio\": 3.07, \"weight\": 3.78, \"qsec\": 18.0, \"vs\": 0, \"transmission\": 0, \"gears\": 3, \"carb\": 3}, {\"model\": \"Cadillac Fleetwood\", \"MPG\": 10.4, \"cylinders\": 8, \"displacement\": 472.0, \"HP\": 205, \"rear_axle_ratio\": 2.93, \"weight\": 5.25, \"qsec\": 17.98, \"vs\": 0, \"transmission\": 0, \"gears\": 3, \"carb\": 4}, {\"model\": \"Lincoln Continental\", \"MPG\": 10.4, \"cylinders\": 8, \"displacement\": 460.0, \"HP\": 215, \"rear_axle_ratio\": 3.0, \"weight\": 5.424, \"qsec\": 17.82, \"vs\": 0, \"transmission\": 0, \"gears\": 3, \"carb\": 4}, {\"model\": \"Chrysler Imperial\", \"MPG\": 14.7, \"cylinders\": 8, \"displacement\": 440.0, \"HP\": 230, \"rear_axle_ratio\": 3.23, \"weight\": 5.345, \"qsec\": 17.42, \"vs\": 0, \"transmission\": 0, \"gears\": 3, \"carb\": 4}, {\"model\": \"Fiat 128\", \"MPG\": 32.4, \"cylinders\": 4, \"displacement\": 78.7, \"HP\": 66, \"rear_axle_ratio\": 4.08, \"weight\": 2.2, \"qsec\": 19.47, \"vs\": 1, \"transmission\": 1, \"gears\": 4, \"carb\": 1}, {\"model\": \"Honda Civic\", \"MPG\": 30.4, \"cylinders\": 4, \"displacement\": 75.7, \"HP\": 52, \"rear_axle_ratio\": 4.93, \"weight\": 1.615, \"qsec\": 18.52, \"vs\": 1, \"transmission\": 1, \"gears\": 4, \"carb\": 2}, {\"model\": \"Toyota Corolla\", \"MPG\": 33.9, \"cylinders\": 4, \"displacement\": 71.1, \"HP\": 65, \"rear_axle_ratio\": 4.22, \"weight\": 1.835, \"qsec\": 19.9, \"vs\": 1, \"transmission\": 1, \"gears\": 4, \"carb\": 1}, {\"model\": \"Toyota Corona\", \"MPG\": 21.5, \"cylinders\": 4, \"displacement\": 120.1, \"HP\": 97, \"rear_axle_ratio\": 3.7, \"weight\": 2.465, \"qsec\": 20.01, \"vs\": 1, \"transmission\": 0, \"gears\": 3, \"carb\": 1}, {\"model\": \"Dodge Challenger\", \"MPG\": 15.5, \"cylinders\": 8, \"displacement\": 318.0, \"HP\": 150, \"rear_axle_ratio\": 2.76, \"weight\": 3.52, \"qsec\": 16.87, \"vs\": 0, \"transmission\": 0, \"gears\": 3, \"carb\": 2}, {\"model\": \"AMC Javelin\", \"MPG\": 15.2, \"cylinders\": 8, \"displacement\": 304.0, \"HP\": 150, \"rear_axle_ratio\": 3.15, \"weight\": 3.435, \"qsec\": 17.3, \"vs\": 0, \"transmission\": 0, \"gears\": 3, \"carb\": 2}, {\"model\": \"Camaro Z28\", \"MPG\": 13.3, \"cylinders\": 8, \"displacement\": 350.0, \"HP\": 245, \"rear_axle_ratio\": 3.73, \"weight\": 3.84, \"qsec\": 15.41, \"vs\": 0, \"transmission\": 0, \"gears\": 3, \"carb\": 4}, {\"model\": \"Pontiac Firebird\", \"MPG\": 19.2, \"cylinders\": 8, \"displacement\": 400.0, \"HP\": 175, \"rear_axle_ratio\": 3.08, \"weight\": 3.845, \"qsec\": 17.05, \"vs\": 0, \"transmission\": 0, \"gears\": 3, \"carb\": 2}, {\"model\": \"Fiat X1-9\", \"MPG\": 27.3, \"cylinders\": 4, \"displacement\": 79.0, \"HP\": 66, \"rear_axle_ratio\": 4.08, \"weight\": 1.935, \"qsec\": 18.9, \"vs\": 1, \"transmission\": 1, \"gears\": 4, \"carb\": 1}, {\"model\": \"Porsche 914-2\", \"MPG\": 26.0, \"cylinders\": 4, \"displacement\": 120.3, \"HP\": 91, \"rear_axle_ratio\": 4.43, \"weight\": 2.14, \"qsec\": 16.7, \"vs\": 0, \"transmission\": 1, \"gears\": 5, \"carb\": 2}, {\"model\": \"Lotus Europa\", \"MPG\": 30.4, \"cylinders\": 4, \"displacement\": 95.1, \"HP\": 113, \"rear_axle_ratio\": 3.77, \"weight\": 1.513, \"qsec\": 16.9, \"vs\": 1, \"transmission\": 1, \"gears\": 5, \"carb\": 2}, {\"model\": \"Ford Pantera L\", \"MPG\": 15.8, \"cylinders\": 8, \"displacement\": 351.0, \"HP\": 264, \"rear_axle_ratio\": 4.22, \"weight\": 3.17, \"qsec\": 14.5, \"vs\": 0, \"transmission\": 1, \"gears\": 5, \"carb\": 4}, {\"model\": \"Ferrari Dino\", \"MPG\": 19.7, \"cylinders\": 6, \"displacement\": 145.0, \"HP\": 175, \"rear_axle_ratio\": 3.62, \"weight\": 2.77, \"qsec\": 15.5, \"vs\": 0, \"transmission\": 1, \"gears\": 5, \"carb\": 6}, {\"model\": \"Maserati Bora\", \"MPG\": 15.0, \"cylinders\": 8, \"displacement\": 301.0, \"HP\": 335, \"rear_axle_ratio\": 3.54, \"weight\": 3.57, \"qsec\": 14.6, \"vs\": 0, \"transmission\": 1, \"gears\": 5, \"carb\": 8}, {\"model\": \"Volvo 142E\", \"MPG\": 21.4, \"cylinders\": 4, \"displacement\": 121.0, \"HP\": 109, \"rear_axle_ratio\": 4.11, \"weight\": 2.78, \"qsec\": 18.6, \"vs\": 1, \"transmission\": 1, \"gears\": 4, \"carb\": 2}]}}, {\"mode\": \"vega-lite\"});\n",
       "</script>"
      ],
      "text/plain": [
       "alt.VConcatChart(...)"
      ]
     },
     "execution_count": 38,
     "metadata": {},
     "output_type": "execute_result"
    }
   ],
   "source": [
    "#6.2 One above the other\n",
    "model_mpg & model_hp\n",
    "# alt.vconcat(model_mpg,model_hp) # alternative"
   ]
  },
  {
   "cell_type": "code",
   "execution_count": 39,
   "metadata": {
    "colab": {
     "base_uri": "https://localhost:8080/",
     "height": 705
    },
    "colab_type": "code",
    "id": "HPzvQzlHe0In",
    "outputId": "e435c498-9173-4e7c-9fec-036573bb4606",
    "slideshow": {
     "slide_type": "subslide"
    }
   },
   "outputs": [
    {
     "data": {
      "text/html": [
       "\n",
       "<div id=\"altair-viz-e2842591b0e84ad6a2cdbb8d9321975d\"></div>\n",
       "<script type=\"text/javascript\">\n",
       "  var VEGA_DEBUG = (typeof VEGA_DEBUG == \"undefined\") ? {} : VEGA_DEBUG;\n",
       "  (function(spec, embedOpt){\n",
       "    let outputDiv = document.currentScript.previousElementSibling;\n",
       "    if (outputDiv.id !== \"altair-viz-e2842591b0e84ad6a2cdbb8d9321975d\") {\n",
       "      outputDiv = document.getElementById(\"altair-viz-e2842591b0e84ad6a2cdbb8d9321975d\");\n",
       "    }\n",
       "    const paths = {\n",
       "      \"vega\": \"https://cdn.jsdelivr.net/npm//vega@5?noext\",\n",
       "      \"vega-lib\": \"https://cdn.jsdelivr.net/npm//vega-lib?noext\",\n",
       "      \"vega-lite\": \"https://cdn.jsdelivr.net/npm//vega-lite@4.17.0?noext\",\n",
       "      \"vega-embed\": \"https://cdn.jsdelivr.net/npm//vega-embed@6?noext\",\n",
       "    };\n",
       "\n",
       "    function maybeLoadScript(lib, version) {\n",
       "      var key = `${lib.replace(\"-\", \"\")}_version`;\n",
       "      return (VEGA_DEBUG[key] == version) ?\n",
       "        Promise.resolve(paths[lib]) :\n",
       "        new Promise(function(resolve, reject) {\n",
       "          var s = document.createElement('script');\n",
       "          document.getElementsByTagName(\"head\")[0].appendChild(s);\n",
       "          s.async = true;\n",
       "          s.onload = () => {\n",
       "            VEGA_DEBUG[key] = version;\n",
       "            return resolve(paths[lib]);\n",
       "          };\n",
       "          s.onerror = () => reject(`Error loading script: ${paths[lib]}`);\n",
       "          s.src = paths[lib];\n",
       "        });\n",
       "    }\n",
       "\n",
       "    function showError(err) {\n",
       "      outputDiv.innerHTML = `<div class=\"error\" style=\"color:red;\">${err}</div>`;\n",
       "      throw err;\n",
       "    }\n",
       "\n",
       "    function displayChart(vegaEmbed) {\n",
       "      vegaEmbed(outputDiv, spec, embedOpt)\n",
       "        .catch(err => showError(`Javascript Error: ${err.message}<br>This usually means there's a typo in your chart specification. See the javascript console for the full traceback.`));\n",
       "    }\n",
       "\n",
       "    if(typeof define === \"function\" && define.amd) {\n",
       "      requirejs.config({paths});\n",
       "      require([\"vega-embed\"], displayChart, err => showError(`Error loading script: ${err.message}`));\n",
       "    } else {\n",
       "      maybeLoadScript(\"vega\", \"5\")\n",
       "        .then(() => maybeLoadScript(\"vega-lite\", \"4.17.0\"))\n",
       "        .then(() => maybeLoadScript(\"vega-embed\", \"6\"))\n",
       "        .catch(showError)\n",
       "        .then(() => displayChart(vegaEmbed));\n",
       "    }\n",
       "  })({\"config\": {\"view\": {\"continuousWidth\": 400, \"continuousHeight\": 300}}, \"hconcat\": [{\"mark\": \"bar\", \"encoding\": {\"x\": {\"field\": \"MPG\", \"type\": \"quantitative\"}, \"y\": {\"field\": \"model\", \"type\": \"nominal\"}}}, {\"mark\": \"bar\", \"encoding\": {\"x\": {\"field\": \"HP\", \"type\": \"quantitative\"}, \"y\": {\"field\": \"model\", \"type\": \"nominal\"}}}], \"data\": {\"name\": \"data-9409cf149fcd97d1b95049972fed8558\"}, \"resolve\": {\"scale\": {\"y\": \"shared\"}}, \"$schema\": \"https://vega.github.io/schema/vega-lite/v4.17.0.json\", \"datasets\": {\"data-9409cf149fcd97d1b95049972fed8558\": [{\"model\": \"Mazda RX4\", \"MPG\": 21.0, \"cylinders\": 6, \"displacement\": 160.0, \"HP\": 110, \"rear_axle_ratio\": 3.9, \"weight\": 2.62, \"qsec\": 16.46, \"vs\": 0, \"transmission\": 1, \"gears\": 4, \"carb\": 4}, {\"model\": \"Mazda RX4 Wag\", \"MPG\": 21.0, \"cylinders\": 6, \"displacement\": 160.0, \"HP\": 110, \"rear_axle_ratio\": 3.9, \"weight\": 2.875, \"qsec\": 17.02, \"vs\": 0, \"transmission\": 1, \"gears\": 4, \"carb\": 4}, {\"model\": \"Datsun 710\", \"MPG\": 22.8, \"cylinders\": 4, \"displacement\": 108.0, \"HP\": 93, \"rear_axle_ratio\": 3.85, \"weight\": 2.32, \"qsec\": 18.61, \"vs\": 1, \"transmission\": 1, \"gears\": 4, \"carb\": 1}, {\"model\": \"Hornet 4 Drive\", \"MPG\": 21.4, \"cylinders\": 6, \"displacement\": 258.0, \"HP\": 110, \"rear_axle_ratio\": 3.08, \"weight\": 3.215, \"qsec\": 19.44, \"vs\": 1, \"transmission\": 0, \"gears\": 3, \"carb\": 1}, {\"model\": \"Hornet Sportabout\", \"MPG\": 18.7, \"cylinders\": 8, \"displacement\": 360.0, \"HP\": 175, \"rear_axle_ratio\": 3.15, \"weight\": 3.44, \"qsec\": 17.02, \"vs\": 0, \"transmission\": 0, \"gears\": 3, \"carb\": 2}, {\"model\": \"Valiant\", \"MPG\": 18.1, \"cylinders\": 6, \"displacement\": 225.0, \"HP\": 105, \"rear_axle_ratio\": 2.76, \"weight\": 3.46, \"qsec\": 20.22, \"vs\": 1, \"transmission\": 0, \"gears\": 3, \"carb\": 1}, {\"model\": \"Duster 360\", \"MPG\": 14.3, \"cylinders\": 8, \"displacement\": 360.0, \"HP\": 245, \"rear_axle_ratio\": 3.21, \"weight\": 3.57, \"qsec\": 15.84, \"vs\": 0, \"transmission\": 0, \"gears\": 3, \"carb\": 4}, {\"model\": \"Merc 240D\", \"MPG\": 24.4, \"cylinders\": 4, \"displacement\": 146.7, \"HP\": 62, \"rear_axle_ratio\": 3.69, \"weight\": 3.19, \"qsec\": 20.0, \"vs\": 1, \"transmission\": 0, \"gears\": 4, \"carb\": 2}, {\"model\": \"Merc 230\", \"MPG\": 22.8, \"cylinders\": 4, \"displacement\": 140.8, \"HP\": 95, \"rear_axle_ratio\": 3.92, \"weight\": 3.15, \"qsec\": 22.9, \"vs\": 1, \"transmission\": 0, \"gears\": 4, \"carb\": 2}, {\"model\": \"Merc 280\", \"MPG\": 19.2, \"cylinders\": 6, \"displacement\": 167.6, \"HP\": 123, \"rear_axle_ratio\": 3.92, \"weight\": 3.44, \"qsec\": 18.3, \"vs\": 1, \"transmission\": 0, \"gears\": 4, \"carb\": 4}, {\"model\": \"Merc 280C\", \"MPG\": 17.8, \"cylinders\": 6, \"displacement\": 167.6, \"HP\": 123, \"rear_axle_ratio\": 3.92, \"weight\": 3.44, \"qsec\": 18.9, \"vs\": 1, \"transmission\": 0, \"gears\": 4, \"carb\": 4}, {\"model\": \"Merc 450SE\", \"MPG\": 16.4, \"cylinders\": 8, \"displacement\": 275.8, \"HP\": 180, \"rear_axle_ratio\": 3.07, \"weight\": 4.07, \"qsec\": 17.4, \"vs\": 0, \"transmission\": 0, \"gears\": 3, \"carb\": 3}, {\"model\": \"Merc 450SL\", \"MPG\": 17.3, \"cylinders\": 8, \"displacement\": 275.8, \"HP\": 180, \"rear_axle_ratio\": 3.07, \"weight\": 3.73, \"qsec\": 17.6, \"vs\": 0, \"transmission\": 0, \"gears\": 3, \"carb\": 3}, {\"model\": \"Merc 450SLC\", \"MPG\": 15.2, \"cylinders\": 8, \"displacement\": 275.8, \"HP\": 180, \"rear_axle_ratio\": 3.07, \"weight\": 3.78, \"qsec\": 18.0, \"vs\": 0, \"transmission\": 0, \"gears\": 3, \"carb\": 3}, {\"model\": \"Cadillac Fleetwood\", \"MPG\": 10.4, \"cylinders\": 8, \"displacement\": 472.0, \"HP\": 205, \"rear_axle_ratio\": 2.93, \"weight\": 5.25, \"qsec\": 17.98, \"vs\": 0, \"transmission\": 0, \"gears\": 3, \"carb\": 4}, {\"model\": \"Lincoln Continental\", \"MPG\": 10.4, \"cylinders\": 8, \"displacement\": 460.0, \"HP\": 215, \"rear_axle_ratio\": 3.0, \"weight\": 5.424, \"qsec\": 17.82, \"vs\": 0, \"transmission\": 0, \"gears\": 3, \"carb\": 4}, {\"model\": \"Chrysler Imperial\", \"MPG\": 14.7, \"cylinders\": 8, \"displacement\": 440.0, \"HP\": 230, \"rear_axle_ratio\": 3.23, \"weight\": 5.345, \"qsec\": 17.42, \"vs\": 0, \"transmission\": 0, \"gears\": 3, \"carb\": 4}, {\"model\": \"Fiat 128\", \"MPG\": 32.4, \"cylinders\": 4, \"displacement\": 78.7, \"HP\": 66, \"rear_axle_ratio\": 4.08, \"weight\": 2.2, \"qsec\": 19.47, \"vs\": 1, \"transmission\": 1, \"gears\": 4, \"carb\": 1}, {\"model\": \"Honda Civic\", \"MPG\": 30.4, \"cylinders\": 4, \"displacement\": 75.7, \"HP\": 52, \"rear_axle_ratio\": 4.93, \"weight\": 1.615, \"qsec\": 18.52, \"vs\": 1, \"transmission\": 1, \"gears\": 4, \"carb\": 2}, {\"model\": \"Toyota Corolla\", \"MPG\": 33.9, \"cylinders\": 4, \"displacement\": 71.1, \"HP\": 65, \"rear_axle_ratio\": 4.22, \"weight\": 1.835, \"qsec\": 19.9, \"vs\": 1, \"transmission\": 1, \"gears\": 4, \"carb\": 1}, {\"model\": \"Toyota Corona\", \"MPG\": 21.5, \"cylinders\": 4, \"displacement\": 120.1, \"HP\": 97, \"rear_axle_ratio\": 3.7, \"weight\": 2.465, \"qsec\": 20.01, \"vs\": 1, \"transmission\": 0, \"gears\": 3, \"carb\": 1}, {\"model\": \"Dodge Challenger\", \"MPG\": 15.5, \"cylinders\": 8, \"displacement\": 318.0, \"HP\": 150, \"rear_axle_ratio\": 2.76, \"weight\": 3.52, \"qsec\": 16.87, \"vs\": 0, \"transmission\": 0, \"gears\": 3, \"carb\": 2}, {\"model\": \"AMC Javelin\", \"MPG\": 15.2, \"cylinders\": 8, \"displacement\": 304.0, \"HP\": 150, \"rear_axle_ratio\": 3.15, \"weight\": 3.435, \"qsec\": 17.3, \"vs\": 0, \"transmission\": 0, \"gears\": 3, \"carb\": 2}, {\"model\": \"Camaro Z28\", \"MPG\": 13.3, \"cylinders\": 8, \"displacement\": 350.0, \"HP\": 245, \"rear_axle_ratio\": 3.73, \"weight\": 3.84, \"qsec\": 15.41, \"vs\": 0, \"transmission\": 0, \"gears\": 3, \"carb\": 4}, {\"model\": \"Pontiac Firebird\", \"MPG\": 19.2, \"cylinders\": 8, \"displacement\": 400.0, \"HP\": 175, \"rear_axle_ratio\": 3.08, \"weight\": 3.845, \"qsec\": 17.05, \"vs\": 0, \"transmission\": 0, \"gears\": 3, \"carb\": 2}, {\"model\": \"Fiat X1-9\", \"MPG\": 27.3, \"cylinders\": 4, \"displacement\": 79.0, \"HP\": 66, \"rear_axle_ratio\": 4.08, \"weight\": 1.935, \"qsec\": 18.9, \"vs\": 1, \"transmission\": 1, \"gears\": 4, \"carb\": 1}, {\"model\": \"Porsche 914-2\", \"MPG\": 26.0, \"cylinders\": 4, \"displacement\": 120.3, \"HP\": 91, \"rear_axle_ratio\": 4.43, \"weight\": 2.14, \"qsec\": 16.7, \"vs\": 0, \"transmission\": 1, \"gears\": 5, \"carb\": 2}, {\"model\": \"Lotus Europa\", \"MPG\": 30.4, \"cylinders\": 4, \"displacement\": 95.1, \"HP\": 113, \"rear_axle_ratio\": 3.77, \"weight\": 1.513, \"qsec\": 16.9, \"vs\": 1, \"transmission\": 1, \"gears\": 5, \"carb\": 2}, {\"model\": \"Ford Pantera L\", \"MPG\": 15.8, \"cylinders\": 8, \"displacement\": 351.0, \"HP\": 264, \"rear_axle_ratio\": 4.22, \"weight\": 3.17, \"qsec\": 14.5, \"vs\": 0, \"transmission\": 1, \"gears\": 5, \"carb\": 4}, {\"model\": \"Ferrari Dino\", \"MPG\": 19.7, \"cylinders\": 6, \"displacement\": 145.0, \"HP\": 175, \"rear_axle_ratio\": 3.62, \"weight\": 2.77, \"qsec\": 15.5, \"vs\": 0, \"transmission\": 1, \"gears\": 5, \"carb\": 6}, {\"model\": \"Maserati Bora\", \"MPG\": 15.0, \"cylinders\": 8, \"displacement\": 301.0, \"HP\": 335, \"rear_axle_ratio\": 3.54, \"weight\": 3.57, \"qsec\": 14.6, \"vs\": 0, \"transmission\": 1, \"gears\": 5, \"carb\": 8}, {\"model\": \"Volvo 142E\", \"MPG\": 21.4, \"cylinders\": 4, \"displacement\": 121.0, \"HP\": 109, \"rear_axle_ratio\": 4.11, \"weight\": 2.78, \"qsec\": 18.6, \"vs\": 1, \"transmission\": 1, \"gears\": 4, \"carb\": 2}]}}, {\"mode\": \"vega-lite\"});\n",
       "</script>"
      ],
      "text/plain": [
       "alt.HConcatChart(...)"
      ]
     },
     "execution_count": 39,
     "metadata": {},
     "output_type": "execute_result"
    }
   ],
   "source": [
    "#6.3 Force a common (shared) axis\n",
    "(model_mpg|model_hp).resolve_scale(y=\"shared\")"
   ]
  },
  {
   "cell_type": "markdown",
   "metadata": {
    "colab_type": "text",
    "id": "8attNdcfu0fW",
    "slideshow": {
     "slide_type": "slide"
    }
   },
   "source": [
    "## 7. Styling"
   ]
  },
  {
   "cell_type": "markdown",
   "metadata": {
    "slideshow": {
     "slide_type": "subslide"
    }
   },
   "source": [
    "### 7.1 DIY Option"
   ]
  },
  {
   "cell_type": "markdown",
   "metadata": {
    "slideshow": {
     "slide_type": "skip"
    }
   },
   "source": [
    "We end with a note that while many of the defaults of Altair are reasonable there are situations that we need to override these either for aesthetic or more practical reasons. Take a look at the Altair documentation. Chances are you can modify the chart to look the way you want."
   ]
  },
  {
   "cell_type": "code",
   "execution_count": 30,
   "metadata": {
    "colab": {
     "base_uri": "https://localhost:8080/",
     "height": 739
    },
    "colab_type": "code",
    "id": "-tIE1P6Vu0fW",
    "outputId": "c2f47c9e-3dc3-4fb2-efd5-2e45081435d0",
    "slideshow": {
     "slide_type": "subslide"
    }
   },
   "outputs": [],
   "source": [
    "#7.1 color, axis \n",
    "model_mpg= alt.Chart(mtcars,title=\"Mile Per Gallon\").mark_bar(height=5).encode(\n",
    "    x=alt.X('MPG'),\n",
    "    y=alt.Y(\"model\",           sort=alt.EncodingSortField(\n",
    "            field=\"model\",  # The field to use for the sort\n",
    "            order=\"descending\"  # The order to sort in\n",
    "        ))\n",
    ")\n",
    "model_hp= alt.Chart(mtcars,title=\"Horse Power\").mark_bar(color=\"pink\").encode(\n",
    "    x=alt.X('HP'),\n",
    "    y=alt.Y(\"model\", axis=None,         sort=alt.EncodingSortField(\n",
    "            field=\"model\",  # The field to use for the sort\n",
    "            order=\"descending\"  # The order to sort in\n",
    "        ))\n",
    ")\n"
   ]
  },
  {
   "cell_type": "code",
   "execution_count": 31,
   "metadata": {
    "slideshow": {
     "slide_type": "subslide"
    }
   },
   "outputs": [
    {
     "data": {
      "text/html": [
       "\n",
       "<div id=\"altair-viz-91672efd77084ece961773371a9b81aa\"></div>\n",
       "<script type=\"text/javascript\">\n",
       "  var VEGA_DEBUG = (typeof VEGA_DEBUG == \"undefined\") ? {} : VEGA_DEBUG;\n",
       "  (function(spec, embedOpt){\n",
       "    let outputDiv = document.currentScript.previousElementSibling;\n",
       "    if (outputDiv.id !== \"altair-viz-91672efd77084ece961773371a9b81aa\") {\n",
       "      outputDiv = document.getElementById(\"altair-viz-91672efd77084ece961773371a9b81aa\");\n",
       "    }\n",
       "    const paths = {\n",
       "      \"vega\": \"https://cdn.jsdelivr.net/npm//vega@5?noext\",\n",
       "      \"vega-lib\": \"https://cdn.jsdelivr.net/npm//vega-lib?noext\",\n",
       "      \"vega-lite\": \"https://cdn.jsdelivr.net/npm//vega-lite@4.17.0?noext\",\n",
       "      \"vega-embed\": \"https://cdn.jsdelivr.net/npm//vega-embed@6?noext\",\n",
       "    };\n",
       "\n",
       "    function maybeLoadScript(lib, version) {\n",
       "      var key = `${lib.replace(\"-\", \"\")}_version`;\n",
       "      return (VEGA_DEBUG[key] == version) ?\n",
       "        Promise.resolve(paths[lib]) :\n",
       "        new Promise(function(resolve, reject) {\n",
       "          var s = document.createElement('script');\n",
       "          document.getElementsByTagName(\"head\")[0].appendChild(s);\n",
       "          s.async = true;\n",
       "          s.onload = () => {\n",
       "            VEGA_DEBUG[key] = version;\n",
       "            return resolve(paths[lib]);\n",
       "          };\n",
       "          s.onerror = () => reject(`Error loading script: ${paths[lib]}`);\n",
       "          s.src = paths[lib];\n",
       "        });\n",
       "    }\n",
       "\n",
       "    function showError(err) {\n",
       "      outputDiv.innerHTML = `<div class=\"error\" style=\"color:red;\">${err}</div>`;\n",
       "      throw err;\n",
       "    }\n",
       "\n",
       "    function displayChart(vegaEmbed) {\n",
       "      vegaEmbed(outputDiv, spec, embedOpt)\n",
       "        .catch(err => showError(`Javascript Error: ${err.message}<br>This usually means there's a typo in your chart specification. See the javascript console for the full traceback.`));\n",
       "    }\n",
       "\n",
       "    if(typeof define === \"function\" && define.amd) {\n",
       "      requirejs.config({paths});\n",
       "      require([\"vega-embed\"], displayChart, err => showError(`Error loading script: ${err.message}`));\n",
       "    } else {\n",
       "      maybeLoadScript(\"vega\", \"5\")\n",
       "        .then(() => maybeLoadScript(\"vega-lite\", \"4.17.0\"))\n",
       "        .then(() => maybeLoadScript(\"vega-embed\", \"6\"))\n",
       "        .catch(showError)\n",
       "        .then(() => displayChart(vegaEmbed));\n",
       "    }\n",
       "  })({\"config\": {\"view\": {\"continuousWidth\": 400, \"continuousHeight\": 300}}, \"hconcat\": [{\"mark\": {\"type\": \"bar\", \"height\": 5}, \"encoding\": {\"x\": {\"field\": \"MPG\", \"type\": \"quantitative\"}, \"y\": {\"field\": \"model\", \"sort\": {\"field\": \"model\", \"order\": \"descending\"}, \"type\": \"nominal\"}}, \"title\": \"Mile Per Gallon\"}, {\"mark\": {\"type\": \"bar\", \"color\": \"pink\"}, \"encoding\": {\"x\": {\"field\": \"HP\", \"type\": \"quantitative\"}, \"y\": {\"axis\": null, \"field\": \"model\", \"sort\": {\"field\": \"model\", \"order\": \"descending\"}, \"type\": \"nominal\"}}, \"title\": \"Horse Power\"}], \"data\": {\"name\": \"data-9409cf149fcd97d1b95049972fed8558\"}, \"resolve\": {\"scale\": {\"y\": \"shared\"}}, \"title\": \"MPG and HP\", \"$schema\": \"https://vega.github.io/schema/vega-lite/v4.17.0.json\", \"datasets\": {\"data-9409cf149fcd97d1b95049972fed8558\": [{\"model\": \"Mazda RX4\", \"MPG\": 21.0, \"cylinders\": 6, \"displacement\": 160.0, \"HP\": 110, \"rear_axle_ratio\": 3.9, \"weight\": 2.62, \"qsec\": 16.46, \"vs\": 0, \"transmission\": 1, \"gears\": 4, \"carb\": 4}, {\"model\": \"Mazda RX4 Wag\", \"MPG\": 21.0, \"cylinders\": 6, \"displacement\": 160.0, \"HP\": 110, \"rear_axle_ratio\": 3.9, \"weight\": 2.875, \"qsec\": 17.02, \"vs\": 0, \"transmission\": 1, \"gears\": 4, \"carb\": 4}, {\"model\": \"Datsun 710\", \"MPG\": 22.8, \"cylinders\": 4, \"displacement\": 108.0, \"HP\": 93, \"rear_axle_ratio\": 3.85, \"weight\": 2.32, \"qsec\": 18.61, \"vs\": 1, \"transmission\": 1, \"gears\": 4, \"carb\": 1}, {\"model\": \"Hornet 4 Drive\", \"MPG\": 21.4, \"cylinders\": 6, \"displacement\": 258.0, \"HP\": 110, \"rear_axle_ratio\": 3.08, \"weight\": 3.215, \"qsec\": 19.44, \"vs\": 1, \"transmission\": 0, \"gears\": 3, \"carb\": 1}, {\"model\": \"Hornet Sportabout\", \"MPG\": 18.7, \"cylinders\": 8, \"displacement\": 360.0, \"HP\": 175, \"rear_axle_ratio\": 3.15, \"weight\": 3.44, \"qsec\": 17.02, \"vs\": 0, \"transmission\": 0, \"gears\": 3, \"carb\": 2}, {\"model\": \"Valiant\", \"MPG\": 18.1, \"cylinders\": 6, \"displacement\": 225.0, \"HP\": 105, \"rear_axle_ratio\": 2.76, \"weight\": 3.46, \"qsec\": 20.22, \"vs\": 1, \"transmission\": 0, \"gears\": 3, \"carb\": 1}, {\"model\": \"Duster 360\", \"MPG\": 14.3, \"cylinders\": 8, \"displacement\": 360.0, \"HP\": 245, \"rear_axle_ratio\": 3.21, \"weight\": 3.57, \"qsec\": 15.84, \"vs\": 0, \"transmission\": 0, \"gears\": 3, \"carb\": 4}, {\"model\": \"Merc 240D\", \"MPG\": 24.4, \"cylinders\": 4, \"displacement\": 146.7, \"HP\": 62, \"rear_axle_ratio\": 3.69, \"weight\": 3.19, \"qsec\": 20.0, \"vs\": 1, \"transmission\": 0, \"gears\": 4, \"carb\": 2}, {\"model\": \"Merc 230\", \"MPG\": 22.8, \"cylinders\": 4, \"displacement\": 140.8, \"HP\": 95, \"rear_axle_ratio\": 3.92, \"weight\": 3.15, \"qsec\": 22.9, \"vs\": 1, \"transmission\": 0, \"gears\": 4, \"carb\": 2}, {\"model\": \"Merc 280\", \"MPG\": 19.2, \"cylinders\": 6, \"displacement\": 167.6, \"HP\": 123, \"rear_axle_ratio\": 3.92, \"weight\": 3.44, \"qsec\": 18.3, \"vs\": 1, \"transmission\": 0, \"gears\": 4, \"carb\": 4}, {\"model\": \"Merc 280C\", \"MPG\": 17.8, \"cylinders\": 6, \"displacement\": 167.6, \"HP\": 123, \"rear_axle_ratio\": 3.92, \"weight\": 3.44, \"qsec\": 18.9, \"vs\": 1, \"transmission\": 0, \"gears\": 4, \"carb\": 4}, {\"model\": \"Merc 450SE\", \"MPG\": 16.4, \"cylinders\": 8, \"displacement\": 275.8, \"HP\": 180, \"rear_axle_ratio\": 3.07, \"weight\": 4.07, \"qsec\": 17.4, \"vs\": 0, \"transmission\": 0, \"gears\": 3, \"carb\": 3}, {\"model\": \"Merc 450SL\", \"MPG\": 17.3, \"cylinders\": 8, \"displacement\": 275.8, \"HP\": 180, \"rear_axle_ratio\": 3.07, \"weight\": 3.73, \"qsec\": 17.6, \"vs\": 0, \"transmission\": 0, \"gears\": 3, \"carb\": 3}, {\"model\": \"Merc 450SLC\", \"MPG\": 15.2, \"cylinders\": 8, \"displacement\": 275.8, \"HP\": 180, \"rear_axle_ratio\": 3.07, \"weight\": 3.78, \"qsec\": 18.0, \"vs\": 0, \"transmission\": 0, \"gears\": 3, \"carb\": 3}, {\"model\": \"Cadillac Fleetwood\", \"MPG\": 10.4, \"cylinders\": 8, \"displacement\": 472.0, \"HP\": 205, \"rear_axle_ratio\": 2.93, \"weight\": 5.25, \"qsec\": 17.98, \"vs\": 0, \"transmission\": 0, \"gears\": 3, \"carb\": 4}, {\"model\": \"Lincoln Continental\", \"MPG\": 10.4, \"cylinders\": 8, \"displacement\": 460.0, \"HP\": 215, \"rear_axle_ratio\": 3.0, \"weight\": 5.424, \"qsec\": 17.82, \"vs\": 0, \"transmission\": 0, \"gears\": 3, \"carb\": 4}, {\"model\": \"Chrysler Imperial\", \"MPG\": 14.7, \"cylinders\": 8, \"displacement\": 440.0, \"HP\": 230, \"rear_axle_ratio\": 3.23, \"weight\": 5.345, \"qsec\": 17.42, \"vs\": 0, \"transmission\": 0, \"gears\": 3, \"carb\": 4}, {\"model\": \"Fiat 128\", \"MPG\": 32.4, \"cylinders\": 4, \"displacement\": 78.7, \"HP\": 66, \"rear_axle_ratio\": 4.08, \"weight\": 2.2, \"qsec\": 19.47, \"vs\": 1, \"transmission\": 1, \"gears\": 4, \"carb\": 1}, {\"model\": \"Honda Civic\", \"MPG\": 30.4, \"cylinders\": 4, \"displacement\": 75.7, \"HP\": 52, \"rear_axle_ratio\": 4.93, \"weight\": 1.615, \"qsec\": 18.52, \"vs\": 1, \"transmission\": 1, \"gears\": 4, \"carb\": 2}, {\"model\": \"Toyota Corolla\", \"MPG\": 33.9, \"cylinders\": 4, \"displacement\": 71.1, \"HP\": 65, \"rear_axle_ratio\": 4.22, \"weight\": 1.835, \"qsec\": 19.9, \"vs\": 1, \"transmission\": 1, \"gears\": 4, \"carb\": 1}, {\"model\": \"Toyota Corona\", \"MPG\": 21.5, \"cylinders\": 4, \"displacement\": 120.1, \"HP\": 97, \"rear_axle_ratio\": 3.7, \"weight\": 2.465, \"qsec\": 20.01, \"vs\": 1, \"transmission\": 0, \"gears\": 3, \"carb\": 1}, {\"model\": \"Dodge Challenger\", \"MPG\": 15.5, \"cylinders\": 8, \"displacement\": 318.0, \"HP\": 150, \"rear_axle_ratio\": 2.76, \"weight\": 3.52, \"qsec\": 16.87, \"vs\": 0, \"transmission\": 0, \"gears\": 3, \"carb\": 2}, {\"model\": \"AMC Javelin\", \"MPG\": 15.2, \"cylinders\": 8, \"displacement\": 304.0, \"HP\": 150, \"rear_axle_ratio\": 3.15, \"weight\": 3.435, \"qsec\": 17.3, \"vs\": 0, \"transmission\": 0, \"gears\": 3, \"carb\": 2}, {\"model\": \"Camaro Z28\", \"MPG\": 13.3, \"cylinders\": 8, \"displacement\": 350.0, \"HP\": 245, \"rear_axle_ratio\": 3.73, \"weight\": 3.84, \"qsec\": 15.41, \"vs\": 0, \"transmission\": 0, \"gears\": 3, \"carb\": 4}, {\"model\": \"Pontiac Firebird\", \"MPG\": 19.2, \"cylinders\": 8, \"displacement\": 400.0, \"HP\": 175, \"rear_axle_ratio\": 3.08, \"weight\": 3.845, \"qsec\": 17.05, \"vs\": 0, \"transmission\": 0, \"gears\": 3, \"carb\": 2}, {\"model\": \"Fiat X1-9\", \"MPG\": 27.3, \"cylinders\": 4, \"displacement\": 79.0, \"HP\": 66, \"rear_axle_ratio\": 4.08, \"weight\": 1.935, \"qsec\": 18.9, \"vs\": 1, \"transmission\": 1, \"gears\": 4, \"carb\": 1}, {\"model\": \"Porsche 914-2\", \"MPG\": 26.0, \"cylinders\": 4, \"displacement\": 120.3, \"HP\": 91, \"rear_axle_ratio\": 4.43, \"weight\": 2.14, \"qsec\": 16.7, \"vs\": 0, \"transmission\": 1, \"gears\": 5, \"carb\": 2}, {\"model\": \"Lotus Europa\", \"MPG\": 30.4, \"cylinders\": 4, \"displacement\": 95.1, \"HP\": 113, \"rear_axle_ratio\": 3.77, \"weight\": 1.513, \"qsec\": 16.9, \"vs\": 1, \"transmission\": 1, \"gears\": 5, \"carb\": 2}, {\"model\": \"Ford Pantera L\", \"MPG\": 15.8, \"cylinders\": 8, \"displacement\": 351.0, \"HP\": 264, \"rear_axle_ratio\": 4.22, \"weight\": 3.17, \"qsec\": 14.5, \"vs\": 0, \"transmission\": 1, \"gears\": 5, \"carb\": 4}, {\"model\": \"Ferrari Dino\", \"MPG\": 19.7, \"cylinders\": 6, \"displacement\": 145.0, \"HP\": 175, \"rear_axle_ratio\": 3.62, \"weight\": 2.77, \"qsec\": 15.5, \"vs\": 0, \"transmission\": 1, \"gears\": 5, \"carb\": 6}, {\"model\": \"Maserati Bora\", \"MPG\": 15.0, \"cylinders\": 8, \"displacement\": 301.0, \"HP\": 335, \"rear_axle_ratio\": 3.54, \"weight\": 3.57, \"qsec\": 14.6, \"vs\": 0, \"transmission\": 1, \"gears\": 5, \"carb\": 8}, {\"model\": \"Volvo 142E\", \"MPG\": 21.4, \"cylinders\": 4, \"displacement\": 121.0, \"HP\": 109, \"rear_axle_ratio\": 4.11, \"weight\": 2.78, \"qsec\": 18.6, \"vs\": 1, \"transmission\": 1, \"gears\": 4, \"carb\": 2}]}}, {\"mode\": \"vega-lite\"});\n",
       "</script>"
      ],
      "text/plain": [
       "alt.HConcatChart(...)"
      ]
     },
     "execution_count": 31,
     "metadata": {},
     "output_type": "execute_result"
    }
   ],
   "source": [
    "# Now plot it, side by side\n",
    "\n",
    "(model_mpg|model_hp).resolve_scale(y='shared').properties(\n",
    "    title=\"MPG and HP\"\n",
    "\n",
    ")"
   ]
  },
  {
   "cell_type": "markdown",
   "metadata": {
    "slideshow": {
     "slide_type": "subslide"
    }
   },
   "source": [
    "### 7.1 Themes"
   ]
  },
  {
   "cell_type": "markdown",
   "metadata": {
    "slideshow": {
     "slide_type": "skip"
    }
   },
   "source": [
    "Vega-lite has a number of built-in themes (you can also make your own if you want). These themes provide a shortcut to creating visualizations that are styled in specific ways. For example, you can make your visualization look like ggplot, 538, vox, etc. The list of current themes is on the [vega-themes](https://github.com/vega/vega-themes) site. The appeal of using themes is that they are \"activated\" for all future visualizations until you turn them off.\n",
    "\n",
    "If you would like to make your own, you will need to define the theme and then \"register\" it (give it a name). A good blog post that documents this is [here](https://towardsdatascience.com/consistently-beautiful-visualizations-with-altair-themes-c7f9f889602).  You will basically be creating a JSON object that describes how you want things to look colors/fonts/etc. (actually, you'll be describing only the things that you want to change from the default)."
   ]
  },
  {
   "cell_type": "code",
   "execution_count": 40,
   "metadata": {
    "slideshow": {
     "slide_type": "subslide"
    }
   },
   "outputs": [
    {
     "data": {
      "text/html": [
       "\n",
       "<div id=\"altair-viz-3bd2e4c22dff478691deb41a4bb089e4\"></div>\n",
       "<script type=\"text/javascript\">\n",
       "  var VEGA_DEBUG = (typeof VEGA_DEBUG == \"undefined\") ? {} : VEGA_DEBUG;\n",
       "  (function(spec, embedOpt){\n",
       "    let outputDiv = document.currentScript.previousElementSibling;\n",
       "    if (outputDiv.id !== \"altair-viz-3bd2e4c22dff478691deb41a4bb089e4\") {\n",
       "      outputDiv = document.getElementById(\"altair-viz-3bd2e4c22dff478691deb41a4bb089e4\");\n",
       "    }\n",
       "    const paths = {\n",
       "      \"vega\": \"https://cdn.jsdelivr.net/npm//vega@5?noext\",\n",
       "      \"vega-lib\": \"https://cdn.jsdelivr.net/npm//vega-lib?noext\",\n",
       "      \"vega-lite\": \"https://cdn.jsdelivr.net/npm//vega-lite@4.17.0?noext\",\n",
       "      \"vega-embed\": \"https://cdn.jsdelivr.net/npm//vega-embed@6?noext\",\n",
       "    };\n",
       "\n",
       "    function maybeLoadScript(lib, version) {\n",
       "      var key = `${lib.replace(\"-\", \"\")}_version`;\n",
       "      return (VEGA_DEBUG[key] == version) ?\n",
       "        Promise.resolve(paths[lib]) :\n",
       "        new Promise(function(resolve, reject) {\n",
       "          var s = document.createElement('script');\n",
       "          document.getElementsByTagName(\"head\")[0].appendChild(s);\n",
       "          s.async = true;\n",
       "          s.onload = () => {\n",
       "            VEGA_DEBUG[key] = version;\n",
       "            return resolve(paths[lib]);\n",
       "          };\n",
       "          s.onerror = () => reject(`Error loading script: ${paths[lib]}`);\n",
       "          s.src = paths[lib];\n",
       "        });\n",
       "    }\n",
       "\n",
       "    function showError(err) {\n",
       "      outputDiv.innerHTML = `<div class=\"error\" style=\"color:red;\">${err}</div>`;\n",
       "      throw err;\n",
       "    }\n",
       "\n",
       "    function displayChart(vegaEmbed) {\n",
       "      vegaEmbed(outputDiv, spec, embedOpt)\n",
       "        .catch(err => showError(`Javascript Error: ${err.message}<br>This usually means there's a typo in your chart specification. See the javascript console for the full traceback.`));\n",
       "    }\n",
       "\n",
       "    if(typeof define === \"function\" && define.amd) {\n",
       "      requirejs.config({paths});\n",
       "      require([\"vega-embed\"], displayChart, err => showError(`Error loading script: ${err.message}`));\n",
       "    } else {\n",
       "      maybeLoadScript(\"vega\", \"5\")\n",
       "        .then(() => maybeLoadScript(\"vega-lite\", \"4.17.0\"))\n",
       "        .then(() => maybeLoadScript(\"vega-embed\", \"6\"))\n",
       "        .catch(showError)\n",
       "        .then(() => displayChart(vegaEmbed));\n",
       "    }\n",
       "  })({\"usermeta\": {\"embedOptions\": {\"theme\": \"fivethirtyeight\"}}, \"config\": {\"view\": {\"continuousWidth\": 400, \"continuousHeight\": 300}}, \"data\": {\"name\": \"data-9409cf149fcd97d1b95049972fed8558\"}, \"mark\": {\"type\": \"point\", \"filled\": true}, \"encoding\": {\"color\": {\"field\": \"transmission\", \"type\": \"nominal\"}, \"x\": {\"field\": \"MPG\", \"type\": \"quantitative\"}, \"y\": {\"field\": \"weight\", \"type\": \"quantitative\"}}, \"$schema\": \"https://vega.github.io/schema/vega-lite/v4.17.0.json\", \"datasets\": {\"data-9409cf149fcd97d1b95049972fed8558\": [{\"model\": \"Mazda RX4\", \"MPG\": 21.0, \"cylinders\": 6, \"displacement\": 160.0, \"HP\": 110, \"rear_axle_ratio\": 3.9, \"weight\": 2.62, \"qsec\": 16.46, \"vs\": 0, \"transmission\": 1, \"gears\": 4, \"carb\": 4}, {\"model\": \"Mazda RX4 Wag\", \"MPG\": 21.0, \"cylinders\": 6, \"displacement\": 160.0, \"HP\": 110, \"rear_axle_ratio\": 3.9, \"weight\": 2.875, \"qsec\": 17.02, \"vs\": 0, \"transmission\": 1, \"gears\": 4, \"carb\": 4}, {\"model\": \"Datsun 710\", \"MPG\": 22.8, \"cylinders\": 4, \"displacement\": 108.0, \"HP\": 93, \"rear_axle_ratio\": 3.85, \"weight\": 2.32, \"qsec\": 18.61, \"vs\": 1, \"transmission\": 1, \"gears\": 4, \"carb\": 1}, {\"model\": \"Hornet 4 Drive\", \"MPG\": 21.4, \"cylinders\": 6, \"displacement\": 258.0, \"HP\": 110, \"rear_axle_ratio\": 3.08, \"weight\": 3.215, \"qsec\": 19.44, \"vs\": 1, \"transmission\": 0, \"gears\": 3, \"carb\": 1}, {\"model\": \"Hornet Sportabout\", \"MPG\": 18.7, \"cylinders\": 8, \"displacement\": 360.0, \"HP\": 175, \"rear_axle_ratio\": 3.15, \"weight\": 3.44, \"qsec\": 17.02, \"vs\": 0, \"transmission\": 0, \"gears\": 3, \"carb\": 2}, {\"model\": \"Valiant\", \"MPG\": 18.1, \"cylinders\": 6, \"displacement\": 225.0, \"HP\": 105, \"rear_axle_ratio\": 2.76, \"weight\": 3.46, \"qsec\": 20.22, \"vs\": 1, \"transmission\": 0, \"gears\": 3, \"carb\": 1}, {\"model\": \"Duster 360\", \"MPG\": 14.3, \"cylinders\": 8, \"displacement\": 360.0, \"HP\": 245, \"rear_axle_ratio\": 3.21, \"weight\": 3.57, \"qsec\": 15.84, \"vs\": 0, \"transmission\": 0, \"gears\": 3, \"carb\": 4}, {\"model\": \"Merc 240D\", \"MPG\": 24.4, \"cylinders\": 4, \"displacement\": 146.7, \"HP\": 62, \"rear_axle_ratio\": 3.69, \"weight\": 3.19, \"qsec\": 20.0, \"vs\": 1, \"transmission\": 0, \"gears\": 4, \"carb\": 2}, {\"model\": \"Merc 230\", \"MPG\": 22.8, \"cylinders\": 4, \"displacement\": 140.8, \"HP\": 95, \"rear_axle_ratio\": 3.92, \"weight\": 3.15, \"qsec\": 22.9, \"vs\": 1, \"transmission\": 0, \"gears\": 4, \"carb\": 2}, {\"model\": \"Merc 280\", \"MPG\": 19.2, \"cylinders\": 6, \"displacement\": 167.6, \"HP\": 123, \"rear_axle_ratio\": 3.92, \"weight\": 3.44, \"qsec\": 18.3, \"vs\": 1, \"transmission\": 0, \"gears\": 4, \"carb\": 4}, {\"model\": \"Merc 280C\", \"MPG\": 17.8, \"cylinders\": 6, \"displacement\": 167.6, \"HP\": 123, \"rear_axle_ratio\": 3.92, \"weight\": 3.44, \"qsec\": 18.9, \"vs\": 1, \"transmission\": 0, \"gears\": 4, \"carb\": 4}, {\"model\": \"Merc 450SE\", \"MPG\": 16.4, \"cylinders\": 8, \"displacement\": 275.8, \"HP\": 180, \"rear_axle_ratio\": 3.07, \"weight\": 4.07, \"qsec\": 17.4, \"vs\": 0, \"transmission\": 0, \"gears\": 3, \"carb\": 3}, {\"model\": \"Merc 450SL\", \"MPG\": 17.3, \"cylinders\": 8, \"displacement\": 275.8, \"HP\": 180, \"rear_axle_ratio\": 3.07, \"weight\": 3.73, \"qsec\": 17.6, \"vs\": 0, \"transmission\": 0, \"gears\": 3, \"carb\": 3}, {\"model\": \"Merc 450SLC\", \"MPG\": 15.2, \"cylinders\": 8, \"displacement\": 275.8, \"HP\": 180, \"rear_axle_ratio\": 3.07, \"weight\": 3.78, \"qsec\": 18.0, \"vs\": 0, \"transmission\": 0, \"gears\": 3, \"carb\": 3}, {\"model\": \"Cadillac Fleetwood\", \"MPG\": 10.4, \"cylinders\": 8, \"displacement\": 472.0, \"HP\": 205, \"rear_axle_ratio\": 2.93, \"weight\": 5.25, \"qsec\": 17.98, \"vs\": 0, \"transmission\": 0, \"gears\": 3, \"carb\": 4}, {\"model\": \"Lincoln Continental\", \"MPG\": 10.4, \"cylinders\": 8, \"displacement\": 460.0, \"HP\": 215, \"rear_axle_ratio\": 3.0, \"weight\": 5.424, \"qsec\": 17.82, \"vs\": 0, \"transmission\": 0, \"gears\": 3, \"carb\": 4}, {\"model\": \"Chrysler Imperial\", \"MPG\": 14.7, \"cylinders\": 8, \"displacement\": 440.0, \"HP\": 230, \"rear_axle_ratio\": 3.23, \"weight\": 5.345, \"qsec\": 17.42, \"vs\": 0, \"transmission\": 0, \"gears\": 3, \"carb\": 4}, {\"model\": \"Fiat 128\", \"MPG\": 32.4, \"cylinders\": 4, \"displacement\": 78.7, \"HP\": 66, \"rear_axle_ratio\": 4.08, \"weight\": 2.2, \"qsec\": 19.47, \"vs\": 1, \"transmission\": 1, \"gears\": 4, \"carb\": 1}, {\"model\": \"Honda Civic\", \"MPG\": 30.4, \"cylinders\": 4, \"displacement\": 75.7, \"HP\": 52, \"rear_axle_ratio\": 4.93, \"weight\": 1.615, \"qsec\": 18.52, \"vs\": 1, \"transmission\": 1, \"gears\": 4, \"carb\": 2}, {\"model\": \"Toyota Corolla\", \"MPG\": 33.9, \"cylinders\": 4, \"displacement\": 71.1, \"HP\": 65, \"rear_axle_ratio\": 4.22, \"weight\": 1.835, \"qsec\": 19.9, \"vs\": 1, \"transmission\": 1, \"gears\": 4, \"carb\": 1}, {\"model\": \"Toyota Corona\", \"MPG\": 21.5, \"cylinders\": 4, \"displacement\": 120.1, \"HP\": 97, \"rear_axle_ratio\": 3.7, \"weight\": 2.465, \"qsec\": 20.01, \"vs\": 1, \"transmission\": 0, \"gears\": 3, \"carb\": 1}, {\"model\": \"Dodge Challenger\", \"MPG\": 15.5, \"cylinders\": 8, \"displacement\": 318.0, \"HP\": 150, \"rear_axle_ratio\": 2.76, \"weight\": 3.52, \"qsec\": 16.87, \"vs\": 0, \"transmission\": 0, \"gears\": 3, \"carb\": 2}, {\"model\": \"AMC Javelin\", \"MPG\": 15.2, \"cylinders\": 8, \"displacement\": 304.0, \"HP\": 150, \"rear_axle_ratio\": 3.15, \"weight\": 3.435, \"qsec\": 17.3, \"vs\": 0, \"transmission\": 0, \"gears\": 3, \"carb\": 2}, {\"model\": \"Camaro Z28\", \"MPG\": 13.3, \"cylinders\": 8, \"displacement\": 350.0, \"HP\": 245, \"rear_axle_ratio\": 3.73, \"weight\": 3.84, \"qsec\": 15.41, \"vs\": 0, \"transmission\": 0, \"gears\": 3, \"carb\": 4}, {\"model\": \"Pontiac Firebird\", \"MPG\": 19.2, \"cylinders\": 8, \"displacement\": 400.0, \"HP\": 175, \"rear_axle_ratio\": 3.08, \"weight\": 3.845, \"qsec\": 17.05, \"vs\": 0, \"transmission\": 0, \"gears\": 3, \"carb\": 2}, {\"model\": \"Fiat X1-9\", \"MPG\": 27.3, \"cylinders\": 4, \"displacement\": 79.0, \"HP\": 66, \"rear_axle_ratio\": 4.08, \"weight\": 1.935, \"qsec\": 18.9, \"vs\": 1, \"transmission\": 1, \"gears\": 4, \"carb\": 1}, {\"model\": \"Porsche 914-2\", \"MPG\": 26.0, \"cylinders\": 4, \"displacement\": 120.3, \"HP\": 91, \"rear_axle_ratio\": 4.43, \"weight\": 2.14, \"qsec\": 16.7, \"vs\": 0, \"transmission\": 1, \"gears\": 5, \"carb\": 2}, {\"model\": \"Lotus Europa\", \"MPG\": 30.4, \"cylinders\": 4, \"displacement\": 95.1, \"HP\": 113, \"rear_axle_ratio\": 3.77, \"weight\": 1.513, \"qsec\": 16.9, \"vs\": 1, \"transmission\": 1, \"gears\": 5, \"carb\": 2}, {\"model\": \"Ford Pantera L\", \"MPG\": 15.8, \"cylinders\": 8, \"displacement\": 351.0, \"HP\": 264, \"rear_axle_ratio\": 4.22, \"weight\": 3.17, \"qsec\": 14.5, \"vs\": 0, \"transmission\": 1, \"gears\": 5, \"carb\": 4}, {\"model\": \"Ferrari Dino\", \"MPG\": 19.7, \"cylinders\": 6, \"displacement\": 145.0, \"HP\": 175, \"rear_axle_ratio\": 3.62, \"weight\": 2.77, \"qsec\": 15.5, \"vs\": 0, \"transmission\": 1, \"gears\": 5, \"carb\": 6}, {\"model\": \"Maserati Bora\", \"MPG\": 15.0, \"cylinders\": 8, \"displacement\": 301.0, \"HP\": 335, \"rear_axle_ratio\": 3.54, \"weight\": 3.57, \"qsec\": 14.6, \"vs\": 0, \"transmission\": 1, \"gears\": 5, \"carb\": 8}, {\"model\": \"Volvo 142E\", \"MPG\": 21.4, \"cylinders\": 4, \"displacement\": 121.0, \"HP\": 109, \"rear_axle_ratio\": 4.11, \"weight\": 2.78, \"qsec\": 18.6, \"vs\": 1, \"transmission\": 1, \"gears\": 4, \"carb\": 2}]}}, {\"mode\": \"vega-lite\"});\n",
       "</script>"
      ],
      "text/plain": [
       "alt.Chart(...)"
      ]
     },
     "execution_count": 40,
     "metadata": {},
     "output_type": "execute_result"
    }
   ],
   "source": [
    "# 7.2\n",
    "\n",
    "alt.themes.enable('fivethirtyeight')   # try vox, dark, etc.\n",
    "\n",
    "alt.Chart(mtcars).mark_point(filled=True).encode(\n",
    "    x='MPG',\n",
    "    y=\"weight\",\n",
    "    color=\"transmission:N\"\n",
    ")\n",
    "\n"
   ]
  },
  {
   "cell_type": "code",
   "execution_count": 41,
   "metadata": {
    "slideshow": {
     "slide_type": "subslide"
    }
   },
   "outputs": [
    {
     "data": {
      "text/html": [
       "\n",
       "<div id=\"altair-viz-0801e7a1ad6044348ce557a104022bc5\"></div>\n",
       "<script type=\"text/javascript\">\n",
       "  var VEGA_DEBUG = (typeof VEGA_DEBUG == \"undefined\") ? {} : VEGA_DEBUG;\n",
       "  (function(spec, embedOpt){\n",
       "    let outputDiv = document.currentScript.previousElementSibling;\n",
       "    if (outputDiv.id !== \"altair-viz-0801e7a1ad6044348ce557a104022bc5\") {\n",
       "      outputDiv = document.getElementById(\"altair-viz-0801e7a1ad6044348ce557a104022bc5\");\n",
       "    }\n",
       "    const paths = {\n",
       "      \"vega\": \"https://cdn.jsdelivr.net/npm//vega@5?noext\",\n",
       "      \"vega-lib\": \"https://cdn.jsdelivr.net/npm//vega-lib?noext\",\n",
       "      \"vega-lite\": \"https://cdn.jsdelivr.net/npm//vega-lite@4.17.0?noext\",\n",
       "      \"vega-embed\": \"https://cdn.jsdelivr.net/npm//vega-embed@6?noext\",\n",
       "    };\n",
       "\n",
       "    function maybeLoadScript(lib, version) {\n",
       "      var key = `${lib.replace(\"-\", \"\")}_version`;\n",
       "      return (VEGA_DEBUG[key] == version) ?\n",
       "        Promise.resolve(paths[lib]) :\n",
       "        new Promise(function(resolve, reject) {\n",
       "          var s = document.createElement('script');\n",
       "          document.getElementsByTagName(\"head\")[0].appendChild(s);\n",
       "          s.async = true;\n",
       "          s.onload = () => {\n",
       "            VEGA_DEBUG[key] = version;\n",
       "            return resolve(paths[lib]);\n",
       "          };\n",
       "          s.onerror = () => reject(`Error loading script: ${paths[lib]}`);\n",
       "          s.src = paths[lib];\n",
       "        });\n",
       "    }\n",
       "\n",
       "    function showError(err) {\n",
       "      outputDiv.innerHTML = `<div class=\"error\" style=\"color:red;\">${err}</div>`;\n",
       "      throw err;\n",
       "    }\n",
       "\n",
       "    function displayChart(vegaEmbed) {\n",
       "      vegaEmbed(outputDiv, spec, embedOpt)\n",
       "        .catch(err => showError(`Javascript Error: ${err.message}<br>This usually means there's a typo in your chart specification. See the javascript console for the full traceback.`));\n",
       "    }\n",
       "\n",
       "    if(typeof define === \"function\" && define.amd) {\n",
       "      requirejs.config({paths});\n",
       "      require([\"vega-embed\"], displayChart, err => showError(`Error loading script: ${err.message}`));\n",
       "    } else {\n",
       "      maybeLoadScript(\"vega\", \"5\")\n",
       "        .then(() => maybeLoadScript(\"vega-lite\", \"4.17.0\"))\n",
       "        .then(() => maybeLoadScript(\"vega-embed\", \"6\"))\n",
       "        .catch(showError)\n",
       "        .then(() => displayChart(vegaEmbed));\n",
       "    }\n",
       "  })({\"config\": {\"view\": {\"continuousWidth\": 400, \"continuousHeight\": 300}}, \"data\": {\"name\": \"data-9409cf149fcd97d1b95049972fed8558\"}, \"mark\": {\"type\": \"point\", \"filled\": true}, \"encoding\": {\"color\": {\"field\": \"transmission\", \"type\": \"nominal\"}, \"x\": {\"field\": \"MPG\", \"type\": \"quantitative\"}, \"y\": {\"field\": \"weight\", \"type\": \"quantitative\"}}, \"$schema\": \"https://vega.github.io/schema/vega-lite/v4.17.0.json\", \"datasets\": {\"data-9409cf149fcd97d1b95049972fed8558\": [{\"model\": \"Mazda RX4\", \"MPG\": 21.0, \"cylinders\": 6, \"displacement\": 160.0, \"HP\": 110, \"rear_axle_ratio\": 3.9, \"weight\": 2.62, \"qsec\": 16.46, \"vs\": 0, \"transmission\": 1, \"gears\": 4, \"carb\": 4}, {\"model\": \"Mazda RX4 Wag\", \"MPG\": 21.0, \"cylinders\": 6, \"displacement\": 160.0, \"HP\": 110, \"rear_axle_ratio\": 3.9, \"weight\": 2.875, \"qsec\": 17.02, \"vs\": 0, \"transmission\": 1, \"gears\": 4, \"carb\": 4}, {\"model\": \"Datsun 710\", \"MPG\": 22.8, \"cylinders\": 4, \"displacement\": 108.0, \"HP\": 93, \"rear_axle_ratio\": 3.85, \"weight\": 2.32, \"qsec\": 18.61, \"vs\": 1, \"transmission\": 1, \"gears\": 4, \"carb\": 1}, {\"model\": \"Hornet 4 Drive\", \"MPG\": 21.4, \"cylinders\": 6, \"displacement\": 258.0, \"HP\": 110, \"rear_axle_ratio\": 3.08, \"weight\": 3.215, \"qsec\": 19.44, \"vs\": 1, \"transmission\": 0, \"gears\": 3, \"carb\": 1}, {\"model\": \"Hornet Sportabout\", \"MPG\": 18.7, \"cylinders\": 8, \"displacement\": 360.0, \"HP\": 175, \"rear_axle_ratio\": 3.15, \"weight\": 3.44, \"qsec\": 17.02, \"vs\": 0, \"transmission\": 0, \"gears\": 3, \"carb\": 2}, {\"model\": \"Valiant\", \"MPG\": 18.1, \"cylinders\": 6, \"displacement\": 225.0, \"HP\": 105, \"rear_axle_ratio\": 2.76, \"weight\": 3.46, \"qsec\": 20.22, \"vs\": 1, \"transmission\": 0, \"gears\": 3, \"carb\": 1}, {\"model\": \"Duster 360\", \"MPG\": 14.3, \"cylinders\": 8, \"displacement\": 360.0, \"HP\": 245, \"rear_axle_ratio\": 3.21, \"weight\": 3.57, \"qsec\": 15.84, \"vs\": 0, \"transmission\": 0, \"gears\": 3, \"carb\": 4}, {\"model\": \"Merc 240D\", \"MPG\": 24.4, \"cylinders\": 4, \"displacement\": 146.7, \"HP\": 62, \"rear_axle_ratio\": 3.69, \"weight\": 3.19, \"qsec\": 20.0, \"vs\": 1, \"transmission\": 0, \"gears\": 4, \"carb\": 2}, {\"model\": \"Merc 230\", \"MPG\": 22.8, \"cylinders\": 4, \"displacement\": 140.8, \"HP\": 95, \"rear_axle_ratio\": 3.92, \"weight\": 3.15, \"qsec\": 22.9, \"vs\": 1, \"transmission\": 0, \"gears\": 4, \"carb\": 2}, {\"model\": \"Merc 280\", \"MPG\": 19.2, \"cylinders\": 6, \"displacement\": 167.6, \"HP\": 123, \"rear_axle_ratio\": 3.92, \"weight\": 3.44, \"qsec\": 18.3, \"vs\": 1, \"transmission\": 0, \"gears\": 4, \"carb\": 4}, {\"model\": \"Merc 280C\", \"MPG\": 17.8, \"cylinders\": 6, \"displacement\": 167.6, \"HP\": 123, \"rear_axle_ratio\": 3.92, \"weight\": 3.44, \"qsec\": 18.9, \"vs\": 1, \"transmission\": 0, \"gears\": 4, \"carb\": 4}, {\"model\": \"Merc 450SE\", \"MPG\": 16.4, \"cylinders\": 8, \"displacement\": 275.8, \"HP\": 180, \"rear_axle_ratio\": 3.07, \"weight\": 4.07, \"qsec\": 17.4, \"vs\": 0, \"transmission\": 0, \"gears\": 3, \"carb\": 3}, {\"model\": \"Merc 450SL\", \"MPG\": 17.3, \"cylinders\": 8, \"displacement\": 275.8, \"HP\": 180, \"rear_axle_ratio\": 3.07, \"weight\": 3.73, \"qsec\": 17.6, \"vs\": 0, \"transmission\": 0, \"gears\": 3, \"carb\": 3}, {\"model\": \"Merc 450SLC\", \"MPG\": 15.2, \"cylinders\": 8, \"displacement\": 275.8, \"HP\": 180, \"rear_axle_ratio\": 3.07, \"weight\": 3.78, \"qsec\": 18.0, \"vs\": 0, \"transmission\": 0, \"gears\": 3, \"carb\": 3}, {\"model\": \"Cadillac Fleetwood\", \"MPG\": 10.4, \"cylinders\": 8, \"displacement\": 472.0, \"HP\": 205, \"rear_axle_ratio\": 2.93, \"weight\": 5.25, \"qsec\": 17.98, \"vs\": 0, \"transmission\": 0, \"gears\": 3, \"carb\": 4}, {\"model\": \"Lincoln Continental\", \"MPG\": 10.4, \"cylinders\": 8, \"displacement\": 460.0, \"HP\": 215, \"rear_axle_ratio\": 3.0, \"weight\": 5.424, \"qsec\": 17.82, \"vs\": 0, \"transmission\": 0, \"gears\": 3, \"carb\": 4}, {\"model\": \"Chrysler Imperial\", \"MPG\": 14.7, \"cylinders\": 8, \"displacement\": 440.0, \"HP\": 230, \"rear_axle_ratio\": 3.23, \"weight\": 5.345, \"qsec\": 17.42, \"vs\": 0, \"transmission\": 0, \"gears\": 3, \"carb\": 4}, {\"model\": \"Fiat 128\", \"MPG\": 32.4, \"cylinders\": 4, \"displacement\": 78.7, \"HP\": 66, \"rear_axle_ratio\": 4.08, \"weight\": 2.2, \"qsec\": 19.47, \"vs\": 1, \"transmission\": 1, \"gears\": 4, \"carb\": 1}, {\"model\": \"Honda Civic\", \"MPG\": 30.4, \"cylinders\": 4, \"displacement\": 75.7, \"HP\": 52, \"rear_axle_ratio\": 4.93, \"weight\": 1.615, \"qsec\": 18.52, \"vs\": 1, \"transmission\": 1, \"gears\": 4, \"carb\": 2}, {\"model\": \"Toyota Corolla\", \"MPG\": 33.9, \"cylinders\": 4, \"displacement\": 71.1, \"HP\": 65, \"rear_axle_ratio\": 4.22, \"weight\": 1.835, \"qsec\": 19.9, \"vs\": 1, \"transmission\": 1, \"gears\": 4, \"carb\": 1}, {\"model\": \"Toyota Corona\", \"MPG\": 21.5, \"cylinders\": 4, \"displacement\": 120.1, \"HP\": 97, \"rear_axle_ratio\": 3.7, \"weight\": 2.465, \"qsec\": 20.01, \"vs\": 1, \"transmission\": 0, \"gears\": 3, \"carb\": 1}, {\"model\": \"Dodge Challenger\", \"MPG\": 15.5, \"cylinders\": 8, \"displacement\": 318.0, \"HP\": 150, \"rear_axle_ratio\": 2.76, \"weight\": 3.52, \"qsec\": 16.87, \"vs\": 0, \"transmission\": 0, \"gears\": 3, \"carb\": 2}, {\"model\": \"AMC Javelin\", \"MPG\": 15.2, \"cylinders\": 8, \"displacement\": 304.0, \"HP\": 150, \"rear_axle_ratio\": 3.15, \"weight\": 3.435, \"qsec\": 17.3, \"vs\": 0, \"transmission\": 0, \"gears\": 3, \"carb\": 2}, {\"model\": \"Camaro Z28\", \"MPG\": 13.3, \"cylinders\": 8, \"displacement\": 350.0, \"HP\": 245, \"rear_axle_ratio\": 3.73, \"weight\": 3.84, \"qsec\": 15.41, \"vs\": 0, \"transmission\": 0, \"gears\": 3, \"carb\": 4}, {\"model\": \"Pontiac Firebird\", \"MPG\": 19.2, \"cylinders\": 8, \"displacement\": 400.0, \"HP\": 175, \"rear_axle_ratio\": 3.08, \"weight\": 3.845, \"qsec\": 17.05, \"vs\": 0, \"transmission\": 0, \"gears\": 3, \"carb\": 2}, {\"model\": \"Fiat X1-9\", \"MPG\": 27.3, \"cylinders\": 4, \"displacement\": 79.0, \"HP\": 66, \"rear_axle_ratio\": 4.08, \"weight\": 1.935, \"qsec\": 18.9, \"vs\": 1, \"transmission\": 1, \"gears\": 4, \"carb\": 1}, {\"model\": \"Porsche 914-2\", \"MPG\": 26.0, \"cylinders\": 4, \"displacement\": 120.3, \"HP\": 91, \"rear_axle_ratio\": 4.43, \"weight\": 2.14, \"qsec\": 16.7, \"vs\": 0, \"transmission\": 1, \"gears\": 5, \"carb\": 2}, {\"model\": \"Lotus Europa\", \"MPG\": 30.4, \"cylinders\": 4, \"displacement\": 95.1, \"HP\": 113, \"rear_axle_ratio\": 3.77, \"weight\": 1.513, \"qsec\": 16.9, \"vs\": 1, \"transmission\": 1, \"gears\": 5, \"carb\": 2}, {\"model\": \"Ford Pantera L\", \"MPG\": 15.8, \"cylinders\": 8, \"displacement\": 351.0, \"HP\": 264, \"rear_axle_ratio\": 4.22, \"weight\": 3.17, \"qsec\": 14.5, \"vs\": 0, \"transmission\": 1, \"gears\": 5, \"carb\": 4}, {\"model\": \"Ferrari Dino\", \"MPG\": 19.7, \"cylinders\": 6, \"displacement\": 145.0, \"HP\": 175, \"rear_axle_ratio\": 3.62, \"weight\": 2.77, \"qsec\": 15.5, \"vs\": 0, \"transmission\": 1, \"gears\": 5, \"carb\": 6}, {\"model\": \"Maserati Bora\", \"MPG\": 15.0, \"cylinders\": 8, \"displacement\": 301.0, \"HP\": 335, \"rear_axle_ratio\": 3.54, \"weight\": 3.57, \"qsec\": 14.6, \"vs\": 0, \"transmission\": 1, \"gears\": 5, \"carb\": 8}, {\"model\": \"Volvo 142E\", \"MPG\": 21.4, \"cylinders\": 4, \"displacement\": 121.0, \"HP\": 109, \"rear_axle_ratio\": 4.11, \"weight\": 2.78, \"qsec\": 18.6, \"vs\": 1, \"transmission\": 1, \"gears\": 4, \"carb\": 2}]}}, {\"mode\": \"vega-lite\"});\n",
       "</script>"
      ],
      "text/plain": [
       "alt.Chart(...)"
      ]
     },
     "execution_count": 41,
     "metadata": {},
     "output_type": "execute_result"
    }
   ],
   "source": [
    "# 7.3 to go back to the default, use this\n",
    "alt.themes.enable('default')\n",
    "\n",
    "alt.Chart(mtcars).mark_point(filled=True).encode(\n",
    "    x='MPG',\n",
    "    y=\"weight\",\n",
    "    color=\"transmission:N\"\n",
    ")"
   ]
  },
  {
   "cell_type": "markdown",
   "metadata": {
    "colab": {},
    "colab_type": "code",
    "id": "CEjTExP0gSZl",
    "slideshow": {
     "slide_type": "slide"
    }
   },
   "source": [
    "# Summary\n",
    "\n",
    "* Altair is a powerful way to produce Vega-Lite\n",
    "    * You should think in marks (what shape do I want and for what); \n",
    "    * data (what data do I care about?) \n",
    "    * encodings (what visual thing does the data get mapped to)\n",
    "* Can often pre-process data in Pandas, but...\n",
    "    * there are powerful built in functions in Altair\n",
    "* If you're stuck, look at the documentation for Altair, Vega-Lite (and sometimes Vega)"
   ]
  },
  {
   "cell_type": "code",
   "execution_count": null,
   "metadata": {},
   "outputs": [],
   "source": []
  }
 ],
 "metadata": {
  "celltoolbar": "Slideshow",
  "colab": {
   "collapsed_sections": [
    "McaviwyMvFaQ",
    "cWxMZGtAu0cx"
   ],
   "name": "lab2_demo.ipynb",
   "provenance": []
  },
  "kernelspec": {
   "display_name": "Python 3",
   "language": "python",
   "name": "python3"
  },
  "language_info": {
   "codemirror_mode": {
    "name": "ipython",
    "version": 3
   },
   "file_extension": ".py",
   "mimetype": "text/x-python",
   "name": "python",
   "nbconvert_exporter": "python",
   "pygments_lexer": "ipython3",
   "version": "3.8.5"
  },
  "toc": {
   "colors": {
    "hover_highlight": "#DAA520",
    "running_highlight": "#FF0000",
    "selected_highlight": "#FFD700"
   },
   "moveMenuLeft": true,
   "nav_menu": {
    "height": "12px",
    "width": "252px"
   },
   "navigate_menu": true,
   "number_sections": false,
   "sideBar": true,
   "threshold": 4,
   "toc_cell": false,
   "toc_position": {
    "height": "102.326px",
    "left": "0px",
    "right": "946px",
    "top": "110.052px",
    "width": "235.33px"
   },
   "toc_section_display": "none",
   "toc_window_display": true,
   "widenNotebook": false
  }
 },
 "nbformat": 4,
 "nbformat_minor": 1
}
