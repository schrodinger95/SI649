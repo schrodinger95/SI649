{
 "cells": [
  {
   "cell_type": "markdown",
   "metadata": {
    "colab_type": "text",
    "id": "eiHKsrLA9BJD",
    "slideshow": {
     "slide_type": "slide"
    }
   },
   "source": [
    "# Information Visualization, Altair Transforms 101\n",
    "Licia He, Eytan Adar,\n",
    "Sereen Kallerackal, Dallas Card\n",
    "\n",
    "School of Information, University of Michigan"
   ]
  },
  {
   "cell_type": "markdown",
   "metadata": {
    "slideshow": {
     "slide_type": "subslide"
    }
   },
   "source": [
    "## Plan\n",
    "1. Warmup\n",
    "2. Layering \n",
    "2. Transform/Filter/Aggregate "
   ]
  },
  {
   "cell_type": "markdown",
   "metadata": {
    "slideshow": {
     "slide_type": "subslide"
    }
   },
   "source": [
    "## Resources \n",
    "*  [Transform documentation](https://altair-viz.github.io/user_guide/transform/index.html)\n",
    "*  [UW course examples](https://github.com/uwdata/visualization-curriculum/blob/master/altair_data_transformation.ipynb)\n",
    "* [Reshaping documentation](https://pandas.pydata.org/pandas-docs/stable/user_guide/reshaping.html)\n",
    "* We've also created an additional lecture that shows you how to map ideas in Pandas to Altair (and vice versa)"
   ]
  },
  {
   "cell_type": "markdown",
   "metadata": {
    "slideshow": {
     "slide_type": "slide"
    }
   },
   "source": [
    "# Altair Warmup\n",
    "## Altair Week 2 (part 1)"
   ]
  },
  {
   "cell_type": "markdown",
   "metadata": {
    "colab_type": "text",
    "id": "i8_Sp79jIBX8",
    "slideshow": {
     "slide_type": "skip"
    }
   },
   "source": [
    "### Import "
   ]
  },
  {
   "cell_type": "code",
   "execution_count": null,
   "metadata": {
    "colab": {},
    "colab_type": "code",
    "id": "Ir78TXXBIpaU",
    "slideshow": {
     "slide_type": "subslide"
    }
   },
   "outputs": [],
   "source": [
    "# imports we will use\n",
    "\n",
    "import altair as alt\n",
    "import pandas as pd\n",
    "from vega_datasets import data as vega_data\n",
    "\n",
    "# grab the data and clean it a bit\n",
    "movies_url = vega_data.movies.url\n",
    "movies = pd.read_json(movies_url)\n",
    "movies.columns = movies.columns.str.strip().str.replace(' ', '_').str.replace('(', '').str.replace(')', '')"
   ]
  },
  {
   "cell_type": "code",
   "execution_count": null,
   "metadata": {
    "colab": {
     "base_uri": "https://localhost:8080/",
     "height": 165
    },
    "colab_type": "code",
    "id": "GkIDvIp0LP93",
    "outputId": "f2e005a9-058e-4886-a6f9-161c6ef7e3d8",
    "slideshow": {
     "slide_type": "subslide"
    }
   },
   "outputs": [],
   "source": []
  },
  {
   "cell_type": "markdown",
   "metadata": {
    "colab_type": "text",
    "id": "P1Df40DzLhLg",
    "slideshow": {
     "slide_type": "subslide"
    }
   },
   "source": [
    "## Warmup"
   ]
  },
  {
   "cell_type": "markdown",
   "metadata": {
    "colab_type": "text",
    "id": "Ut-jDKanMGA7",
    "slideshow": {
     "slide_type": "subslide"
    }
   },
   "source": [
    "Last week, we covered the basic of grammar of graphics. To create a chart, we need to specify the \n",
    "\n",
    "1.   Mark: e.g., point, rect, bar\n",
    "2.   Data: i.e., variables and types\n",
    "3.   Encoding: e.g., x, y, color \n",
    "\n",
    "\n"
   ]
  },
  {
   "cell_type": "markdown",
   "metadata": {
    "colab_type": "text",
    "id": "AX_i2hKBp3GO",
    "slideshow": {
     "slide_type": "subslide"
    }
   },
   "source": [
    "Warm up exercise: \n",
    "\n",
    " ![1.1](https://raw.githubusercontent.com/eytanadar/si649public/master/lab4/assets/demo/altair-1.1.png)"
   ]
  },
  {
   "cell_type": "code",
   "execution_count": null,
   "metadata": {
    "colab": {
     "base_uri": "https://localhost:8080/",
     "height": 323
    },
    "colab_type": "code",
    "id": "-NLO6w1jLnDr",
    "outputId": "de1aec42-d302-424b-edd3-4d3b61b53361",
    "slideshow": {
     "slide_type": "subslide"
    }
   },
   "outputs": [],
   "source": [
    "#1.1 Exercise: basic bar chart for Major_Genre and avg of Production Budget \n"
   ]
  },
  {
   "cell_type": "markdown",
   "metadata": {
    "colab_type": "text",
    "id": "Bg24m46fNFD8",
    "slideshow": {
     "slide_type": "skip"
    }
   },
   "source": [
    "We can stitch multiple charts together by making a [compound chart](https://altair-viz.github.io/user_guide/compound_charts.html). Specifically, we discussed **horizontal concatenation** (hconcat or |) and **vertical concatenation** (vconcat or & )"
   ]
  },
  {
   "cell_type": "markdown",
   "metadata": {
    "colab_type": "text",
    "id": "SITR5zKhlbRm",
    "slideshow": {
     "slide_type": "subslide"
    }
   },
   "source": [
    "Warmup #2 \n",
    "\n",
    " ![1.2](https://raw.githubusercontent.com/eytanadar/si649public/master/lab4/assets/demo/altair-1.2.png)"
   ]
  },
  {
   "cell_type": "code",
   "execution_count": null,
   "metadata": {
    "colab": {
     "base_uri": "https://localhost:8080/",
     "height": 325
    },
    "colab_type": "code",
    "id": "QZ52zpghNtoK",
    "outputId": "626a2d1e-769f-41af-c244-11be4edd860d",
    "slideshow": {
     "slide_type": "subslide"
    }
   },
   "outputs": [],
   "source": [
    "#1.2 Exercise 2: average vs median \n",
    "# basic bar chart for Major_Genre and avg of Production Budget \n",
    "# basic bar chart for Major_Genre and median of Production Budget \n",
    "# put them side by side \n",
    "\n"
   ]
  },
  {
   "cell_type": "markdown",
   "metadata": {
    "colab_type": "text",
    "id": "IWW21sF3slwQ",
    "slideshow": {
     "slide_type": "skip"
    }
   },
   "source": [
    "You can also build more sophisticated visualizations by combining charts both horizontally and vertically. For example, this next plot is known as a scatterplot with marginal historgrams. In the middle we are looking at the correlation between Rotten Tomatoes and IMDB scores. On the top and right we see the distributions of each variable separately. In this case we see a weak correlation and also note the IMDB rating has a nice normal distribution but the Rotten tomatoes scores seem more uniform. "
   ]
  },
  {
   "cell_type": "markdown",
   "metadata": {
    "slideshow": {
     "slide_type": "subslide"
    }
   },
   "source": [
    " ![1.3](https://raw.githubusercontent.com/eytanadar/si649public/master/lab4/assets/demo/altair-1.3.png)"
   ]
  },
  {
   "cell_type": "code",
   "execution_count": null,
   "metadata": {
    "colab": {
     "base_uri": "https://localhost:8080/",
     "height": 422
    },
    "colab_type": "code",
    "id": "AW85VcRatgqT",
    "outputId": "b1b056d7-f67a-4e68-fbb5-9ec88d400c4d",
    "slideshow": {
     "slide_type": "subslide"
    }
   },
   "outputs": [],
   "source": [
    "# 1.3 \n",
    "\n",
    "# scatter plot for the middle\n"
   ]
  },
  {
   "cell_type": "code",
   "execution_count": null,
   "metadata": {
    "slideshow": {
     "slide_type": "subslide"
    }
   },
   "outputs": [],
   "source": [
    "# the histogram to put on the right side (notice we remove the axes)\n",
    "\n",
    "# the histogram to put on the top (notice we remove the axes)\n"
   ]
  },
  {
   "cell_type": "code",
   "execution_count": null,
   "metadata": {
    "slideshow": {
     "slide_type": "subslide"
    }
   },
   "outputs": [],
   "source": [
    "# put the scatter and right together side by side and then put those\n",
    "# under the top histogram\n"
   ]
  },
  {
   "cell_type": "code",
   "execution_count": null,
   "metadata": {
    "slideshow": {
     "slide_type": "subslide"
    }
   },
   "outputs": [],
   "source": [
    "# 1.4 (really basic interactivity)\n",
    "# lots of movies on top of each other\n",
    "\n"
   ]
  },
  {
   "cell_type": "code",
   "execution_count": null,
   "metadata": {
    "slideshow": {
     "slide_type": "subslide"
    }
   },
   "outputs": [],
   "source": [
    "# 1.5 \n",
    "# How do we know what the movies are?\n",
    "\n"
   ]
  },
  {
   "cell_type": "code",
   "execution_count": null,
   "metadata": {
    "slideshow": {
     "slide_type": "subslide"
    }
   },
   "outputs": [],
   "source": [
    "# 1.6 \n",
    "# Extended tooltips\n",
    "\n"
   ]
  },
  {
   "cell_type": "markdown",
   "metadata": {
    "colab_type": "text",
    "id": "eiHKsrLA9BJD",
    "slideshow": {
     "slide_type": "slide"
    }
   },
   "source": [
    "# Altair Layering\n",
    "## Altair Transforms (part 2)\n",
    "\n",
    "Licia He and Eytan Adar\n",
    "\n",
    "School of Information, University of Michigan"
   ]
  },
  {
   "cell_type": "markdown",
   "metadata": {
    "slideshow": {
     "slide_type": "subslide"
    }
   },
   "source": [
    "## Plan\n",
    "1. Warmup\n",
    "2. Layering (you are here)\n",
    "2. Transform/Filter/Aggregate "
   ]
  },
  {
   "cell_type": "markdown",
   "metadata": {
    "slideshow": {
     "slide_type": "skip"
    }
   },
   "source": [
    "[Layering](https://altair-viz.github.io/user_guide/compound_charts.html#layered-charts) is a very useful compounding method that allows you to overlay two different charts on the same set of axes. You can layer charts using the \"+\" operator. "
   ]
  },
  {
   "cell_type": "markdown",
   "metadata": {
    "slideshow": {
     "slide_type": "subslide"
    }
   },
   "source": [
    "### Our Goal:\n",
    "\n",
    "![1.4](https://raw.githubusercontent.com/eytanadar/si649public/master/lab4/assets/demo/altair-1.4.png)"
   ]
  },
  {
   "cell_type": "code",
   "execution_count": null,
   "metadata": {
    "colab": {
     "base_uri": "https://localhost:8080/",
     "height": 323
    },
    "colab_type": "code",
    "id": "kgwGmmn3Oedp",
    "outputId": "ff998d56-da61-439e-f0f0-3772d4934ecb",
    "slideshow": {
     "slide_type": "subslide"
    }
   },
   "outputs": [],
   "source": [
    "#1.4 copy 1.2, change median to a line \n",
    "\n"
   ]
  },
  {
   "cell_type": "code",
   "execution_count": null,
   "metadata": {
    "slideshow": {
     "slide_type": "subslide"
    }
   },
   "outputs": [],
   "source": [
    "# 1.4 Shortcut\n"
   ]
  },
  {
   "cell_type": "code",
   "execution_count": null,
   "metadata": {
    "slideshow": {
     "slide_type": "subslide"
    }
   },
   "outputs": [],
   "source": [
    "# 1.4 (one last variant)\n",
    "\n",
    "# the \"base chart\" (not for rendering)\n"
   ]
  },
  {
   "cell_type": "markdown",
   "metadata": {
    "colab_type": "text",
    "id": "TV7AIa4KPQ9E",
    "slideshow": {
     "slide_type": "skip"
    }
   },
   "source": [
    "Layering is also commonly used to add text annotations. "
   ]
  },
  {
   "cell_type": "markdown",
   "metadata": {
    "slideshow": {
     "slide_type": "subslide"
    }
   },
   "source": [
    "### Our goal (ugly version):\n",
    "![1.5](https://raw.githubusercontent.com/eytanadar/si649public/master/lab4/assets/demo/altair-1.5.png)"
   ]
  },
  {
   "cell_type": "code",
   "execution_count": null,
   "metadata": {
    "colab": {
     "base_uri": "https://localhost:8080/",
     "height": 323
    },
    "colab_type": "code",
    "id": "5z0bUSDOPPNC",
    "outputId": "8ae2199c-3a75-44f9-c832-939f86153fa2",
    "slideshow": {
     "slide_type": "subslide"
    }
   },
   "outputs": [],
   "source": [
    "#1.5 layering text \n",
    "\n"
   ]
  },
  {
   "cell_type": "code",
   "execution_count": null,
   "metadata": {
    "slideshow": {
     "slide_type": "subslide"
    }
   },
   "outputs": [],
   "source": [
    "## 1.5 Make it look a little better\n",
    "\n",
    "#adopt settings from the previous chart\n"
   ]
  },
  {
   "cell_type": "markdown",
   "metadata": {
    "colab_type": "text",
    "id": "eiHKsrLA9BJD",
    "slideshow": {
     "slide_type": "slide"
    }
   },
   "source": [
    "# Altair Transforms\n",
    "## Altair Week 2 (part 3)\n",
    "Licia He and Eytan Adar\n",
    "\n",
    "School of Information, University of Michigan"
   ]
  },
  {
   "cell_type": "markdown",
   "metadata": {
    "slideshow": {
     "slide_type": "subslide"
    }
   },
   "source": [
    "## Plan\n",
    "1. Warmup\n",
    "2. Layering \n",
    "2. Transform/Filter/Aggregate (you are here) "
   ]
  },
  {
   "cell_type": "markdown",
   "metadata": {
    "slideshow": {
     "slide_type": "subslide"
    }
   },
   "source": [
    "### Why Do We Transform?\n",
    "\n",
    "Often data doesn't \"look\" the way we need it for visualization\n",
    "* too much data\n",
    "* not enugh data\n",
    "* data in the wrong shape\n",
    "* data isn't aggregated\n",
    "* data is missing\n",
    "* etc."
   ]
  },
  {
   "cell_type": "markdown",
   "metadata": {
    "slideshow": {
     "slide_type": "skip"
    }
   },
   "source": [
    "Altair provides 13 different types of transformations. These will allow you to perform basic manipulation of the data without having to use some external tool like Pandas. Although Pandas may be more powerful, the advantage of doing transformations directly in Altair/Vega-Lite is you will be able to deploy your code without needing Python (just Vega-Lite)."
   ]
  },
  {
   "cell_type": "markdown",
   "metadata": {
    "slideshow": {
     "slide_type": "subslide"
    }
   },
   "source": [
    "## Pandas vs Altair\n",
    "\n",
    "* You can usually achieve the transform both ways (see extra presentation)\n",
    "* With Pandas you'll be stuck running a Python server (can't deploy)\n",
    " * \"Fix\" is to transform in Pandas and save the intermediate result\n",
    " * But problematic for dynamic data\n",
    "* With Altair, it'll be harder to debug\n"
   ]
  },
  {
   "cell_type": "markdown",
   "metadata": {
    "slideshow": {
     "slide_type": "subslide"
    }
   },
   "source": [
    "| Transform                | Description                                                                     |\n",
    "|:-------------------------|:--------------------------------------------------------------------------------|\n",
    "| Aggregate Transforms     | Create a new data column by aggregating an existing column.                     |\n",
    "| Bin transforms           | Create a new data column by binning an existing column.                         |\n",
    "| Calculate Transform      | Create a new data column using an arithmetic calculation on an existing column. |\n",
    "| Filter Transform         | Select a subset of data based on a condition.                                   |\n",
    "| Flatten Transform        | Flatten array data into columns.                                                |\n",
    "| Fold Transform           | Convert wide-form data into long-form data.                                     |\n",
    "| Impute Transform         | Impute missing data.                                                            |\n",
    "| Join Aggregate Transform | Aggregate transform joined to original data.                                    |\n",
    "| Lookup Transform         | One-sided join of two datasets based on a lookup key.                           |\n",
    "| Sample Transform         | Random sub-sample of the rows in the dataset.                                   |\n",
    "| Stack Transform          | Compute stacked version of values.                                              |\n",
    "| TimeUnit Transform       | Discretize/group a date by a time unit (day, month, year, etc.)                 |\n",
    "| Window Transform         | Compute a windowed aggregation                                                  |"
   ]
  },
  {
   "cell_type": "markdown",
   "metadata": {
    "colab_type": "text",
    "id": "pttZjjnCRaNi",
    "slideshow": {
     "slide_type": "subslide"
    }
   },
   "source": [
    "### 2.1 Aggregate and join aggregate  "
   ]
  },
  {
   "cell_type": "markdown",
   "metadata": {
    "slideshow": {
     "slide_type": "skip"
    }
   },
   "source": [
    "Last class we covered [aggregate transformation](https://altair-viz.github.io/user_guide/transform/aggregate.html). For example, using mean, max, min, sum to compute aggregate summary statistics over groups of data."
   ]
  },
  {
   "cell_type": "code",
   "execution_count": null,
   "metadata": {
    "colab": {
     "base_uri": "https://localhost:8080/",
     "height": 323
    },
    "colab_type": "code",
    "id": "AId5ADPORY73",
    "outputId": "d6121349-c169-4a95-c1e7-56571075f546",
    "slideshow": {
     "slide_type": "subslide"
    }
   },
   "outputs": [],
   "source": [
    "#2.1.1 copy of 1.1 \n",
    "# calculatge the average production budget per genre\n",
    "\n"
   ]
  },
  {
   "cell_type": "markdown",
   "metadata": {
    "colab_type": "text",
    "id": "0Avumdp7R7-9",
    "slideshow": {
     "slide_type": "skip"
    }
   },
   "source": [
    "You can also use the longer form to plot the same chart\n"
   ]
  },
  {
   "cell_type": "code",
   "execution_count": null,
   "metadata": {
    "colab": {
     "base_uri": "https://localhost:8080/",
     "height": 323
    },
    "colab_type": "code",
    "id": "gmTgUcjMSIb_",
    "outputId": "64f61faa-1756-42bf-f073-888151ce990b",
    "slideshow": {
     "slide_type": "subslide"
    }
   },
   "outputs": [],
   "source": [
    "#2.1.2 copy 2.1.1 and adjust to longer form \n",
    "# this is the explicit form of the code above\n"
   ]
  },
  {
   "cell_type": "markdown",
   "metadata": {
    "colab_type": "text",
    "id": "5-DAbONmSWsm",
    "slideshow": {
     "slide_type": "skip"
    }
   },
   "source": [
    "The same chart could be made with an explicit computted aggregation. \n"
   ]
  },
  {
   "cell_type": "code",
   "execution_count": null,
   "metadata": {
    "colab": {
     "base_uri": "https://localhost:8080/",
     "height": 323
    },
    "colab_type": "code",
    "id": "NuL7pwixSmhk",
    "outputId": "e8880c9a-00f1-4d9a-c31b-7239a159b0df",
    "slideshow": {
     "slide_type": "subslide"
    }
   },
   "outputs": [],
   "source": [
    "#2.1.3 copy 2.1.2 and change to transform_aggregate \n"
   ]
  },
  {
   "cell_type": "markdown",
   "metadata": {
    "colab_type": "text",
    "id": "zkUltVoc40V7",
    "slideshow": {
     "slide_type": "subslide"
    }
   },
   "source": [
    "If you create an aggregated variable and didn't use it, what will happen? "
   ]
  },
  {
   "cell_type": "code",
   "execution_count": null,
   "metadata": {
    "colab": {
     "base_uri": "https://localhost:8080/",
     "height": 99
    },
    "colab_type": "code",
    "id": "Z8qmmeq54z8I",
    "outputId": "c4d08bc5-ae85-40c2-d090-d96655da4a52",
    "slideshow": {
     "slide_type": "subslide"
    }
   },
   "outputs": [],
   "source": [
    "#2.1.4 , copy 2.1.3 aggregate without usg \n",
    "# original data is impacted, the mean_production_budget is not available for other \n",
    "# transformation, such as filter \n"
   ]
  },
  {
   "cell_type": "markdown",
   "metadata": {
    "colab_type": "text",
    "id": "DiEfPnr7s-yP",
    "slideshow": {
     "slide_type": "subslide"
    }
   },
   "source": [
    "#### Aggregate vs. JoinAggregate\n",
    "Let's take a look at this mini example \n",
    "\n",
    "\n",
    "| Title | Major_Genre | Production_Budget |\n",
    "|-------|-------|-------|\n",
    "| A     | x     | 1     |\n",
    "| B     | x     | 2     |\n",
    "| C     | y     | 10    |\n",
    "\n",
    "transform_aggregate will **change the original data structure** and group rows together. \n"
   ]
  },
  {
   "cell_type": "markdown",
   "metadata": {
    "slideshow": {
     "slide_type": "subslide"
    }
   },
   "source": [
    "e.g. running the following transformation \n",
    "``` \n",
    ".transform_aggregate(\n",
    "    groupby=['Major_Genre'],\n",
    "    mean_production_budget='mean(Production_Budget)'\n",
    ") \n",
    "```\n",
    "will create a table like this \n",
    "\n",
    "| Major_Genre | mean_production_budget |\n",
    "|-------|------------------------|\n",
    "| x     | 1.5                    |\n",
    "| y     | 10                     |"
   ]
  },
  {
   "cell_type": "markdown",
   "metadata": {
    "slideshow": {
     "slide_type": "subslide"
    }
   },
   "source": [
    "If we want to **preserve the original data structure**, we will use joinAggregate. \n",
    "\n",
    "e.g. running the following transformation \n",
    "``` \n",
    ".transform_joinaggregate(\n",
    "    groupby=['Major_Genre'],\n",
    "    mean_production_budget='mean(Production_Budget)'\n",
    ") \n",
    "```\n",
    "\n",
    "will generate the following table \n",
    "\n",
    "| Title | Major_Genre | Value | mean_production_budget |\n",
    "|-------|-------|-------|------------------------|\n",
    "| A     | x     | 1     | 1.5                    |\n",
    "| B     | x     | 2     | 1.5                    |\n",
    "| C     | y     | 10    | 10                     |\n",
    "\n",
    "See the [join aggregate transform](https://altair-viz.github.io/user_guide/transform/joinaggregate.html) for more information.\n"
   ]
  },
  {
   "cell_type": "code",
   "execution_count": null,
   "metadata": {
    "colab": {
     "base_uri": "https://localhost:8080/",
     "height": 323
    },
    "colab_type": "code",
    "id": "J93PRgeO5G_C",
    "outputId": "67418c47-5a44-48fb-cc8b-f3054fd5ef5a",
    "slideshow": {
     "slide_type": "subslide"
    }
   },
   "outputs": [],
   "source": [
    "#2.1.5 copy 2.1.4 use join aggregation\n"
   ]
  },
  {
   "cell_type": "markdown",
   "metadata": {
    "slideshow": {
     "slide_type": "subslide"
    }
   },
   "source": [
    "### 2.2 Bin Transformation "
   ]
  },
  {
   "cell_type": "markdown",
   "metadata": {
    "colab_type": "text",
    "id": "FR5K1j9zTi8a",
    "slideshow": {
     "slide_type": "subslide"
    }
   },
   "source": [
    "We discussed the [bin transformation](https://altair-viz.github.io/user_guide/transform/bin.html#user-guide-bin-transform), replicate the following visualization: \n",
    "\n",
    "![2.2.1](https://raw.githubusercontent.com/eytanadar/si649public/master/lab4/assets/demo/altair-2.2.1.png)"
   ]
  },
  {
   "cell_type": "code",
   "execution_count": null,
   "metadata": {
    "colab": {
     "base_uri": "https://localhost:8080/",
     "height": 368
    },
    "colab_type": "code",
    "id": "BW8IKyzjUGrK",
    "outputId": "cf26eee7-98ee-4ba2-9617-3cc1eae6a6fe",
    "slideshow": {
     "slide_type": "subslide"
    }
   },
   "outputs": [],
   "source": [
    "#2.2.1, EXERCISE barchart with binned IMDB_rating and mean Production_Budget\n"
   ]
  },
  {
   "cell_type": "code",
   "execution_count": null,
   "metadata": {
    "slideshow": {
     "slide_type": "subslide"
    }
   },
   "outputs": [],
   "source": [
    "# 2.2.2 the \"long form\" way\n"
   ]
  },
  {
   "cell_type": "markdown",
   "metadata": {
    "colab_type": "text",
    "id": "X_OlQLfmUBU1",
    "slideshow": {
     "slide_type": "subslide"
    }
   },
   "source": [
    "### 2.3 Calculate Transform \n",
    "The [calculate transform ](https://altair-viz.github.io/user_guide/transform.html#calculate-transform)allows the user to define new fields in the dataset which are calculated from other fields using an expression syntax.\n",
    "\n",
    "For example, we want to have a column called \"**Revenue**\" that's equal to the difference between Worldwide_Gross and Production_Budget"
   ]
  },
  {
   "cell_type": "code",
   "execution_count": null,
   "metadata": {
    "colab": {
     "base_uri": "https://localhost:8080/",
     "height": 449
    },
    "colab_type": "code",
    "id": "gZh-TallUhc3",
    "outputId": "e43f6cac-50ce-450a-93af-fbd763be4a64",
    "slideshow": {
     "slide_type": "subslide"
    }
   },
   "outputs": [],
   "source": [
    "## 2.3.1 Revenue vs Major_Genre\n"
   ]
  },
  {
   "cell_type": "code",
   "execution_count": null,
   "metadata": {},
   "outputs": [],
   "source": [
    "## 2.3.2 Revenue vs Major_Genre (Alternative way)\n"
   ]
  },
  {
   "cell_type": "markdown",
   "metadata": {
    "colab_type": "text",
    "id": "YyRT2OsKWxxI",
    "slideshow": {
     "slide_type": "subslide"
    }
   },
   "source": [
    "You can chain multiple transformations together. Make a bar chart for mean revenue and major_genre\n",
    "\n",
    "![2.3.2](https://raw.githubusercontent.com/eytanadar/si649public/master/lab4/assets/demo/altair-2.3.2.png)"
   ]
  },
  {
   "cell_type": "code",
   "execution_count": null,
   "metadata": {
    "colab": {
     "base_uri": "https://localhost:8080/",
     "height": 323
    },
    "colab_type": "code",
    "id": "hSnNxwMGWZ3Y",
    "outputId": "a33367bb-fab0-42cb-9660-421b74400f66",
    "slideshow": {
     "slide_type": "subslide"
    }
   },
   "outputs": [],
   "source": [
    "#2.3.3 Exercise: bar chart for mean revenue and major_genre \n"
   ]
  },
  {
   "cell_type": "code",
   "execution_count": null,
   "metadata": {},
   "outputs": [],
   "source": [
    "#2.3.4 Color movies by whether they are cheap or expensive \n",
    "\n"
   ]
  },
  {
   "cell_type": "markdown",
   "metadata": {
    "colab_type": "text",
    "id": "2nt3N1gbW2Eq",
    "slideshow": {
     "slide_type": "subslide"
    }
   },
   "source": [
    "### 2.4 Filter Transform \n",
    "The[ filter transform ](https://altair-viz.github.io/user_guide/transform/filter.html#user-guide-filter-transform)removes objects from a data stream based on a provided filter expression, selection, or other filter predicate. "
   ]
  },
  {
   "cell_type": "markdown",
   "metadata": {
    "colab_type": "text",
    "id": "0_2HcR-MXKXg",
    "slideshow": {
     "slide_type": "skip"
    }
   },
   "source": [
    "There are multiple ways of specifying filters. The first way is using a Vega expression. "
   ]
  },
  {
   "cell_type": "code",
   "execution_count": null,
   "metadata": {
    "colab": {
     "base_uri": "https://localhost:8080/",
     "height": 368
    },
    "colab_type": "code",
    "id": "nToTDg3DXWjj",
    "outputId": "2f924ee3-1e83-4c6e-89a6-6b0ca88912a6",
    "slideshow": {
     "slide_type": "subslide"
    }
   },
   "outputs": [],
   "source": [
    "#2.4.1 alt.datum: & for and, | of or, > < = != \n",
    "\n",
    "# What's the mean production budget for movies with more than \n",
    "# 500 votes and a rating > 5\n",
    "\n"
   ]
  },
  {
   "cell_type": "code",
   "execution_count": null,
   "metadata": {},
   "outputs": [],
   "source": [
    "#2.4.2\n",
    "\n"
   ]
  },
  {
   "cell_type": "markdown",
   "metadata": {
    "colab_type": "text",
    "id": "GVpmHE75X_LB",
    "slideshow": {
     "slide_type": "skip"
    }
   },
   "source": [
    "You can also make the same chart using **Field Predicates**. Field predicates overlap somewhat in function with expression predicates, but have the advantage that their contents are validated by the schema. Examples are:"
   ]
  },
  {
   "cell_type": "code",
   "execution_count": null,
   "metadata": {
    "colab": {
     "base_uri": "https://localhost:8080/",
     "height": 368
    },
    "colab_type": "code",
    "id": "inO8g-C1YIoG",
    "outputId": "7baa5f4c-1c09-4788-d7eb-e9c3a888c569",
    "slideshow": {
     "slide_type": "subslide"
    }
   },
   "outputs": [],
   "source": [
    "#2.4.3 using predicates: equal, lt, gt, lte, gte \n"
   ]
  },
  {
   "cell_type": "markdown",
   "metadata": {
    "colab_type": "text",
    "id": "ubbcM__EYixl",
    "slideshow": {
     "slide_type": "subslide"
    }
   },
   "source": [
    "Here are 2 very useful field predicates: \n",
    "* **FieldOneOfPredicate** evaluates whether a field is among a list of specified values.\n",
    "* **FieldRangePredicate** evaluates whether a continuous field is within a range of values."
   ]
  },
  {
   "cell_type": "code",
   "execution_count": null,
   "metadata": {
    "colab": {
     "base_uri": "https://localhost:8080/",
     "height": 368
    },
    "colab_type": "code",
    "id": "9GlCtqdVY3yq",
    "outputId": "15cc9377-50e3-4bd3-a5b9-426ea00bef0a",
    "slideshow": {
     "slide_type": "subslide"
    }
   },
   "outputs": [],
   "source": [
    "# 2.4.3 oneOf and Range:  \n",
    "# include only Drama and Comedy movies that have ratings between 5 and 7. \n"
   ]
  },
  {
   "cell_type": "markdown",
   "metadata": {
    "colab_type": "text",
    "id": "r7la5azDrC4d",
    "slideshow": {
     "slide_type": "subslide"
    }
   },
   "source": [
    "instead of !, &  and |, you can also use [logical operands](https://altair-viz.github.io/user_guide/transform/filter.html#logical-operands)"
   ]
  },
  {
   "cell_type": "code",
   "execution_count": null,
   "metadata": {
    "colab": {
     "base_uri": "https://localhost:8080/",
     "height": 368
    },
    "colab_type": "code",
    "id": "N2jz-d3yrNX6",
    "outputId": "f7b879f4-388c-459a-c0fd-5ed0fb7186e3",
    "slideshow": {
     "slide_type": "subslide"
    }
   },
   "outputs": [],
   "source": [
    "#2.4.4 copy 2.4.3, use logical operands\n"
   ]
  },
  {
   "cell_type": "markdown",
   "metadata": {
    "colab_type": "text",
    "id": "9Jm8aamXVeXx",
    "slideshow": {
     "slide_type": "subslide"
    }
   },
   "source": [
    "### 2.4.5 Sample Transform \n",
    "[Sample Transform ](https://altair-viz.github.io/user_guide/transform/sample.html)lets you specify a number of rows to randomly choose from the dataset. "
   ]
  },
  {
   "cell_type": "code",
   "execution_count": null,
   "metadata": {
    "colab": {
     "base_uri": "https://localhost:8080/",
     "height": 243
    },
    "colab_type": "code",
    "id": "DOQIwytaV15e",
    "outputId": "1d2ce4c2-8425-474a-a95d-a204dc9dbc1f",
    "slideshow": {
     "slide_type": "subslide"
    }
   },
   "outputs": [],
   "source": [
    "#2.4.5 SAMPLE, run the following code  \n"
   ]
  },
  {
   "cell_type": "markdown",
   "metadata": {
    "colab_type": "text",
    "id": "4JOWehJ8VtGG",
    "slideshow": {
     "slide_type": "subslide"
    }
   },
   "source": [
    "### 2.4.6 Window Transformation \n",
    "[window transformation](https://altair-viz.github.io/user_guide/transform/window.html) calculates over sorted groups of data objects. These calculations include ranking, lead/lag analysis, and aggregates such as cumulative sums and averages. "
   ]
  },
  {
   "cell_type": "markdown",
   "metadata": {
    "slideshow": {
     "slide_type": "subslide"
    }
   },
   "source": [
    "#### Produce the following:\n",
    "\n",
    "![2.4.7](https://raw.githubusercontent.com/eytanadar/si649public/master/lab4/assets/demo/altair-2.4.7.png)"
   ]
  },
  {
   "cell_type": "code",
   "execution_count": null,
   "metadata": {
    "colab": {
     "base_uri": "https://localhost:8080/",
     "height": 276
    },
    "colab_type": "code",
    "id": "ZNZU_xsLXJ_K",
    "outputId": "6614b479-c9e9-4b00-d719-4cde96aaa09e",
    "slideshow": {
     "slide_type": "subslide"
    }
   },
   "outputs": [],
   "source": [
    "#2.4.6: Ranking through the Window Transform\n"
   ]
  }
 ],
 "metadata": {
  "celltoolbar": "Slideshow",
  "colab": {
   "collapsed_sections": [],
   "name": "lab3 demo answer .ipynb",
   "provenance": []
  },
  "kernelspec": {
   "display_name": "Python 3",
   "language": "python",
   "name": "python3"
  },
  "language_info": {
   "codemirror_mode": {
    "name": "ipython",
    "version": 3
   },
   "file_extension": ".py",
   "mimetype": "text/x-python",
   "name": "python",
   "nbconvert_exporter": "python",
   "pygments_lexer": "ipython3",
   "version": "3.8.8"
  },
  "toc": {
   "colors": {
    "hover_highlight": "#DAA520",
    "running_highlight": "#FF0000",
    "selected_highlight": "#FFD700"
   },
   "moveMenuLeft": true,
   "nav_menu": {
    "height": "12px",
    "width": "252px"
   },
   "navigate_menu": true,
   "number_sections": false,
   "sideBar": true,
   "threshold": 4,
   "toc_cell": false,
   "toc_position": {
    "height": "469px",
    "left": "0px",
    "right": "946px",
    "top": "110px",
    "width": "212px"
   },
   "toc_section_display": "block",
   "toc_window_display": true,
   "widenNotebook": false
  }
 },
 "nbformat": 4,
 "nbformat_minor": 1
}
