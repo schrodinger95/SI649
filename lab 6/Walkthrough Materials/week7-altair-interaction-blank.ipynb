{
 "cells": [
  {
   "cell_type": "markdown",
   "metadata": {
    "colab_type": "text",
    "id": "n25BajP8t_Vd",
    "slideshow": {
     "slide_type": "slide"
    }
   },
   "source": [
    "# Altair -- Interaction\n",
    "Eytan Adar,Licia He, Sereen Kallerackal, and Dallas Card\n",
    "\n",
    "School of Information, University of Michigan"
   ]
  },
  {
   "cell_type": "markdown",
   "metadata": {
    "slideshow": {
     "slide_type": "slide"
    }
   },
   "source": [
    "\n",
    "## Plan\n",
    "1. Review\n",
    "2. Interaction \n",
    "\n",
    "## Resources/References \n",
    "*  [Interaction documentation](https://altair-viz.github.io/user_guide/interactions.html)\n",
    "*  [UW course examples](https://github.com/uwdata/visualization-curriculum/blob/master/altair_interaction.ipynb)\n",
    "*  [Multiple Interaction](https://altair-viz.github.io/gallery/multiple_interactions.html#gallery-multiple-interactions)\n"
   ]
  },
  {
   "cell_type": "code",
   "execution_count": null,
   "metadata": {
    "colab": {},
    "colab_type": "code",
    "id": "tzsh3LD4tzmv",
    "slideshow": {
     "slide_type": "subslide"
    }
   },
   "outputs": [],
   "source": [
    "# imports we will use\n",
    "import altair as alt\n",
    "import pandas as pd\n",
    "from vega_datasets import data as vega_data\n",
    "car_url = vega_data.cars.url\n",
    "cars = pd.read_json(car_url)"
   ]
  },
  {
   "cell_type": "code",
   "execution_count": null,
   "metadata": {
    "colab": {
     "base_uri": "https://localhost:8080/",
     "height": 139
    },
    "colab_type": "code",
    "id": "RJag6TszvbeS",
    "outputId": "86e172a8-df89-416e-e4af-b47178829a9d",
    "slideshow": {
     "slide_type": "subslide"
    }
   },
   "outputs": [],
   "source": [
    "# see what's inside\n"
   ]
  },
  {
   "cell_type": "code",
   "execution_count": null,
   "metadata": {
    "colab": {
     "base_uri": "https://localhost:8080/",
     "height": 368
    },
    "colab_type": "code",
    "id": "mit90m3Yxnux",
    "outputId": "11a75641-6cfe-44fe-d154-201969fb37e4",
    "slideshow": {
     "slide_type": "subslide"
    }
   },
   "outputs": [],
   "source": [
    "#0.1 exercise make a scatter plot with \n",
    "#   Horsepower(X) and Miles_per_Gallon(Y)\n",
    "#   Encode Origin as color \n",
    "\n"
   ]
  },
  {
   "cell_type": "markdown",
   "metadata": {
    "colab_type": "text",
    "id": "xfaujx7M-_Lq",
    "slideshow": {
     "slide_type": "slide"
    }
   },
   "source": [
    "## 1. Tooltip and default interactivity"
   ]
  },
  {
   "cell_type": "markdown",
   "metadata": {
    "slideshow": {
     "slide_type": "skip"
    }
   },
   "source": [
    "We'll be talking about interactivity extensively in class but we'd like to introduce you to some of the Altair/Vega-Lite features now. One of the main philosophies in interactivity for infovis is \"Overview first, zoom and filter, then details-on-demand.\" (called Shneiderman's mantra). It basically means that we should give the high level picture and support--through interaction--access to more.  \n",
    "\n",
    "To that end: we're going to enable a couple of features in our plot. First, we want to know which car correspond to which dot. If we see an outlier or interesting point we'll want to find it. We'll do this by enabling [tooltips](https://altair-viz.github.io/gallery/scatter_tooltips.html).  Second, with complex data we want to be able to zoom in and move around so we can see more points. This is easily enabled in Altair with the `.interactive()`"
   ]
  },
  {
   "cell_type": "code",
   "execution_count": null,
   "metadata": {
    "colab": {
     "base_uri": "https://localhost:8080/",
     "height": 370
    },
    "colab_type": "code",
    "id": "wYdiP18Y--be",
    "outputId": "430e9220-aaca-4137-8181-554654fcfd97",
    "slideshow": {
     "slide_type": "subslide"
    }
   },
   "outputs": [],
   "source": [
    "#1.1 add tooltip and default interactivity \n"
   ]
  },
  {
   "cell_type": "code",
   "execution_count": null,
   "metadata": {
    "slideshow": {
     "slide_type": "subslide"
    }
   },
   "outputs": [],
   "source": [
    "#1.2 Tooltip Variant\n"
   ]
  },
  {
   "cell_type": "markdown",
   "metadata": {
    "colab_type": "text",
    "id": "Ja_wfRh6J64e",
    "slideshow": {
     "slide_type": "skip"
    }
   },
   "source": [
    "Note that there are other ways to simulate tooltips. For example, this [version](https://altair-viz.github.io/gallery/multiline_tooltip.html) achieves tooltips on the axes by having an invisible layer."
   ]
  },
  {
   "cell_type": "markdown",
   "metadata": {
    "colab_type": "text",
    "id": "KWr8L0tExGz-",
    "slideshow": {
     "slide_type": "slide"
    }
   },
   "source": [
    "## 2 Selection"
   ]
  },
  {
   "cell_type": "markdown",
   "metadata": {
    "slideshow": {
     "slide_type": "skip"
    }
   },
   "source": [
    "Altair handles interaction through [selection](https://altair-viz.github.io/user_guide/interactions.html#selections-building-blocks-of-interactions). An Altair *Selection* can \n",
    "1. handle input event \n",
    "2. determine whether or not a given data record lies within the selection \n",
    "3. (re-)configure the visualization based on the selection."
   ]
  },
  {
   "cell_type": "markdown",
   "metadata": {
    "colab_type": "text",
    "id": "C1wb-Dmzx801",
    "slideshow": {
     "slide_type": "skip"
    }
   },
   "source": [
    "### 2.1 Single Selections\n",
    "To make a single mark selection (hovering, clicking, etc. on a single mark), you need:\n",
    "1. make a single selection instance, called `alt.selection_single()`, which is bound to mouse click by default.\n",
    "2. define what happens when the selection happens by adding a [condition](https://altair-viz.github.io/user_guide/generated/api/altair.condition.html#altair.condition) \n",
    "3. add this selection (STEP1) to your chart by calling `.add_selection()`\n",
    "4. include your condition in `encode` or `transform_filter`\n",
    "\n"
   ]
  },
  {
   "cell_type": "markdown",
   "metadata": {
    "slideshow": {
     "slide_type": "skip"
    }
   },
   "source": [
    "We will be using alt.condition a lot to specify what happens (step 2). Think of this as a fancy if-then-else. Usually we'll be doing things like this in the encoding:\n",
    "\n",
    "`color = alt.condition(selection,\"Origin\",alt.value(\"gray\")` which roughly means: if the thing is selected, keep it the original color, else set the the color to gray."
   ]
  },
  {
   "cell_type": "code",
   "execution_count": null,
   "metadata": {
    "colab": {
     "base_uri": "https://localhost:8080/",
     "height": 368
    },
    "colab_type": "code",
    "id": "8dAcYU4Sx0Mc",
    "outputId": "f9dcab2d-71db-4d03-ca75-06edff5e7fae",
    "slideshow": {
     "slide_type": "subslide"
    }
   },
   "outputs": [],
   "source": [
    "#2.1.1 : 4 steps for adding interactivity \n",
    "\n",
    "\n"
   ]
  },
  {
   "cell_type": "markdown",
   "metadata": {
    "slideshow": {
     "slide_type": "subslide"
    }
   },
   "source": [
    "### A word of advice\n",
    "\n",
    "Think backwards!\n",
    "\n",
    "* Create the vis without interactivity \n",
    " * Make sure that works!\n",
    "* Define selections & conditions\n",
    "* Wire them together"
   ]
  },
  {
   "cell_type": "code",
   "execution_count": null,
   "metadata": {
    "slideshow": {
     "slide_type": "subslide"
    }
   },
   "outputs": [],
   "source": [
    "# 2.1.2\n",
    "# step 1 of implementation\n"
   ]
  },
  {
   "cell_type": "code",
   "execution_count": null,
   "metadata": {
    "slideshow": {
     "slide_type": "subslide"
    }
   },
   "outputs": [],
   "source": [
    "# step 2 of implementation\n"
   ]
  },
  {
   "cell_type": "code",
   "execution_count": null,
   "metadata": {
    "slideshow": {
     "slide_type": "subslide"
    }
   },
   "outputs": [],
   "source": [
    "# step 3 of implementation, check the condition with no selection\n"
   ]
  },
  {
   "cell_type": "code",
   "execution_count": null,
   "metadata": {
    "slideshow": {
     "slide_type": "subslide"
    }
   },
   "outputs": [],
   "source": [
    "# step 4 of implementation, add the selection\n"
   ]
  },
  {
   "cell_type": "markdown",
   "metadata": {
    "colab_type": "text",
    "id": "tne8n-L9MuzH",
    "slideshow": {
     "slide_type": "subslide"
    }
   },
   "source": [
    "Here are a list of things you can modify in a selection ([doc](https://altair-viz.github.io/user_guide/generated/core/altair.SingleSelection.html#altair.SingleSelection)). We will cover most of them today. \n",
    "* empty\n",
    "* type \n",
    "* on\n",
    "* nearest\n",
    "* init\n",
    "* bind\n",
    "* clear\n",
    "* encodings\n",
    "* fields\n",
    "* resolve"
   ]
  },
  {
   "cell_type": "markdown",
   "metadata": {
    "colab_type": "text",
    "id": "SD51bhCHJVDk",
    "slideshow": {
     "slide_type": "subslide"
    }
   },
   "source": [
    "\n",
    "### 2.2 empty\n",
    "By default, all data values are considered to be within an empty selection. When set to none, empty selections contain no data values."
   ]
  },
  {
   "cell_type": "code",
   "execution_count": null,
   "metadata": {
    "colab": {
     "base_uri": "https://localhost:8080/",
     "height": 368
    },
    "colab_type": "code",
    "id": "tMnmW2IxF0Cm",
    "outputId": "0ac13f80-f93e-4445-cf8c-e3159cb9a4d2",
    "slideshow": {
     "slide_type": "subslide"
    }
   },
   "outputs": [],
   "source": [
    "#2.2.1 adjust size, and change default \"empty\"\n",
    "                     \n"
   ]
  },
  {
   "cell_type": "code",
   "execution_count": null,
   "metadata": {
    "colab": {
     "base_uri": "https://localhost:8080/",
     "height": 368
    },
    "colab_type": "code",
    "id": "xlZ-VQg1Jk57",
    "outputId": "3ef7223d-5e9f-4df1-d8ce-453be9477209",
    "slideshow": {
     "slide_type": "subslide"
    }
   },
   "outputs": [],
   "source": [
    "# 2.2.2 Three steps for making an interactive chart \n",
    "\n",
    "# put it all together\n",
    "\n"
   ]
  },
  {
   "cell_type": "markdown",
   "metadata": {
    "colab_type": "text",
    "id": "wHWu3bSw2cCh",
    "slideshow": {
     "slide_type": "subslide"
    }
   },
   "source": [
    "### 2.3 Type\n",
    "There are 3 types of selections:\n",
    "* **selection_single** - select a single discrete value, by default on click events.\n",
    "* **selection_multi** - select multiple discrete values. The first value is selected on mouse click and additional values toggled using shift-click.\n",
    "* **selection_interval** - select a continuous range of values, initiated by mouse drag."
   ]
  },
  {
   "cell_type": "code",
   "execution_count": null,
   "metadata": {
    "colab": {
     "base_uri": "https://localhost:8080/",
     "height": 368
    },
    "colab_type": "code",
    "id": "H8pKx-Kf1PUB",
    "outputId": "33d8576d-5aad-4cec-a270-610ab563718c",
    "slideshow": {
     "slide_type": "subslide"
    }
   },
   "outputs": [],
   "source": [
    "# 2.3.1 multi\n",
    "\n",
    "# here's an example of multiple selection\n",
    "\n"
   ]
  },
  {
   "cell_type": "code",
   "execution_count": null,
   "metadata": {
    "colab": {
     "base_uri": "https://localhost:8080/",
     "height": 368
    },
    "colab_type": "code",
    "id": "sXzeQZM3GfZ7",
    "outputId": "8fd291a7-5c36-4aed-91be-ff90735c7482",
    "slideshow": {
     "slide_type": "subslide"
    }
   },
   "outputs": [],
   "source": [
    "# 2.3.2 interval \n",
    "\n",
    "# example of an interval\n",
    "\n"
   ]
  },
  {
   "cell_type": "markdown",
   "metadata": {
    "colab_type": "text",
    "id": "oNB4kB5b4LCL",
    "slideshow": {
     "slide_type": "subslide"
    }
   },
   "source": [
    "### 2.4 \"On\"\n",
    "\n",
    "By default things work based on clicks, but you can use other event types like hovering.\n",
    "\n",
    "A Vega [event stream](https://vega.github.io/vega/docs/event-streams/) (object or selector) triggers the selection. For interval selections, the event stream must specify a start and end.\n",
    "\n",
    "You can customize using[ vega event selector syntax](https://vega.github.io/vega/docs/event-streams/) "
   ]
  },
  {
   "cell_type": "code",
   "execution_count": null,
   "metadata": {
    "colab": {
     "base_uri": "https://localhost:8080/",
     "height": 368
    },
    "colab_type": "code",
    "id": "3hWG8YM_2wV9",
    "outputId": "8e0d6d8b-dfae-4517-9668-43206d5b256c",
    "slideshow": {
     "slide_type": "subslide"
    }
   },
   "outputs": [],
   "source": [
    "#2.4.1  mouseover instead of click \n",
    "\n"
   ]
  },
  {
   "cell_type": "markdown",
   "metadata": {
    "colab_type": "text",
    "id": "rWZZ_UtJKy1v",
    "slideshow": {
     "slide_type": "subslide"
    }
   },
   "source": [
    "### 2.5 Nearest \n",
    "When true, an invisible voronoi diagram is computed to accelerate discrete selection. The data value nearest the mouse cursor is added to the selection.\n"
   ]
  },
  {
   "cell_type": "code",
   "execution_count": null,
   "metadata": {
    "colab": {
     "base_uri": "https://localhost:8080/",
     "height": 368
    },
    "colab_type": "code",
    "id": "XF-bNonvNK2O",
    "outputId": "eb2f84cc-3553-471e-a6ba-c8f125607b0d",
    "slideshow": {
     "slide_type": "subslide"
    }
   },
   "outputs": [],
   "source": [
    "#2.5.1 \n"
   ]
  },
  {
   "cell_type": "markdown",
   "metadata": {
    "colab_type": "text",
    "id": "Wr03cOykSDZr",
    "slideshow": {
     "slide_type": "subslide"
    }
   },
   "source": [
    "### 2.6 Clear \n",
    "Clears the selection, emptying it of all values. Can be an EventStream or false to disable."
   ]
  },
  {
   "cell_type": "code",
   "execution_count": null,
   "metadata": {
    "colab": {
     "base_uri": "https://localhost:8080/",
     "height": 368
    },
    "colab_type": "code",
    "id": "32VslmdcSCw3",
    "outputId": "2ae8c4dc-ae6d-4be5-887e-a37507212b2e",
    "slideshow": {
     "slide_type": "subslide"
    }
   },
   "outputs": [],
   "source": [
    "#2.6 clear\n",
    "\n"
   ]
  },
  {
   "cell_type": "markdown",
   "metadata": {
    "colab_type": "text",
    "id": "dJYC8oN-gllA",
    "slideshow": {
     "slide_type": "subslide"
    }
   },
   "source": [
    "### 2.7 [Init](https://vega.github.io/vega-lite/docs/init.html)\n",
    "\n",
    "One trick you can use to focus attention is to initialize the value. Note that because selections work on x/y coordinates (where the mouse is) that's what we'll use. In this example we set a rectangle for the initial selection. "
   ]
  },
  {
   "cell_type": "code",
   "execution_count": null,
   "metadata": {
    "colab": {
     "base_uri": "https://localhost:8080/",
     "height": 368
    },
    "colab_type": "code",
    "id": "8Kq4qLkVglGg",
    "outputId": "f6ee7486-55f6-4f06-c8fc-46bcaf6d78f2",
    "slideshow": {
     "slide_type": "subslide"
    }
   },
   "outputs": [],
   "source": [
    "#2.7.1\n",
    "#with initial value  (we are using x, and y instead of HP and MPG)\n"
   ]
  },
  {
   "cell_type": "markdown",
   "metadata": {
    "colab_type": "text",
    "id": "fLra0u-skq4C",
    "slideshow": {
     "slide_type": "subslide"
    }
   },
   "source": [
    "### 2.8 encodings \n",
    "\n",
    "An array of encoding channels. The corresponding data field values must match for a data tuple to fall within the selection. A way to think of it is: what is the target of our selection? Is it an example of a \"class\" of points? Are we trying to select based on some feature (like the x value?)\n"
   ]
  },
  {
   "cell_type": "code",
   "execution_count": null,
   "metadata": {
    "colab": {
     "base_uri": "https://localhost:8080/",
     "height": 386
    },
    "colab_type": "code",
    "id": "I9kgMFNhk31G",
    "outputId": "88a2d3c4-61d5-401b-b229-505a3ef0bdb5",
    "slideshow": {
     "slide_type": "subslide"
    }
   },
   "outputs": [],
   "source": [
    "#2.8.1\n",
    "\n"
   ]
  },
  {
   "cell_type": "code",
   "execution_count": null,
   "metadata": {
    "slideshow": {
     "slide_type": "subslide"
    }
   },
   "outputs": [],
   "source": [
    "# 2.8.2  Plot the two charts\n"
   ]
  },
  {
   "cell_type": "code",
   "execution_count": null,
   "metadata": {
    "colab": {
     "base_uri": "https://localhost:8080/",
     "height": 370
    },
    "colab_type": "code",
    "id": "-1lMic2_lWKE",
    "outputId": "d84845d3-4951-47f4-95b9-7d503d5aa43d",
    "slideshow": {
     "slide_type": "subslide"
    }
   },
   "outputs": [],
   "source": [
    "# 2.8.3 extra \n",
    "# using & | and ~ to do logical operations for selections \n",
    "# take a look at the color \n",
    "# make sure that you add individual selections to your chart.\n"
   ]
  },
  {
   "cell_type": "markdown",
   "metadata": {
    "colab_type": "text",
    "id": "i4GHAXSllr1s",
    "slideshow": {
     "slide_type": "skip"
    }
   },
   "source": [
    "#### [Fields](alt.condition(selection_single,\"Origin\",alt.value(\"gray\"))) \n",
    "Very similar to encodings.  Using field names instead of encoding schemas. \n"
   ]
  },
  {
   "cell_type": "markdown",
   "metadata": {
    "colab_type": "text",
    "id": "j61HRKNuKiXT",
    "slideshow": {
     "slide_type": "subslide"
    }
   },
   "source": [
    "### 2.9 Bind\n",
    "\n",
    "**Short version**: Connect selection to scale or widgets\n",
    "\n",
    "**Official definition**: Establish a two-way binding between a single selection and input elements (also known as dynamic query widgets). A binding takes the form of Vega’s input element binding definition or can be a mapping between projected field/encodings and binding definitions.\n",
    "\n",
    "\n"
   ]
  },
  {
   "cell_type": "markdown",
   "metadata": {
    "colab_type": "text",
    "id": "66TpW0wAnm0a",
    "slideshow": {
     "slide_type": "subslide"
    }
   },
   "source": [
    "**Binding to \"scales\"** creates zooming and panning\n",
    "\n",
    "One simple way to do this to say that we want to control the way zooming/panning works based on the \"selection\" (click and drag to see this)"
   ]
  },
  {
   "cell_type": "code",
   "execution_count": null,
   "metadata": {
    "colab": {
     "base_uri": "https://localhost:8080/",
     "height": 385
    },
    "colab_type": "code",
    "id": "qqeDjx04nNBz",
    "outputId": "2ac55e75-9472-4563-9298-70d2fbb76c16",
    "slideshow": {
     "slide_type": "subslide"
    }
   },
   "outputs": [],
   "source": [
    "#2.9.1 setting scales \n",
    "\n",
    "# has to be interval. We can \"bind\" the selection to \n",
    "# the axes instead of the data\n",
    "\n"
   ]
  },
  {
   "cell_type": "markdown",
   "metadata": {
    "colab_type": "text",
    "id": "YkuTjYw28WC7",
    "slideshow": {
     "slide_type": "slide"
    }
   },
   "source": [
    "## 3. **Bind to  [interface widget](https://altair-viz.github.io/user_guide/interactions.html#input-element-binding)**\n",
    "\n",
    "A more interesting objective is to bind the vis to widgets. Based on what happens in the widget, we'll change the data.\n",
    "\n",
    "Widgets are built-in components that takes users'selection input. \n",
    "Altair has the following [widgets](https://altair-viz.github.io/gallery/multiple_interactions.html#gallery-multiple-interactions) \n",
    "\n",
    "1.   select (dropdown-menu)\n",
    "2.   checkbox  (multiple selections)\n",
    "3.   radio (single selection)\n",
    "4.   range (value slider)\n",
    "\n"
   ]
  },
  {
   "cell_type": "markdown",
   "metadata": {
    "colab_type": "text",
    "id": "TaTs1cQd6EXx",
    "slideshow": {
     "slide_type": "subslide"
    }
   },
   "source": [
    "### 3.1 Drop-Down\n",
    "\n",
    "Let's create a simple drop-down menu. We'll need to do the following:\n",
    "\n",
    "1.   Obtain a list of options (to populate the drop-down)\n",
    "2.   Create a selection, with field, init, and bind. (\"bind\" the widget)\n",
    "3.   Create a condition\n",
    "\n"
   ]
  },
  {
   "cell_type": "code",
   "execution_count": null,
   "metadata": {
    "colab": {
     "base_uri": "https://localhost:8080/",
     "height": 34
    },
    "colab_type": "code",
    "id": "Of01TTJF7T_5",
    "outputId": "10ba0185-3c1c-40a7-9b53-157ac39bc889",
    "slideshow": {
     "slide_type": "subslide"
    }
   },
   "outputs": [],
   "source": [
    "#3.1.1 \n",
    "# you can create the list of options any way you want\n",
    "# here, we'll just use pandas to figure out what options we have\n",
    "\n",
    "# step 1\n"
   ]
  },
  {
   "cell_type": "code",
   "execution_count": null,
   "metadata": {
    "colab": {
     "base_uri": "https://localhost:8080/",
     "height": 386
    },
    "colab_type": "code",
    "id": "UMAJkwps7fqg",
    "outputId": "95e337f8-21b2-4ad1-d54f-dbe08cfab97c",
    "slideshow": {
     "slide_type": "subslide"
    }
   },
   "outputs": [],
   "source": [
    "#3.1.2 \n",
    "\n"
   ]
  },
  {
   "cell_type": "code",
   "execution_count": null,
   "metadata": {
    "colab": {
     "base_uri": "https://localhost:8080/",
     "height": 386
    },
    "colab_type": "code",
    "id": "UZSPlmDqQRu8",
    "outputId": "da866821-1f91-4fbc-d80b-4dbad8c611a6",
    "slideshow": {
     "slide_type": "subslide"
    }
   },
   "outputs": [],
   "source": [
    "#3.1.3 transform and disable \n",
    "\n"
   ]
  },
  {
   "cell_type": "markdown",
   "metadata": {
    "colab_type": "text",
    "id": "lvEjjAzBMH-Y",
    "slideshow": {
     "slide_type": "subslide"
    }
   },
   "source": [
    "### 3.2 Radio button\n",
    "\n",
    "Here's an example using radio buttons"
   ]
  },
  {
   "cell_type": "code",
   "execution_count": null,
   "metadata": {
    "colab": {
     "base_uri": "https://localhost:8080/",
     "height": 387
    },
    "colab_type": "code",
    "id": "vCb4uTtMMMsp",
    "outputId": "fb64e2d5-0b95-4ff2-c4ff-d89163fa9d96",
    "slideshow": {
     "slide_type": "subslide"
    }
   },
   "outputs": [],
   "source": [
    "# 3.2.1 radio, and name \n"
   ]
  },
  {
   "cell_type": "markdown",
   "metadata": {
    "colab_type": "text",
    "id": "p3bqby2BMYVg",
    "slideshow": {
     "slide_type": "subslide"
    }
   },
   "source": [
    "### 3.3 Checkbox \n",
    "Unfortunately, there's a bug in this one that's a known issue for Altair. It works the first time and then stops. See the [bug docs](https://github.com/altair-viz/altair/issues/1428) for more information. "
   ]
  },
  {
   "cell_type": "code",
   "execution_count": null,
   "metadata": {
    "colab": {
     "base_uri": "https://localhost:8080/",
     "height": 387
    },
    "colab_type": "code",
    "id": "JvKbckD6MQe4",
    "outputId": "297b4bbb-705b-4a25-fff2-e2b6280629a1",
    "slideshow": {
     "slide_type": "subslide"
    }
   },
   "outputs": [],
   "source": [
    "#3.3.1\n"
   ]
  },
  {
   "cell_type": "markdown",
   "metadata": {
    "colab_type": "text",
    "id": "DvzGHiTLOA5d",
    "slideshow": {
     "slide_type": "subslide"
    }
   },
   "source": [
    "### 3.4 Slider\n",
    "\n",
    "A really useful tool for quantitative variables is the slider. We need to know the min/max values, but otherwise it works much like the other widgets."
   ]
  },
  {
   "cell_type": "code",
   "execution_count": null,
   "metadata": {
    "colab": {
     "base_uri": "https://localhost:8080/",
     "height": 34
    },
    "colab_type": "code",
    "id": "x5COcBfZPngN",
    "outputId": "e199b6b1-60d8-4a82-c93e-54c0a063206d",
    "slideshow": {
     "slide_type": "subslide"
    }
   },
   "outputs": [],
   "source": [
    "#3.4.1 \n"
   ]
  },
  {
   "cell_type": "code",
   "execution_count": null,
   "metadata": {
    "colab": {
     "base_uri": "https://localhost:8080/",
     "height": 396
    },
    "colab_type": "code",
    "id": "rGGlOHMoNFbM",
    "outputId": "886e2ede-2d0c-422f-ceaa-11031a89052b",
    "slideshow": {
     "slide_type": "subslide"
    }
   },
   "outputs": [],
   "source": [
    "#3.4.2 slider example \n"
   ]
  },
  {
   "cell_type": "markdown",
   "metadata": {
    "colab_type": "text",
    "id": "IuIxHNjb-A4G",
    "slideshow": {
     "slide_type": "slide"
    }
   },
   "source": [
    "## 4. Multiple selections and charts\n",
    "\n",
    "You can always link selections between charts. So actions in one widget can impact multiple visualizations (or changes in one visualization will change the other... this is sometimes called cross-filtering)"
   ]
  },
  {
   "cell_type": "code",
   "execution_count": null,
   "metadata": {
    "colab": {
     "base_uri": "https://localhost:8080/",
     "height": 398
    },
    "colab_type": "code",
    "id": "B4Smoosx-WiJ",
    "outputId": "b2fc9d6d-8783-4594-88fc-5d173e0f9bdd",
    "slideshow": {
     "slide_type": "subslide"
    }
   },
   "outputs": [],
   "source": [
    "#4.1 share selection/input \n"
   ]
  },
  {
   "cell_type": "code",
   "execution_count": null,
   "metadata": {
    "slideshow": {
     "slide_type": "subslide"
    }
   },
   "outputs": [],
   "source": [
    "# plot it \n"
   ]
  },
  {
   "cell_type": "code",
   "execution_count": null,
   "metadata": {
    "colab": {
     "base_uri": "https://localhost:8080/",
     "height": 412
    },
    "colab_type": "code",
    "id": "ZMW4cdQtjCLs",
    "outputId": "29563f27-4378-418d-ea7e-69646d3f14fb",
    "slideshow": {
     "slide_type": "subslide"
    }
   },
   "outputs": [],
   "source": [
    "#4.2 multiple charts,  multiple selection, and multiple conditions \n",
    "\n"
   ]
  },
  {
   "cell_type": "code",
   "execution_count": null,
   "metadata": {
    "slideshow": {
     "slide_type": "subslide"
    }
   },
   "outputs": [],
   "source": [
    "# third chart. We going to add the selection (radio and year)\n",
    "# to this one. The other two charts didn't have year.\n"
   ]
  }
 ],
 "metadata": {
  "celltoolbar": "Slideshow",
  "colab": {
   "collapsed_sections": [],
   "name": "si649f19 lab4 demo answer_ver.ipynb",
   "provenance": []
  },
  "kernelspec": {
   "display_name": "Python 3 (ipykernel)",
   "language": "python",
   "name": "python3"
  },
  "language_info": {
   "codemirror_mode": {
    "name": "ipython",
    "version": 3
   },
   "file_extension": ".py",
   "mimetype": "text/x-python",
   "name": "python",
   "nbconvert_exporter": "python",
   "pygments_lexer": "ipython3",
   "version": "3.9.10"
  }
 },
 "nbformat": 4,
 "nbformat_minor": 1
}
